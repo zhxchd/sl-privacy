{
 "cells": [
  {
   "cell_type": "markdown",
   "metadata": {},
   "source": [
    "# Model recovery attack in split learning with multiple data owners"
   ]
  },
  {
   "cell_type": "code",
   "execution_count": 1,
   "metadata": {},
   "outputs": [],
   "source": [
    "import tensorflow as tf\n",
    "import numpy as np\n",
    "import matplotlib.pyplot as plt\n",
    "from tensorflow import keras\n",
    "from tensorflow.keras import layers\n",
    "import pandas as pd\n",
    "from sklearn.model_selection import train_test_split"
   ]
  },
  {
   "cell_type": "code",
   "execution_count": 2,
   "metadata": {},
   "outputs": [
    {
     "name": "stderr",
     "output_type": "stream",
     "text": [
      "2022-02-08 11:57:39.130163: E tensorflow/stream_executor/cuda/cuda_driver.cc:271] failed call to cuInit: CUDA_ERROR_SYSTEM_DRIVER_MISMATCH: system has unsupported display driver / cuda driver combination\n",
      "2022-02-08 11:57:39.130222: I tensorflow/stream_executor/cuda/cuda_diagnostics.cc:169] retrieving CUDA diagnostic information for host: cgpa4\n",
      "2022-02-08 11:57:39.130236: I tensorflow/stream_executor/cuda/cuda_diagnostics.cc:176] hostname: cgpa4\n",
      "2022-02-08 11:57:39.130384: I tensorflow/stream_executor/cuda/cuda_diagnostics.cc:200] libcuda reported version is: 510.47.3\n",
      "2022-02-08 11:57:39.130418: I tensorflow/stream_executor/cuda/cuda_diagnostics.cc:204] kernel reported version is: 495.46.0\n",
      "2022-02-08 11:57:39.130428: E tensorflow/stream_executor/cuda/cuda_diagnostics.cc:313] kernel version 495.46.0 does not match DSO version 510.47.3 -- cannot find working devices in this configuration\n",
      "2022-02-08 11:57:39.130987: I tensorflow/core/platform/cpu_feature_guard.cc:151] This TensorFlow binary is optimized with oneAPI Deep Neural Network Library (oneDNN) to use the following CPU instructions in performance-critical operations:  AVX2 AVX512F FMA\n",
      "To enable them in other operations, rebuild TensorFlow with the appropriate compiler flags.\n"
     ]
    }
   ],
   "source": [
    "def make_dataset(X, Y, f):\n",
    "    x = tf.data.Dataset.from_tensor_slices(X)\n",
    "    y = tf.data.Dataset.from_tensor_slices(Y)\n",
    "    x = x.map(f)\n",
    "    xy = tf.data.Dataset.zip((x, y))\n",
    "    xy = xy.shuffle(10000)\n",
    "    return xy\n",
    "\n",
    "df = pd.read_excel('../datasets/credit-card.xls', header=1, index_col=0).sample(frac=1)\n",
    "min_values = df.drop(columns=[\"default payment next month\"]).describe().transpose()['min'].to_numpy()\n",
    "max_values = df.drop(columns=[\"default payment next month\"]).describe().transpose()['max'].to_numpy()\n",
    "x = df.drop(columns=[\"default payment next month\"]).to_numpy()\n",
    "x = (x-min_values)/(max_values-min_values)\n",
    "y = df[\"default payment next month\"].to_numpy().reshape((len(x), 1)).astype(\"float32\")\n",
    "x_train, x_test, y_train, y_test = train_test_split(x, y, test_size=0.2, random_state=42)\n",
    "attack_ds = make_dataset(x_train, y_train, lambda t: t)\n",
    "train_ds = make_dataset(x_test, y_test, lambda t: t)\n",
    "\n",
    "train_size = len(x_test)"
   ]
  },
  {
   "cell_type": "code",
   "execution_count": 3,
   "metadata": {},
   "outputs": [],
   "source": [
    "num_classes = 2\n",
    "\n",
    "def make_f(input_shape):\n",
    "    xin = tf.keras.layers.Input(input_shape)\n",
    "    x = tf.keras.layers.BatchNormalization()(xin)\n",
    "    x = tf.keras.layers.Dense(32, activation=\"relu\")(x)\n",
    "    x = tf.keras.layers.Dense(64, activation=\"relu\")(x)\n",
    "    output = tf.keras.layers.Dense(128, activation=\"relu\")(x)\n",
    "    return tf.keras.Model(xin, output)\n",
    "\n",
    "def make_g(input_shape, class_num):\n",
    "    xin = tf.keras.layers.Input(input_shape)\n",
    "    x = tf.keras.layers.Dense(256, activation=\"relu\")(xin)\n",
    "    # x = tf.keras.layers.Dropout(0.5)(x)\n",
    "    output = tf.keras.layers.Dense(1, activation=\"sigmoid\")(x)\n",
    "    return tf.keras.Model(xin, output)\n",
    "\n",
    "input_shape = train_ds.element_spec[0].shape\n",
    "f = make_f(input_shape)\n",
    "intermediate_shape = f.layers[-1].output_shape[1:]\n",
    "g = make_g(intermediate_shape, num_classes)"
   ]
  },
  {
   "cell_type": "code",
   "execution_count": 4,
   "metadata": {},
   "outputs": [],
   "source": [
    "batch_size = 32\n",
    "epoches = 5\n",
    "# note that iterations is the number of batches we iterate\n",
    "iterations = epoches * train_size // batch_size\n",
    "learning_rate = 0.001"
   ]
  },
  {
   "cell_type": "code",
   "execution_count": 5,
   "metadata": {},
   "outputs": [
    {
     "name": "stdout",
     "output_type": "stream",
     "text": [
      "Iteration 0001: Training loss: 0.6844 training accuracy: 0.5625\n",
      "Iteration 0051: Training loss: 0.6012 training accuracy: 0.7188\n",
      "Iteration 0101: Training loss: 0.5379 training accuracy: 0.7812\n",
      "Iteration 0151: Training loss: 0.4945 training accuracy: 0.7500\n",
      "Iteration 0201: Training loss: 0.5604 training accuracy: 0.7812\n",
      "Iteration 0251: Training loss: 0.4603 training accuracy: 0.7812\n",
      "Iteration 0301: Training loss: 0.5659 training accuracy: 0.6562\n",
      "Iteration 0351: Training loss: 0.2693 training accuracy: 0.9062\n",
      "Iteration 0401: Training loss: 0.4532 training accuracy: 0.7812\n",
      "Iteration 0451: Training loss: 0.4237 training accuracy: 0.8125\n",
      "Iteration 0501: Training loss: 0.5915 training accuracy: 0.7188\n",
      "Iteration 0551: Training loss: 0.4750 training accuracy: 0.7812\n",
      "Iteration 0601: Training loss: 0.3806 training accuracy: 0.8750\n",
      "Iteration 0651: Training loss: 0.2940 training accuracy: 0.8438\n",
      "Iteration 0701: Training loss: 0.4602 training accuracy: 0.8125\n",
      "Iteration 0751: Training loss: 0.5520 training accuracy: 0.7500\n",
      "Iteration 0801: Training loss: 0.5957 training accuracy: 0.6875\n",
      "Iteration 0851: Training loss: 0.4606 training accuracy: 0.8125\n",
      "Iteration 0901: Training loss: 0.3148 training accuracy: 0.9375\n"
     ]
    }
   ],
   "source": [
    "optimizer = tf.keras.optimizers.Adam(learning_rate=learning_rate)\n",
    "train_batches = train_ds.batch(batch_size=batch_size, drop_remainder=True).repeat(-1).take(iterations)\n",
    "train_ref = []\n",
    "z_ref = []\n",
    "\n",
    "log = []\n",
    "iter_count = 0\n",
    "log_frequency = 50\n",
    "\n",
    "for (x_batch, y_batch) in train_batches:\n",
    "    \n",
    "    with tf.GradientTape(persistent=True) as tape:\n",
    "        z = f(x_batch, training=True)\n",
    "        y_pred = g(z, training = True)\n",
    "        if num_classes == 2:\n",
    "            loss = tf.keras.losses.binary_crossentropy(y_true=y_batch, y_pred=y_pred)\n",
    "            acc = tf.keras.metrics.binary_accuracy(y_batch, y_pred)\n",
    "        else:\n",
    "            loss = tf.keras.losses.sparse_categorical_crossentropy(y_true=y_batch, y_pred=y_pred)\n",
    "            acc = tf.metrics.sparse_categorical_accuracy(y_batch, y_pred)\n",
    "    var = f.trainable_variables + g.trainable_variables\n",
    "    grad = tape.gradient(loss, var)\n",
    "    optimizer.apply_gradients(zip(grad, var))\n",
    "\n",
    "    iter_loss = sum(loss) / len(loss)\n",
    "    iter_acc = sum(acc) / len(acc)\n",
    "    log.append([iter_loss, iter_acc])\n",
    "    iter_count += 1\n",
    "\n",
    "    train_ref.append(x_batch)\n",
    "    z_ref.append(z)\n",
    "\n",
    "    if (iter_count - 1) % log_frequency == 0:\n",
    "        print(\"Iteration %04d: Training loss: %0.4f training accuracy: %0.4f\" % (iter_count, iter_loss, iter_acc))"
   ]
  },
  {
   "cell_type": "code",
   "execution_count": 6,
   "metadata": {},
   "outputs": [],
   "source": [
    "def make_generator(input_shape):\n",
    "    xin = tf.keras.layers.Input(input_shape)\n",
    "    act = \"relu\"\n",
    "    x = tf.keras.layers.Dense(512, activation=act)(xin)\n",
    "    x = tf.keras.layers.Dense(256, activation=act)(x)\n",
    "    x = tf.keras.layers.Dense(128, activation=act)(x)\n",
    "    x = tf.keras.layers.Dense(64, activation=act)(x)\n",
    "    x = tf.keras.layers.Dense(32, activation=act)(x)\n",
    "    x = tf.keras.layers.Dense(23, activation=\"sigmoid\")(x)\n",
    "    return tf.keras.Model(xin, x)"
   ]
  },
  {
   "cell_type": "code",
   "execution_count": 8,
   "metadata": {},
   "outputs": [
    {
     "name": "stdout",
     "output_type": "stream",
     "text": [
      "Iteration 0000: RG: 0.2355 reconstruction validation: 0.0081\n"
     ]
    }
   ],
   "source": [
    "f_temp = tf.keras.models.clone_model(f)\n",
    "f_temp.set_weights(f.get_weights())\n",
    "\n",
    "generator = make_generator((256,))\n",
    "\n",
    "x_opt = tf.keras.optimizers.Adam(learning_rate=0.001)\n",
    "# f_opt = tf.keras.optimizers.Adam(learning_rate=0.0001)\n",
    "\n",
    "# inference_batches = attack_ds.batch(batch_size=32, drop_remainder=True).repeat(-1).take(attack_iterations)\n",
    "\n",
    "attack_iter_count = 0\n",
    "\n",
    "log = []\n",
    "\n",
    "# for (x_batch, y_batch) in inference_batches:\n",
    "for i in range(100):\n",
    "\n",
    "    f_opt = tf.keras.optimizers.Adam(learning_rate=0.0001)\n",
    "\n",
    "    z = z_ref[iterations - i - 1]\n",
    "    x = train_ref[iterations - i - 1]\n",
    "\n",
    "    # x_temp = np.zeros_like(x.numpy())\n",
    "    # x_temp.fill(0.5)\n",
    "    # x_temp = tf.Variable(x_temp)\n",
    "\n",
    "    for _ in range(100):\n",
    "\n",
    "        for _ in range(50):\n",
    "            with tf.GradientTape() as tape:\n",
    "                # x_temp = generator(z, training=True)\n",
    "                x_temp = generator(tf.concat([z, tf.constant(np.random.rand(*(z.numpy().shape)).astype(\"float32\"))],1), training=True)\n",
    "                loss_x = tf.keras.losses.MeanSquaredError()(f_temp(x_temp, training=False), z)\n",
    "            vars = generator.trainable_variables\n",
    "            grad = tape.gradient(loss_x, vars)\n",
    "            x_opt.apply_gradients(zip(grad, vars))\n",
    "            # loss = lambda: tf.keras.losses.MeanSquaredError()(f_temp(x_temp, training=False), z)\n",
    "            # x_opt.minimize(loss, var_list=[x_temp])\n",
    "\n",
    "        for _ in range(1):\n",
    "            with tf.GradientTape() as tape:\n",
    "                loss_f = tf.keras.losses.MeanSquaredError()(f_temp(x_temp, training=True), z)\n",
    "            vars = f_temp.trainable_variables\n",
    "            grad = tape.gradient(loss_f, vars)\n",
    "            f_opt.apply_gradients(zip(grad, vars))\n",
    "\n",
    "    attack_mse = tf.losses.MeanSquaredError()(x_temp, x)\n",
    "    rg_uniform = tf.losses.MeanSquaredError()(x, np.random.rand(*(x.numpy().shape)))\n",
    "    rg_normal = tf.losses.MeanSquaredError()(x, np.random.normal(0.5, 0.25, size=(x.numpy().shape)))\n",
    "    log.append([rg_uniform, rg_normal, attack_mse])\n",
    "    if (attack_iter_count % 10 == 0):\n",
    "        print(\"Iteration %04d: RG: %0.4f reconstruction validation: %0.4f\" % (attack_iter_count, rg_uniform, attack_mse))\n",
    "    attack_iter_count += 1"
   ]
  },
  {
   "cell_type": "code",
   "execution_count": 152,
   "metadata": {},
   "outputs": [
    {
     "data": {
      "text/plain": [
       "array([0.52637647, 0.90229411, 0.35989075, 0.60646825, 0.36117107,\n",
       "       0.63459949, 0.4951778 , 0.52023932, 0.59983958, 0.37528527,\n",
       "       0.46935235, 0.37547181, 0.80484384, 0.34316436, 0.44915073,\n",
       "       0.45964282, 0.62598943, 0.43523487, 0.31866709, 0.43191344,\n",
       "       0.36823661, 0.32591818, 0.27166362])"
      ]
     },
     "execution_count": 152,
     "metadata": {},
     "output_type": "execute_result"
    }
   ],
   "source": [
    "x_temp[0].numpy()"
   ]
  },
  {
   "cell_type": "code",
   "execution_count": 153,
   "metadata": {},
   "outputs": [
    {
     "data": {
      "text/plain": [
       "array([0.25252525, 1.        , 0.16666667, 0.66666667, 0.15517241,\n",
       "       0.2       , 0.2       , 0.2       , 0.2       , 0.2       ,\n",
       "       0.2       , 0.3553174 , 0.27729314, 0.20441946, 0.36058407,\n",
       "       0.25631306, 0.37157862, 0.00914428, 0.00473739, 0.00759676,\n",
       "       0.00844928, 0.01228521, 0.00945777])"
      ]
     },
     "execution_count": 153,
     "metadata": {},
     "output_type": "execute_result"
    }
   ],
   "source": [
    "x[0].numpy()"
   ]
  }
 ],
 "metadata": {
  "interpreter": {
   "hash": "d9ff725623c15d695aa319bbc94ea42e245a1edcf20c6f47c05aed8c0d68e7f4"
  },
  "kernelspec": {
   "display_name": "Python 3.9.7 64-bit",
   "language": "python",
   "name": "python3"
  },
  "language_info": {
   "codemirror_mode": {
    "name": "ipython",
    "version": 3
   },
   "file_extension": ".py",
   "mimetype": "text/x-python",
   "name": "python",
   "nbconvert_exporter": "python",
   "pygments_lexer": "ipython3",
   "version": "3.8.10"
  },
  "orig_nbformat": 4
 },
 "nbformat": 4,
 "nbformat_minor": 2
}
