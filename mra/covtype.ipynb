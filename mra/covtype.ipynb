{
 "cells": [
  {
   "cell_type": "code",
   "execution_count": 1,
   "metadata": {},
   "outputs": [],
   "source": [
    "%load_ext autoreload\n",
    "%autoreload 2\n",
    "\n",
    "import tensorflow as tf\n",
    "import numpy as np\n",
    "import matplotlib.pyplot as plt\n",
    "import pandas as pd\n",
    "\n",
    "import os\n",
    "import mra\n",
    "from mra import *\n",
    "import models\n",
    "from models import *\n",
    "\n",
    "os.environ['CUDA_VISIBLE_DEVICES'] = '-1'"
   ]
  },
  {
   "cell_type": "code",
   "execution_count": 6,
   "metadata": {},
   "outputs": [],
   "source": [
    "def make_dataset(X, Y, f):\n",
    "    x = tf.data.Dataset.from_tensor_slices(X)\n",
    "    y = tf.data.Dataset.from_tensor_slices(Y)\n",
    "    x = x.map(f)\n",
    "    xy = tf.data.Dataset.zip((x, y))\n",
    "    xy = xy.shuffle(10000)\n",
    "    return xy\n",
    "\n",
    "xy = np.loadtxt(\"../datasets/covtype.data\",delimiter=',')\n",
    "np.random.shuffle(xy)\n",
    "x = xy[:,0:-1]\n",
    "y = xy[:,-1]\n",
    "\n",
    "x = (x - np.min(x, axis=0))/(np.max(x, axis=0) - np.min(x, axis=0))\n",
    "y = y.reshape((len(x), 1)).astype(\"float32\")-1\n",
    "train_ds = make_dataset(x, y, lambda t: t)"
   ]
  },
  {
   "cell_type": "code",
   "execution_count": 12,
   "metadata": {},
   "outputs": [
    {
     "name": "stdout",
     "output_type": "stream",
     "text": [
      "split = 4\n",
      "Iteration 30000: Training loss: 0.4542\n",
      "Iteration 60000: Training loss: 0.2958\n",
      "Iteration 90000: Training loss: 0.2474\n"
     ]
    }
   ],
   "source": [
    "main = {}\n",
    "\n",
    "for split in [4]:\n",
    "    print(\"split = {}\".format(split))\n",
    "    main[split] = mra(train_ds)\n",
    "    make_f, make_g, make_generator = models.make_mlp(\n",
    "        attr_num=54,\n",
    "        class_num=7,\n",
    "        split=split,\n",
    "        fg_units=256,\n",
    "        fg_act=\"relu\",\n",
    "        generator_units=[1024,512,256,128]\n",
    "    )\n",
    "    main[split].train(\n",
    "        make_f,\n",
    "        make_g,\n",
    "        loss_fn=tf.keras.losses.SparseCategoricalCrossentropy(),\n",
    "        batch_size=32,\n",
    "        epoch=5,\n",
    "        lr=0.001,\n",
    "        verbose=True, log_every=30000\n",
    "    )"
   ]
  },
  {
   "cell_type": "code",
   "execution_count": 13,
   "metadata": {},
   "outputs": [
    {
     "name": "stdout",
     "output_type": "stream",
     "text": [
      "split level = 4\n",
      "Iteration 0001: RG-uniform: 0.3066, RG-normal: 0.2920, reconstruction validation: 0.1564\n",
      "Iteration 0002: RG-uniform: 0.3007, RG-normal: 0.2847, reconstruction validation: 0.1816\n",
      "Iteration 0003: RG-uniform: 0.3150, RG-normal: 0.2843, reconstruction validation: 0.1653\n",
      "Iteration 0004: RG-uniform: 0.2971, RG-normal: 0.2928, reconstruction validation: 0.1723\n",
      "Iteration 0005: RG-uniform: 0.3053, RG-normal: 0.2828, reconstruction validation: 0.1694\n",
      "Iteration 0006: RG-uniform: 0.3071, RG-normal: 0.2779, reconstruction validation: 0.1566\n",
      "Iteration 0007: RG-uniform: 0.2972, RG-normal: 0.2805, reconstruction validation: 0.1549\n",
      "Iteration 0008: RG-uniform: 0.2990, RG-normal: 0.2799, reconstruction validation: 0.1540\n",
      "Iteration 0009: RG-uniform: 0.3094, RG-normal: 0.2886, reconstruction validation: 0.1624\n",
      "Iteration 0010: RG-uniform: 0.3088, RG-normal: 0.2858, reconstruction validation: 0.1490\n",
      "Iteration 0011: RG-uniform: 0.3045, RG-normal: 0.2808, reconstruction validation: 0.1444\n",
      "Iteration 0012: RG-uniform: 0.3082, RG-normal: 0.2867, reconstruction validation: 0.1573\n",
      "Iteration 0013: RG-uniform: 0.2976, RG-normal: 0.2761, reconstruction validation: 0.1543\n",
      "Iteration 0014: RG-uniform: 0.3041, RG-normal: 0.2683, reconstruction validation: 0.1555\n",
      "Iteration 0015: RG-uniform: 0.3080, RG-normal: 0.2822, reconstruction validation: 0.1279\n",
      "Iteration 0016: RG-uniform: 0.3017, RG-normal: 0.2812, reconstruction validation: 0.1370\n",
      "Iteration 0017: RG-uniform: 0.2962, RG-normal: 0.2789, reconstruction validation: 0.1476\n",
      "Iteration 0018: RG-uniform: 0.2981, RG-normal: 0.2755, reconstruction validation: 0.1536\n",
      "Iteration 0019: RG-uniform: 0.3055, RG-normal: 0.2877, reconstruction validation: 0.1670\n"
     ]
    },
    {
     "ename": "KeyboardInterrupt",
     "evalue": "",
     "output_type": "error",
     "traceback": [
      "\u001b[0;31m---------------------------------------------------------------------------\u001b[0m",
      "\u001b[0;31mKeyboardInterrupt\u001b[0m                         Traceback (most recent call last)",
      "\u001b[1;32m/home/z/zhux105/sl-privacy/mra/covtype.ipynb Cell 4'\u001b[0m in \u001b[0;36m<module>\u001b[0;34m\u001b[0m\n\u001b[1;32m      <a href='vscode-notebook-cell://ssh-remote%2Bxgpd0/home/z/zhux105/sl-privacy/mra/covtype.ipynb#ch0000003vscode-remote?line=1'>2</a>\u001b[0m \u001b[39mfor\u001b[39;00m split \u001b[39min\u001b[39;00m [\u001b[39m4\u001b[39m]:\n\u001b[1;32m      <a href='vscode-notebook-cell://ssh-remote%2Bxgpd0/home/z/zhux105/sl-privacy/mra/covtype.ipynb#ch0000003vscode-remote?line=2'>3</a>\u001b[0m     \u001b[39mprint\u001b[39m(\u001b[39m\"\u001b[39m\u001b[39msplit level = \u001b[39m\u001b[39m{}\u001b[39;00m\u001b[39m\"\u001b[39m\u001b[39m.\u001b[39mformat(split))\n\u001b[0;32m----> <a href='vscode-notebook-cell://ssh-remote%2Bxgpd0/home/z/zhux105/sl-privacy/mra/covtype.ipynb#ch0000003vscode-remote?line=3'>4</a>\u001b[0m     log_attack[split] \u001b[39m=\u001b[39m main[split]\u001b[39m.\u001b[39;49mattack(\n\u001b[1;32m      <a href='vscode-notebook-cell://ssh-remote%2Bxgpd0/home/z/zhux105/sl-privacy/mra/covtype.ipynb#ch0000003vscode-remote?line=4'>5</a>\u001b[0m         attack_iter\u001b[39m=\u001b[39;49m\u001b[39m100\u001b[39;49m,\n\u001b[1;32m      <a href='vscode-notebook-cell://ssh-remote%2Bxgpd0/home/z/zhux105/sl-privacy/mra/covtype.ipynb#ch0000003vscode-remote?line=5'>6</a>\u001b[0m         make_generator\u001b[39m=\u001b[39;49mmake_generator,\n\u001b[1;32m      <a href='vscode-notebook-cell://ssh-remote%2Bxgpd0/home/z/zhux105/sl-privacy/mra/covtype.ipynb#ch0000003vscode-remote?line=6'>7</a>\u001b[0m         input_noise\u001b[39m=\u001b[39;49m\u001b[39m\"\u001b[39;49m\u001b[39mnormal\u001b[39;49m\u001b[39m\"\u001b[39;49m,\n\u001b[1;32m      <a href='vscode-notebook-cell://ssh-remote%2Bxgpd0/home/z/zhux105/sl-privacy/mra/covtype.ipynb#ch0000003vscode-remote?line=7'>8</a>\u001b[0m         input_z\u001b[39m=\u001b[39;49m\u001b[39mTrue\u001b[39;49;00m,\n\u001b[1;32m      <a href='vscode-notebook-cell://ssh-remote%2Bxgpd0/home/z/zhux105/sl-privacy/mra/covtype.ipynb#ch0000003vscode-remote?line=8'>9</a>\u001b[0m         model_leak\u001b[39m=\u001b[39;49m\u001b[39mTrue\u001b[39;49;00m,\n\u001b[1;32m     <a href='vscode-notebook-cell://ssh-remote%2Bxgpd0/home/z/zhux105/sl-privacy/mra/covtype.ipynb#ch0000003vscode-remote?line=9'>10</a>\u001b[0m         lr_x\u001b[39m=\u001b[39;49m\u001b[39m0.0001\u001b[39;49m,\n\u001b[1;32m     <a href='vscode-notebook-cell://ssh-remote%2Bxgpd0/home/z/zhux105/sl-privacy/mra/covtype.ipynb#ch0000003vscode-remote?line=10'>11</a>\u001b[0m         lr_f\u001b[39m=\u001b[39;49m\u001b[39m0.00001\u001b[39;49m,\n\u001b[1;32m     <a href='vscode-notebook-cell://ssh-remote%2Bxgpd0/home/z/zhux105/sl-privacy/mra/covtype.ipynb#ch0000003vscode-remote?line=11'>12</a>\u001b[0m         epoch\u001b[39m=\u001b[39;49m\u001b[39m50\u001b[39;49m,\n\u001b[1;32m     <a href='vscode-notebook-cell://ssh-remote%2Bxgpd0/home/z/zhux105/sl-privacy/mra/covtype.ipynb#ch0000003vscode-remote?line=12'>13</a>\u001b[0m         iter_x\u001b[39m=\u001b[39;49m\u001b[39m40\u001b[39;49m,\n\u001b[1;32m     <a href='vscode-notebook-cell://ssh-remote%2Bxgpd0/home/z/zhux105/sl-privacy/mra/covtype.ipynb#ch0000003vscode-remote?line=13'>14</a>\u001b[0m         iter_f\u001b[39m=\u001b[39;49m\u001b[39m1\u001b[39;49m,\n\u001b[1;32m     <a href='vscode-notebook-cell://ssh-remote%2Bxgpd0/home/z/zhux105/sl-privacy/mra/covtype.ipynb#ch0000003vscode-remote?line=14'>15</a>\u001b[0m         verbose\u001b[39m=\u001b[39;49m\u001b[39mTrue\u001b[39;49;00m, log_every\u001b[39m=\u001b[39;49m\u001b[39m1\u001b[39;49m\n\u001b[1;32m     <a href='vscode-notebook-cell://ssh-remote%2Bxgpd0/home/z/zhux105/sl-privacy/mra/covtype.ipynb#ch0000003vscode-remote?line=15'>16</a>\u001b[0m     )\n",
      "File \u001b[0;32m~/sl-privacy/mra/mra.py:137\u001b[0m, in \u001b[0;36mmra.attack\u001b[0;34m(self, attack_iter, make_generator, input_noise, input_z, model_leak, lr_x, lr_f, epoch, iter_x, iter_f, verbose, log_every)\u001b[0m\n\u001b[1;32m    <a href='file:///home/z/zhux105/sl-privacy/mra/mra.py?line=133'>134</a>\u001b[0m         loss_x \u001b[39m=\u001b[39m tf\u001b[39m.\u001b[39mkeras\u001b[39m.\u001b[39mlosses\u001b[39m.\u001b[39mMeanSquaredError()(f_temp(x_temp, training\u001b[39m=\u001b[39m\u001b[39mFalse\u001b[39;00m), z)\n\u001b[1;32m    <a href='file:///home/z/zhux105/sl-privacy/mra/mra.py?line=135'>136</a>\u001b[0m     \u001b[39mvars\u001b[39m \u001b[39m=\u001b[39m \u001b[39mself\u001b[39m\u001b[39m.\u001b[39mgenerator\u001b[39m.\u001b[39mtrainable_variables\n\u001b[0;32m--> <a href='file:///home/z/zhux105/sl-privacy/mra/mra.py?line=136'>137</a>\u001b[0m     grad \u001b[39m=\u001b[39m tape\u001b[39m.\u001b[39;49mgradient(loss_x, \u001b[39mvars\u001b[39;49m)\n\u001b[1;32m    <a href='file:///home/z/zhux105/sl-privacy/mra/mra.py?line=137'>138</a>\u001b[0m     x_opt\u001b[39m.\u001b[39mapply_gradients(\u001b[39mzip\u001b[39m(grad, \u001b[39mvars\u001b[39m))\n\u001b[1;32m    <a href='file:///home/z/zhux105/sl-privacy/mra/mra.py?line=139'>140</a>\u001b[0m \u001b[39melse\u001b[39;00m:\n\u001b[1;32m    <a href='file:///home/z/zhux105/sl-privacy/mra/mra.py?line=140'>141</a>\u001b[0m     \u001b[39m# if we do not use generator, we find the minimizing x_temp\u001b[39;00m\n",
      "File \u001b[0;32m~/.local/lib/python3.8/site-packages/tensorflow/python/eager/backprop.py:1081\u001b[0m, in \u001b[0;36mGradientTape.gradient\u001b[0;34m(self, target, sources, output_gradients, unconnected_gradients)\u001b[0m\n\u001b[1;32m   <a href='file:///home/z/zhux105/.local/lib/python3.8/site-packages/tensorflow/python/eager/backprop.py?line=1076'>1077</a>\u001b[0m \u001b[39mif\u001b[39;00m output_gradients \u001b[39mis\u001b[39;00m \u001b[39mnot\u001b[39;00m \u001b[39mNone\u001b[39;00m:\n\u001b[1;32m   <a href='file:///home/z/zhux105/.local/lib/python3.8/site-packages/tensorflow/python/eager/backprop.py?line=1077'>1078</a>\u001b[0m   output_gradients \u001b[39m=\u001b[39m [\u001b[39mNone\u001b[39;00m \u001b[39mif\u001b[39;00m x \u001b[39mis\u001b[39;00m \u001b[39mNone\u001b[39;00m \u001b[39melse\u001b[39;00m ops\u001b[39m.\u001b[39mconvert_to_tensor(x)\n\u001b[1;32m   <a href='file:///home/z/zhux105/.local/lib/python3.8/site-packages/tensorflow/python/eager/backprop.py?line=1078'>1079</a>\u001b[0m                       \u001b[39mfor\u001b[39;00m x \u001b[39min\u001b[39;00m nest\u001b[39m.\u001b[39mflatten(output_gradients)]\n\u001b[0;32m-> <a href='file:///home/z/zhux105/.local/lib/python3.8/site-packages/tensorflow/python/eager/backprop.py?line=1080'>1081</a>\u001b[0m flat_grad \u001b[39m=\u001b[39m imperative_grad\u001b[39m.\u001b[39;49mimperative_grad(\n\u001b[1;32m   <a href='file:///home/z/zhux105/.local/lib/python3.8/site-packages/tensorflow/python/eager/backprop.py?line=1081'>1082</a>\u001b[0m     \u001b[39mself\u001b[39;49m\u001b[39m.\u001b[39;49m_tape,\n\u001b[1;32m   <a href='file:///home/z/zhux105/.local/lib/python3.8/site-packages/tensorflow/python/eager/backprop.py?line=1082'>1083</a>\u001b[0m     flat_targets,\n\u001b[1;32m   <a href='file:///home/z/zhux105/.local/lib/python3.8/site-packages/tensorflow/python/eager/backprop.py?line=1083'>1084</a>\u001b[0m     flat_sources,\n\u001b[1;32m   <a href='file:///home/z/zhux105/.local/lib/python3.8/site-packages/tensorflow/python/eager/backprop.py?line=1084'>1085</a>\u001b[0m     output_gradients\u001b[39m=\u001b[39;49moutput_gradients,\n\u001b[1;32m   <a href='file:///home/z/zhux105/.local/lib/python3.8/site-packages/tensorflow/python/eager/backprop.py?line=1085'>1086</a>\u001b[0m     sources_raw\u001b[39m=\u001b[39;49mflat_sources_raw,\n\u001b[1;32m   <a href='file:///home/z/zhux105/.local/lib/python3.8/site-packages/tensorflow/python/eager/backprop.py?line=1086'>1087</a>\u001b[0m     unconnected_gradients\u001b[39m=\u001b[39;49munconnected_gradients)\n\u001b[1;32m   <a href='file:///home/z/zhux105/.local/lib/python3.8/site-packages/tensorflow/python/eager/backprop.py?line=1088'>1089</a>\u001b[0m \u001b[39mif\u001b[39;00m \u001b[39mnot\u001b[39;00m \u001b[39mself\u001b[39m\u001b[39m.\u001b[39m_persistent:\n\u001b[1;32m   <a href='file:///home/z/zhux105/.local/lib/python3.8/site-packages/tensorflow/python/eager/backprop.py?line=1089'>1090</a>\u001b[0m   \u001b[39m# Keep track of watched variables before setting tape to None\u001b[39;00m\n\u001b[1;32m   <a href='file:///home/z/zhux105/.local/lib/python3.8/site-packages/tensorflow/python/eager/backprop.py?line=1090'>1091</a>\u001b[0m   \u001b[39mself\u001b[39m\u001b[39m.\u001b[39m_watched_variables \u001b[39m=\u001b[39m \u001b[39mself\u001b[39m\u001b[39m.\u001b[39m_tape\u001b[39m.\u001b[39mwatched_variables()\n",
      "File \u001b[0;32m~/.local/lib/python3.8/site-packages/tensorflow/python/eager/imperative_grad.py:67\u001b[0m, in \u001b[0;36mimperative_grad\u001b[0;34m(tape, target, sources, output_gradients, sources_raw, unconnected_gradients)\u001b[0m\n\u001b[1;32m     <a href='file:///home/z/zhux105/.local/lib/python3.8/site-packages/tensorflow/python/eager/imperative_grad.py?line=62'>63</a>\u001b[0m \u001b[39mexcept\u001b[39;00m \u001b[39mValueError\u001b[39;00m:\n\u001b[1;32m     <a href='file:///home/z/zhux105/.local/lib/python3.8/site-packages/tensorflow/python/eager/imperative_grad.py?line=63'>64</a>\u001b[0m   \u001b[39mraise\u001b[39;00m \u001b[39mValueError\u001b[39;00m(\n\u001b[1;32m     <a href='file:///home/z/zhux105/.local/lib/python3.8/site-packages/tensorflow/python/eager/imperative_grad.py?line=64'>65</a>\u001b[0m       \u001b[39m\"\u001b[39m\u001b[39mUnknown value for unconnected_gradients: \u001b[39m\u001b[39m%r\u001b[39;00m\u001b[39m\"\u001b[39m \u001b[39m%\u001b[39m unconnected_gradients)\n\u001b[0;32m---> <a href='file:///home/z/zhux105/.local/lib/python3.8/site-packages/tensorflow/python/eager/imperative_grad.py?line=66'>67</a>\u001b[0m \u001b[39mreturn\u001b[39;00m pywrap_tfe\u001b[39m.\u001b[39;49mTFE_Py_TapeGradient(\n\u001b[1;32m     <a href='file:///home/z/zhux105/.local/lib/python3.8/site-packages/tensorflow/python/eager/imperative_grad.py?line=67'>68</a>\u001b[0m     tape\u001b[39m.\u001b[39;49m_tape,  \u001b[39m# pylint: disable=protected-access\u001b[39;49;00m\n\u001b[1;32m     <a href='file:///home/z/zhux105/.local/lib/python3.8/site-packages/tensorflow/python/eager/imperative_grad.py?line=68'>69</a>\u001b[0m     target,\n\u001b[1;32m     <a href='file:///home/z/zhux105/.local/lib/python3.8/site-packages/tensorflow/python/eager/imperative_grad.py?line=69'>70</a>\u001b[0m     sources,\n\u001b[1;32m     <a href='file:///home/z/zhux105/.local/lib/python3.8/site-packages/tensorflow/python/eager/imperative_grad.py?line=70'>71</a>\u001b[0m     output_gradients,\n\u001b[1;32m     <a href='file:///home/z/zhux105/.local/lib/python3.8/site-packages/tensorflow/python/eager/imperative_grad.py?line=71'>72</a>\u001b[0m     sources_raw,\n\u001b[1;32m     <a href='file:///home/z/zhux105/.local/lib/python3.8/site-packages/tensorflow/python/eager/imperative_grad.py?line=72'>73</a>\u001b[0m     compat\u001b[39m.\u001b[39;49mas_str(unconnected_gradients\u001b[39m.\u001b[39;49mvalue))\n",
      "File \u001b[0;32m~/.local/lib/python3.8/site-packages/tensorflow/python/eager/backprop.py:126\u001b[0m, in \u001b[0;36m_gradient_function\u001b[0;34m(op_name, attr_tuple, num_inputs, inputs, outputs, out_grads, skip_input_indices, forward_pass_name_scope)\u001b[0m\n\u001b[1;32m    <a href='file:///home/z/zhux105/.local/lib/python3.8/site-packages/tensorflow/python/eager/backprop.py?line=116'>117</a>\u001b[0m   \u001b[39mdef\u001b[39;00m \u001b[39m_get_control_flow_context\u001b[39m(\u001b[39mself\u001b[39m):\n\u001b[1;32m    <a href='file:///home/z/zhux105/.local/lib/python3.8/site-packages/tensorflow/python/eager/backprop.py?line=117'>118</a>\u001b[0m     \u001b[39mraise\u001b[39;00m \u001b[39mNotImplementedError\u001b[39;00m(\n\u001b[1;32m    <a href='file:///home/z/zhux105/.local/lib/python3.8/site-packages/tensorflow/python/eager/backprop.py?line=118'>119</a>\u001b[0m         \u001b[39m\"\u001b[39m\u001b[39mtf.GradientTape.gradients() does not support graph control flow \u001b[39m\u001b[39m\"\u001b[39m\n\u001b[1;32m    <a href='file:///home/z/zhux105/.local/lib/python3.8/site-packages/tensorflow/python/eager/backprop.py?line=119'>120</a>\u001b[0m         \u001b[39m\"\u001b[39m\u001b[39moperations like tf.cond or tf.while at this time. Use tf.gradients() \u001b[39m\u001b[39m\"\u001b[39m\n\u001b[1;32m    <a href='file:///home/z/zhux105/.local/lib/python3.8/site-packages/tensorflow/python/eager/backprop.py?line=120'>121</a>\u001b[0m         \u001b[39m\"\u001b[39m\u001b[39minstead. If you need this feature, please file a feature request at \u001b[39m\u001b[39m\"\u001b[39m\n\u001b[1;32m    <a href='file:///home/z/zhux105/.local/lib/python3.8/site-packages/tensorflow/python/eager/backprop.py?line=121'>122</a>\u001b[0m         \u001b[39m\"\u001b[39m\u001b[39mhttps://github.com/tensorflow/tensorflow/issues/new\u001b[39m\u001b[39m\"\u001b[39m\n\u001b[1;32m    <a href='file:///home/z/zhux105/.local/lib/python3.8/site-packages/tensorflow/python/eager/backprop.py?line=122'>123</a>\u001b[0m     )\n\u001b[0;32m--> <a href='file:///home/z/zhux105/.local/lib/python3.8/site-packages/tensorflow/python/eager/backprop.py?line=125'>126</a>\u001b[0m \u001b[39mdef\u001b[39;00m \u001b[39m_gradient_function\u001b[39m(op_name, attr_tuple, num_inputs, inputs, outputs,\n\u001b[1;32m    <a href='file:///home/z/zhux105/.local/lib/python3.8/site-packages/tensorflow/python/eager/backprop.py?line=126'>127</a>\u001b[0m                        out_grads, skip_input_indices, forward_pass_name_scope):\n\u001b[1;32m    <a href='file:///home/z/zhux105/.local/lib/python3.8/site-packages/tensorflow/python/eager/backprop.py?line=127'>128</a>\u001b[0m   \u001b[39m\"\"\"Calls the gradient function of the op.\u001b[39;00m\n\u001b[1;32m    <a href='file:///home/z/zhux105/.local/lib/python3.8/site-packages/tensorflow/python/eager/backprop.py?line=128'>129</a>\u001b[0m \n\u001b[1;32m    <a href='file:///home/z/zhux105/.local/lib/python3.8/site-packages/tensorflow/python/eager/backprop.py?line=129'>130</a>\u001b[0m \u001b[39m  Args:\u001b[39;00m\n\u001b[0;32m   (...)\u001b[0m\n\u001b[1;32m    <a href='file:///home/z/zhux105/.local/lib/python3.8/site-packages/tensorflow/python/eager/backprop.py?line=141'>142</a>\u001b[0m \u001b[39m    The gradients with respect to the inputs of the function, as a list.\u001b[39;00m\n\u001b[1;32m    <a href='file:///home/z/zhux105/.local/lib/python3.8/site-packages/tensorflow/python/eager/backprop.py?line=142'>143</a>\u001b[0m \u001b[39m  \"\"\"\u001b[39;00m\n\u001b[1;32m    <a href='file:///home/z/zhux105/.local/lib/python3.8/site-packages/tensorflow/python/eager/backprop.py?line=143'>144</a>\u001b[0m   mock_op \u001b[39m=\u001b[39m _MockOp(attr_tuple, inputs, outputs, op_name, skip_input_indices)\n",
      "\u001b[0;31mKeyboardInterrupt\u001b[0m: "
     ]
    }
   ],
   "source": [
    "log_attack = {}\n",
    "for split in [4]:\n",
    "    print(\"split level = {}\".format(split))\n",
    "    log_attack[split] = main[split].attack(\n",
    "        attack_iter=100,\n",
    "        make_generator=make_generator,\n",
    "        input_noise=\"normal\",\n",
    "        input_z=True,\n",
    "        model_leak=True,\n",
    "        lr_x=0.0001,\n",
    "        lr_f=0.00001,\n",
    "        epoch=50,\n",
    "        iter_x=40,\n",
    "        iter_f=1,\n",
    "        verbose=True, log_every=1\n",
    "    )"
   ]
  }
 ],
 "metadata": {
  "kernelspec": {
   "display_name": "Python 3 (ipykernel)",
   "language": "python",
   "name": "python3"
  },
  "language_info": {
   "codemirror_mode": {
    "name": "ipython",
    "version": 3
   },
   "file_extension": ".py",
   "mimetype": "text/x-python",
   "name": "python",
   "nbconvert_exporter": "python",
   "pygments_lexer": "ipython3",
   "version": "3.8.10"
  }
 },
 "nbformat": 4,
 "nbformat_minor": 4
}
