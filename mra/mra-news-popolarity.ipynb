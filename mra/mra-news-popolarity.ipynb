{
 "cells": [
  {
   "cell_type": "markdown",
   "metadata": {},
   "source": [
    "# Model recovery attack in split learning with multiple data owners"
   ]
  },
  {
   "cell_type": "code",
   "execution_count": 1,
   "metadata": {},
   "outputs": [],
   "source": [
    "import tensorflow as tf\n",
    "import numpy as np\n",
    "import matplotlib.pyplot as plt\n",
    "from tensorflow import keras\n",
    "from tensorflow.keras import layers\n",
    "import pandas as pd\n",
    "from sklearn.model_selection import train_test_split"
   ]
  },
  {
   "cell_type": "code",
   "execution_count": 2,
   "metadata": {},
   "outputs": [
    {
     "data": {
      "text/plain": [
       "(39644, 60)"
      ]
     },
     "execution_count": 2,
     "metadata": {},
     "output_type": "execute_result"
    }
   ],
   "source": [
    "df = pd.read_csv('../datasets/news-popularity.csv').sample(frac=1)\n",
    "df = df.drop(columns=[\"url\"])\n",
    "df.to_numpy().shape"
   ]
  },
  {
   "cell_type": "code",
   "execution_count": 3,
   "metadata": {},
   "outputs": [],
   "source": [
    "def make_dataset(X, Y, f):\n",
    "    x = tf.data.Dataset.from_tensor_slices(X)\n",
    "    y = tf.data.Dataset.from_tensor_slices(Y)\n",
    "    x = x.map(f)\n",
    "    xy = tf.data.Dataset.zip((x, y))\n",
    "    xy = xy.shuffle(10000)\n",
    "    return xy\n",
    "\n",
    "df = pd.read_csv('../datasets/news-popularity.csv').sample(frac=1)\n",
    "df = df.drop(columns=[\"url\"])\n",
    "xy = df.to_numpy()\n",
    "x = xy[:,0:-1]\n",
    "y = xy[:,-1].reshape((len(x), 1))\n",
    "min_values = pd.DataFrame(x).describe().transpose()['min'].to_numpy()\n",
    "max_values = pd.DataFrame(x).describe().transpose()['max'].to_numpy()\n",
    "# x = df.drop(columns=[\"shares\"]).to_numpy()\n",
    "x = (x-min_values)/(max_values-min_values)\n",
    "y = (y-min(y))/(max(y) - min(y))\n",
    "# y = df[\"shares\"].to_numpy().reshape((len(x), 1)).astype(\"float32\")\n",
    "# # x_train, x_test, y_train, y_test = train_test_split(x, y, test_size=0.2, random_state=42)\n",
    "# # attack_ds = make_dataset(x_train, y_train, lambda t: t)\n",
    "train_ds = make_dataset(x, y, lambda t: t)\n",
    "\n",
    "train_size = len(x)"
   ]
  },
  {
   "cell_type": "code",
   "execution_count": 29,
   "metadata": {},
   "outputs": [],
   "source": [
    "def make_f(input_shape):\n",
    "    xin = tf.keras.layers.Input(input_shape)\n",
    "    x = tf.keras.layers.BatchNormalization()(xin)\n",
    "    x = tf.keras.layers.Dense(64, activation=\"relu\")(x)\n",
    "    x = tf.keras.layers.Dense(128, activation=\"relu\")(x)\n",
    "    output = tf.keras.layers.Dense(256, activation=\"relu\")(x)\n",
    "    return tf.keras.Model(xin, output)\n",
    "\n",
    "def make_g(input_shape):\n",
    "    xin = tf.keras.layers.Input(input_shape)\n",
    "    x = tf.keras.layers.Dense(128, activation=\"relu\")(xin)\n",
    "    x = tf.keras.layers.Dropout(0.5)(x)\n",
    "    output = tf.keras.layers.Dense(1)(x)\n",
    "    return tf.keras.Model(xin, output)\n",
    "\n",
    "input_shape = train_ds.element_spec[0].shape\n",
    "f = make_f(input_shape)\n",
    "intermediate_shape = f.layers[-1].output_shape[1:]\n",
    "g = make_g(intermediate_shape)"
   ]
  },
  {
   "cell_type": "code",
   "execution_count": 30,
   "metadata": {},
   "outputs": [],
   "source": [
    "batch_size = 32\n",
    "epoches = 1\n",
    "# note that iterations is the number of batches we iterate\n",
    "# iterations = epoches * train_size // batch_size\n",
    "iterations = 100\n",
    "learning_rate = 0.001"
   ]
  },
  {
   "cell_type": "code",
   "execution_count": 31,
   "metadata": {},
   "outputs": [
    {
     "name": "stdout",
     "output_type": "stream",
     "text": [
      "Iteration 0001: Training loss: 0.0554\n"
     ]
    }
   ],
   "source": [
    "optimizer = tf.keras.optimizers.Adam(learning_rate=learning_rate)\n",
    "train_batches = train_ds.batch(batch_size=batch_size, drop_remainder=True).repeat(-1).take(100)\n",
    "train_ref = []\n",
    "z_ref = []\n",
    "\n",
    "log = []\n",
    "iter_count = 0\n",
    "log_frequency = 100\n",
    "\n",
    "for (x_batch, y_batch) in train_batches:\n",
    "    \n",
    "    with tf.GradientTape(persistent=True) as tape:\n",
    "        z = f(x_batch, training=True)\n",
    "        y_pred = g(z, training = True)\n",
    "        loss = tf.keras.losses.MeanSquaredError()(y_true=y_batch, y_pred=y_pred)\n",
    "        # acc = tf.metrics.sparse_categorical_accuracy(y_batch, y_pred)\n",
    "    var = f.trainable_variables + g.trainable_variables\n",
    "    grad = tape.gradient(loss, var)\n",
    "    optimizer.apply_gradients(zip(grad, var))\n",
    "\n",
    "    # iter_acc = sum(acc) / len(acc)\n",
    "    log.append(loss)\n",
    "    iter_count += 1\n",
    "\n",
    "    train_ref.append(x_batch)\n",
    "    z_ref.append(z)\n",
    "\n",
    "    if (iter_count - 1) % log_frequency == 0:\n",
    "        print(\"Iteration %04d: Training loss: %0.4f\" % (iter_count, loss))"
   ]
  },
  {
   "cell_type": "code",
   "execution_count": 32,
   "metadata": {},
   "outputs": [],
   "source": [
    "def make_generator(input_shape):\n",
    "    xin = tf.keras.layers.Input(input_shape)\n",
    "    act = \"relu\"\n",
    "    x = tf.keras.layers.Dense(1024, activation=act)(xin)\n",
    "    x = tf.keras.layers.Dense(512, activation=act)(x)\n",
    "    x = tf.keras.layers.Dense(256, activation=act)(x)\n",
    "    x = tf.keras.layers.Dense(128, activation=act)(x)\n",
    "    # x = tf.keras.layers.Dense(64, activation=act)(x)\n",
    "    # x = tf.keras.layers.Dense(32, activation=act)(x)\n",
    "    x = tf.keras.layers.Dense(59, activation=\"sigmoid\")(x)\n",
    "    return tf.keras.Model(xin, x)"
   ]
  },
  {
   "cell_type": "code",
   "execution_count": 34,
   "metadata": {},
   "outputs": [
    {
     "name": "stdout",
     "output_type": "stream",
     "text": [
      "Iteration 0001: RG: 0.2567 reconstruction validation: 0.2454\n"
     ]
    }
   ],
   "source": [
    "f_temp = tf.keras.models.clone_model(f)\n",
    "f_temp.set_weights(f.get_weights())\n",
    "\n",
    "generator = make_generator(intermediate_shape)\n",
    "\n",
    "x_opt = tf.keras.optimizers.Adam(learning_rate=0.001)\n",
    "f_opt = tf.keras.optimizers.Adam(learning_rate=0.0001)\n",
    "\n",
    "# inference_batches = attack_ds.batch(batch_size=32, drop_remainder=True).repeat(-1).take(attack_iterations)\n",
    "\n",
    "attack_iter_count = 0\n",
    "\n",
    "# for (x_batch, y_batch) in inference_batches:\n",
    "for i in range(1):\n",
    "\n",
    "    z = z_ref[iterations - i - 1]\n",
    "    x = train_ref[iterations - i - 1]\n",
    "\n",
    "    # x_temp = tf.Variable(2 * np.random.rand(*(x.numpy().shape)) - 1)\n",
    "\n",
    "    # x_temp = np.zeros_like(x.numpy())\n",
    "    # x_temp.fill(0.5)\n",
    "    # x_temp = tf.Variable(x_temp)\n",
    "\n",
    "    for _ in range(100):\n",
    "\n",
    "        for _ in range(20):\n",
    "            with tf.GradientTape() as tape:\n",
    "                x_temp = generator(z, training=True)\n",
    "                loss_x = tf.keras.losses.MeanSquaredError()(f_temp(x_temp, training=False), z)\n",
    "            vars = generator.trainable_variables\n",
    "            grad = tape.gradient(loss_x, vars)\n",
    "            x_opt.apply_gradients(zip(grad, vars))\n",
    "            # loss = lambda: tf.keras.losses.MeanSquaredError()(f_temp(x_temp, training=False), z)\n",
    "            # x_opt.minimize(loss, var_list=[x_temp])\n",
    "\n",
    "        for _ in range(1):\n",
    "            with tf.GradientTape() as tape:\n",
    "                loss_f = tf.keras.losses.MeanSquaredError()(f_temp(x_temp, training=True), z)\n",
    "            vars = f_temp.trainable_variables\n",
    "            grad = tape.gradient(loss_f, vars)\n",
    "            f_opt.apply_gradients(zip(grad, vars))\n",
    "\n",
    "    attack_mse = tf.losses.MeanSquaredError()(x_temp, x)\n",
    "    rg_uniform = tf.losses.MeanSquaredError()(x, np.random.rand(*(x.numpy().shape)))\n",
    "    attack_iter_count += 1\n",
    "    print(\"Iteration %04d: RG: %0.4f reconstruction validation: %0.4f\" % (attack_iter_count, rg_uniform, attack_mse))"
   ]
  },
  {
   "cell_type": "code",
   "execution_count": 15,
   "metadata": {},
   "outputs": [
    {
     "data": {
      "text/plain": [
       "<tf.Tensor: shape=(), dtype=float32, numpy=0.00038563198>"
      ]
     },
     "execution_count": 15,
     "metadata": {},
     "output_type": "execute_result"
    }
   ],
   "source": [
    "loss_f"
   ]
  }
 ],
 "metadata": {
  "interpreter": {
   "hash": "d9ff725623c15d695aa319bbc94ea42e245a1edcf20c6f47c05aed8c0d68e7f4"
  },
  "kernelspec": {
   "display_name": "Python 3.9.7 64-bit",
   "language": "python",
   "name": "python3"
  },
  "language_info": {
   "codemirror_mode": {
    "name": "ipython",
    "version": 3
   },
   "file_extension": ".py",
   "mimetype": "text/x-python",
   "name": "python",
   "nbconvert_exporter": "python",
   "pygments_lexer": "ipython3",
   "version": "3.9.7"
  },
  "orig_nbformat": 4
 },
 "nbformat": 4,
 "nbformat_minor": 2
}
