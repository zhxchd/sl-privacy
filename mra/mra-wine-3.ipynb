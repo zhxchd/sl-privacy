{
 "cells": [
  {
   "cell_type": "markdown",
   "metadata": {},
   "source": [
    "# Model recovery attack: `wine`"
   ]
  },
  {
   "cell_type": "code",
   "execution_count": 1,
   "metadata": {},
   "outputs": [],
   "source": [
    "%load_ext autoreload\n",
    "%autoreload 2\n",
    "\n",
    "import tensorflow as tf\n",
    "import numpy as np\n",
    "import matplotlib.pyplot as plt\n",
    "\n",
    "import mra\n",
    "from mra import *"
   ]
  },
  {
   "cell_type": "code",
   "execution_count": 2,
   "metadata": {},
   "outputs": [
    {
     "name": "stderr",
     "output_type": "stream",
     "text": [
      "2022-02-15 20:54:11.888403: I tensorflow/core/platform/cpu_feature_guard.cc:151] This TensorFlow binary is optimized with oneAPI Deep Neural Network Library (oneDNN) to use the following CPU instructions in performance-critical operations:  AVX2 FMA\n",
      "To enable them in other operations, rebuild TensorFlow with the appropriate compiler flags.\n",
      "2022-02-15 20:54:15.708349: I tensorflow/core/common_runtime/gpu/gpu_device.cc:1525] Created device /job:localhost/replica:0/task:0/device:GPU:0 with 2807 MB memory:  -> device: 0, name: NVIDIA A100-PCIE-40GB, pci bus id: 0000:01:00.0, compute capability: 8.0\n"
     ]
    }
   ],
   "source": [
    "def make_dataset(X, Y, f):\n",
    "    x = tf.data.Dataset.from_tensor_slices(X)\n",
    "    y = tf.data.Dataset.from_tensor_slices(Y)\n",
    "    x = x.map(f)\n",
    "    xy = tf.data.Dataset.zip((x, y))\n",
    "    xy = xy.shuffle(10000)\n",
    "    return xy\n",
    "\n",
    "xy = np.loadtxt(\"../datasets/wine.csv\", delimiter=\";\")\n",
    "np.random.shuffle(xy)\n",
    "x = xy[:,0:-1]\n",
    "y = xy[:,-1]\n",
    "\n",
    "min_values = np.array([min(x[:,i]) for i in range(x.shape[1])])\n",
    "max_values = np.array([max(x[:,i]) for i in range(x.shape[1])])\n",
    "x = (x-min_values)/(max_values - min_values)\n",
    "y = y.reshape((len(x), 1)).astype(\"float32\")\n",
    "train_ds = make_dataset(x, y, lambda t: t)\n",
    "\n",
    "mra = mra(train_ds)"
   ]
  },
  {
   "cell_type": "code",
   "execution_count": 3,
   "metadata": {},
   "outputs": [],
   "source": [
    "def make_f(input_shape):\n",
    "    xin = tf.keras.layers.Input(input_shape)\n",
    "    x = tf.keras.layers.Dense(64, activation=\"relu\")(xin)\n",
    "    x = tf.keras.layers.Dense(64, activation=\"relu\")(x)\n",
    "    output = tf.keras.layers.Dense(64, activation=\"relu\")(x)\n",
    "    return tf.keras.Model(xin, output)\n",
    "\n",
    "def make_g(input_shape):\n",
    "    xin = tf.keras.layers.Input(input_shape)\n",
    "    x = tf.keras.layers.Dense(64, activation=\"relu\")(xin)\n",
    "    # x = tf.keras.layers.Dropout(0.5)(x)\n",
    "    output = tf.keras.layers.Dense(11, activation=\"softmax\")(x)\n",
    "    return tf.keras.Model(xin, output)"
   ]
  },
  {
   "cell_type": "code",
   "execution_count": 4,
   "metadata": {},
   "outputs": [
    {
     "name": "stderr",
     "output_type": "stream",
     "text": [
      "2022-02-15 20:59:12.737778: I tensorflow/stream_executor/cuda/cuda_blas.cc:1786] TensorFloat-32 will be used for the matrix multiplication. This will only be logged once.\n"
     ]
    },
    {
     "name": "stdout",
     "output_type": "stream",
     "text": [
      "Iteration 0001: Training loss: 2.3913\n",
      "Iteration 0051: Training loss: 1.0352\n",
      "Iteration 0101: Training loss: 1.2877\n",
      "Iteration 0151: Training loss: 0.9521\n",
      "Iteration 0201: Training loss: 0.9321\n"
     ]
    }
   ],
   "source": [
    "log_train = mra.train(\n",
    "    make_f,\n",
    "    make_g,\n",
    "    loss_fn=tf.keras.losses.sparse_categorical_crossentropy,\n",
    "    batch_size=32,\n",
    "    epoch=5,\n",
    "    lr=0.001,\n",
    "    verbose=True, log_every=50\n",
    "    )"
   ]
  },
  {
   "cell_type": "code",
   "execution_count": 5,
   "metadata": {},
   "outputs": [],
   "source": [
    "def make_generator(input_shape):\n",
    "    xin = tf.keras.layers.Input(input_shape)\n",
    "    act = \"relu\"\n",
    "    x = tf.keras.layers.Dense(512, activation=act)(xin)\n",
    "    x = tf.keras.layers.Dense(256, activation=act)(x)\n",
    "    x = tf.keras.layers.Dense(128, activation=act)(x)\n",
    "    x = tf.keras.layers.Dense(64, activation=act)(x)\n",
    "    x = tf.keras.layers.Dense(32, activation=act)(x)\n",
    "    x = tf.keras.layers.Dense(11, activation=\"sigmoid\")(x)\n",
    "    return tf.keras.Model(xin, x)"
   ]
  },
  {
   "cell_type": "code",
   "execution_count": 6,
   "metadata": {},
   "outputs": [
    {
     "name": "stdout",
     "output_type": "stream",
     "text": [
      "Iteration 0001: RG-uniform: 0.1838, RG-normal: 0.1486, reconstruction validation: 0.0083\n",
      "Iteration 0002: RG-uniform: 0.1753, RG-normal: 0.1622, reconstruction validation: 0.0082\n",
      "Iteration 0003: RG-uniform: 0.1693, RG-normal: 0.1626, reconstruction validation: 0.0046\n",
      "Iteration 0004: RG-uniform: 0.1542, RG-normal: 0.1617, reconstruction validation: 0.0028\n",
      "Iteration 0005: RG-uniform: 0.1682, RG-normal: 0.1411, reconstruction validation: 0.0036\n",
      "Iteration 0006: RG-uniform: 0.1673, RG-normal: 0.1713, reconstruction validation: 0.0034\n",
      "Iteration 0007: RG-uniform: 0.1677, RG-normal: 0.1508, reconstruction validation: 0.0039\n",
      "Iteration 0008: RG-uniform: 0.1778, RG-normal: 0.1535, reconstruction validation: 0.0060\n",
      "Iteration 0009: RG-uniform: 0.1805, RG-normal: 0.1428, reconstruction validation: 0.0051\n",
      "Iteration 0010: RG-uniform: 0.1583, RG-normal: 0.1672, reconstruction validation: 0.0054\n",
      "Iteration 0011: RG-uniform: 0.1726, RG-normal: 0.1599, reconstruction validation: 0.0048\n",
      "Iteration 0012: RG-uniform: 0.1597, RG-normal: 0.1551, reconstruction validation: 0.0055\n",
      "Iteration 0013: RG-uniform: 0.1706, RG-normal: 0.1514, reconstruction validation: 0.0053\n",
      "Iteration 0014: RG-uniform: 0.1820, RG-normal: 0.1308, reconstruction validation: 0.0074\n",
      "Iteration 0015: RG-uniform: 0.1630, RG-normal: 0.1623, reconstruction validation: 0.0049\n",
      "Iteration 0016: RG-uniform: 0.1834, RG-normal: 0.1474, reconstruction validation: 0.0039\n",
      "Iteration 0017: RG-uniform: 0.1718, RG-normal: 0.1462, reconstruction validation: 0.0042\n",
      "Iteration 0018: RG-uniform: 0.1564, RG-normal: 0.1560, reconstruction validation: 0.0059\n",
      "Iteration 0019: RG-uniform: 0.1602, RG-normal: 0.1467, reconstruction validation: 0.0051\n",
      "Iteration 0020: RG-uniform: 0.1913, RG-normal: 0.1474, reconstruction validation: 0.0054\n",
      "Iteration 0021: RG-uniform: 0.1838, RG-normal: 0.1656, reconstruction validation: 0.0044\n",
      "Iteration 0022: RG-uniform: 0.1604, RG-normal: 0.1438, reconstruction validation: 0.0033\n",
      "Iteration 0023: RG-uniform: 0.1706, RG-normal: 0.1490, reconstruction validation: 0.0063\n",
      "Iteration 0024: RG-uniform: 0.1695, RG-normal: 0.1527, reconstruction validation: 0.0059\n",
      "Iteration 0025: RG-uniform: 0.1715, RG-normal: 0.1530, reconstruction validation: 0.0058\n",
      "Iteration 0026: RG-uniform: 0.1661, RG-normal: 0.1518, reconstruction validation: 0.0044\n",
      "Iteration 0027: RG-uniform: 0.1818, RG-normal: 0.1310, reconstruction validation: 0.0051\n",
      "Iteration 0028: RG-uniform: 0.1623, RG-normal: 0.1491, reconstruction validation: 0.0046\n",
      "Iteration 0029: RG-uniform: 0.1823, RG-normal: 0.1576, reconstruction validation: 0.0064\n",
      "Iteration 0030: RG-uniform: 0.1706, RG-normal: 0.1505, reconstruction validation: 0.0039\n",
      "Iteration 0031: RG-uniform: 0.1622, RG-normal: 0.1437, reconstruction validation: 0.0056\n",
      "Iteration 0032: RG-uniform: 0.1677, RG-normal: 0.1584, reconstruction validation: 0.0058\n",
      "Iteration 0033: RG-uniform: 0.1760, RG-normal: 0.1387, reconstruction validation: 0.0078\n",
      "Iteration 0034: RG-uniform: 0.1703, RG-normal: 0.1503, reconstruction validation: 0.0111\n",
      "Iteration 0035: RG-uniform: 0.1627, RG-normal: 0.1391, reconstruction validation: 0.0101\n",
      "Iteration 0036: RG-uniform: 0.1728, RG-normal: 0.1443, reconstruction validation: 0.0094\n",
      "Iteration 0037: RG-uniform: 0.1606, RG-normal: 0.1524, reconstruction validation: 0.0077\n",
      "Iteration 0038: RG-uniform: 0.1596, RG-normal: 0.1322, reconstruction validation: 0.0092\n",
      "Iteration 0039: RG-uniform: 0.1738, RG-normal: 0.1563, reconstruction validation: 0.0083\n",
      "Iteration 0040: RG-uniform: 0.1526, RG-normal: 0.1331, reconstruction validation: 0.0080\n",
      "Iteration 0041: RG-uniform: 0.1961, RG-normal: 0.1427, reconstruction validation: 0.0080\n",
      "Iteration 0042: RG-uniform: 0.1732, RG-normal: 0.1546, reconstruction validation: 0.0053\n",
      "Iteration 0043: RG-uniform: 0.1642, RG-normal: 0.1497, reconstruction validation: 0.0046\n",
      "Iteration 0044: RG-uniform: 0.1558, RG-normal: 0.1420, reconstruction validation: 0.0058\n",
      "Iteration 0045: RG-uniform: 0.1779, RG-normal: 0.1466, reconstruction validation: 0.0051\n",
      "Iteration 0046: RG-uniform: 0.1753, RG-normal: 0.1590, reconstruction validation: 0.0048\n",
      "Iteration 0047: RG-uniform: 0.1702, RG-normal: 0.1548, reconstruction validation: 0.0039\n",
      "Iteration 0048: RG-uniform: 0.1541, RG-normal: 0.1464, reconstruction validation: 0.0047\n",
      "Iteration 0049: RG-uniform: 0.1680, RG-normal: 0.1462, reconstruction validation: 0.0043\n",
      "Iteration 0050: RG-uniform: 0.1701, RG-normal: 0.1458, reconstruction validation: 0.0065\n",
      "Iteration 0051: RG-uniform: 0.1876, RG-normal: 0.1787, reconstruction validation: 0.0079\n",
      "Iteration 0052: RG-uniform: 0.1778, RG-normal: 0.1587, reconstruction validation: 0.0098\n",
      "Iteration 0053: RG-uniform: 0.1703, RG-normal: 0.1490, reconstruction validation: 0.0066\n",
      "Iteration 0054: RG-uniform: 0.1874, RG-normal: 0.1463, reconstruction validation: 0.0087\n",
      "Iteration 0055: RG-uniform: 0.1710, RG-normal: 0.1439, reconstruction validation: 0.0070\n",
      "Iteration 0056: RG-uniform: 0.1615, RG-normal: 0.1346, reconstruction validation: 0.0068\n",
      "Iteration 0057: RG-uniform: 0.1761, RG-normal: 0.1582, reconstruction validation: 0.0084\n",
      "Iteration 0058: RG-uniform: 0.1686, RG-normal: 0.1530, reconstruction validation: 0.0090\n",
      "Iteration 0059: RG-uniform: 0.1690, RG-normal: 0.1532, reconstruction validation: 0.0039\n",
      "Iteration 0060: RG-uniform: 0.1740, RG-normal: 0.1356, reconstruction validation: 0.0031\n",
      "Iteration 0061: RG-uniform: 0.1788, RG-normal: 0.1516, reconstruction validation: 0.0040\n",
      "Iteration 0062: RG-uniform: 0.1524, RG-normal: 0.1525, reconstruction validation: 0.0044\n",
      "Iteration 0063: RG-uniform: 0.1601, RG-normal: 0.1727, reconstruction validation: 0.0034\n",
      "Iteration 0064: RG-uniform: 0.1734, RG-normal: 0.1340, reconstruction validation: 0.0034\n",
      "Iteration 0065: RG-uniform: 0.1696, RG-normal: 0.1570, reconstruction validation: 0.0073\n",
      "Iteration 0066: RG-uniform: 0.1619, RG-normal: 0.1453, reconstruction validation: 0.0089\n",
      "Iteration 0067: RG-uniform: 0.1773, RG-normal: 0.1604, reconstruction validation: 0.0122\n",
      "Iteration 0068: RG-uniform: 0.1735, RG-normal: 0.1559, reconstruction validation: 0.0096\n",
      "Iteration 0069: RG-uniform: 0.1752, RG-normal: 0.1281, reconstruction validation: 0.0099\n",
      "Iteration 0070: RG-uniform: 0.1686, RG-normal: 0.1492, reconstruction validation: 0.0058\n",
      "Iteration 0071: RG-uniform: 0.1704, RG-normal: 0.1386, reconstruction validation: 0.0073\n",
      "Iteration 0072: RG-uniform: 0.1815, RG-normal: 0.1599, reconstruction validation: 0.0070\n",
      "Iteration 0073: RG-uniform: 0.1621, RG-normal: 0.1506, reconstruction validation: 0.0061\n",
      "Iteration 0074: RG-uniform: 0.1600, RG-normal: 0.1598, reconstruction validation: 0.0037\n",
      "Iteration 0075: RG-uniform: 0.1465, RG-normal: 0.1493, reconstruction validation: 0.0030\n",
      "Iteration 0076: RG-uniform: 0.1822, RG-normal: 0.1627, reconstruction validation: 0.0053\n",
      "Iteration 0077: RG-uniform: 0.1723, RG-normal: 0.1605, reconstruction validation: 0.0044\n",
      "Iteration 0078: RG-uniform: 0.1752, RG-normal: 0.1598, reconstruction validation: 0.0038\n",
      "Iteration 0079: RG-uniform: 0.1498, RG-normal: 0.1331, reconstruction validation: 0.0058\n",
      "Iteration 0080: RG-uniform: 0.1661, RG-normal: 0.1386, reconstruction validation: 0.0061\n",
      "Iteration 0081: RG-uniform: 0.1647, RG-normal: 0.1444, reconstruction validation: 0.0103\n",
      "Iteration 0082: RG-uniform: 0.1632, RG-normal: 0.1490, reconstruction validation: 0.0116\n",
      "Iteration 0083: RG-uniform: 0.1628, RG-normal: 0.1637, reconstruction validation: 0.0136\n",
      "Iteration 0084: RG-uniform: 0.1825, RG-normal: 0.1507, reconstruction validation: 0.0095\n",
      "Iteration 0085: RG-uniform: 0.1824, RG-normal: 0.1556, reconstruction validation: 0.0091\n",
      "Iteration 0086: RG-uniform: 0.1548, RG-normal: 0.1447, reconstruction validation: 0.0093\n",
      "Iteration 0087: RG-uniform: 0.1726, RG-normal: 0.1433, reconstruction validation: 0.0052\n",
      "Iteration 0088: RG-uniform: 0.1651, RG-normal: 0.1470, reconstruction validation: 0.0058\n",
      "Iteration 0089: RG-uniform: 0.1864, RG-normal: 0.1329, reconstruction validation: 0.0050\n",
      "Iteration 0090: RG-uniform: 0.1604, RG-normal: 0.1459, reconstruction validation: 0.0049\n",
      "Iteration 0091: RG-uniform: 0.1481, RG-normal: 0.1317, reconstruction validation: 0.0065\n",
      "Iteration 0092: RG-uniform: 0.1599, RG-normal: 0.1417, reconstruction validation: 0.0078\n",
      "Iteration 0093: RG-uniform: 0.1919, RG-normal: 0.1295, reconstruction validation: 0.0072\n",
      "Iteration 0094: RG-uniform: 0.1959, RG-normal: 0.1606, reconstruction validation: 0.0087\n",
      "Iteration 0095: RG-uniform: 0.1833, RG-normal: 0.1662, reconstruction validation: 0.0140\n",
      "Iteration 0096: RG-uniform: 0.1753, RG-normal: 0.1607, reconstruction validation: 0.0133\n",
      "Iteration 0097: RG-uniform: 0.1938, RG-normal: 0.1547, reconstruction validation: 0.0079\n",
      "Iteration 0098: RG-uniform: 0.1824, RG-normal: 0.1434, reconstruction validation: 0.0111\n",
      "Iteration 0099: RG-uniform: 0.1747, RG-normal: 0.1479, reconstruction validation: 0.0103\n",
      "Iteration 0100: RG-uniform: 0.1810, RG-normal: 0.1487, reconstruction validation: 0.0075\n"
     ]
    }
   ],
   "source": [
    "log_attack = mra.attack(\n",
    "    attack_iter=100,\n",
    "    make_generator=make_generator,\n",
    "    input_noise=\"normal\",\n",
    "    input_z=True,\n",
    "    model_leak=True,\n",
    "    lr_x=0.001,\n",
    "    lr_f=0.0001,\n",
    "    epoch=200,\n",
    "    iter_x=50,\n",
    "    iter_f=1,\n",
    "    verbose=True, log_every=1)"
   ]
  },
  {
   "cell_type": "code",
   "execution_count": 7,
   "metadata": {},
   "outputs": [],
   "source": [
    "np.savetxt(\"./log/wine-3.csv\", log_attack, delimiter=\",\")"
   ]
  }
 ],
 "metadata": {
  "interpreter": {
   "hash": "d9ff725623c15d695aa319bbc94ea42e245a1edcf20c6f47c05aed8c0d68e7f4"
  },
  "kernelspec": {
   "display_name": "Python 3.9.7 64-bit",
   "language": "python",
   "name": "python3"
  },
  "language_info": {
   "codemirror_mode": {
    "name": "ipython",
    "version": 3
   },
   "file_extension": ".py",
   "mimetype": "text/x-python",
   "name": "python",
   "nbconvert_exporter": "python",
   "pygments_lexer": "ipython3",
   "version": "3.8.10"
  },
  "orig_nbformat": 4
 },
 "nbformat": 4,
 "nbformat_minor": 2
}
