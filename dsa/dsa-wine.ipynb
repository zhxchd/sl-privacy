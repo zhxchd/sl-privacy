{
 "cells": [
  {
   "cell_type": "markdown",
   "metadata": {},
   "source": [
    "## Import libraries"
   ]
  },
  {
   "cell_type": "code",
   "execution_count": 2,
   "metadata": {},
   "outputs": [],
   "source": [
    "%load_ext autoreload\n",
    "%autoreload 2\n",
    "\n",
    "import tensorflow as tf\n",
    "import numpy as np\n",
    "import matplotlib.pyplot as plt\n",
    "\n",
    "import dsa\n",
    "from dsa import *\n",
    "from datasets import image\n",
    "from models import mlp\n",
    "from models import resnet\n",
    "import pickle\n",
    "from sklearn.model_selection import train_test_split\n",
    "\n",
    "os.environ['CUDA_VISIBLE_DEVICES'] = '-1'"
   ]
  },
  {
   "cell_type": "code",
   "execution_count": 3,
   "metadata": {},
   "outputs": [
    {
     "name": "stderr",
     "output_type": "stream",
     "text": [
      "2022-02-27 18:03:02.089860: E tensorflow/stream_executor/cuda/cuda_driver.cc:271] failed call to cuInit: CUDA_ERROR_NO_DEVICE: no CUDA-capable device is detected\n",
      "2022-02-27 18:03:02.089951: I tensorflow/stream_executor/cuda/cuda_diagnostics.cc:169] retrieving CUDA diagnostic information for host: xgpd1\n",
      "2022-02-27 18:03:02.089985: I tensorflow/stream_executor/cuda/cuda_diagnostics.cc:176] hostname: xgpd1\n",
      "2022-02-27 18:03:02.090195: I tensorflow/stream_executor/cuda/cuda_diagnostics.cc:200] libcuda reported version is: 460.91.3\n",
      "2022-02-27 18:03:02.090250: I tensorflow/stream_executor/cuda/cuda_diagnostics.cc:204] kernel reported version is: 460.91.3\n",
      "2022-02-27 18:03:02.090266: I tensorflow/stream_executor/cuda/cuda_diagnostics.cc:310] kernel version seems to match DSO: 460.91.3\n",
      "2022-02-27 18:03:02.090968: I tensorflow/core/platform/cpu_feature_guard.cc:151] This TensorFlow binary is optimized with oneAPI Deep Neural Network Library (oneDNN) to use the following CPU instructions in performance-critical operations:  AVX2 AVX512F FMA\n",
      "To enable them in other operations, rebuild TensorFlow with the appropriate compiler flags.\n"
     ]
    }
   ],
   "source": [
    "def make_dataset(X, Y, f):\n",
    "    x = tf.data.Dataset.from_tensor_slices(X)\n",
    "    y = tf.data.Dataset.from_tensor_slices(Y)\n",
    "    x = x.map(f)\n",
    "    xy = tf.data.Dataset.zip((x, y))\n",
    "    xy = xy.shuffle(10000)\n",
    "    return xy\n",
    "\n",
    "xy = np.loadtxt(\"../datasets/wine-white.csv\", delimiter=\";\")\n",
    "np.random.shuffle(xy)\n",
    "x = xy[:,0:-1]\n",
    "y = xy[:,-1]-3\n",
    "\n",
    "min_values = np.array([min(x[:,i]) for i in range(x.shape[1])])\n",
    "max_values = np.array([max(x[:,i]) for i in range(x.shape[1])])\n",
    "x = (x-min_values)/(max_values - min_values)\n",
    "y = y.reshape((len(x), 1)).astype(\"float32\")\n",
    "x_train, x_test, y_train, y_test = train_test_split(x, y, test_size=0.2, random_state=42)\n",
    "\n",
    "target_ds = make_dataset(x_train, y_train, lambda t: t)\n",
    "aux_ds = make_dataset(x_test, y_test, lambda t: t)"
   ]
  },
  {
   "cell_type": "code",
   "execution_count": 4,
   "metadata": {},
   "outputs": [
    {
     "name": "stdout",
     "output_type": "stream",
     "text": [
      "============================\n",
      "======Split level is 2======\n",
      "============================\n",
      "Iteration 50, average attack MSE: 0.028383739553391935\n",
      "Iteration 100, average attack MSE: 0.008093234552070498\n",
      "Iteration 150, average attack MSE: 0.005807148199528456\n",
      "Iteration 200, average attack MSE: 0.004445937061682344\n",
      "Iteration 250, average attack MSE: 0.0033663655491545795\n",
      "Iteration 300, average attack MSE: 0.002720616632141173\n",
      "Iteration 350, average attack MSE: 0.002209345055744052\n",
      "Iteration 400, average attack MSE: 0.0018563886196352542\n",
      "Iteration 450, average attack MSE: 0.001366665093228221\n",
      "Iteration 500, average attack MSE: 0.0011681792698800563\n",
      "Iteration 550, average attack MSE: 0.000934605048969388\n",
      "Iteration 600, average attack MSE: 0.0007660865946672857\n",
      "Iteration 650, average attack MSE: 0.000658001457923092\n",
      "Iteration 700, average attack MSE: 0.0005903816979844123\n",
      "Iteration 750, average attack MSE: 0.0005439896869938821\n",
      "Iteration 800, average attack MSE: 0.0005307528655976057\n",
      "Iteration 850, average attack MSE: 0.0004852230503456667\n",
      "Iteration 900, average attack MSE: 0.00046617464278824627\n",
      "Iteration 950, average attack MSE: 0.000462880865088664\n",
      "Iteration 1000, average attack MSE: 0.0004370550153544173\n",
      "============================\n",
      "======Split level is 3======\n",
      "============================\n",
      "Iteration 50, average attack MSE: 0.03116522392258048\n",
      "Iteration 100, average attack MSE: 0.008135453360155224\n",
      "Iteration 150, average attack MSE: 0.007586627621203661\n",
      "Iteration 200, average attack MSE: 0.006741788806393743\n",
      "Iteration 250, average attack MSE: 0.005657890746369958\n",
      "Iteration 300, average attack MSE: 0.0044694022834301\n",
      "Iteration 350, average attack MSE: 0.0035616953717544676\n",
      "Iteration 400, average attack MSE: 0.002901915297843516\n",
      "Iteration 450, average attack MSE: 0.002451930451206863\n",
      "Iteration 500, average attack MSE: 0.0022821554844267666\n",
      "Iteration 550, average attack MSE: 0.002069434467703104\n",
      "Iteration 600, average attack MSE: 0.0019172207638621331\n",
      "Iteration 650, average attack MSE: 0.0018720589461736381\n",
      "Iteration 700, average attack MSE: 0.0017372565763071179\n",
      "Iteration 750, average attack MSE: 0.001650574505329132\n",
      "Iteration 800, average attack MSE: 0.0015215910994447767\n",
      "Iteration 850, average attack MSE: 0.0014850720064714551\n",
      "Iteration 900, average attack MSE: 0.0014025015546940266\n",
      "Iteration 950, average attack MSE: 0.0013185972184874117\n",
      "Iteration 1000, average attack MSE: 0.0013118354068137705\n",
      "============================\n",
      "======Split level is 4======\n",
      "============================\n",
      "Iteration 50, average attack MSE: 0.03106507418677211\n",
      "Iteration 100, average attack MSE: 0.009876569882035256\n",
      "Iteration 150, average attack MSE: 0.008136545820161701\n",
      "Iteration 200, average attack MSE: 0.00759619333781302\n",
      "Iteration 250, average attack MSE: 0.007562437551096082\n",
      "Iteration 300, average attack MSE: 0.006676632044836879\n",
      "Iteration 350, average attack MSE: 0.005961281713098288\n",
      "Iteration 400, average attack MSE: 0.00553235006518662\n",
      "Iteration 450, average attack MSE: 0.004826190210878849\n",
      "Iteration 500, average attack MSE: 0.004287714790552855\n",
      "Iteration 550, average attack MSE: 0.003824595594778657\n",
      "Iteration 600, average attack MSE: 0.0037720988411456347\n",
      "Iteration 650, average attack MSE: 0.003494363375939429\n",
      "Iteration 700, average attack MSE: 0.0033099656132981182\n",
      "Iteration 750, average attack MSE: 0.003204197380691767\n",
      "Iteration 800, average attack MSE: 0.003225639290176332\n",
      "Iteration 850, average attack MSE: 0.0030212045041844247\n",
      "Iteration 900, average attack MSE: 0.002954899203032255\n",
      "Iteration 950, average attack MSE: 0.0030019582388922574\n",
      "Iteration 1000, average attack MSE: 0.0029707370372489095\n"
     ]
    }
   ],
   "source": [
    "wine_dsa = {}\n",
    "log = {}\n",
    "\n",
    "for split in [2,3,4]:\n",
    "    make_f, make_g, make_e, make_d, make_c = mlp.make_mlp(attr_num=11, class_num=7, split=split, units=64, act=\"relu\")\n",
    "    wine_dsa[\"wine-split=\"+str(split)] = dsa(target_ds=target_ds, aux_ds=aux_ds)\n",
    "    print(\"============================\")\n",
    "    print(\"======Split level is {}======\".format(split))\n",
    "    print(\"============================\")\n",
    "    log[\"wine-split=\"+str(split)] = wine_dsa[\"wine-split=\"+str(split)].dsa_attack(\n",
    "        make_f=make_f,\n",
    "        make_g=make_g,\n",
    "        lr=0.001,\n",
    "        batch_size=64,\n",
    "        iterations=1000,\n",
    "        make_e=make_e,\n",
    "        make_d=make_d,\n",
    "        make_c=make_c,\n",
    "        lr_e=0.0001, # learning rate of the encoder/decoder/critic is set to be smaller\n",
    "        lr_d=0.0001,\n",
    "        lr_c=0.0001,\n",
    "        iter_d=20,   # the number of iterations to train the decoder on auxiliary data\n",
    "        w=500.,\n",
    "        verbose=True,\n",
    "        log_freq=50)"
   ]
  },
  {
   "cell_type": "code",
   "execution_count": 5,
   "metadata": {},
   "outputs": [],
   "source": [
    "with open('log/wine.pkl', 'wb') as f:\n",
    "    pickle.dump(log, f)"
   ]
  },
  {
   "cell_type": "code",
   "execution_count": 28,
   "metadata": {},
   "outputs": [
    {
     "data": {
      "image/png": "[encoded data removed]",
      "text/plain": [
       "<Figure size 432x288 with 1 Axes>"
      ]
     },
     "metadata": {
      "needs_background": "light"
     },
     "output_type": "display_data"
    }
   ],
   "source": [
    "with open('log/wine.pkl', 'rb') as f:\n",
    "    log = pickle.load(f)\n",
    "\n",
    "from matplotlib.pyplot import figure\n",
    "# figure(figsize=(6.4,4.8))\n",
    "log_freq = 10\n",
    "plt.yscale('logit')\n",
    "plt.xlim([0,1000])\n",
    "plt.grid()\n",
    "sampled_log_2 = [sum(log[\"wine-split=2\"][:,1][i*log_freq:(i+1)*log_freq])/log_freq for i in range(int(len(log[\"wine-split=2\"][:,0])/log_freq))]\n",
    "sampled_log_3 = [sum(log[\"wine-split=3\"][:,1][i*log_freq:(i+1)*log_freq])/log_freq for i in range(int(len(log[\"wine-split=3\"][:,0])/log_freq))]\n",
    "sampled_log_4 = [sum(log[\"wine-split=4\"][:,1][i*log_freq:(i+1)*log_freq])/log_freq for i in range(int(len(log[\"wine-split=4\"][:,0])/log_freq))]\n",
    "ran = [i * log_freq for i in range(int(1000/log_freq))]\n",
    "plt.plot(ran, sampled_log_2, 'ro-', ran, sampled_log_3, 'b^-', ran, sampled_log_4, 'gs-', markevery=19)\n",
    "plt.ylabel('Reconstruction MSE')\n",
    "plt.xlabel('Iteration')\n",
    "plt.legend([\"Ours (split level 2)\", \"Ours (split level 3)\", \"Ours (split level 4)\"])\n",
    "plt.savefig(\"fig/wine-all.pdf\", bbox_inches='tight')"
   ]
  },
  {
   "cell_type": "markdown",
   "metadata": {},
   "source": [
    "Seems all right!"
   ]
  }
 ],
 "metadata": {
  "interpreter": {
   "hash": "2a2dd769cecedecfe05f0f0188a5af1f00f6d4ca8f0230fa86a1fa936f2e63f6"
  },
  "kernelspec": {
   "display_name": "Python 3.9.9 64-bit",
   "language": "python",
   "name": "python3"
  },
  "language_info": {
   "codemirror_mode": {
    "name": "ipython",
    "version": 3
   },
   "file_extension": ".py",
   "mimetype": "text/x-python",
   "name": "python",
   "nbconvert_exporter": "python",
   "pygments_lexer": "ipython3",
   "version": "3.8.10"
  },
  "orig_nbformat": 4
 },
 "nbformat": 4,
 "nbformat_minor": 2
}
