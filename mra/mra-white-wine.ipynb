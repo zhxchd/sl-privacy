{
 "cells": [
  {
   "cell_type": "markdown",
   "metadata": {},
   "source": [
    "# Model recovery attack: `wine`"
   ]
  },
  {
   "cell_type": "code",
   "execution_count": 2,
   "metadata": {},
   "outputs": [],
   "source": [
    "%load_ext autoreload\n",
    "%autoreload 2\n",
    "\n",
    "import tensorflow as tf\n",
    "import numpy as np\n",
    "import matplotlib.pyplot as plt\n",
    "\n",
    "import mra\n",
    "from mra import *\n",
    "\n",
    "os.environ['CUDA_VISIBLE_DEVICES'] = '-1'"
   ]
  },
  {
   "cell_type": "code",
   "execution_count": 3,
   "metadata": {},
   "outputs": [
    {
     "name": "stderr",
     "output_type": "stream",
     "text": [
      "2022-02-17 14:54:52.272567: E tensorflow/stream_executor/cuda/cuda_driver.cc:271] failed call to cuInit: CUDA_ERROR_NO_DEVICE: no CUDA-capable device is detected\n",
      "2022-02-17 14:54:52.272634: I tensorflow/stream_executor/cuda/cuda_diagnostics.cc:169] retrieving CUDA diagnostic information for host: xgpg0\n",
      "2022-02-17 14:54:52.272666: I tensorflow/stream_executor/cuda/cuda_diagnostics.cc:176] hostname: xgpg0\n",
      "2022-02-17 14:54:52.272803: I tensorflow/stream_executor/cuda/cuda_diagnostics.cc:200] libcuda reported version is: 495.29.5\n",
      "2022-02-17 14:54:52.272837: I tensorflow/stream_executor/cuda/cuda_diagnostics.cc:204] kernel reported version is: 495.29.5\n",
      "2022-02-17 14:54:52.272846: I tensorflow/stream_executor/cuda/cuda_diagnostics.cc:310] kernel version seems to match DSO: 495.29.5\n",
      "2022-02-17 14:54:52.273420: I tensorflow/core/platform/cpu_feature_guard.cc:151] This TensorFlow binary is optimized with oneAPI Deep Neural Network Library (oneDNN) to use the following CPU instructions in performance-critical operations:  AVX2 FMA\n",
      "To enable them in other operations, rebuild TensorFlow with the appropriate compiler flags.\n"
     ]
    }
   ],
   "source": [
    "def make_dataset(X, Y, f):\n",
    "    x = tf.data.Dataset.from_tensor_slices(X)\n",
    "    y = tf.data.Dataset.from_tensor_slices(Y)\n",
    "    x = x.map(f)\n",
    "    xy = tf.data.Dataset.zip((x, y))\n",
    "    xy = xy.shuffle(10000)\n",
    "    return xy\n",
    "\n",
    "xy = np.loadtxt(\"../datasets/wine-white.csv\", delimiter=\";\")\n",
    "np.random.shuffle(xy)\n",
    "x = xy[:,0:-1]\n",
    "y = xy[:,-1]-3\n",
    "\n",
    "min_values = np.array([min(x[:,i]) for i in range(x.shape[1])])\n",
    "max_values = np.array([max(x[:,i]) for i in range(x.shape[1])])\n",
    "x = (x-min_values)/(max_values - min_values)\n",
    "y = y.reshape((len(x), 1)).astype(\"float32\")\n",
    "train_ds = make_dataset(x, y, lambda t: t)"
   ]
  },
  {
   "cell_type": "code",
   "execution_count": 4,
   "metadata": {},
   "outputs": [],
   "source": [
    "mra_wine_4 = mra(train_ds)"
   ]
  },
  {
   "cell_type": "code",
   "execution_count": 5,
   "metadata": {},
   "outputs": [],
   "source": [
    "def make_f(input_shape):\n",
    "    xin = tf.keras.layers.Input(input_shape)\n",
    "    x = tf.keras.layers.Dense(64, activation=\"relu\")(xin)\n",
    "    x = tf.keras.layers.Dense(64, activation=\"relu\")(x)\n",
    "    x = tf.keras.layers.Dense(64, activation=\"relu\")(x)\n",
    "    output = tf.keras.layers.Dense(64, activation=\"relu\")(x)\n",
    "    return tf.keras.Model(xin, output)\n",
    "\n",
    "def make_g(input_shape):\n",
    "    xin = tf.keras.layers.Input(input_shape)\n",
    "    # x = tf.keras.layers.Dense(64, activation=\"relu\")(xin)\n",
    "    # x = tf.keras.layers.Dropout(0.5)(x)\n",
    "    output = tf.keras.layers.Dense(7, activation=\"softmax\")(xin)\n",
    "    return tf.keras.Model(xin, output)"
   ]
  },
  {
   "cell_type": "code",
   "execution_count": 7,
   "metadata": {},
   "outputs": [
    {
     "name": "stdout",
     "output_type": "stream",
     "text": [
      "Iteration 0001: Training loss: 1.9355\n",
      "Iteration 0051: Training loss: 1.1697\n",
      "Iteration 0101: Training loss: 1.4907\n",
      "Iteration 0151: Training loss: 1.1881\n",
      "Iteration 0201: Training loss: 1.0032\n",
      "Iteration 0251: Training loss: 0.9215\n",
      "Iteration 0301: Training loss: 0.9813\n",
      "Iteration 0351: Training loss: 1.2622\n",
      "Iteration 0401: Training loss: 1.1110\n",
      "Iteration 0451: Training loss: 0.9986\n",
      "Iteration 0501: Training loss: 1.1118\n",
      "Iteration 0551: Training loss: 1.1252\n",
      "Iteration 0601: Training loss: 1.2032\n",
      "Iteration 0651: Training loss: 1.1416\n",
      "Iteration 0701: Training loss: 0.9887\n",
      "Iteration 0751: Training loss: 0.9387\n"
     ]
    }
   ],
   "source": [
    "log_train = mra_wine_4.train(\n",
    "    make_f,\n",
    "    make_g,\n",
    "    loss_fn=tf.keras.losses.sparse_categorical_crossentropy,\n",
    "    batch_size=32,\n",
    "    epoch=5,\n",
    "    lr=0.001,\n",
    "    verbose=True, log_every=50\n",
    "    )"
   ]
  },
  {
   "cell_type": "code",
   "execution_count": 8,
   "metadata": {},
   "outputs": [],
   "source": [
    "def make_generator(input_shape):\n",
    "    xin = tf.keras.layers.Input(input_shape)\n",
    "    act = \"relu\"\n",
    "    x = tf.keras.layers.Dense(512, activation=act)(xin)\n",
    "    x = tf.keras.layers.Dense(256, activation=act)(x)\n",
    "    x = tf.keras.layers.Dense(128, activation=act)(x)\n",
    "    x = tf.keras.layers.Dense(64, activation=act)(x)\n",
    "    x = tf.keras.layers.Dense(32, activation=act)(x)\n",
    "    x = tf.keras.layers.Dense(11, activation=\"sigmoid\")(x)\n",
    "    return tf.keras.Model(xin, x)"
   ]
  },
  {
   "cell_type": "code",
   "execution_count": 9,
   "metadata": {},
   "outputs": [
    {
     "name": "stdout",
     "output_type": "stream",
     "text": [
      "Iteration 0001: RG-uniform: 0.1615, RG-normal: 0.1641, reconstruction validation: 0.0473\n",
      "Iteration 0002: RG-uniform: 0.1832, RG-normal: 0.1492, reconstruction validation: 0.0233\n",
      "Iteration 0003: RG-uniform: 0.1703, RG-normal: 0.1620, reconstruction validation: 0.0180\n",
      "Iteration 0004: RG-uniform: 0.1819, RG-normal: 0.1622, reconstruction validation: 0.0121\n",
      "Iteration 0005: RG-uniform: 0.1786, RG-normal: 0.1618, reconstruction validation: 0.0138\n",
      "Iteration 0006: RG-uniform: 0.1871, RG-normal: 0.1602, reconstruction validation: 0.0092\n",
      "Iteration 0007: RG-uniform: 0.1976, RG-normal: 0.1716, reconstruction validation: 0.0100\n",
      "Iteration 0008: RG-uniform: 0.1852, RG-normal: 0.1589, reconstruction validation: 0.0079\n",
      "Iteration 0009: RG-uniform: 0.1921, RG-normal: 0.1394, reconstruction validation: 0.0092\n",
      "Iteration 0010: RG-uniform: 0.1503, RG-normal: 0.1614, reconstruction validation: 0.0090\n",
      "Iteration 0011: RG-uniform: 0.1700, RG-normal: 0.1589, reconstruction validation: 0.0112\n",
      "Iteration 0012: RG-uniform: 0.1885, RG-normal: 0.1606, reconstruction validation: 0.0093\n",
      "Iteration 0013: RG-uniform: 0.1626, RG-normal: 0.1554, reconstruction validation: 0.0095\n",
      "Iteration 0014: RG-uniform: 0.1847, RG-normal: 0.1655, reconstruction validation: 0.0082\n",
      "Iteration 0015: RG-uniform: 0.1714, RG-normal: 0.1598, reconstruction validation: 0.0057\n",
      "Iteration 0016: RG-uniform: 0.1735, RG-normal: 0.1559, reconstruction validation: 0.0066\n",
      "Iteration 0017: RG-uniform: 0.1762, RG-normal: 0.1595, reconstruction validation: 0.0068\n",
      "Iteration 0018: RG-uniform: 0.2150, RG-normal: 0.1717, reconstruction validation: 0.0084\n",
      "Iteration 0019: RG-uniform: 0.1804, RG-normal: 0.1606, reconstruction validation: 0.0115\n",
      "Iteration 0020: RG-uniform: 0.1718, RG-normal: 0.1526, reconstruction validation: 0.0211\n",
      "Iteration 0021: RG-uniform: 0.1718, RG-normal: 0.1601, reconstruction validation: 0.0193\n",
      "Iteration 0022: RG-uniform: 0.1791, RG-normal: 0.1444, reconstruction validation: 0.0282\n",
      "Iteration 0023: RG-uniform: 0.1562, RG-normal: 0.1519, reconstruction validation: 0.0398\n",
      "Iteration 0024: RG-uniform: 0.1829, RG-normal: 0.1667, reconstruction validation: 0.0186\n",
      "Iteration 0025: RG-uniform: 0.1771, RG-normal: 0.1523, reconstruction validation: 0.0206\n",
      "Iteration 0026: RG-uniform: 0.1764, RG-normal: 0.1440, reconstruction validation: 0.0169\n",
      "Iteration 0027: RG-uniform: 0.1659, RG-normal: 0.1613, reconstruction validation: 0.0133\n",
      "Iteration 0028: RG-uniform: 0.1642, RG-normal: 0.1674, reconstruction validation: 0.0116\n",
      "Iteration 0029: RG-uniform: 0.1749, RG-normal: 0.1337, reconstruction validation: 0.0131\n",
      "Iteration 0030: RG-uniform: 0.1880, RG-normal: 0.1464, reconstruction validation: 0.0148\n",
      "Iteration 0031: RG-uniform: 0.1661, RG-normal: 0.1682, reconstruction validation: 0.0160\n",
      "Iteration 0032: RG-uniform: 0.1939, RG-normal: 0.1589, reconstruction validation: 0.0121\n",
      "Iteration 0033: RG-uniform: 0.1780, RG-normal: 0.1511, reconstruction validation: 0.0167\n",
      "Iteration 0034: RG-uniform: 0.1779, RG-normal: 0.1584, reconstruction validation: 0.0189\n",
      "Iteration 0035: RG-uniform: 0.1805, RG-normal: 0.1684, reconstruction validation: 0.0151\n",
      "Iteration 0036: RG-uniform: 0.1673, RG-normal: 0.1581, reconstruction validation: 0.0112\n",
      "Iteration 0037: RG-uniform: 0.1702, RG-normal: 0.1639, reconstruction validation: 0.0096\n",
      "Iteration 0038: RG-uniform: 0.1926, RG-normal: 0.1749, reconstruction validation: 0.0055\n",
      "Iteration 0039: RG-uniform: 0.2002, RG-normal: 0.1376, reconstruction validation: 0.0075\n",
      "Iteration 0040: RG-uniform: 0.1788, RG-normal: 0.1399, reconstruction validation: 0.0069\n",
      "Iteration 0041: RG-uniform: 0.1874, RG-normal: 0.1620, reconstruction validation: 0.0053\n",
      "Iteration 0042: RG-uniform: 0.1772, RG-normal: 0.1606, reconstruction validation: 0.0047\n",
      "Iteration 0043: RG-uniform: 0.1893, RG-normal: 0.1672, reconstruction validation: 0.0042\n",
      "Iteration 0044: RG-uniform: 0.1686, RG-normal: 0.1541, reconstruction validation: 0.0037\n",
      "Iteration 0045: RG-uniform: 0.1902, RG-normal: 0.1503, reconstruction validation: 0.0039\n",
      "Iteration 0046: RG-uniform: 0.1738, RG-normal: 0.1521, reconstruction validation: 0.0040\n",
      "Iteration 0047: RG-uniform: 0.1800, RG-normal: 0.1677, reconstruction validation: 0.0043\n",
      "Iteration 0048: RG-uniform: 0.1877, RG-normal: 0.1724, reconstruction validation: 0.0040\n",
      "Iteration 0049: RG-uniform: 0.1805, RG-normal: 0.1752, reconstruction validation: 0.0048\n",
      "Iteration 0050: RG-uniform: 0.1874, RG-normal: 0.1586, reconstruction validation: 0.0087\n",
      "Iteration 0051: RG-uniform: 0.1650, RG-normal: 0.1677, reconstruction validation: 0.0122\n",
      "Iteration 0052: RG-uniform: 0.1650, RG-normal: 0.1555, reconstruction validation: 0.0066\n",
      "Iteration 0053: RG-uniform: 0.1713, RG-normal: 0.1536, reconstruction validation: 0.0081\n",
      "Iteration 0054: RG-uniform: 0.1721, RG-normal: 0.1390, reconstruction validation: 0.0051\n",
      "Iteration 0055: RG-uniform: 0.1644, RG-normal: 0.1623, reconstruction validation: 0.0066\n",
      "Iteration 0056: RG-uniform: 0.1766, RG-normal: 0.1600, reconstruction validation: 0.0152\n",
      "Iteration 0057: RG-uniform: 0.1752, RG-normal: 0.1540, reconstruction validation: 0.0120\n",
      "Iteration 0058: RG-uniform: 0.1692, RG-normal: 0.1750, reconstruction validation: 0.0080\n",
      "Iteration 0059: RG-uniform: 0.1923, RG-normal: 0.1769, reconstruction validation: 0.0102\n",
      "Iteration 0060: RG-uniform: 0.1717, RG-normal: 0.1558, reconstruction validation: 0.0080\n",
      "Iteration 0061: RG-uniform: 0.1755, RG-normal: 0.1532, reconstruction validation: 0.0132\n",
      "Iteration 0062: RG-uniform: 0.1859, RG-normal: 0.1536, reconstruction validation: 0.0069\n",
      "Iteration 0063: RG-uniform: 0.1723, RG-normal: 0.1557, reconstruction validation: 0.0114\n",
      "Iteration 0064: RG-uniform: 0.1699, RG-normal: 0.1731, reconstruction validation: 0.0133\n",
      "Iteration 0065: RG-uniform: 0.1525, RG-normal: 0.1472, reconstruction validation: 0.0108\n",
      "Iteration 0066: RG-uniform: 0.1690, RG-normal: 0.1392, reconstruction validation: 0.0096\n",
      "Iteration 0067: RG-uniform: 0.1683, RG-normal: 0.1664, reconstruction validation: 0.0087\n",
      "Iteration 0068: RG-uniform: 0.1862, RG-normal: 0.1614, reconstruction validation: 0.0093\n",
      "Iteration 0069: RG-uniform: 0.1772, RG-normal: 0.1578, reconstruction validation: 0.0130\n",
      "Iteration 0070: RG-uniform: 0.1642, RG-normal: 0.1740, reconstruction validation: 0.0168\n",
      "Iteration 0071: RG-uniform: 0.1710, RG-normal: 0.1719, reconstruction validation: 0.0133\n",
      "Iteration 0072: RG-uniform: 0.1701, RG-normal: 0.1649, reconstruction validation: 0.0185\n",
      "Iteration 0073: RG-uniform: 0.1926, RG-normal: 0.1477, reconstruction validation: 0.0167\n",
      "Iteration 0074: RG-uniform: 0.1960, RG-normal: 0.1612, reconstruction validation: 0.0094\n",
      "Iteration 0075: RG-uniform: 0.1699, RG-normal: 0.1486, reconstruction validation: 0.0088\n",
      "Iteration 0076: RG-uniform: 0.1613, RG-normal: 0.1444, reconstruction validation: 0.0079\n",
      "Iteration 0077: RG-uniform: 0.1952, RG-normal: 0.1600, reconstruction validation: 0.0079\n",
      "Iteration 0078: RG-uniform: 0.1674, RG-normal: 0.1522, reconstruction validation: 0.0082\n",
      "Iteration 0079: RG-uniform: 0.1812, RG-normal: 0.1702, reconstruction validation: 0.0092\n",
      "Iteration 0080: RG-uniform: 0.1902, RG-normal: 0.1654, reconstruction validation: 0.0103\n",
      "Iteration 0081: RG-uniform: 0.1705, RG-normal: 0.1480, reconstruction validation: 0.0099\n",
      "Iteration 0082: RG-uniform: 0.1794, RG-normal: 0.1618, reconstruction validation: 0.0108\n",
      "Iteration 0083: RG-uniform: 0.1676, RG-normal: 0.1654, reconstruction validation: 0.0065\n",
      "Iteration 0084: RG-uniform: 0.1785, RG-normal: 0.1505, reconstruction validation: 0.0069\n",
      "Iteration 0085: RG-uniform: 0.1867, RG-normal: 0.1617, reconstruction validation: 0.0095\n",
      "Iteration 0086: RG-uniform: 0.1736, RG-normal: 0.1578, reconstruction validation: 0.0081\n",
      "Iteration 0087: RG-uniform: 0.1773, RG-normal: 0.1603, reconstruction validation: 0.0082\n",
      "Iteration 0088: RG-uniform: 0.1780, RG-normal: 0.1646, reconstruction validation: 0.0115\n",
      "Iteration 0089: RG-uniform: 0.1674, RG-normal: 0.1667, reconstruction validation: 0.0077\n",
      "Iteration 0090: RG-uniform: 0.1960, RG-normal: 0.1567, reconstruction validation: 0.0087\n",
      "Iteration 0091: RG-uniform: 0.1666, RG-normal: 0.1597, reconstruction validation: 0.0111\n",
      "Iteration 0092: RG-uniform: 0.1851, RG-normal: 0.1486, reconstruction validation: 0.0104\n",
      "Iteration 0093: RG-uniform: 0.1797, RG-normal: 0.1565, reconstruction validation: 0.0082\n",
      "Iteration 0094: RG-uniform: 0.1864, RG-normal: 0.1459, reconstruction validation: 0.0090\n",
      "Iteration 0095: RG-uniform: 0.1794, RG-normal: 0.1665, reconstruction validation: 0.0083\n",
      "Iteration 0096: RG-uniform: 0.1732, RG-normal: 0.1462, reconstruction validation: 0.0078\n",
      "Iteration 0097: RG-uniform: 0.1770, RG-normal: 0.1656, reconstruction validation: 0.0089\n",
      "Iteration 0098: RG-uniform: 0.1852, RG-normal: 0.1614, reconstruction validation: 0.0087\n",
      "Iteration 0099: RG-uniform: 0.1857, RG-normal: 0.1569, reconstruction validation: 0.0085\n",
      "Iteration 0100: RG-uniform: 0.1628, RG-normal: 0.1690, reconstruction validation: 0.0094\n"
     ]
    }
   ],
   "source": [
    "log_attack = mra_wine_4.attack(\n",
    "    attack_iter=100,\n",
    "    make_generator=make_generator,\n",
    "    input_noise=\"normal\",\n",
    "    input_z=True,\n",
    "    model_leak=True,\n",
    "    lr_x=0.001,\n",
    "    lr_f=0.0001,\n",
    "    epoch=200,\n",
    "    iter_x=50,\n",
    "    iter_f=1,\n",
    "    verbose=True, log_every=1)"
   ]
  },
  {
   "cell_type": "code",
   "execution_count": 10,
   "metadata": {},
   "outputs": [],
   "source": [
    "np.savetxt(\"./log/wine-white-4.csv\", log_attack, delimiter=\",\")"
   ]
  }
 ],
 "metadata": {
  "interpreter": {
   "hash": "d9ff725623c15d695aa319bbc94ea42e245a1edcf20c6f47c05aed8c0d68e7f4"
  },
  "kernelspec": {
   "display_name": "Python 3.9.7 64-bit",
   "language": "python",
   "name": "python3"
  },
  "language_info": {
   "codemirror_mode": {
    "name": "ipython",
    "version": 3
   },
   "file_extension": ".py",
   "mimetype": "text/x-python",
   "name": "python",
   "nbconvert_exporter": "python",
   "pygments_lexer": "ipython3",
   "version": "3.8.10"
  },
  "orig_nbformat": 4
 },
 "nbformat": 4,
 "nbformat_minor": 2
}
