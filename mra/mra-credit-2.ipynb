{
 "cells": [
  {
   "cell_type": "markdown",
   "metadata": {},
   "source": [
    "# Model recovery attack: `credit-card`"
   ]
  },
  {
   "cell_type": "code",
   "execution_count": 1,
   "metadata": {},
   "outputs": [],
   "source": [
    "%load_ext autoreload\n",
    "%autoreload 2\n",
    "\n",
    "import tensorflow as tf\n",
    "import numpy as np\n",
    "import pandas as pd\n",
    "import matplotlib.pyplot as plt\n",
    "\n",
    "import mra\n",
    "from mra import *"
   ]
  },
  {
   "cell_type": "code",
   "execution_count": 2,
   "metadata": {},
   "outputs": [
    {
     "name": "stderr",
     "output_type": "stream",
     "text": [
      "2022-02-13 16:49:44.479514: W tensorflow/stream_executor/platform/default/dso_loader.cc:64] Could not load dynamic library 'libcudnn.so.8'; dlerror: libcudnn.so.8: cannot open shared object file: No such file or directory\n",
      "2022-02-13 16:49:44.479554: W tensorflow/core/common_runtime/gpu/gpu_device.cc:1850] Cannot dlopen some GPU libraries. Please make sure the missing libraries mentioned above are installed properly if you would like to use GPU. Follow the guide at https://www.tensorflow.org/install/gpu for how to download and setup the required libraries for your platform.\n",
      "Skipping registering GPU devices...\n",
      "2022-02-13 16:49:44.480049: I tensorflow/core/platform/cpu_feature_guard.cc:151] This TensorFlow binary is optimized with oneAPI Deep Neural Network Library (oneDNN) to use the following CPU instructions in performance-critical operations:  AVX2 FMA\n",
      "To enable them in other operations, rebuild TensorFlow with the appropriate compiler flags.\n"
     ]
    }
   ],
   "source": [
    "def make_dataset(X, Y, f):\n",
    "    x = tf.data.Dataset.from_tensor_slices(X)\n",
    "    y = tf.data.Dataset.from_tensor_slices(Y)\n",
    "    x = x.map(f)\n",
    "    xy = tf.data.Dataset.zip((x, y))\n",
    "    xy = xy.shuffle(10000)\n",
    "    return xy\n",
    "\n",
    "df = pd.read_excel('../datasets/credit-card.xls', header=1, index_col=0).sample(frac=1)\n",
    "min_values = df.drop(columns=[\"default payment next month\"]).describe().transpose()['min'].to_numpy()\n",
    "max_values = df.drop(columns=[\"default payment next month\"]).describe().transpose()['max'].to_numpy()\n",
    "x = df.drop(columns=[\"default payment next month\"]).to_numpy()\n",
    "x = (x-min_values)/(max_values-min_values)\n",
    "y = df[\"default payment next month\"].to_numpy().reshape((len(x), 1)).astype(\"float32\")\n",
    "train_ds = make_dataset(x, y, lambda t: t)\n",
    "\n",
    "mra = mra(train_ds)"
   ]
  },
  {
   "cell_type": "code",
   "execution_count": 3,
   "metadata": {},
   "outputs": [],
   "source": [
    "def make_f(input_shape):\n",
    "    xin = tf.keras.layers.Input(input_shape)\n",
    "    x = tf.keras.layers.Dense(64, activation=\"relu\")(xin)\n",
    "    output = tf.keras.layers.Dense(64, activation=\"relu\")(x)\n",
    "    return tf.keras.Model(xin, output)\n",
    "\n",
    "def make_g(input_shape):\n",
    "    xin = tf.keras.layers.Input(input_shape)\n",
    "    x = tf.keras.layers.Dense(64, activation=\"relu\")(xin)\n",
    "    x = tf.keras.layers.Dense(64, activation=\"relu\")(x)\n",
    "    # x = tf.keras.layers.Dropout(0.5)(x)\n",
    "    output = tf.keras.layers.Dense(1, activation=\"sigmoid\")(x)\n",
    "    return tf.keras.Model(xin, output)"
   ]
  },
  {
   "cell_type": "code",
   "execution_count": 4,
   "metadata": {},
   "outputs": [
    {
     "name": "stdout",
     "output_type": "stream",
     "text": [
      "Iteration 0001: Training loss: 0.6954\n",
      "Iteration 0501: Training loss: 0.5167\n",
      "Iteration 1001: Training loss: 0.3681\n",
      "Iteration 1501: Training loss: 0.4043\n",
      "Iteration 2001: Training loss: 0.4379\n",
      "Iteration 2501: Training loss: 0.4907\n",
      "Iteration 3001: Training loss: 0.4896\n",
      "Iteration 3501: Training loss: 0.3607\n",
      "Iteration 4001: Training loss: 0.3455\n",
      "Iteration 4501: Training loss: 0.3473\n"
     ]
    }
   ],
   "source": [
    "log_train = mra.train(\n",
    "    make_f,\n",
    "    make_g,\n",
    "    loss_fn=tf.keras.losses.binary_crossentropy,\n",
    "    batch_size=32,\n",
    "    epoch=5,\n",
    "    lr=0.001,\n",
    "    verbose=True, log_every=500\n",
    "    )"
   ]
  },
  {
   "cell_type": "code",
   "execution_count": 5,
   "metadata": {},
   "outputs": [],
   "source": [
    "def make_generator(input_shape):\n",
    "    xin = tf.keras.layers.Input(input_shape)\n",
    "    act = \"relu\"\n",
    "    x = tf.keras.layers.Dense(512, activation=act)(xin)\n",
    "    x = tf.keras.layers.Dense(256, activation=act)(x)\n",
    "    x = tf.keras.layers.Dense(128, activation=act)(x)\n",
    "    x = tf.keras.layers.Dense(64, activation=act)(x)\n",
    "    x = tf.keras.layers.Dense(32, activation=act)(x)\n",
    "    x = tf.keras.layers.Dense(23, activation=\"sigmoid\")(x)\n",
    "    return tf.keras.Model(xin, x)"
   ]
  },
  {
   "cell_type": "code",
   "execution_count": 6,
   "metadata": {},
   "outputs": [
    {
     "name": "stdout",
     "output_type": "stream",
     "text": [
      "Iteration 0001: RG-uniform: 0.2289, RG-normal: 0.2168, reconstruction validation: 0.0083\n",
      "Iteration 0002: RG-uniform: 0.2321, RG-normal: 0.2071, reconstruction validation: 0.0057\n",
      "Iteration 0003: RG-uniform: 0.2239, RG-normal: 0.2079, reconstruction validation: 0.0044\n",
      "Iteration 0004: RG-uniform: 0.2107, RG-normal: 0.2092, reconstruction validation: 0.0049\n",
      "Iteration 0005: RG-uniform: 0.2535, RG-normal: 0.2118, reconstruction validation: 0.0009\n",
      "Iteration 0006: RG-uniform: 0.2230, RG-normal: 0.2080, reconstruction validation: 0.0011\n",
      "Iteration 0007: RG-uniform: 0.2207, RG-normal: 0.2159, reconstruction validation: 0.0030\n",
      "Iteration 0008: RG-uniform: 0.2402, RG-normal: 0.2289, reconstruction validation: 0.0031\n",
      "Iteration 0009: RG-uniform: 0.2151, RG-normal: 0.2099, reconstruction validation: 0.0021\n",
      "Iteration 0010: RG-uniform: 0.2343, RG-normal: 0.2129, reconstruction validation: 0.0014\n",
      "Iteration 0011: RG-uniform: 0.2201, RG-normal: 0.2124, reconstruction validation: 0.0016\n",
      "Iteration 0012: RG-uniform: 0.2209, RG-normal: 0.2205, reconstruction validation: 0.0038\n",
      "Iteration 0013: RG-uniform: 0.2235, RG-normal: 0.1964, reconstruction validation: 0.0049\n",
      "Iteration 0014: RG-uniform: 0.2080, RG-normal: 0.2077, reconstruction validation: 0.0024\n",
      "Iteration 0015: RG-uniform: 0.2290, RG-normal: 0.2039, reconstruction validation: 0.0042\n",
      "Iteration 0016: RG-uniform: 0.2270, RG-normal: 0.1955, reconstruction validation: 0.0025\n",
      "Iteration 0017: RG-uniform: 0.2187, RG-normal: 0.2085, reconstruction validation: 0.0030\n",
      "Iteration 0018: RG-uniform: 0.2386, RG-normal: 0.2033, reconstruction validation: 0.0049\n",
      "Iteration 0019: RG-uniform: 0.2282, RG-normal: 0.1984, reconstruction validation: 0.0027\n",
      "Iteration 0020: RG-uniform: 0.2235, RG-normal: 0.2052, reconstruction validation: 0.0041\n",
      "Iteration 0021: RG-uniform: 0.2443, RG-normal: 0.2105, reconstruction validation: 0.0035\n",
      "Iteration 0022: RG-uniform: 0.2325, RG-normal: 0.2130, reconstruction validation: 0.0042\n",
      "Iteration 0023: RG-uniform: 0.2353, RG-normal: 0.2206, reconstruction validation: 0.0029\n",
      "Iteration 0024: RG-uniform: 0.2446, RG-normal: 0.2252, reconstruction validation: 0.0033\n",
      "Iteration 0025: RG-uniform: 0.2361, RG-normal: 0.2258, reconstruction validation: 0.0039\n",
      "Iteration 0026: RG-uniform: 0.2392, RG-normal: 0.1973, reconstruction validation: 0.0050\n",
      "Iteration 0027: RG-uniform: 0.2402, RG-normal: 0.2211, reconstruction validation: 0.0049\n",
      "Iteration 0028: RG-uniform: 0.2391, RG-normal: 0.2064, reconstruction validation: 0.0072\n",
      "Iteration 0029: RG-uniform: 0.2110, RG-normal: 0.2052, reconstruction validation: 0.0060\n",
      "Iteration 0030: RG-uniform: 0.2372, RG-normal: 0.2103, reconstruction validation: 0.0064\n",
      "Iteration 0031: RG-uniform: 0.2175, RG-normal: 0.2231, reconstruction validation: 0.0066\n",
      "Iteration 0032: RG-uniform: 0.2272, RG-normal: 0.2209, reconstruction validation: 0.0071\n",
      "Iteration 0033: RG-uniform: 0.2340, RG-normal: 0.2203, reconstruction validation: 0.0059\n",
      "Iteration 0034: RG-uniform: 0.2377, RG-normal: 0.2171, reconstruction validation: 0.0049\n",
      "Iteration 0035: RG-uniform: 0.2442, RG-normal: 0.2030, reconstruction validation: 0.0058\n",
      "Iteration 0036: RG-uniform: 0.2301, RG-normal: 0.2126, reconstruction validation: 0.0051\n",
      "Iteration 0037: RG-uniform: 0.2309, RG-normal: 0.2146, reconstruction validation: 0.0055\n",
      "Iteration 0038: RG-uniform: 0.2349, RG-normal: 0.2018, reconstruction validation: 0.0039\n",
      "Iteration 0039: RG-uniform: 0.2365, RG-normal: 0.2011, reconstruction validation: 0.0050\n",
      "Iteration 0040: RG-uniform: 0.2171, RG-normal: 0.1971, reconstruction validation: 0.0055\n",
      "Iteration 0041: RG-uniform: 0.2497, RG-normal: 0.2191, reconstruction validation: 0.0044\n",
      "Iteration 0042: RG-uniform: 0.2461, RG-normal: 0.2004, reconstruction validation: 0.0055\n",
      "Iteration 0043: RG-uniform: 0.2225, RG-normal: 0.1959, reconstruction validation: 0.0048\n",
      "Iteration 0044: RG-uniform: 0.2147, RG-normal: 0.1990, reconstruction validation: 0.0053\n",
      "Iteration 0045: RG-uniform: 0.2294, RG-normal: 0.2064, reconstruction validation: 0.0040\n",
      "Iteration 0046: RG-uniform: 0.2525, RG-normal: 0.2246, reconstruction validation: 0.0083\n",
      "Iteration 0047: RG-uniform: 0.2310, RG-normal: 0.2178, reconstruction validation: 0.0042\n",
      "Iteration 0048: RG-uniform: 0.2294, RG-normal: 0.2057, reconstruction validation: 0.0045\n",
      "Iteration 0049: RG-uniform: 0.2226, RG-normal: 0.2075, reconstruction validation: 0.0051\n",
      "Iteration 0050: RG-uniform: 0.2358, RG-normal: 0.2074, reconstruction validation: 0.0060\n",
      "Iteration 0051: RG-uniform: 0.2314, RG-normal: 0.2103, reconstruction validation: 0.0054\n",
      "Iteration 0052: RG-uniform: 0.2326, RG-normal: 0.2207, reconstruction validation: 0.0096\n",
      "Iteration 0053: RG-uniform: 0.2271, RG-normal: 0.1993, reconstruction validation: 0.0042\n",
      "Iteration 0054: RG-uniform: 0.2231, RG-normal: 0.2313, reconstruction validation: 0.0047\n",
      "Iteration 0055: RG-uniform: 0.2367, RG-normal: 0.2049, reconstruction validation: 0.0052\n",
      "Iteration 0056: RG-uniform: 0.2291, RG-normal: 0.2093, reconstruction validation: 0.0044\n",
      "Iteration 0057: RG-uniform: 0.2293, RG-normal: 0.2209, reconstruction validation: 0.0044\n",
      "Iteration 0058: RG-uniform: 0.2365, RG-normal: 0.2169, reconstruction validation: 0.0057\n",
      "Iteration 0059: RG-uniform: 0.2255, RG-normal: 0.2140, reconstruction validation: 0.0056\n",
      "Iteration 0060: RG-uniform: 0.2241, RG-normal: 0.1988, reconstruction validation: 0.0061\n",
      "Iteration 0061: RG-uniform: 0.2369, RG-normal: 0.2161, reconstruction validation: 0.0043\n",
      "Iteration 0062: RG-uniform: 0.2238, RG-normal: 0.2258, reconstruction validation: 0.0034\n",
      "Iteration 0063: RG-uniform: 0.2317, RG-normal: 0.2176, reconstruction validation: 0.0037\n",
      "Iteration 0064: RG-uniform: 0.2342, RG-normal: 0.2228, reconstruction validation: 0.0024\n",
      "Iteration 0065: RG-uniform: 0.2278, RG-normal: 0.2144, reconstruction validation: 0.0037\n",
      "Iteration 0066: RG-uniform: 0.2270, RG-normal: 0.2083, reconstruction validation: 0.0045\n",
      "Iteration 0067: RG-uniform: 0.2247, RG-normal: 0.2001, reconstruction validation: 0.0039\n",
      "Iteration 0068: RG-uniform: 0.2246, RG-normal: 0.2141, reconstruction validation: 0.0030\n",
      "Iteration 0069: RG-uniform: 0.2348, RG-normal: 0.2049, reconstruction validation: 0.0029\n",
      "Iteration 0070: RG-uniform: 0.2361, RG-normal: 0.2171, reconstruction validation: 0.0033\n",
      "Iteration 0071: RG-uniform: 0.2215, RG-normal: 0.1882, reconstruction validation: 0.0050\n",
      "Iteration 0072: RG-uniform: 0.2270, RG-normal: 0.2062, reconstruction validation: 0.0039\n",
      "Iteration 0073: RG-uniform: 0.2261, RG-normal: 0.2105, reconstruction validation: 0.0038\n",
      "Iteration 0074: RG-uniform: 0.2175, RG-normal: 0.2111, reconstruction validation: 0.0033\n",
      "Iteration 0075: RG-uniform: 0.2426, RG-normal: 0.2183, reconstruction validation: 0.0035\n",
      "Iteration 0076: RG-uniform: 0.2281, RG-normal: 0.2066, reconstruction validation: 0.0031\n",
      "Iteration 0077: RG-uniform: 0.2169, RG-normal: 0.2112, reconstruction validation: 0.0031\n",
      "Iteration 0078: RG-uniform: 0.2430, RG-normal: 0.2109, reconstruction validation: 0.0023\n",
      "Iteration 0079: RG-uniform: 0.2226, RG-normal: 0.2079, reconstruction validation: 0.0020\n",
      "Iteration 0080: RG-uniform: 0.2386, RG-normal: 0.2261, reconstruction validation: 0.0021\n",
      "Iteration 0081: RG-uniform: 0.2371, RG-normal: 0.2207, reconstruction validation: 0.0019\n",
      "Iteration 0082: RG-uniform: 0.2240, RG-normal: 0.1937, reconstruction validation: 0.0021\n",
      "Iteration 0083: RG-uniform: 0.2352, RG-normal: 0.2103, reconstruction validation: 0.0021\n",
      "Iteration 0084: RG-uniform: 0.2297, RG-normal: 0.2248, reconstruction validation: 0.0018\n",
      "Iteration 0085: RG-uniform: 0.2240, RG-normal: 0.2241, reconstruction validation: 0.0018\n",
      "Iteration 0086: RG-uniform: 0.2266, RG-normal: 0.2029, reconstruction validation: 0.0045\n",
      "Iteration 0087: RG-uniform: 0.2485, RG-normal: 0.2219, reconstruction validation: 0.0030\n",
      "Iteration 0088: RG-uniform: 0.2294, RG-normal: 0.2167, reconstruction validation: 0.0020\n",
      "Iteration 0089: RG-uniform: 0.2140, RG-normal: 0.1921, reconstruction validation: 0.0021\n",
      "Iteration 0090: RG-uniform: 0.2179, RG-normal: 0.2085, reconstruction validation: 0.0051\n",
      "Iteration 0091: RG-uniform: 0.2220, RG-normal: 0.1997, reconstruction validation: 0.0060\n",
      "Iteration 0092: RG-uniform: 0.2441, RG-normal: 0.2330, reconstruction validation: 0.0021\n",
      "Iteration 0093: RG-uniform: 0.2313, RG-normal: 0.2064, reconstruction validation: 0.0034\n",
      "Iteration 0094: RG-uniform: 0.2283, RG-normal: 0.2014, reconstruction validation: 0.0030\n",
      "Iteration 0095: RG-uniform: 0.2396, RG-normal: 0.2027, reconstruction validation: 0.0032\n",
      "Iteration 0096: RG-uniform: 0.2379, RG-normal: 0.2123, reconstruction validation: 0.0030\n",
      "Iteration 0097: RG-uniform: 0.2109, RG-normal: 0.2098, reconstruction validation: 0.0047\n",
      "Iteration 0098: RG-uniform: 0.2384, RG-normal: 0.2086, reconstruction validation: 0.0029\n",
      "Iteration 0099: RG-uniform: 0.2472, RG-normal: 0.2113, reconstruction validation: 0.0028\n",
      "Iteration 0100: RG-uniform: 0.2195, RG-normal: 0.2205, reconstruction validation: 0.0041\n"
     ]
    }
   ],
   "source": [
    "log_attack = mra.attack(\n",
    "    attack_iter=100,\n",
    "    make_generator=make_generator,\n",
    "    input_noise=\"normal\",\n",
    "    input_z=True,\n",
    "    model_leak=True,\n",
    "    lr_x=0.001,\n",
    "    lr_f=0.0001,\n",
    "    epoch=200,\n",
    "    iter_x=50,\n",
    "    iter_f=1,\n",
    "    verbose=True, log_every=1)"
   ]
  },
  {
   "cell_type": "code",
   "execution_count": 7,
   "metadata": {},
   "outputs": [],
   "source": [
    "np.savetxt(\"./log/credit.csv\", log_attack, delimiter=\",\")"
   ]
  },
  {
   "cell_type": "code",
   "execution_count": 1,
   "metadata": {},
   "outputs": [],
   "source": [
    "import numpy as np\n",
    "import matplotlib.pyplot as plt\n",
    "\n",
    "log_attack = np.loadtxt(\"./log/credit-2.csv\", delimiter=\",\")"
   ]
  },
  {
   "cell_type": "code",
   "execution_count": 5,
   "metadata": {},
   "outputs": [
    {
     "data": {
      "image/png": "[encoded data removed]",
      "text/plain": [
       "<Figure size 432x288 with 1 Axes>"
      ]
     },
     "metadata": {
      "needs_background": "light"
     },
     "output_type": "display_data"
    }
   ],
   "source": [
    "import numpy as np\n",
    "import matplotlib.pyplot as plt\n",
    "\n",
    "log_attack = np.loadtxt(\"./log/credit-2.csv\", delimiter=\",\")\n",
    "layer3 = np.loadtxt(\"./log/credit-3.csv\", delimiter=\",\")[:,2]\n",
    "layer4 = np.loadtxt(\"./log/credit-4.csv\", delimiter=\",\")[:,2]\n",
    "\n",
    "plt.xlim([0,100])\n",
    "plt.ylim([0,0.35])\n",
    "plt.grid()\n",
    "plt.ylabel('MSE per feature')\n",
    "plt.xlabel('Batch distance from the obtained model snapshot')\n",
    "ran = [i+1 for i in range(100)]\n",
    "plt.plot(\n",
    "    ran, log_attack[:,0], 'co-',\n",
    "    ran, log_attack[:,1], 'mv-',\n",
    "    ran, log_attack[:,2], 'gD-',\n",
    "    ran, layer3, 'r^-',\n",
    "    ran, layer4, 'bs-',\n",
    "    markevery=np.arange(0, 101, 9))\n",
    "plt.legend(['RG-uniform', 'RG-normal', 'MRA ($h_c=2$)', 'MRA ($h_c=3$)', 'MRA ($h_C=4$)'], loc='upper center', ncol=3)\n",
    "plt.savefig(\"fig/credit-234.pdf\", bbox_inches='tight')"
   ]
  }
 ],
 "metadata": {
  "interpreter": {
   "hash": "d9ff725623c15d695aa319bbc94ea42e245a1edcf20c6f47c05aed8c0d68e7f4"
  },
  "kernelspec": {
   "display_name": "Python 3.9.7 64-bit",
   "language": "python",
   "name": "python3"
  },
  "language_info": {
   "codemirror_mode": {
    "name": "ipython",
    "version": 3
   },
   "file_extension": ".py",
   "mimetype": "text/x-python",
   "name": "python",
   "nbconvert_exporter": "python",
   "pygments_lexer": "ipython3",
   "version": "3.8.10"
  },
  "orig_nbformat": 4
 },
 "nbformat": 4,
 "nbformat_minor": 2
}
