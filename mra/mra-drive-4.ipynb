{
 "cells": [
  {
   "cell_type": "markdown",
   "metadata": {},
   "source": [
    "# Model recovery attack: `drive-diagnosis`"
   ]
  },
  {
   "cell_type": "code",
   "execution_count": 1,
   "metadata": {},
   "outputs": [],
   "source": [
    "%load_ext autoreload\n",
    "%autoreload 2\n",
    "\n",
    "import tensorflow as tf\n",
    "import numpy as np\n",
    "import matplotlib.pyplot as plt\n",
    "import pandas as pd\n",
    "\n",
    "import mra\n",
    "from mra import *\n",
    "\n",
    "os.environ['CUDA_VISIBLE_DEVICES'] = '-1'"
   ]
  },
  {
   "cell_type": "code",
   "execution_count": 2,
   "metadata": {},
   "outputs": [
    {
     "name": "stderr",
     "output_type": "stream",
     "text": [
      "2022-02-16 23:06:03.828071: E tensorflow/stream_executor/cuda/cuda_driver.cc:271] failed call to cuInit: CUDA_ERROR_NO_DEVICE: no CUDA-capable device is detected\n",
      "2022-02-16 23:06:03.828135: I tensorflow/stream_executor/cuda/cuda_diagnostics.cc:169] retrieving CUDA diagnostic information for host: xgpg2\n",
      "2022-02-16 23:06:03.828152: I tensorflow/stream_executor/cuda/cuda_diagnostics.cc:176] hostname: xgpg2\n",
      "2022-02-16 23:06:03.828286: I tensorflow/stream_executor/cuda/cuda_diagnostics.cc:200] libcuda reported version is: 470.103.1\n",
      "2022-02-16 23:06:03.828321: I tensorflow/stream_executor/cuda/cuda_diagnostics.cc:204] kernel reported version is: 470.103.1\n",
      "2022-02-16 23:06:03.828330: I tensorflow/stream_executor/cuda/cuda_diagnostics.cc:310] kernel version seems to match DSO: 470.103.1\n",
      "2022-02-16 23:06:03.828852: I tensorflow/core/platform/cpu_feature_guard.cc:151] This TensorFlow binary is optimized with oneAPI Deep Neural Network Library (oneDNN) to use the following CPU instructions in performance-critical operations:  AVX2 FMA\n",
      "To enable them in other operations, rebuild TensorFlow with the appropriate compiler flags.\n"
     ]
    }
   ],
   "source": [
    "def make_dataset(X, Y, f):\n",
    "    x = tf.data.Dataset.from_tensor_slices(X)\n",
    "    y = tf.data.Dataset.from_tensor_slices(Y)\n",
    "    x = x.map(f)\n",
    "    xy = tf.data.Dataset.zip((x, y))\n",
    "    xy = xy.shuffle(10000)\n",
    "    return xy\n",
    "\n",
    "xy = np.loadtxt(\"../datasets/drive-diagnosis.txt\")\n",
    "np.random.shuffle(xy)\n",
    "x = xy[:,0:-1]\n",
    "y = xy[:,-1]\n",
    "\n",
    "min_values = np.array([min(x[:,i]) for i in range(x.shape[1])])\n",
    "max_values = np.array([max(x[:,i]) for i in range(x.shape[1])])\n",
    "x = (x-min_values)/(max_values - min_values)\n",
    "y = y.reshape((len(x), 1)).astype(\"float32\")-1\n",
    "train_ds = make_dataset(x, y, lambda t: t)\n",
    "\n",
    "mra = mra(train_ds)"
   ]
  },
  {
   "cell_type": "code",
   "execution_count": 3,
   "metadata": {},
   "outputs": [],
   "source": [
    "def make_f(input_shape):\n",
    "    xin = tf.keras.layers.Input(input_shape)\n",
    "    x = tf.keras.layers.Dense(256, activation=\"relu\")(xin)\n",
    "    x = tf.keras.layers.Dense(256, activation=\"relu\")(x)\n",
    "    x = tf.keras.layers.Dense(256, activation=\"relu\")(x)\n",
    "    output = tf.keras.layers.Dense(256, activation=\"relu\")(x)\n",
    "    return tf.keras.Model(xin, output)\n",
    "\n",
    "def make_g(input_shape):\n",
    "    xin = tf.keras.layers.Input(input_shape)\n",
    "    # x = tf.keras.layers.Dense(256, activation=\"relu\")(xin)\n",
    "    # x = tf.keras.layers.Dense(256, activation=\"relu\")(x)\n",
    "    output = tf.keras.layers.Dense(11, activation=\"softmax\")(xin)\n",
    "    return tf.keras.Model(xin, output)"
   ]
  },
  {
   "cell_type": "code",
   "execution_count": 4,
   "metadata": {},
   "outputs": [
    {
     "name": "stdout",
     "output_type": "stream",
     "text": [
      "Iteration 0001: Training loss: 2.4063\n",
      "Iteration 1001: Training loss: 0.3073\n",
      "Iteration 2001: Training loss: 0.2098\n",
      "Iteration 3001: Training loss: 0.3937\n",
      "Iteration 4001: Training loss: 0.2216\n",
      "Iteration 5001: Training loss: 0.4019\n",
      "Iteration 6001: Training loss: 0.1120\n",
      "Iteration 7001: Training loss: 0.1492\n",
      "Iteration 8001: Training loss: 0.0637\n",
      "Iteration 9001: Training loss: 0.3454\n"
     ]
    }
   ],
   "source": [
    "log_train = mra.train(\n",
    "    make_f,\n",
    "    make_g,\n",
    "    loss_fn=tf.keras.losses.sparse_categorical_crossentropy,\n",
    "    batch_size=32,\n",
    "    epoch=5,\n",
    "    lr=0.001,\n",
    "    verbose=True, log_every=1000\n",
    "    )"
   ]
  },
  {
   "cell_type": "code",
   "execution_count": 5,
   "metadata": {},
   "outputs": [],
   "source": [
    "def make_generator(input_shape):\n",
    "    xin = tf.keras.layers.Input(input_shape)\n",
    "    act = \"relu\"\n",
    "    x = tf.keras.layers.Dense(1024, activation=act)(xin)\n",
    "    x = tf.keras.layers.Dense(512, activation=act)(x)\n",
    "    x = tf.keras.layers.Dense(256, activation=act)(x)\n",
    "    x = tf.keras.layers.Dense(128, activation=act)(x)\n",
    "    # x = tf.keras.layers.Dense(64, activation=act)(x)\n",
    "    x = tf.keras.layers.Dense(48, activation=\"sigmoid\")(x)\n",
    "    return tf.keras.Model(xin, x)"
   ]
  },
  {
   "cell_type": "code",
   "execution_count": 7,
   "metadata": {},
   "outputs": [
    {
     "name": "stdout",
     "output_type": "stream",
     "text": [
      "Iteration 0001: RG-uniform: 0.1771, RG-normal: 0.1653, reconstruction validation: 0.1212\n",
      "Iteration 0002: RG-uniform: 0.1733, RG-normal: 0.1580, reconstruction validation: 0.1056\n",
      "Iteration 0003: RG-uniform: 0.1744, RG-normal: 0.1653, reconstruction validation: 0.1111\n",
      "Iteration 0004: RG-uniform: 0.1752, RG-normal: 0.1630, reconstruction validation: 0.1089\n",
      "Iteration 0005: RG-uniform: 0.1845, RG-normal: 0.1629, reconstruction validation: 0.0974\n",
      "Iteration 0006: RG-uniform: 0.1761, RG-normal: 0.1639, reconstruction validation: 0.0967\n",
      "Iteration 0007: RG-uniform: 0.1796, RG-normal: 0.1609, reconstruction validation: 0.0946\n",
      "Iteration 0008: RG-uniform: 0.1884, RG-normal: 0.1625, reconstruction validation: 0.1031\n",
      "Iteration 0009: RG-uniform: 0.1864, RG-normal: 0.1608, reconstruction validation: 0.1005\n",
      "Iteration 0010: RG-uniform: 0.1750, RG-normal: 0.1614, reconstruction validation: 0.1009\n",
      "Iteration 0011: RG-uniform: 0.1836, RG-normal: 0.1510, reconstruction validation: 0.0970\n",
      "Iteration 0012: RG-uniform: 0.1853, RG-normal: 0.1588, reconstruction validation: 0.0997\n",
      "Iteration 0013: RG-uniform: 0.1776, RG-normal: 0.1594, reconstruction validation: 0.0962\n",
      "Iteration 0014: RG-uniform: 0.1744, RG-normal: 0.1592, reconstruction validation: 0.1036\n",
      "Iteration 0015: RG-uniform: 0.1755, RG-normal: 0.1611, reconstruction validation: 0.0893\n",
      "Iteration 0016: RG-uniform: 0.1749, RG-normal: 0.1619, reconstruction validation: 0.0824\n",
      "Iteration 0017: RG-uniform: 0.1805, RG-normal: 0.1570, reconstruction validation: 0.0925\n",
      "Iteration 0018: RG-uniform: 0.1851, RG-normal: 0.1579, reconstruction validation: 0.0926\n",
      "Iteration 0019: RG-uniform: 0.1770, RG-normal: 0.1643, reconstruction validation: 0.0895\n",
      "Iteration 0020: RG-uniform: 0.1729, RG-normal: 0.1642, reconstruction validation: 0.0964\n",
      "Iteration 0021: RG-uniform: 0.1724, RG-normal: 0.1626, reconstruction validation: 0.0984\n",
      "Iteration 0022: RG-uniform: 0.1803, RG-normal: 0.1585, reconstruction validation: 0.0995\n",
      "Iteration 0023: RG-uniform: 0.1785, RG-normal: 0.1521, reconstruction validation: 0.0855\n",
      "Iteration 0024: RG-uniform: 0.1857, RG-normal: 0.1538, reconstruction validation: 0.0957\n",
      "Iteration 0025: RG-uniform: 0.1728, RG-normal: 0.1604, reconstruction validation: 0.0932\n",
      "Iteration 0026: RG-uniform: 0.1853, RG-normal: 0.1622, reconstruction validation: 0.0981\n",
      "Iteration 0027: RG-uniform: 0.1847, RG-normal: 0.1519, reconstruction validation: 0.0926\n",
      "Iteration 0028: RG-uniform: 0.1777, RG-normal: 0.1589, reconstruction validation: 0.1007\n",
      "Iteration 0029: RG-uniform: 0.1786, RG-normal: 0.1589, reconstruction validation: 0.1046\n",
      "Iteration 0030: RG-uniform: 0.1791, RG-normal: 0.1541, reconstruction validation: 0.1012\n",
      "Iteration 0031: RG-uniform: 0.1829, RG-normal: 0.1593, reconstruction validation: 0.1010\n",
      "Iteration 0032: RG-uniform: 0.1722, RG-normal: 0.1584, reconstruction validation: 0.1119\n",
      "Iteration 0033: RG-uniform: 0.1737, RG-normal: 0.1591, reconstruction validation: 0.1054\n",
      "Iteration 0034: RG-uniform: 0.1779, RG-normal: 0.1648, reconstruction validation: 0.1078\n",
      "Iteration 0035: RG-uniform: 0.1783, RG-normal: 0.1618, reconstruction validation: 0.0945\n",
      "Iteration 0036: RG-uniform: 0.1814, RG-normal: 0.1561, reconstruction validation: 0.1044\n",
      "Iteration 0037: RG-uniform: 0.1832, RG-normal: 0.1644, reconstruction validation: 0.1024\n",
      "Iteration 0038: RG-uniform: 0.1758, RG-normal: 0.1592, reconstruction validation: 0.1048\n",
      "Iteration 0039: RG-uniform: 0.1844, RG-normal: 0.1561, reconstruction validation: 0.1091\n",
      "Iteration 0040: RG-uniform: 0.1740, RG-normal: 0.1449, reconstruction validation: 0.1118\n",
      "Iteration 0041: RG-uniform: 0.1866, RG-normal: 0.1565, reconstruction validation: 0.1012\n",
      "Iteration 0042: RG-uniform: 0.1846, RG-normal: 0.1693, reconstruction validation: 0.1182\n",
      "Iteration 0043: RG-uniform: 0.1832, RG-normal: 0.1520, reconstruction validation: 0.1190\n",
      "Iteration 0044: RG-uniform: 0.1723, RG-normal: 0.1660, reconstruction validation: 0.1346\n",
      "Iteration 0045: RG-uniform: 0.1771, RG-normal: 0.1562, reconstruction validation: 0.1212\n",
      "Iteration 0046: RG-uniform: 0.1821, RG-normal: 0.1549, reconstruction validation: 0.1178\n",
      "Iteration 0047: RG-uniform: 0.1782, RG-normal: 0.1441, reconstruction validation: 0.1236\n",
      "Iteration 0048: RG-uniform: 0.1829, RG-normal: 0.1581, reconstruction validation: 0.1216\n",
      "Iteration 0049: RG-uniform: 0.1826, RG-normal: 0.1597, reconstruction validation: 0.1114\n",
      "Iteration 0050: RG-uniform: 0.1748, RG-normal: 0.1608, reconstruction validation: 0.1077\n",
      "Iteration 0051: RG-uniform: 0.1774, RG-normal: 0.1554, reconstruction validation: 0.1234\n",
      "Iteration 0052: RG-uniform: 0.1760, RG-normal: 0.1592, reconstruction validation: 0.1192\n",
      "Iteration 0053: RG-uniform: 0.1730, RG-normal: 0.1530, reconstruction validation: 0.1129\n",
      "Iteration 0054: RG-uniform: 0.1769, RG-normal: 0.1490, reconstruction validation: 0.1055\n",
      "Iteration 0055: RG-uniform: 0.1755, RG-normal: 0.1561, reconstruction validation: 0.1061\n",
      "Iteration 0056: RG-uniform: 0.1709, RG-normal: 0.1504, reconstruction validation: 0.1171\n",
      "Iteration 0057: RG-uniform: 0.1765, RG-normal: 0.1526, reconstruction validation: 0.1173\n",
      "Iteration 0058: RG-uniform: 0.1686, RG-normal: 0.1617, reconstruction validation: 0.1042\n",
      "Iteration 0059: RG-uniform: 0.1760, RG-normal: 0.1613, reconstruction validation: 0.1131\n",
      "Iteration 0060: RG-uniform: 0.1853, RG-normal: 0.1518, reconstruction validation: 0.1104\n",
      "Iteration 0061: RG-uniform: 0.1828, RG-normal: 0.1501, reconstruction validation: 0.1140\n",
      "Iteration 0062: RG-uniform: 0.1770, RG-normal: 0.1668, reconstruction validation: 0.1158\n",
      "Iteration 0063: RG-uniform: 0.1868, RG-normal: 0.1565, reconstruction validation: 0.1115\n",
      "Iteration 0064: RG-uniform: 0.1776, RG-normal: 0.1492, reconstruction validation: 0.1051\n",
      "Iteration 0065: RG-uniform: 0.1731, RG-normal: 0.1626, reconstruction validation: 0.1081\n",
      "Iteration 0066: RG-uniform: 0.1883, RG-normal: 0.1594, reconstruction validation: 0.1152\n",
      "Iteration 0067: RG-uniform: 0.1854, RG-normal: 0.1611, reconstruction validation: 0.1170\n",
      "Iteration 0068: RG-uniform: 0.1842, RG-normal: 0.1567, reconstruction validation: 0.1176\n",
      "Iteration 0069: RG-uniform: 0.1915, RG-normal: 0.1687, reconstruction validation: 0.1247\n",
      "Iteration 0070: RG-uniform: 0.1822, RG-normal: 0.1630, reconstruction validation: 0.1151\n",
      "Iteration 0071: RG-uniform: 0.1821, RG-normal: 0.1660, reconstruction validation: 0.1236\n",
      "Iteration 0072: RG-uniform: 0.1802, RG-normal: 0.1503, reconstruction validation: 0.1170\n",
      "Iteration 0073: RG-uniform: 0.1739, RG-normal: 0.1548, reconstruction validation: 0.1174\n",
      "Iteration 0074: RG-uniform: 0.1786, RG-normal: 0.1546, reconstruction validation: 0.1176\n",
      "Iteration 0075: RG-uniform: 0.1802, RG-normal: 0.1627, reconstruction validation: 0.1195\n",
      "Iteration 0076: RG-uniform: 0.1757, RG-normal: 0.1652, reconstruction validation: 0.1185\n",
      "Iteration 0077: RG-uniform: 0.1838, RG-normal: 0.1486, reconstruction validation: 0.1107\n",
      "Iteration 0078: RG-uniform: 0.1783, RG-normal: 0.1594, reconstruction validation: 0.1173\n",
      "Iteration 0079: RG-uniform: 0.1772, RG-normal: 0.1498, reconstruction validation: 0.1201\n",
      "Iteration 0080: RG-uniform: 0.1810, RG-normal: 0.1519, reconstruction validation: 0.1209\n",
      "Iteration 0081: RG-uniform: 0.1726, RG-normal: 0.1609, reconstruction validation: 0.1170\n",
      "Iteration 0082: RG-uniform: 0.1724, RG-normal: 0.1571, reconstruction validation: 0.1218\n",
      "Iteration 0083: RG-uniform: 0.1822, RG-normal: 0.1518, reconstruction validation: 0.1155\n",
      "Iteration 0084: RG-uniform: 0.1651, RG-normal: 0.1524, reconstruction validation: 0.1202\n",
      "Iteration 0085: RG-uniform: 0.1779, RG-normal: 0.1540, reconstruction validation: 0.1272\n",
      "Iteration 0086: RG-uniform: 0.1749, RG-normal: 0.1695, reconstruction validation: 0.1189\n",
      "Iteration 0087: RG-uniform: 0.1807, RG-normal: 0.1478, reconstruction validation: 0.1176\n",
      "Iteration 0088: RG-uniform: 0.1812, RG-normal: 0.1559, reconstruction validation: 0.1243\n",
      "Iteration 0089: RG-uniform: 0.1739, RG-normal: 0.1553, reconstruction validation: 0.1201\n",
      "Iteration 0090: RG-uniform: 0.1884, RG-normal: 0.1585, reconstruction validation: 0.1216\n",
      "Iteration 0091: RG-uniform: 0.1826, RG-normal: 0.1616, reconstruction validation: 0.1262\n",
      "Iteration 0092: RG-uniform: 0.1717, RG-normal: 0.1586, reconstruction validation: 0.1252\n",
      "Iteration 0093: RG-uniform: 0.1746, RG-normal: 0.1626, reconstruction validation: 0.1342\n",
      "Iteration 0094: RG-uniform: 0.1744, RG-normal: 0.1516, reconstruction validation: 0.1374\n",
      "Iteration 0095: RG-uniform: 0.1811, RG-normal: 0.1615, reconstruction validation: 0.1500\n",
      "Iteration 0096: RG-uniform: 0.1820, RG-normal: 0.1538, reconstruction validation: 0.1419\n",
      "Iteration 0097: RG-uniform: 0.1699, RG-normal: 0.1552, reconstruction validation: 0.1360\n",
      "Iteration 0098: RG-uniform: 0.1813, RG-normal: 0.1656, reconstruction validation: 0.1397\n",
      "Iteration 0099: RG-uniform: 0.1819, RG-normal: 0.1482, reconstruction validation: 0.1352\n",
      "Iteration 0100: RG-uniform: 0.1761, RG-normal: 0.1625, reconstruction validation: 0.1327\n"
     ]
    }
   ],
   "source": [
    "log_attack = mra.attack(\n",
    "    attack_iter=100,\n",
    "    make_generator=make_generator,\n",
    "    input_noise=\"normal\",\n",
    "    input_z=True,\n",
    "    model_leak=True,\n",
    "    lr_x=0.001,\n",
    "    lr_f=0.0001,\n",
    "    epoch=200,\n",
    "    iter_x=50,\n",
    "    iter_f=1,\n",
    "    verbose=True, log_every=1)"
   ]
  },
  {
   "cell_type": "code",
   "execution_count": 8,
   "metadata": {},
   "outputs": [],
   "source": [
    "np.savetxt(\"./log/drive-4.csv\", log_attack, delimiter=\",\")"
   ]
  }
 ],
 "metadata": {
  "interpreter": {
   "hash": "d9ff725623c15d695aa319bbc94ea42e245a1edcf20c6f47c05aed8c0d68e7f4"
  },
  "kernelspec": {
   "display_name": "Python 3.9.7 64-bit",
   "language": "python",
   "name": "python3"
  },
  "language_info": {
   "codemirror_mode": {
    "name": "ipython",
    "version": 3
   },
   "file_extension": ".py",
   "mimetype": "text/x-python",
   "name": "python",
   "nbconvert_exporter": "python",
   "pygments_lexer": "ipython3",
   "version": "3.8.10"
  },
  "orig_nbformat": 4
 },
 "nbformat": 4,
 "nbformat_minor": 2
}
