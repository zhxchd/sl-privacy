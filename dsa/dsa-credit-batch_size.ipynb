{
 "cells": [
  {
   "cell_type": "code",
   "execution_count": 1,
   "metadata": {},
   "outputs": [],
   "source": [
    "%load_ext autoreload\n",
    "%autoreload 2\n",
    "\n",
    "import tensorflow as tf\n",
    "import numpy as np\n",
    "import matplotlib.pyplot as plt\n",
    "import os\n",
    "import pandas as pd\n",
    "    \n",
    "import dsa\n",
    "from dsa import *\n",
    "from models import mlp\n",
    "import pickle\n",
    "from sklearn.model_selection import train_test_split\n",
    "\n",
    "os.environ['CUDA_VISIBLE_DEVICES'] = '-1'"
   ]
  },
  {
   "cell_type": "code",
   "execution_count": 2,
   "metadata": {},
   "outputs": [
    {
     "name": "stderr",
     "output_type": "stream",
     "text": [
      "2022-04-05 05:28:19.439981: E tensorflow/stream_executor/cuda/cuda_driver.cc:271] failed call to cuInit: CUDA_ERROR_NO_DEVICE: no CUDA-capable device is detected\n",
      "2022-04-05 05:28:19.440042: I tensorflow/stream_executor/cuda/cuda_diagnostics.cc:169] retrieving CUDA diagnostic information for host: xgpd6\n",
      "2022-04-05 05:28:19.440055: I tensorflow/stream_executor/cuda/cuda_diagnostics.cc:176] hostname: xgpd6\n",
      "2022-04-05 05:28:19.440215: I tensorflow/stream_executor/cuda/cuda_diagnostics.cc:200] libcuda reported version is: 470.103.1\n",
      "2022-04-05 05:28:19.440256: I tensorflow/stream_executor/cuda/cuda_diagnostics.cc:204] kernel reported version is: 470.103.1\n",
      "2022-04-05 05:28:19.440266: I tensorflow/stream_executor/cuda/cuda_diagnostics.cc:310] kernel version seems to match DSO: 470.103.1\n",
      "2022-04-05 05:28:19.440988: I tensorflow/core/platform/cpu_feature_guard.cc:151] This TensorFlow binary is optimized with oneAPI Deep Neural Network Library (oneDNN) to use the following CPU instructions in performance-critical operations:  AVX2 AVX512F FMA\n",
      "To enable them in other operations, rebuild TensorFlow with the appropriate compiler flags.\n"
     ]
    }
   ],
   "source": [
    "def make_dataset(X, Y, f):\n",
    "    x = tf.data.Dataset.from_tensor_slices(X)\n",
    "    y = tf.data.Dataset.from_tensor_slices(Y)\n",
    "    x = x.map(f)\n",
    "    xy = tf.data.Dataset.zip((x, y))\n",
    "    xy = xy.shuffle(10000)\n",
    "    return xy\n",
    "\n",
    "df = pd.read_excel('../datasets/credit-card.xls', header=1, index_col=0).sample(frac=1)\n",
    "x = df.drop(columns=[\"default payment next month\"]).to_numpy()\n",
    "x = (x - np.min(x, axis=0))/(np.max(x, axis=0) - np.min(x, axis=0))\n",
    "y = df[\"default payment next month\"].to_numpy().reshape((len(x), 1)).astype(\"float32\")\n",
    "\n",
    "aux_target_ratio = 0.2\n",
    "\n",
    "x_train, x_test, y_train, y_test = train_test_split(x, y, test_size=aux_target_ratio/(aux_target_ratio+1), random_state=42)\n",
    "\n",
    "target_ds = make_dataset(x_train, y_train, lambda t: t)\n",
    "aux_ds = make_dataset(x_test, y_test, lambda t: t)"
   ]
  },
  {
   "cell_type": "code",
   "execution_count": 4,
   "metadata": {},
   "outputs": [
    {
     "name": "stdout",
     "output_type": "stream",
     "text": [
      "============================\n",
      "======Batch size is 64======\n",
      "============================\n",
      "Iteration 500, train accuracy: 0.7920884844064713, average attack MSE: 0.14395141518115998\n",
      "Iteration 1000, train accuracy: 0.807755014181137, average attack MSE: 0.12878710122406484\n",
      "Iteration 1500, train accuracy: 0.8118469206094742, average attack MSE: 0.11412464383244514\n",
      "Iteration 2000, train accuracy: 0.8135763885974884, average attack MSE: 0.09919522382318974\n",
      "Iteration 2500, train accuracy: 0.8147533254623414, average attack MSE: 0.0838531361669302\n",
      "Iteration 3000, train accuracy: 0.8155926327705383, average attack MSE: 0.06543465575575828\n",
      "Iteration 3500, train accuracy: 0.8163758962154388, average attack MSE: 0.04999668777734041\n",
      "Iteration 4000, train accuracy: 0.8171229709386826, average attack MSE: 0.03975738774985075\n",
      "Iteration 4500, train accuracy: 0.8176450074911118, average attack MSE: 0.0350740848518908\n",
      "Iteration 5000, train accuracy: 0.8180588768720627, average attack MSE: 0.032422605007886886\n",
      "Iteration 5500, train accuracy: 0.8183277320861816, average attack MSE: 0.031006090249866246\n",
      "Iteration 6000, train accuracy: 0.8187248151302338, average attack MSE: 0.030085993979126216\n",
      "Iteration 6500, train accuracy: 0.8189896895885468, average attack MSE: 0.02952195393294096\n",
      "Iteration 7000, train accuracy: 0.8192450762987137, average attack MSE: 0.02978551396355033\n",
      "Iteration 7500, train accuracy: 0.8195251129865646, average attack MSE: 0.029883410785347224\n",
      "Iteration 8000, train accuracy: 0.8196711193323135, average attack MSE: 0.0313842097222805\n",
      "Iteration 8500, train accuracy: 0.8198696196079254, average attack MSE: 0.031210585568100215\n",
      "Iteration 9000, train accuracy: 0.8201012192964554, average attack MSE: 0.03161369324475527\n",
      "Iteration 9500, train accuracy: 0.8202140264511109, average attack MSE: 0.03385027903690934\n",
      "Iteration 10000, train accuracy: 0.8204190477132797, average attack MSE: 0.034863074358552695\n",
      "============================\n",
      "======Batch size is 128======\n",
      "============================\n",
      "Iteration 500, train accuracy: 0.7958397190570832, average attack MSE: 0.14072628352046013\n",
      "Iteration 1000, train accuracy: 0.8104320551156998, average attack MSE: 0.12299382643401623\n",
      "Iteration 1500, train accuracy: 0.8140748015642166, average attack MSE: 0.10208819830417633\n",
      "Iteration 2000, train accuracy: 0.8158258553743363, average attack MSE: 0.08850582425296306\n",
      "Iteration 2500, train accuracy: 0.8170959429740906, average attack MSE: 0.07960627982020378\n",
      "Iteration 3000, train accuracy: 0.8180763170719146, average attack MSE: 0.07500974501669407\n",
      "Iteration 3500, train accuracy: 0.8187890677452088, average attack MSE: 0.07379569208621979\n",
      "Iteration 4000, train accuracy: 0.8193227505683899, average attack MSE: 0.07036506885290146\n",
      "Iteration 4500, train accuracy: 0.8197469506263733, average attack MSE: 0.06628881030529737\n",
      "Iteration 5000, train accuracy: 0.8201552934646607, average attack MSE: 0.06172253527492285\n",
      "Iteration 5500, train accuracy: 0.8205164201259613, average attack MSE: 0.059537546694278715\n",
      "Iteration 6000, train accuracy: 0.8208852573633194, average attack MSE: 0.053429037630558014\n",
      "Iteration 6500, train accuracy: 0.8211573250293732, average attack MSE: 0.0532401956692338\n",
      "Iteration 7000, train accuracy: 0.82143031001091, average attack MSE: 0.05917096446454525\n",
      "Iteration 7500, train accuracy: 0.821694748044014, average attack MSE: 0.0565891964584589\n",
      "Iteration 8000, train accuracy: 0.8219897918701172, average attack MSE: 0.053110518142580984\n",
      "Iteration 8500, train accuracy: 0.8221747118234635, average attack MSE: 0.051643796488642695\n",
      "Iteration 9000, train accuracy: 0.8224301931858062, average attack MSE: 0.050002464912831786\n",
      "Iteration 9500, train accuracy: 0.8226758358478546, average attack MSE: 0.046373991198837755\n",
      "Iteration 10000, train accuracy: 0.8229233841896058, average attack MSE: 0.04265847044438124\n",
      "============================\n",
      "======Batch size is 256======\n",
      "============================\n",
      "Iteration 500, train accuracy: 0.7699785781800746, average attack MSE: 0.149029274225235\n",
      "Iteration 1000, train accuracy: 0.8085665239095687, average attack MSE: 0.12905792582035064\n",
      "Iteration 1500, train accuracy: 0.8137969969511032, average attack MSE: 0.10830895276367665\n",
      "Iteration 2000, train accuracy: 0.8162792700529099, average attack MSE: 0.08790920101106167\n",
      "Iteration 2500, train accuracy: 0.8177846938371658, average attack MSE: 0.07044645050168037\n",
      "Iteration 3000, train accuracy: 0.8188896038532257, average attack MSE: 0.05678725783526897\n",
      "Iteration 3500, train accuracy: 0.819781609416008, average attack MSE: 0.0460971454679966\n",
      "Iteration 4000, train accuracy: 0.8205325107574463, average attack MSE: 0.038788249410688876\n",
      "Iteration 4500, train accuracy: 0.8211149299144744, average attack MSE: 0.034673142574727533\n",
      "Iteration 5000, train accuracy: 0.8216334307193756, average attack MSE: 0.033421078104525805\n",
      "Iteration 5500, train accuracy: 0.822116950750351, average attack MSE: 0.032322493493556974\n",
      "Iteration 6000, train accuracy: 0.8225991086959838, average attack MSE: 0.030455466523766517\n",
      "Iteration 6500, train accuracy: 0.8230140645503998, average attack MSE: 0.029664788641035555\n",
      "Iteration 7000, train accuracy: 0.8234489053487778, average attack MSE: 0.03031113912537694\n",
      "Iteration 7500, train accuracy: 0.8239041506052017, average attack MSE: 0.029844363823533056\n",
      "Iteration 8000, train accuracy: 0.824318495631218, average attack MSE: 0.030687590453773738\n",
      "Iteration 8500, train accuracy: 0.8247270749807358, average attack MSE: 0.03176736767962575\n",
      "Iteration 9000, train accuracy: 0.8251730409860611, average attack MSE: 0.03221524097770453\n",
      "Iteration 9500, train accuracy: 0.825645037651062, average attack MSE: 0.03402562391385436\n",
      "Iteration 10000, train accuracy: 0.8261265802383423, average attack MSE: 0.03476625344157219\n"
     ]
    }
   ],
   "source": [
    "credit_dsa_dropout = {}\n",
    "log_credit_dsa_dropout = {}\n",
    "\n",
    "for batch_size in [64,128,256]:\n",
    "    make_f, make_g, make_e, make_d, make_c = mlp.make_mlp(attr_num=23, class_num=2, split=3, units=64, ed_act=\"relu\")\n",
    "    credit_dsa_dropout[batch_size] = dsa(target_ds=target_ds, aux_ds=aux_ds)\n",
    "    print(\"============================\")\n",
    "    print(\"======Batch size is {}======\".format(batch_size))\n",
    "    print(\"============================\")\n",
    "    log_credit_dsa_dropout[batch_size] = credit_dsa_dropout[batch_size].dsa_attack(\n",
    "        make_f=make_f,\n",
    "        make_g=make_g,\n",
    "        lr=0.001,\n",
    "        loss_fn=tf.keras.losses.BinaryCrossentropy(),\n",
    "        acc_fn=tf.keras.metrics.BinaryAccuracy(),\n",
    "        batch_size=batch_size,\n",
    "        iterations=10000,\n",
    "        make_e=make_e,\n",
    "        make_d=make_d,\n",
    "        make_c=make_c,\n",
    "        lr_e=0.00001, # learning rate of the encoder/decoder/critic is set to be smaller\n",
    "        lr_d=0.00001,\n",
    "        lr_c=0.0001,\n",
    "        verbose=True,\n",
    "        log_freq=500)"
   ]
  },
  {
   "cell_type": "code",
   "execution_count": 6,
   "metadata": {},
   "outputs": [],
   "source": [
    "with open('log/credit-dsa-dropout.pkl', 'wb') as f:\n",
    "    pickle.dump(log_credit_dsa_dropout, f)"
   ]
  },
  {
   "cell_type": "code",
   "execution_count": 7,
   "metadata": {},
   "outputs": [],
   "source": [
    "import pickle\n",
    "\n",
    "with open('log/credit-dsa.pkl', 'rb') as f:\n",
    "    log_credit_dsa_dropout[32] = pickle.load(f)[3]"
   ]
  },
  {
   "cell_type": "code",
   "execution_count": 20,
   "metadata": {},
   "outputs": [
    {
     "data": {
      "image/png": "[encoded data removed]",
      "text/plain": [
       "<Figure size 432x288 with 1 Axes>"
      ]
     },
     "metadata": {
      "needs_background": "light"
     },
     "output_type": "display_data"
    }
   ],
   "source": [
    "import matplotlib.pyplot as plt\n",
    "\n",
    "sampled_loss = {}\n",
    "\n",
    "log_freq = 200\n",
    "for batch_size in [32,64,128,256]:\n",
    "    sampled_loss[batch_size] = [sum(log_credit_dsa_dropout[batch_size][:,2][i*log_freq:(i+1)*log_freq])/log_freq for i in range(int(len(log_credit_dsa_dropout[batch_size][:,0])/log_freq))]\n",
    "\n",
    "x = [\"32\", '64', '128', '256']\n",
    "y = [sampled_loss[i][-1] for i in [32,64,128,256]]\n",
    "plt.xlabel(\"Batch size\")\n",
    "plt.ylabel(\"MSE per feature\")\n",
    "plt.bar(x, y, color='b', width=0.5)\n",
    "plt.plot(x,y,'gs-')\n",
    "plt.savefig(\"fig/dsa-batch-size.pdf\", bbox_inches='tight')"
   ]
  }
 ],
 "metadata": {
  "kernelspec": {
   "display_name": "Python 3 (ipykernel)",
   "language": "python",
   "name": "python3"
  },
  "language_info": {
   "codemirror_mode": {
    "name": "ipython",
    "version": 3
   },
   "file_extension": ".py",
   "mimetype": "text/x-python",
   "name": "python",
   "nbconvert_exporter": "python",
   "pygments_lexer": "ipython3",
   "version": "3.8.10"
  }
 },
 "nbformat": 4,
 "nbformat_minor": 4
}
