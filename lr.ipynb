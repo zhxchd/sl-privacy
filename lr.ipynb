{
 "cells": [
  {
   "cell_type": "markdown",
   "metadata": {},
   "source": [
    "# Server-side Feature Inference Attacks against Split Learning: MNIST Digits\n",
    "\n",
    "Experiments with the effects of different learning rate on the reconstruction error."
   ]
  },
  {
   "cell_type": "markdown",
   "metadata": {},
   "source": [
    "## Import packages and dataset"
   ]
  },
  {
   "cell_type": "code",
   "execution_count": 1,
   "metadata": {},
   "outputs": [],
   "source": [
    "import tensorflow as tf\n",
    "import numpy as np\n",
    "import matplotlib.pyplot as plt\n",
    "\n",
    "import sl_with_attack\n",
    "from sl_with_attack import *\n",
    "from datasets import *\n",
    "\n",
    "xpriv, xpub = load_mnist()"
   ]
  },
  {
   "cell_type": "markdown",
   "metadata": {},
   "source": [
    "## Setting up hyperparameters and util functions"
   ]
  },
  {
   "cell_type": "code",
   "execution_count": 2,
   "metadata": {},
   "outputs": [],
   "source": [
    "batch_size = 64\n",
    "id_setup = 4\n",
    "hparams = [{\n",
    "    'WGAN' : True,\n",
    "    'gradient_penalty' : 500.,\n",
    "    'style_loss' : None,\n",
    "    'lr_f' :  0.00001,\n",
    "    'lr_tilde' : 0.00001,\n",
    "    'lr_D' : 0.0001,\n",
    "    'lr_classify': 0.000001,\n",
    "    },\n",
    "    {\n",
    "    'WGAN' : True,\n",
    "    'gradient_penalty' : 500.,\n",
    "    'style_loss' : None,\n",
    "    'lr_f' :  0.00001,\n",
    "    'lr_tilde' : 0.00001,\n",
    "    'lr_D' : 0.0001,\n",
    "    'lr_classify': 0.00001,\n",
    "    },\n",
    "    {\n",
    "    'WGAN' : True,\n",
    "    'gradient_penalty' : 500.,\n",
    "    'style_loss' : None,\n",
    "    'lr_f' :  0.00001,\n",
    "    'lr_tilde' : 0.00001,\n",
    "    'lr_D' : 0.0001,\n",
    "    'lr_classify': 0.0001,\n",
    "    },\n",
    "    {\n",
    "    'WGAN' : True,\n",
    "    'gradient_penalty' : 500.,\n",
    "    'style_loss' : None,\n",
    "    'lr_f' :  0.00001,\n",
    "    'lr_tilde' : 0.00001,\n",
    "    'lr_D' : 0.0001,\n",
    "    'lr_classify': 0.001,\n",
    "    }\n",
    "]\n",
    "\n",
    "# 1000 iterations should be enough to show the curves\n",
    "iterations = 1000\n",
    "log_frequency = 20\n",
    "\n",
    "def plot_log(ax, x, y, label=None, color='blue'):\n",
    "    ax.plot(x, y, color=color)\n",
    "    ax.grid()\n",
    "    if label is not None:\n",
    "        ax.set(title=label)"
   ]
  },
  {
   "cell_type": "markdown",
   "metadata": {},
   "source": [
    "## Model architectures"
   ]
  },
  {
   "cell_type": "code",
   "execution_count": 3,
   "metadata": {},
   "outputs": [],
   "source": [
    "def ResBlock(inputs, dim, ks=3, bn=False, activation='relu', reduce=1):\n",
    "    x = inputs\n",
    "    \n",
    "    stride = reduce\n",
    "    \n",
    "    if bn:\n",
    "        x = tf.keras.layers.BatchNormalization()(x)\n",
    "        \n",
    "    x = tf.keras.layers.Activation(activation)(x)\n",
    "    x = tf.keras.layers.Conv2D(dim, ks, stride, padding='same')(x)\n",
    "    \n",
    "    if bn:\n",
    "        x = tf.keras.layers.BatchNormalization()(x)\n",
    "        \n",
    "    x = tf.keras.layers.Activation(activation)(x)\n",
    "    x = tf.keras.layers.Conv2D(dim, ks, padding='same')(x)\n",
    "    \n",
    "    if reduce > 1:\n",
    "        inputs = tf.keras.layers.Conv2D(dim, ks, stride, padding='same')(inputs)\n",
    "    \n",
    "    return inputs + x\n",
    "\n",
    "def f(input_shape):\n",
    "    xin = tf.keras.layers.Input(input_shape)\n",
    "    x = tf.keras.layers.Conv2D(64, 3, 1, padding='same')(xin)\n",
    "    x = tf.keras.layers.BatchNormalization()(x)\n",
    "    x = tf.keras.layers.Activation('relu')(x)\n",
    "    x = tf.keras.layers.MaxPool2D(2)(x)\n",
    "    x = ResBlock(x, 64)\n",
    "    x = ResBlock(x, 128, reduce=2)\n",
    "    x = ResBlock(x, 128)\n",
    "    x = ResBlock(x, 256, reduce=2)\n",
    "    return tf.keras.Model(xin, x)\n",
    "\n",
    "def g(input_shape, class_num):\n",
    "    xin = tf.keras.layers.Input(input_shape)\n",
    "    x = xin\n",
    "    x = ResBlock(xin, 256)\n",
    "\n",
    "    x = tf.keras.layers.Flatten()(x)\n",
    "    x = tf.keras.layers.BatchNormalization()(x)\n",
    "    if class_num == 2:\n",
    "        activation = \"sigmoid\"\n",
    "        units = 1\n",
    "    else:\n",
    "        activation = \"softmax\"\n",
    "        units = class_num\n",
    "\n",
    "    x = tf.keras.layers.Dropout(0.5)(x)\n",
    "    x = tf.keras.layers.Dense(units, activation=activation)(x)\n",
    "    return tf.keras.Model(xin, x)\n",
    "\n",
    "def encoder(input_shape):\n",
    "    xin = tf.keras.layers.Input(input_shape)\n",
    "    act = None\n",
    "    x = tf.keras.layers.Conv2D(64, 3, 2, padding='same', activation=act)(xin)\n",
    "    x = tf.keras.layers.Conv2D(128, 3, 2, padding='same', activation=act)(x)\n",
    "    x = tf.keras.layers.Conv2D(256, 3, 2, padding='same', activation=act)(x)\n",
    "    x = tf.keras.layers.Conv2D(256, 3, 1, padding='same')(x)\n",
    "    return tf.keras.Model(xin, x)\n",
    "\n",
    "def decoder(input_shape, channels=3):\n",
    "    xin = tf.keras.layers.Input(input_shape)\n",
    "    act = None\n",
    "    x = tf.keras.layers.Conv2DTranspose(256, 3, 2, padding='same', activation=act)(xin)\n",
    "    x = tf.keras.layers.Conv2DTranspose(128, 3, 2, padding='same', activation=act)(x)\n",
    "    x = tf.keras.layers.Conv2DTranspose(channels, 3, 2, padding='same', activation=\"tanh\")(x)\n",
    "    return tf.keras.Model(xin, x)\n",
    "\n",
    "def discriminator(input_shape):\n",
    "    xin = tf.keras.layers.Input(input_shape)\n",
    "    x = tf.keras.layers.Conv2D(256, 3, 1, padding='same')(xin)\n",
    "    bn = False\n",
    "    x = ResBlock(x, 256, bn=bn)\n",
    "    x = ResBlock(x, 256, bn=bn)\n",
    "    x = ResBlock(x, 256, bn=bn)\n",
    "    x = ResBlock(x, 256, bn=bn)\n",
    "    x = ResBlock(x, 256, bn=bn)\n",
    "    x = ResBlock(x, 256, bn=bn)\n",
    "    x = tf.keras.layers.Conv2D(256, 3, 2, padding='same')(x)\n",
    "    x = tf.keras.layers.Flatten()(x)\n",
    "    x = tf.keras.layers.Dense(1)(x)\n",
    "    return tf.keras.Model(xin, x)"
   ]
  },
  {
   "cell_type": "code",
   "execution_count": 4,
   "metadata": {},
   "outputs": [],
   "source": [
    "models = (f, g, encoder, decoder, discriminator)"
   ]
  },
  {
   "cell_type": "markdown",
   "metadata": {},
   "source": [
    "## Passive Attack"
   ]
  },
  {
   "cell_type": "code",
   "execution_count": 5,
   "metadata": {},
   "outputs": [
    {
     "name": "stdout",
     "output_type": "stream",
     "text": [
      "lr = 1e-06\n",
      "RUNNING...\n",
      "lr = 1e-05\n",
      "RUNNING...\n",
      "lr = 0.0001\n",
      "RUNNING...\n",
      "lr = 0.001\n",
      "RUNNING...\n"
     ]
    }
   ],
   "source": [
    "passives = []\n",
    "log_passives = []\n",
    "for hparam in hparams:\n",
    "    print(\"lr = \" + str(hparam[\"lr_classify\"]))\n",
    "    passive = sl_with_attack(models, xpriv, xpub, id_setup-1, batch_size, hparam, 10, server_attack=\"passive\")\n",
    "    log_passive = passive(iterations, verbose=False, progress_bar=False, log_frequency=log_frequency)\n",
    "    passives.append(passive)\n",
    "    log_passives.append(log_passive)"
   ]
  },
  {
   "cell_type": "code",
   "execution_count": 8,
   "metadata": {},
   "outputs": [
    {
     "data": {
      "image/png": "[encoded data removed]",
      "text/plain": [
       "<Figure size 432x288 with 1 Axes>"
      ]
     },
     "metadata": {
      "needs_background": "light"
     },
     "output_type": "display_data"
    }
   ],
   "source": [
    "plt.title(\"Reconstruction error\")\n",
    "plt.plot(np.arange(0, len(log_passives[0])) * log_frequency, log_passives[0][:,3], color='red')\n",
    "plt.plot(np.arange(0, len(log_passives[0])) * log_frequency, log_passives[1][:,3], color='blue')\n",
    "plt.plot(np.arange(0, len(log_passives[0])) * log_frequency, log_passives[2][:,3], color='green')\n",
    "# plt.plot(np.arange(0, len(log_passives[0])) * log_frequency, log_passives[3][:,3], color='black')\n",
    "plt.legend(['lr=1e-6', 'lr=1e-5', 'lr=1e-4',], loc='upper right')\n",
    "plt.grid()"
   ]
  },
  {
   "cell_type": "code",
   "execution_count": 9,
   "metadata": {},
   "outputs": [
    {
     "data": {
      "image/png": "[encoded data removed]",
      "text/plain": [
       "<Figure size 432x288 with 1 Axes>"
      ]
     },
     "metadata": {
      "needs_background": "light"
     },
     "output_type": "display_data"
    }
   ],
   "source": [
    "plt.title(\"Reconstruction error\")\n",
    "plt.plot(np.arange(0, len(log_passives[0])) * log_frequency, log_passives[0][:,3], color='red')\n",
    "plt.plot(np.arange(0, len(log_passives[0])) * log_frequency, log_passives[1][:,3], color='blue')\n",
    "plt.plot(np.arange(0, len(log_passives[0])) * log_frequency, log_passives[2][:,3], color='green')\n",
    "plt.plot(np.arange(0, len(log_passives[0])) * log_frequency, log_passives[3][:,3], color='black')\n",
    "plt.legend(['lr=1e-6', 'lr=1e-5', 'lr=1e-4','lr=1e-3'], loc='upper right')\n",
    "plt.grid()"
   ]
  },
  {
   "cell_type": "markdown",
   "metadata": {},
   "source": [
    "Oops! We got a problem here."
   ]
  },
  {
   "cell_type": "markdown",
   "metadata": {},
   "source": [
    "## Save the outputs"
   ]
  },
  {
   "cell_type": "code",
   "execution_count": 10,
   "metadata": {},
   "outputs": [],
   "source": [
    "np.savetxt('./log/lr/1e-6.csv', log_passives[0], delimiter=',')\n",
    "np.savetxt('./log/lr/1e-5.csv', log_passives[1], delimiter=',')\n",
    "np.savetxt('./log/lr/1e-4.csv', log_passives[2], delimiter=',')\n",
    "np.savetxt('./log/lr/1e-3.csv', log_passives[3], delimiter=',')"
   ]
  }
 ],
 "metadata": {
  "interpreter": {
   "hash": "d9ff725623c15d695aa319bbc94ea42e245a1edcf20c6f47c05aed8c0d68e7f4"
  },
  "kernelspec": {
   "display_name": "Python 3.9.7 64-bit",
   "name": "python3"
  },
  "language_info": {
   "codemirror_mode": {
    "name": "ipython",
    "version": 3
   },
   "file_extension": ".py",
   "mimetype": "text/x-python",
   "name": "python",
   "nbconvert_exporter": "python",
   "pygments_lexer": "ipython3",
   "version": "3.9.7"
  },
  "orig_nbformat": 4
 },
 "nbformat": 4,
 "nbformat_minor": 2
}
