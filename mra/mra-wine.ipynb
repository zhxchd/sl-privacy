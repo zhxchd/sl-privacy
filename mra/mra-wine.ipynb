{
 "cells": [
  {
   "cell_type": "markdown",
   "metadata": {},
   "source": [
    "# Model recovery attack: `wine`"
   ]
  },
  {
   "cell_type": "code",
   "execution_count": 1,
   "metadata": {},
   "outputs": [],
   "source": [
    "%load_ext autoreload\n",
    "%autoreload 2\n",
    "\n",
    "import tensorflow as tf\n",
    "import numpy as np\n",
    "import matplotlib.pyplot as plt\n",
    "\n",
    "import mra\n",
    "from mra import *"
   ]
  },
  {
   "cell_type": "code",
   "execution_count": 2,
   "metadata": {},
   "outputs": [],
   "source": [
    "def make_dataset(X, Y, f):\n",
    "    x = tf.data.Dataset.from_tensor_slices(X)\n",
    "    y = tf.data.Dataset.from_tensor_slices(Y)\n",
    "    x = x.map(f)\n",
    "    xy = tf.data.Dataset.zip((x, y))\n",
    "    xy = xy.shuffle(10000)\n",
    "    return xy\n",
    "\n",
    "xy = np.loadtxt(\"../datasets/wine.csv\", delimiter=\";\")\n",
    "np.random.shuffle(xy)\n",
    "x = xy[:,0:-1]\n",
    "y = xy[:,-1]\n",
    "\n",
    "min_values = np.array([min(x[:,i]) for i in range(x.shape[1])])\n",
    "max_values = np.array([max(x[:,i]) for i in range(x.shape[1])])\n",
    "x = (x-min_values)/(max_values - min_values)\n",
    "y = y.reshape((len(x), 1)).astype(\"float32\")\n",
    "train_ds = make_dataset(x, y, lambda t: t)\n",
    "\n",
    "mra = mra(train_ds)"
   ]
  },
  {
   "cell_type": "code",
   "execution_count": 3,
   "metadata": {},
   "outputs": [],
   "source": [
    "def make_f(input_shape):\n",
    "    xin = tf.keras.layers.Input(input_shape)\n",
    "    x = tf.keras.layers.BatchNormalization()(xin)\n",
    "    x = tf.keras.layers.Dense(64, activation=\"relu\")(xin)\n",
    "    output = tf.keras.layers.Dense(64, activation=\"relu\")(x)\n",
    "    return tf.keras.Model(xin, output)\n",
    "\n",
    "def make_g(input_shape):\n",
    "    xin = tf.keras.layers.Input(input_shape)\n",
    "    x = tf.keras.layers.Dense(64, activation=\"relu\")(xin)\n",
    "    x = tf.keras.layers.Dense(64, activation=\"relu\")(x)\n",
    "    # x = tf.keras.layers.Dropout(0.5)(x)\n",
    "    output = tf.keras.layers.Dense(11, activation=\"softmax\")(x)\n",
    "    return tf.keras.Model(xin, output)"
   ]
  },
  {
   "cell_type": "code",
   "execution_count": 4,
   "metadata": {},
   "outputs": [
    {
     "name": "stdout",
     "output_type": "stream",
     "text": [
      "Iteration 0001: Training loss: 2.3770\n",
      "Iteration 0051: Training loss: 1.2409\n",
      "Iteration 0101: Training loss: 1.4933\n",
      "Iteration 0151: Training loss: 1.0491\n",
      "Iteration 0201: Training loss: 0.8987\n"
     ]
    }
   ],
   "source": [
    "log_train = mra.train(\n",
    "    make_f,\n",
    "    make_g,\n",
    "    loss_fn=tf.keras.losses.sparse_categorical_crossentropy,\n",
    "    batch_size=32,\n",
    "    epoch=5,\n",
    "    lr=0.001,\n",
    "    verbose=True, log_every=50\n",
    "    )"
   ]
  },
  {
   "cell_type": "code",
   "execution_count": 5,
   "metadata": {},
   "outputs": [],
   "source": [
    "def make_generator(input_shape):\n",
    "    xin = tf.keras.layers.Input(input_shape)\n",
    "    act = \"relu\"\n",
    "    x = tf.keras.layers.Dense(512, activation=act)(xin)\n",
    "    x = tf.keras.layers.Dense(256, activation=act)(x)\n",
    "    x = tf.keras.layers.Dense(128, activation=act)(x)\n",
    "    x = tf.keras.layers.Dense(64, activation=act)(x)\n",
    "    x = tf.keras.layers.Dense(32, activation=act)(x)\n",
    "    x = tf.keras.layers.Dense(11, activation=\"sigmoid\")(x)\n",
    "    return tf.keras.Model(xin, x)"
   ]
  },
  {
   "cell_type": "code",
   "execution_count": 6,
   "metadata": {},
   "outputs": [
    {
     "name": "stdout",
     "output_type": "stream",
     "text": [
      "Iteration 0001: RG-uniform: 0.1606, RG-normal: 0.1631, reconstruction validation: 0.0003\n",
      "Iteration 0002: RG-uniform: 0.1744, RG-normal: 0.1515, reconstruction validation: 0.0005\n",
      "Iteration 0003: RG-uniform: 0.1521, RG-normal: 0.1617, reconstruction validation: 0.0007\n",
      "Iteration 0004: RG-uniform: 0.1705, RG-normal: 0.1553, reconstruction validation: 0.0004\n",
      "Iteration 0005: RG-uniform: 0.1733, RG-normal: 0.1386, reconstruction validation: 0.0007\n",
      "Iteration 0006: RG-uniform: 0.1828, RG-normal: 0.1511, reconstruction validation: 0.0007\n",
      "Iteration 0007: RG-uniform: 0.1795, RG-normal: 0.1505, reconstruction validation: 0.0020\n",
      "Iteration 0008: RG-uniform: 0.1803, RG-normal: 0.1457, reconstruction validation: 0.0016\n",
      "Iteration 0009: RG-uniform: 0.1855, RG-normal: 0.1413, reconstruction validation: 0.0021\n",
      "Iteration 0010: RG-uniform: 0.1529, RG-normal: 0.1408, reconstruction validation: 0.0029\n",
      "Iteration 0011: RG-uniform: 0.1705, RG-normal: 0.1531, reconstruction validation: 0.0027\n",
      "Iteration 0012: RG-uniform: 0.1724, RG-normal: 0.1485, reconstruction validation: 0.0025\n",
      "Iteration 0013: RG-uniform: 0.1751, RG-normal: 0.1619, reconstruction validation: 0.0022\n",
      "Iteration 0014: RG-uniform: 0.1661, RG-normal: 0.1492, reconstruction validation: 0.0026\n",
      "Iteration 0015: RG-uniform: 0.1619, RG-normal: 0.1510, reconstruction validation: 0.0022\n",
      "Iteration 0016: RG-uniform: 0.1735, RG-normal: 0.1401, reconstruction validation: 0.0024\n",
      "Iteration 0017: RG-uniform: 0.1869, RG-normal: 0.1482, reconstruction validation: 0.0022\n",
      "Iteration 0018: RG-uniform: 0.1587, RG-normal: 0.1623, reconstruction validation: 0.0021\n",
      "Iteration 0019: RG-uniform: 0.1635, RG-normal: 0.1404, reconstruction validation: 0.0018\n",
      "Iteration 0020: RG-uniform: 0.1787, RG-normal: 0.1406, reconstruction validation: 0.0022\n",
      "Iteration 0021: RG-uniform: 0.1741, RG-normal: 0.1683, reconstruction validation: 0.0033\n",
      "Iteration 0022: RG-uniform: 0.1762, RG-normal: 0.1405, reconstruction validation: 0.0065\n",
      "Iteration 0023: RG-uniform: 0.1592, RG-normal: 0.1398, reconstruction validation: 0.0061\n",
      "Iteration 0024: RG-uniform: 0.1710, RG-normal: 0.1579, reconstruction validation: 0.0046\n",
      "Iteration 0025: RG-uniform: 0.1746, RG-normal: 0.1372, reconstruction validation: 0.0050\n",
      "Iteration 0026: RG-uniform: 0.1508, RG-normal: 0.1362, reconstruction validation: 0.0054\n",
      "Iteration 0027: RG-uniform: 0.1760, RG-normal: 0.1533, reconstruction validation: 0.0060\n",
      "Iteration 0028: RG-uniform: 0.1851, RG-normal: 0.1588, reconstruction validation: 0.0040\n",
      "Iteration 0029: RG-uniform: 0.1597, RG-normal: 0.1508, reconstruction validation: 0.0048\n",
      "Iteration 0030: RG-uniform: 0.1703, RG-normal: 0.1269, reconstruction validation: 0.0033\n",
      "Iteration 0031: RG-uniform: 0.1607, RG-normal: 0.1368, reconstruction validation: 0.0041\n",
      "Iteration 0032: RG-uniform: 0.1784, RG-normal: 0.1540, reconstruction validation: 0.0038\n",
      "Iteration 0033: RG-uniform: 0.1769, RG-normal: 0.1447, reconstruction validation: 0.0029\n",
      "Iteration 0034: RG-uniform: 0.1844, RG-normal: 0.1448, reconstruction validation: 0.0051\n",
      "Iteration 0035: RG-uniform: 0.1643, RG-normal: 0.1467, reconstruction validation: 0.0037\n",
      "Iteration 0036: RG-uniform: 0.1837, RG-normal: 0.1650, reconstruction validation: 0.0040\n",
      "Iteration 0037: RG-uniform: 0.1702, RG-normal: 0.1434, reconstruction validation: 0.0027\n",
      "Iteration 0038: RG-uniform: 0.1889, RG-normal: 0.1520, reconstruction validation: 0.0029\n",
      "Iteration 0039: RG-uniform: 0.1742, RG-normal: 0.1457, reconstruction validation: 0.0031\n",
      "Iteration 0040: RG-uniform: 0.1803, RG-normal: 0.1453, reconstruction validation: 0.0034\n",
      "Iteration 0041: RG-uniform: 0.1653, RG-normal: 0.1467, reconstruction validation: 0.0035\n",
      "Iteration 0042: RG-uniform: 0.1881, RG-normal: 0.1533, reconstruction validation: 0.0048\n",
      "Iteration 0043: RG-uniform: 0.1649, RG-normal: 0.1352, reconstruction validation: 0.0030\n",
      "Iteration 0044: RG-uniform: 0.1603, RG-normal: 0.1626, reconstruction validation: 0.0030\n",
      "Iteration 0045: RG-uniform: 0.1525, RG-normal: 0.1355, reconstruction validation: 0.0041\n",
      "Iteration 0046: RG-uniform: 0.1597, RG-normal: 0.1284, reconstruction validation: 0.0043\n",
      "Iteration 0047: RG-uniform: 0.1642, RG-normal: 0.1593, reconstruction validation: 0.0037\n",
      "Iteration 0048: RG-uniform: 0.1770, RG-normal: 0.1618, reconstruction validation: 0.0034\n",
      "Iteration 0049: RG-uniform: 0.1705, RG-normal: 0.1467, reconstruction validation: 0.0027\n",
      "Iteration 0050: RG-uniform: 0.1764, RG-normal: 0.1462, reconstruction validation: 0.0029\n",
      "Iteration 0051: RG-uniform: 0.1538, RG-normal: 0.1438, reconstruction validation: 0.0044\n",
      "Iteration 0052: RG-uniform: 0.1921, RG-normal: 0.1449, reconstruction validation: 0.0049\n",
      "Iteration 0053: RG-uniform: 0.1406, RG-normal: 0.1540, reconstruction validation: 0.0043\n",
      "Iteration 0054: RG-uniform: 0.1592, RG-normal: 0.1510, reconstruction validation: 0.0040\n",
      "Iteration 0055: RG-uniform: 0.1699, RG-normal: 0.1406, reconstruction validation: 0.0047\n",
      "Iteration 0056: RG-uniform: 0.1615, RG-normal: 0.1536, reconstruction validation: 0.0044\n",
      "Iteration 0057: RG-uniform: 0.1570, RG-normal: 0.1437, reconstruction validation: 0.0036\n",
      "Iteration 0058: RG-uniform: 0.1926, RG-normal: 0.1494, reconstruction validation: 0.0041\n",
      "Iteration 0059: RG-uniform: 0.1831, RG-normal: 0.1389, reconstruction validation: 0.0037\n",
      "Iteration 0060: RG-uniform: 0.1633, RG-normal: 0.1521, reconstruction validation: 0.0038\n",
      "Iteration 0061: RG-uniform: 0.1732, RG-normal: 0.1638, reconstruction validation: 0.0047\n",
      "Iteration 0062: RG-uniform: 0.1776, RG-normal: 0.1396, reconstruction validation: 0.0050\n",
      "Iteration 0063: RG-uniform: 0.1576, RG-normal: 0.1503, reconstruction validation: 0.0058\n",
      "Iteration 0064: RG-uniform: 0.1626, RG-normal: 0.1573, reconstruction validation: 0.0059\n",
      "Iteration 0065: RG-uniform: 0.1621, RG-normal: 0.1555, reconstruction validation: 0.0070\n",
      "Iteration 0066: RG-uniform: 0.1924, RG-normal: 0.1754, reconstruction validation: 0.0056\n",
      "Iteration 0067: RG-uniform: 0.1682, RG-normal: 0.1640, reconstruction validation: 0.0062\n",
      "Iteration 0068: RG-uniform: 0.1645, RG-normal: 0.1565, reconstruction validation: 0.0061\n",
      "Iteration 0069: RG-uniform: 0.1759, RG-normal: 0.1354, reconstruction validation: 0.0072\n",
      "Iteration 0070: RG-uniform: 0.1695, RG-normal: 0.1468, reconstruction validation: 0.0066\n",
      "Iteration 0071: RG-uniform: 0.1473, RG-normal: 0.1509, reconstruction validation: 0.0075\n",
      "Iteration 0072: RG-uniform: 0.1798, RG-normal: 0.1422, reconstruction validation: 0.0071\n",
      "Iteration 0073: RG-uniform: 0.1563, RG-normal: 0.1349, reconstruction validation: 0.0064\n",
      "Iteration 0074: RG-uniform: 0.1757, RG-normal: 0.1379, reconstruction validation: 0.0083\n",
      "Iteration 0075: RG-uniform: 0.1713, RG-normal: 0.1539, reconstruction validation: 0.0075\n",
      "Iteration 0076: RG-uniform: 0.1745, RG-normal: 0.1455, reconstruction validation: 0.0078\n",
      "Iteration 0077: RG-uniform: 0.1806, RG-normal: 0.1588, reconstruction validation: 0.0055\n",
      "Iteration 0078: RG-uniform: 0.1790, RG-normal: 0.1471, reconstruction validation: 0.0074\n",
      "Iteration 0079: RG-uniform: 0.1592, RG-normal: 0.1438, reconstruction validation: 0.0088\n",
      "Iteration 0080: RG-uniform: 0.1726, RG-normal: 0.1612, reconstruction validation: 0.0081\n",
      "Iteration 0081: RG-uniform: 0.1628, RG-normal: 0.1437, reconstruction validation: 0.0102\n",
      "Iteration 0082: RG-uniform: 0.1544, RG-normal: 0.1468, reconstruction validation: 0.0090\n",
      "Iteration 0083: RG-uniform: 0.1711, RG-normal: 0.1498, reconstruction validation: 0.0078\n",
      "Iteration 0084: RG-uniform: 0.1742, RG-normal: 0.1432, reconstruction validation: 0.0090\n",
      "Iteration 0085: RG-uniform: 0.1802, RG-normal: 0.1423, reconstruction validation: 0.0081\n",
      "Iteration 0086: RG-uniform: 0.1605, RG-normal: 0.1429, reconstruction validation: 0.0078\n",
      "Iteration 0087: RG-uniform: 0.1715, RG-normal: 0.1553, reconstruction validation: 0.0077\n",
      "Iteration 0088: RG-uniform: 0.1765, RG-normal: 0.1485, reconstruction validation: 0.0087\n",
      "Iteration 0089: RG-uniform: 0.1638, RG-normal: 0.1417, reconstruction validation: 0.0079\n",
      "Iteration 0090: RG-uniform: 0.1698, RG-normal: 0.1348, reconstruction validation: 0.0082\n",
      "Iteration 0091: RG-uniform: 0.1831, RG-normal: 0.1566, reconstruction validation: 0.0090\n",
      "Iteration 0092: RG-uniform: 0.1661, RG-normal: 0.1774, reconstruction validation: 0.0084\n",
      "Iteration 0093: RG-uniform: 0.1722, RG-normal: 0.1492, reconstruction validation: 0.0091\n",
      "Iteration 0094: RG-uniform: 0.1656, RG-normal: 0.1528, reconstruction validation: 0.0081\n",
      "Iteration 0095: RG-uniform: 0.1506, RG-normal: 0.1489, reconstruction validation: 0.0081\n",
      "Iteration 0096: RG-uniform: 0.1686, RG-normal: 0.1529, reconstruction validation: 0.0085\n",
      "Iteration 0097: RG-uniform: 0.1633, RG-normal: 0.1424, reconstruction validation: 0.0111\n",
      "Iteration 0098: RG-uniform: 0.1820, RG-normal: 0.1515, reconstruction validation: 0.0099\n",
      "Iteration 0099: RG-uniform: 0.1729, RG-normal: 0.1448, reconstruction validation: 0.0093\n",
      "Iteration 0100: RG-uniform: 0.1902, RG-normal: 0.1617, reconstruction validation: 0.0100\n"
     ]
    }
   ],
   "source": [
    "log_attack = mra.attack(\n",
    "    attack_iter=100,\n",
    "    make_generator=make_generator,\n",
    "    input_noise=\"normal\",\n",
    "    input_z=True,\n",
    "    model_leak=True,\n",
    "    lr_x=0.001,\n",
    "    lr_f=0.0001,\n",
    "    epoch=200,\n",
    "    iter_x=50,\n",
    "    iter_f=1,\n",
    "    verbose=True, log_every=1)"
   ]
  },
  {
   "cell_type": "code",
   "execution_count": 7,
   "metadata": {},
   "outputs": [],
   "source": [
    "np.savetxt(\"./log/wine.csv\", log_attack, delimiter=\",\")"
   ]
  },
  {
   "cell_type": "code",
   "execution_count": 7,
   "metadata": {},
   "outputs": [
    {
     "data": {
      "image/png": "[encoded data removed]",
      "text/plain": [
       "<Figure size 432x288 with 1 Axes>"
      ]
     },
     "metadata": {
      "needs_background": "light"
     },
     "output_type": "display_data"
    }
   ],
   "source": [
    "plt.xlim([1,101])\n",
    "plt.ylim([0,0.2])\n",
    "plt.grid()\n",
    "plt.ylabel('MSE per feature')\n",
    "plt.xlabel('Batch distance from the obtained model snapshot')\n",
    "ran = [i+1 for i in range(100)]\n",
    "plt.plot(ran, log_attack[:,0], 'ro-', ran, log_attack[:,1], 'b^-', ran, log_attack[:,2], 'gs-', markevery=np.arange(0, 101, 9))\n",
    "plt.legend(['RG-uniform', 'RG-normal', 'MRA (ours)'], loc='center right')\n",
    "plt.savefig(\"fig/wine.pdf\", bbox_inches='tight')"
   ]
  }
 ],
 "metadata": {
  "interpreter": {
   "hash": "d9ff725623c15d695aa319bbc94ea42e245a1edcf20c6f47c05aed8c0d68e7f4"
  },
  "kernelspec": {
   "display_name": "Python 3.9.7 64-bit",
   "language": "python",
   "name": "python3"
  },
  "language_info": {
   "codemirror_mode": {
    "name": "ipython",
    "version": 3
   },
   "file_extension": ".py",
   "mimetype": "text/x-python",
   "name": "python",
   "nbconvert_exporter": "python",
   "pygments_lexer": "ipython3",
   "version": "3.8.10"
  },
  "orig_nbformat": 4
 },
 "nbformat": 4,
 "nbformat_minor": 2
}
