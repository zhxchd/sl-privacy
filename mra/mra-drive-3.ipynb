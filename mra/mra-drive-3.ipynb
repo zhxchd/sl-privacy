{
 "cells": [
  {
   "cell_type": "markdown",
   "metadata": {},
   "source": [
    "# Model recovery attack: `drive-diagnosis`"
   ]
  },
  {
   "cell_type": "code",
   "execution_count": 1,
   "metadata": {},
   "outputs": [],
   "source": [
    "%load_ext autoreload\n",
    "%autoreload 2\n",
    "\n",
    "import tensorflow as tf\n",
    "import numpy as np\n",
    "import matplotlib.pyplot as plt\n",
    "import pandas as pd\n",
    "\n",
    "import mra\n",
    "from mra import *\n",
    "\n",
    "os.environ['CUDA_VISIBLE_DEVICES'] = '-1'"
   ]
  },
  {
   "cell_type": "code",
   "execution_count": 2,
   "metadata": {},
   "outputs": [
    {
     "name": "stderr",
     "output_type": "stream",
     "text": [
      "2022-02-16 03:38:19.951141: E tensorflow/stream_executor/cuda/cuda_driver.cc:271] failed call to cuInit: CUDA_ERROR_NO_DEVICE: no CUDA-capable device is detected\n",
      "2022-02-16 03:38:19.951237: I tensorflow/stream_executor/cuda/cuda_diagnostics.cc:169] retrieving CUDA diagnostic information for host: xgpg2\n",
      "2022-02-16 03:38:19.951258: I tensorflow/stream_executor/cuda/cuda_diagnostics.cc:176] hostname: xgpg2\n",
      "2022-02-16 03:38:19.951489: I tensorflow/stream_executor/cuda/cuda_diagnostics.cc:200] libcuda reported version is: 470.103.1\n",
      "2022-02-16 03:38:19.951527: I tensorflow/stream_executor/cuda/cuda_diagnostics.cc:204] kernel reported version is: 470.103.1\n",
      "2022-02-16 03:38:19.951537: I tensorflow/stream_executor/cuda/cuda_diagnostics.cc:310] kernel version seems to match DSO: 470.103.1\n",
      "2022-02-16 03:38:19.952186: I tensorflow/core/platform/cpu_feature_guard.cc:151] This TensorFlow binary is optimized with oneAPI Deep Neural Network Library (oneDNN) to use the following CPU instructions in performance-critical operations:  AVX2 FMA\n",
      "To enable them in other operations, rebuild TensorFlow with the appropriate compiler flags.\n"
     ]
    }
   ],
   "source": [
    "def make_dataset(X, Y, f):\n",
    "    x = tf.data.Dataset.from_tensor_slices(X)\n",
    "    y = tf.data.Dataset.from_tensor_slices(Y)\n",
    "    x = x.map(f)\n",
    "    xy = tf.data.Dataset.zip((x, y))\n",
    "    xy = xy.shuffle(10000)\n",
    "    return xy\n",
    "\n",
    "xy = np.loadtxt(\"../datasets/drive-diagnosis.txt\")\n",
    "np.random.shuffle(xy)\n",
    "x = xy[:,0:-1]\n",
    "y = xy[:,-1]\n",
    "\n",
    "min_values = np.array([min(x[:,i]) for i in range(x.shape[1])])\n",
    "max_values = np.array([max(x[:,i]) for i in range(x.shape[1])])\n",
    "x = (x-min_values)/(max_values - min_values)\n",
    "y = y.reshape((len(x), 1)).astype(\"float32\")-1\n",
    "train_ds = make_dataset(x, y, lambda t: t)\n",
    "\n",
    "mra = mra(train_ds)"
   ]
  },
  {
   "cell_type": "code",
   "execution_count": 3,
   "metadata": {},
   "outputs": [],
   "source": [
    "def make_f(input_shape):\n",
    "    xin = tf.keras.layers.Input(input_shape)\n",
    "    x = tf.keras.layers.Dense(256, activation=\"relu\")(xin)\n",
    "    x = tf.keras.layers.Dense(256, activation=\"relu\")(x)\n",
    "    output = tf.keras.layers.Dense(256, activation=\"relu\")(x)\n",
    "    return tf.keras.Model(xin, output)\n",
    "\n",
    "def make_g(input_shape):\n",
    "    xin = tf.keras.layers.Input(input_shape)\n",
    "    x = tf.keras.layers.Dense(256, activation=\"relu\")(xin)\n",
    "    # x = tf.keras.layers.Dense(256, activation=\"relu\")(x)\n",
    "    output = tf.keras.layers.Dense(11, activation=\"softmax\")(x)\n",
    "    return tf.keras.Model(xin, output)"
   ]
  },
  {
   "cell_type": "code",
   "execution_count": 4,
   "metadata": {},
   "outputs": [
    {
     "name": "stdout",
     "output_type": "stream",
     "text": [
      "Iteration 0001: Training loss: 2.4061\n",
      "Iteration 1001: Training loss: 0.3091\n",
      "Iteration 2001: Training loss: 0.3873\n",
      "Iteration 3001: Training loss: 0.6892\n",
      "Iteration 4001: Training loss: 0.2916\n",
      "Iteration 5001: Training loss: 0.1541\n",
      "Iteration 6001: Training loss: 0.0862\n",
      "Iteration 7001: Training loss: 0.1622\n",
      "Iteration 8001: Training loss: 0.0977\n",
      "Iteration 9001: Training loss: 0.2226\n"
     ]
    }
   ],
   "source": [
    "log_train = mra.train(\n",
    "    make_f,\n",
    "    make_g,\n",
    "    loss_fn=tf.keras.losses.sparse_categorical_crossentropy,\n",
    "    batch_size=32,\n",
    "    epoch=5,\n",
    "    lr=0.001,\n",
    "    verbose=True, log_every=1000\n",
    "    )"
   ]
  },
  {
   "cell_type": "code",
   "execution_count": 5,
   "metadata": {},
   "outputs": [],
   "source": [
    "def make_generator(input_shape):\n",
    "    xin = tf.keras.layers.Input(input_shape)\n",
    "    act = \"relu\"\n",
    "    x = tf.keras.layers.Dense(1024, activation=act)(xin)\n",
    "    x = tf.keras.layers.Dense(512, activation=act)(x)\n",
    "    x = tf.keras.layers.Dense(256, activation=act)(x)\n",
    "    x = tf.keras.layers.Dense(128, activation=act)(x)\n",
    "    x = tf.keras.layers.Dense(64, activation=act)(x)\n",
    "    x = tf.keras.layers.Dense(48, activation=\"sigmoid\")(x)\n",
    "    return tf.keras.Model(xin, x)"
   ]
  },
  {
   "cell_type": "code",
   "execution_count": 6,
   "metadata": {},
   "outputs": [
    {
     "name": "stdout",
     "output_type": "stream",
     "text": [
      "Iteration 0001: RG-uniform: 0.1784, RG-normal: 0.1566, reconstruction validation: 0.0476\n",
      "Iteration 0002: RG-uniform: 0.1800, RG-normal: 0.1541, reconstruction validation: 0.0395\n",
      "Iteration 0003: RG-uniform: 0.1715, RG-normal: 0.1574, reconstruction validation: 0.0418\n",
      "Iteration 0004: RG-uniform: 0.1740, RG-normal: 0.1661, reconstruction validation: 0.0420\n",
      "Iteration 0005: RG-uniform: 0.1789, RG-normal: 0.1596, reconstruction validation: 0.0344\n",
      "Iteration 0006: RG-uniform: 0.1768, RG-normal: 0.1607, reconstruction validation: 0.0352\n",
      "Iteration 0007: RG-uniform: 0.1762, RG-normal: 0.1582, reconstruction validation: 0.0326\n",
      "Iteration 0008: RG-uniform: 0.1821, RG-normal: 0.1549, reconstruction validation: 0.0337\n",
      "Iteration 0009: RG-uniform: 0.1707, RG-normal: 0.1590, reconstruction validation: 0.0344\n",
      "Iteration 0010: RG-uniform: 0.1940, RG-normal: 0.1578, reconstruction validation: 0.0358\n",
      "Iteration 0011: RG-uniform: 0.1717, RG-normal: 0.1480, reconstruction validation: 0.0363\n",
      "Iteration 0012: RG-uniform: 0.1820, RG-normal: 0.1608, reconstruction validation: 0.0366\n",
      "Iteration 0013: RG-uniform: 0.1724, RG-normal: 0.1638, reconstruction validation: 0.0380\n",
      "Iteration 0014: RG-uniform: 0.1773, RG-normal: 0.1585, reconstruction validation: 0.0334\n",
      "Iteration 0015: RG-uniform: 0.1734, RG-normal: 0.1581, reconstruction validation: 0.0365\n",
      "Iteration 0016: RG-uniform: 0.1799, RG-normal: 0.1606, reconstruction validation: 0.0362\n",
      "Iteration 0017: RG-uniform: 0.1789, RG-normal: 0.1573, reconstruction validation: 0.0362\n",
      "Iteration 0018: RG-uniform: 0.1790, RG-normal: 0.1641, reconstruction validation: 0.0349\n",
      "Iteration 0019: RG-uniform: 0.1744, RG-normal: 0.1609, reconstruction validation: 0.0354\n",
      "Iteration 0020: RG-uniform: 0.1835, RG-normal: 0.1609, reconstruction validation: 0.0385\n",
      "Iteration 0021: RG-uniform: 0.1777, RG-normal: 0.1587, reconstruction validation: 0.0315\n",
      "Iteration 0022: RG-uniform: 0.1716, RG-normal: 0.1545, reconstruction validation: 0.0330\n",
      "Iteration 0023: RG-uniform: 0.1774, RG-normal: 0.1657, reconstruction validation: 0.0338\n",
      "Iteration 0024: RG-uniform: 0.1860, RG-normal: 0.1498, reconstruction validation: 0.0306\n",
      "Iteration 0025: RG-uniform: 0.1813, RG-normal: 0.1506, reconstruction validation: 0.0355\n",
      "Iteration 0026: RG-uniform: 0.1853, RG-normal: 0.1577, reconstruction validation: 0.0401\n",
      "Iteration 0027: RG-uniform: 0.1791, RG-normal: 0.1545, reconstruction validation: 0.0356\n",
      "Iteration 0028: RG-uniform: 0.1839, RG-normal: 0.1504, reconstruction validation: 0.0335\n",
      "Iteration 0029: RG-uniform: 0.1759, RG-normal: 0.1584, reconstruction validation: 0.0401\n",
      "Iteration 0030: RG-uniform: 0.1736, RG-normal: 0.1544, reconstruction validation: 0.0418\n",
      "Iteration 0031: RG-uniform: 0.1894, RG-normal: 0.1571, reconstruction validation: 0.0413\n",
      "Iteration 0032: RG-uniform: 0.1813, RG-normal: 0.1606, reconstruction validation: 0.0378\n",
      "Iteration 0033: RG-uniform: 0.1790, RG-normal: 0.1546, reconstruction validation: 0.0353\n",
      "Iteration 0034: RG-uniform: 0.1804, RG-normal: 0.1568, reconstruction validation: 0.0441\n",
      "Iteration 0035: RG-uniform: 0.1690, RG-normal: 0.1592, reconstruction validation: 0.0376\n",
      "Iteration 0036: RG-uniform: 0.1871, RG-normal: 0.1598, reconstruction validation: 0.0361\n",
      "Iteration 0037: RG-uniform: 0.1824, RG-normal: 0.1595, reconstruction validation: 0.0429\n",
      "Iteration 0038: RG-uniform: 0.1893, RG-normal: 0.1609, reconstruction validation: 0.0354\n",
      "Iteration 0039: RG-uniform: 0.1772, RG-normal: 0.1607, reconstruction validation: 0.0394\n",
      "Iteration 0040: RG-uniform: 0.1768, RG-normal: 0.1537, reconstruction validation: 0.0403\n",
      "Iteration 0041: RG-uniform: 0.1727, RG-normal: 0.1575, reconstruction validation: 0.0384\n",
      "Iteration 0042: RG-uniform: 0.1778, RG-normal: 0.1620, reconstruction validation: 0.0401\n",
      "Iteration 0043: RG-uniform: 0.1820, RG-normal: 0.1629, reconstruction validation: 0.0363\n",
      "Iteration 0044: RG-uniform: 0.1757, RG-normal: 0.1497, reconstruction validation: 0.0372\n",
      "Iteration 0045: RG-uniform: 0.1725, RG-normal: 0.1590, reconstruction validation: 0.0379\n",
      "Iteration 0046: RG-uniform: 0.1751, RG-normal: 0.1536, reconstruction validation: 0.0377\n",
      "Iteration 0047: RG-uniform: 0.1800, RG-normal: 0.1676, reconstruction validation: 0.0347\n",
      "Iteration 0048: RG-uniform: 0.1695, RG-normal: 0.1551, reconstruction validation: 0.0357\n",
      "Iteration 0049: RG-uniform: 0.1699, RG-normal: 0.1619, reconstruction validation: 0.0371\n",
      "Iteration 0050: RG-uniform: 0.1791, RG-normal: 0.1548, reconstruction validation: 0.0366\n",
      "Iteration 0051: RG-uniform: 0.1750, RG-normal: 0.1624, reconstruction validation: 0.0388\n",
      "Iteration 0052: RG-uniform: 0.1790, RG-normal: 0.1472, reconstruction validation: 0.0375\n",
      "Iteration 0053: RG-uniform: 0.1792, RG-normal: 0.1544, reconstruction validation: 0.0408\n",
      "Iteration 0054: RG-uniform: 0.1820, RG-normal: 0.1594, reconstruction validation: 0.0423\n",
      "Iteration 0055: RG-uniform: 0.1768, RG-normal: 0.1635, reconstruction validation: 0.0418\n",
      "Iteration 0056: RG-uniform: 0.1910, RG-normal: 0.1713, reconstruction validation: 0.0435\n",
      "Iteration 0057: RG-uniform: 0.1785, RG-normal: 0.1620, reconstruction validation: 0.0380\n",
      "Iteration 0058: RG-uniform: 0.1895, RG-normal: 0.1600, reconstruction validation: 0.0387\n",
      "Iteration 0059: RG-uniform: 0.1771, RG-normal: 0.1602, reconstruction validation: 0.0397\n",
      "Iteration 0060: RG-uniform: 0.1855, RG-normal: 0.1652, reconstruction validation: 0.0380\n",
      "Iteration 0061: RG-uniform: 0.1856, RG-normal: 0.1535, reconstruction validation: 0.0417\n",
      "Iteration 0062: RG-uniform: 0.1687, RG-normal: 0.1664, reconstruction validation: 0.0454\n",
      "Iteration 0063: RG-uniform: 0.1824, RG-normal: 0.1542, reconstruction validation: 0.0466\n",
      "Iteration 0064: RG-uniform: 0.1837, RG-normal: 0.1677, reconstruction validation: 0.0532\n",
      "Iteration 0065: RG-uniform: 0.1906, RG-normal: 0.1621, reconstruction validation: 0.0519\n",
      "Iteration 0066: RG-uniform: 0.1776, RG-normal: 0.1623, reconstruction validation: 0.0559\n",
      "Iteration 0067: RG-uniform: 0.1817, RG-normal: 0.1632, reconstruction validation: 0.0548\n",
      "Iteration 0068: RG-uniform: 0.1835, RG-normal: 0.1569, reconstruction validation: 0.0599\n",
      "Iteration 0069: RG-uniform: 0.1836, RG-normal: 0.1624, reconstruction validation: 0.0657\n",
      "Iteration 0070: RG-uniform: 0.1798, RG-normal: 0.1562, reconstruction validation: 0.0697\n",
      "Iteration 0071: RG-uniform: 0.1709, RG-normal: 0.1533, reconstruction validation: 0.0749\n",
      "Iteration 0072: RG-uniform: 0.1817, RG-normal: 0.1556, reconstruction validation: 0.0701\n",
      "Iteration 0073: RG-uniform: 0.1813, RG-normal: 0.1629, reconstruction validation: 0.0654\n",
      "Iteration 0074: RG-uniform: 0.1706, RG-normal: 0.1679, reconstruction validation: 0.0732\n",
      "Iteration 0075: RG-uniform: 0.1790, RG-normal: 0.1450, reconstruction validation: 0.0677\n",
      "Iteration 0076: RG-uniform: 0.1799, RG-normal: 0.1528, reconstruction validation: 0.0721\n",
      "Iteration 0077: RG-uniform: 0.1792, RG-normal: 0.1617, reconstruction validation: 0.0739\n",
      "Iteration 0078: RG-uniform: 0.1796, RG-normal: 0.1566, reconstruction validation: 0.0750\n",
      "Iteration 0079: RG-uniform: 0.1820, RG-normal: 0.1588, reconstruction validation: 0.0759\n",
      "Iteration 0080: RG-uniform: 0.1699, RG-normal: 0.1526, reconstruction validation: 0.0768\n",
      "Iteration 0081: RG-uniform: 0.1759, RG-normal: 0.1576, reconstruction validation: 0.0655\n",
      "Iteration 0082: RG-uniform: 0.1727, RG-normal: 0.1559, reconstruction validation: 0.0681\n",
      "Iteration 0083: RG-uniform: 0.1877, RG-normal: 0.1603, reconstruction validation: 0.0727\n",
      "Iteration 0084: RG-uniform: 0.1870, RG-normal: 0.1593, reconstruction validation: 0.0725\n",
      "Iteration 0085: RG-uniform: 0.1837, RG-normal: 0.1534, reconstruction validation: 0.0722\n",
      "Iteration 0086: RG-uniform: 0.1808, RG-normal: 0.1526, reconstruction validation: 0.0667\n",
      "Iteration 0087: RG-uniform: 0.1741, RG-normal: 0.1608, reconstruction validation: 0.0659\n",
      "Iteration 0088: RG-uniform: 0.1788, RG-normal: 0.1594, reconstruction validation: 0.0677\n",
      "Iteration 0089: RG-uniform: 0.1767, RG-normal: 0.1610, reconstruction validation: 0.0639\n",
      "Iteration 0090: RG-uniform: 0.1834, RG-normal: 0.1521, reconstruction validation: 0.0666\n",
      "Iteration 0091: RG-uniform: 0.1767, RG-normal: 0.1507, reconstruction validation: 0.0695\n",
      "Iteration 0092: RG-uniform: 0.1925, RG-normal: 0.1544, reconstruction validation: 0.0670\n",
      "Iteration 0093: RG-uniform: 0.1774, RG-normal: 0.1567, reconstruction validation: 0.0664\n",
      "Iteration 0094: RG-uniform: 0.1777, RG-normal: 0.1554, reconstruction validation: 0.0700\n",
      "Iteration 0095: RG-uniform: 0.1790, RG-normal: 0.1556, reconstruction validation: 0.0655\n",
      "Iteration 0096: RG-uniform: 0.1747, RG-normal: 0.1566, reconstruction validation: 0.0767\n",
      "Iteration 0097: RG-uniform: 0.1831, RG-normal: 0.1572, reconstruction validation: 0.0717\n",
      "Iteration 0098: RG-uniform: 0.1717, RG-normal: 0.1589, reconstruction validation: 0.0644\n",
      "Iteration 0099: RG-uniform: 0.1779, RG-normal: 0.1618, reconstruction validation: 0.0614\n",
      "Iteration 0100: RG-uniform: 0.1714, RG-normal: 0.1618, reconstruction validation: 0.0593\n"
     ]
    }
   ],
   "source": [
    "log_attack = mra.attack(\n",
    "    attack_iter=100,\n",
    "    make_generator=make_generator,\n",
    "    input_noise=\"normal\",\n",
    "    input_z=True,\n",
    "    model_leak=True,\n",
    "    lr_x=0.001,\n",
    "    lr_f=0.0001,\n",
    "    epoch=200,\n",
    "    iter_x=50,\n",
    "    iter_f=1,\n",
    "    verbose=True, log_every=1)"
   ]
  },
  {
   "cell_type": "code",
   "execution_count": 7,
   "metadata": {},
   "outputs": [],
   "source": [
    "np.savetxt(\"./log/drive-3.csv\", log_attack, delimiter=\",\")"
   ]
  }
 ],
 "metadata": {
  "interpreter": {
   "hash": "d9ff725623c15d695aa319bbc94ea42e245a1edcf20c6f47c05aed8c0d68e7f4"
  },
  "kernelspec": {
   "display_name": "Python 3.9.7 64-bit",
   "language": "python",
   "name": "python3"
  },
  "language_info": {
   "codemirror_mode": {
    "name": "ipython",
    "version": 3
   },
   "file_extension": ".py",
   "mimetype": "text/x-python",
   "name": "python",
   "nbconvert_exporter": "python",
   "pygments_lexer": "ipython3",
   "version": "3.8.10"
  },
  "orig_nbformat": 4
 },
 "nbformat": 4,
 "nbformat_minor": 2
}
