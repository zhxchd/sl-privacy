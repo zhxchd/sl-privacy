{
 "cells": [
  {
   "cell_type": "markdown",
   "metadata": {},
   "source": [
    "# Model recovery attack: `drive-diagnosis`"
   ]
  },
  {
   "cell_type": "code",
   "execution_count": 1,
   "metadata": {},
   "outputs": [],
   "source": [
    "%load_ext autoreload\n",
    "%autoreload 2\n",
    "\n",
    "import tensorflow as tf\n",
    "import numpy as np\n",
    "import matplotlib.pyplot as plt\n",
    "import pandas as pd\n",
    "\n",
    "import mra\n",
    "from mra import *\n",
    "\n",
    "os.environ['CUDA_VISIBLE_DEVICES'] = '-1'"
   ]
  },
  {
   "cell_type": "code",
   "execution_count": 2,
   "metadata": {},
   "outputs": [
    {
     "name": "stderr",
     "output_type": "stream",
     "text": [
      "2022-02-16 02:35:08.027883: E tensorflow/stream_executor/cuda/cuda_driver.cc:271] failed call to cuInit: CUDA_ERROR_NO_DEVICE: no CUDA-capable device is detected\n",
      "2022-02-16 02:35:08.028012: I tensorflow/stream_executor/cuda/cuda_diagnostics.cc:169] retrieving CUDA diagnostic information for host: xgpg2\n",
      "2022-02-16 02:35:08.028025: I tensorflow/stream_executor/cuda/cuda_diagnostics.cc:176] hostname: xgpg2\n",
      "2022-02-16 02:35:08.028178: I tensorflow/stream_executor/cuda/cuda_diagnostics.cc:200] libcuda reported version is: 470.103.1\n",
      "2022-02-16 02:35:08.028224: I tensorflow/stream_executor/cuda/cuda_diagnostics.cc:204] kernel reported version is: 470.103.1\n",
      "2022-02-16 02:35:08.028236: I tensorflow/stream_executor/cuda/cuda_diagnostics.cc:310] kernel version seems to match DSO: 470.103.1\n",
      "2022-02-16 02:35:08.028937: I tensorflow/core/platform/cpu_feature_guard.cc:151] This TensorFlow binary is optimized with oneAPI Deep Neural Network Library (oneDNN) to use the following CPU instructions in performance-critical operations:  AVX2 FMA\n",
      "To enable them in other operations, rebuild TensorFlow with the appropriate compiler flags.\n"
     ]
    }
   ],
   "source": [
    "def make_dataset(X, Y, f):\n",
    "    x = tf.data.Dataset.from_tensor_slices(X)\n",
    "    y = tf.data.Dataset.from_tensor_slices(Y)\n",
    "    x = x.map(f)\n",
    "    xy = tf.data.Dataset.zip((x, y))\n",
    "    xy = xy.shuffle(10000)\n",
    "    return xy\n",
    "\n",
    "xy = np.loadtxt(\"../datasets/drive-diagnosis.txt\")\n",
    "np.random.shuffle(xy)\n",
    "x = xy[:,0:-1]\n",
    "y = xy[:,-1]\n",
    "\n",
    "min_values = np.array([min(x[:,i]) for i in range(x.shape[1])])\n",
    "max_values = np.array([max(x[:,i]) for i in range(x.shape[1])])\n",
    "x = (x-min_values)/(max_values - min_values)\n",
    "y = y.reshape((len(x), 1)).astype(\"float32\")-1\n",
    "train_ds = make_dataset(x, y, lambda t: t)\n",
    "\n",
    "mra = mra(train_ds)"
   ]
  },
  {
   "cell_type": "code",
   "execution_count": 3,
   "metadata": {},
   "outputs": [],
   "source": [
    "def make_f(input_shape):\n",
    "    xin = tf.keras.layers.Input(input_shape)\n",
    "    x = tf.keras.layers.Dense(256, activation=\"relu\")(xin)\n",
    "    output = tf.keras.layers.Dense(256, activation=\"relu\")(x)\n",
    "    return tf.keras.Model(xin, output)\n",
    "\n",
    "def make_g(input_shape):\n",
    "    xin = tf.keras.layers.Input(input_shape)\n",
    "    x = tf.keras.layers.Dense(256, activation=\"relu\")(xin)\n",
    "    x = tf.keras.layers.Dense(256, activation=\"relu\")(x)\n",
    "    output = tf.keras.layers.Dense(11, activation=\"softmax\")(x)\n",
    "    return tf.keras.Model(xin, output)"
   ]
  },
  {
   "cell_type": "code",
   "execution_count": 4,
   "metadata": {},
   "outputs": [
    {
     "name": "stdout",
     "output_type": "stream",
     "text": [
      "Iteration 0001: Training loss: 2.3777\n",
      "Iteration 1001: Training loss: 0.2920\n",
      "Iteration 2001: Training loss: 0.4098\n",
      "Iteration 3001: Training loss: 0.4618\n",
      "Iteration 4001: Training loss: 0.3956\n",
      "Iteration 5001: Training loss: 0.2371\n",
      "Iteration 6001: Training loss: 0.4529\n",
      "Iteration 7001: Training loss: 0.0985\n",
      "Iteration 8001: Training loss: 0.1373\n",
      "Iteration 9001: Training loss: 0.2675\n"
     ]
    }
   ],
   "source": [
    "log_train = mra.train(\n",
    "    make_f,\n",
    "    make_g,\n",
    "    loss_fn=tf.keras.losses.sparse_categorical_crossentropy,\n",
    "    batch_size=32,\n",
    "    epoch=5,\n",
    "    lr=0.001,\n",
    "    verbose=True, log_every=1000\n",
    "    )"
   ]
  },
  {
   "cell_type": "code",
   "execution_count": 5,
   "metadata": {},
   "outputs": [],
   "source": [
    "def make_generator(input_shape):\n",
    "    xin = tf.keras.layers.Input(input_shape)\n",
    "    act = \"relu\"\n",
    "    x = tf.keras.layers.Dense(1024, activation=act)(xin)\n",
    "    x = tf.keras.layers.Dense(512, activation=act)(x)\n",
    "    x = tf.keras.layers.Dense(256, activation=act)(x)\n",
    "    x = tf.keras.layers.Dense(128, activation=act)(x)\n",
    "    x = tf.keras.layers.Dense(64, activation=act)(x)\n",
    "    x = tf.keras.layers.Dense(48, activation=\"sigmoid\")(x)\n",
    "    return tf.keras.Model(xin, x)"
   ]
  },
  {
   "cell_type": "code",
   "execution_count": 7,
   "metadata": {},
   "outputs": [
    {
     "name": "stdout",
     "output_type": "stream",
     "text": [
      "Iteration 0001: RG-uniform: 0.1730, RG-normal: 0.1533, reconstruction validation: 0.0054\n",
      "Iteration 0002: RG-uniform: 0.1761, RG-normal: 0.1555, reconstruction validation: 0.0043\n",
      "Iteration 0003: RG-uniform: 0.1894, RG-normal: 0.1746, reconstruction validation: 0.0046\n",
      "Iteration 0004: RG-uniform: 0.1843, RG-normal: 0.1630, reconstruction validation: 0.0045\n",
      "Iteration 0005: RG-uniform: 0.1798, RG-normal: 0.1594, reconstruction validation: 0.0049\n",
      "Iteration 0006: RG-uniform: 0.1703, RG-normal: 0.1538, reconstruction validation: 0.0053\n",
      "Iteration 0007: RG-uniform: 0.1711, RG-normal: 0.1605, reconstruction validation: 0.0056\n",
      "Iteration 0008: RG-uniform: 0.1799, RG-normal: 0.1589, reconstruction validation: 0.0052\n",
      "Iteration 0009: RG-uniform: 0.1732, RG-normal: 0.1593, reconstruction validation: 0.0054\n",
      "Iteration 0010: RG-uniform: 0.1814, RG-normal: 0.1643, reconstruction validation: 0.0056\n",
      "Iteration 0011: RG-uniform: 0.1814, RG-normal: 0.1633, reconstruction validation: 0.0051\n",
      "Iteration 0012: RG-uniform: 0.1709, RG-normal: 0.1474, reconstruction validation: 0.0059\n",
      "Iteration 0013: RG-uniform: 0.1916, RG-normal: 0.1607, reconstruction validation: 0.0060\n",
      "Iteration 0014: RG-uniform: 0.1762, RG-normal: 0.1556, reconstruction validation: 0.0071\n",
      "Iteration 0015: RG-uniform: 0.1774, RG-normal: 0.1587, reconstruction validation: 0.0100\n",
      "Iteration 0016: RG-uniform: 0.1911, RG-normal: 0.1565, reconstruction validation: 0.0084\n",
      "Iteration 0017: RG-uniform: 0.1748, RG-normal: 0.1503, reconstruction validation: 0.0089\n",
      "Iteration 0018: RG-uniform: 0.1763, RG-normal: 0.1599, reconstruction validation: 0.0111\n",
      "Iteration 0019: RG-uniform: 0.1796, RG-normal: 0.1538, reconstruction validation: 0.0110\n",
      "Iteration 0020: RG-uniform: 0.1783, RG-normal: 0.1593, reconstruction validation: 0.0157\n",
      "Iteration 0021: RG-uniform: 0.1856, RG-normal: 0.1530, reconstruction validation: 0.0145\n",
      "Iteration 0022: RG-uniform: 0.1824, RG-normal: 0.1658, reconstruction validation: 0.0132\n",
      "Iteration 0023: RG-uniform: 0.1743, RG-normal: 0.1565, reconstruction validation: 0.0112\n",
      "Iteration 0024: RG-uniform: 0.1767, RG-normal: 0.1598, reconstruction validation: 0.0128\n",
      "Iteration 0025: RG-uniform: 0.1752, RG-normal: 0.1565, reconstruction validation: 0.0136\n",
      "Iteration 0026: RG-uniform: 0.1729, RG-normal: 0.1615, reconstruction validation: 0.0165\n",
      "Iteration 0027: RG-uniform: 0.1790, RG-normal: 0.1694, reconstruction validation: 0.0159\n",
      "Iteration 0028: RG-uniform: 0.1940, RG-normal: 0.1671, reconstruction validation: 0.0139\n",
      "Iteration 0029: RG-uniform: 0.1757, RG-normal: 0.1646, reconstruction validation: 0.0110\n",
      "Iteration 0030: RG-uniform: 0.1783, RG-normal: 0.1534, reconstruction validation: 0.0090\n",
      "Iteration 0031: RG-uniform: 0.1829, RG-normal: 0.1576, reconstruction validation: 0.0115\n",
      "Iteration 0032: RG-uniform: 0.1861, RG-normal: 0.1630, reconstruction validation: 0.0114\n",
      "Iteration 0033: RG-uniform: 0.1801, RG-normal: 0.1574, reconstruction validation: 0.0099\n",
      "Iteration 0034: RG-uniform: 0.1768, RG-normal: 0.1595, reconstruction validation: 0.0093\n",
      "Iteration 0035: RG-uniform: 0.1882, RG-normal: 0.1589, reconstruction validation: 0.0087\n",
      "Iteration 0036: RG-uniform: 0.1841, RG-normal: 0.1522, reconstruction validation: 0.0117\n",
      "Iteration 0037: RG-uniform: 0.1715, RG-normal: 0.1613, reconstruction validation: 0.0110\n",
      "Iteration 0038: RG-uniform: 0.1798, RG-normal: 0.1636, reconstruction validation: 0.0099\n",
      "Iteration 0039: RG-uniform: 0.1811, RG-normal: 0.1532, reconstruction validation: 0.0104\n",
      "Iteration 0040: RG-uniform: 0.1805, RG-normal: 0.1613, reconstruction validation: 0.0092\n",
      "Iteration 0041: RG-uniform: 0.1733, RG-normal: 0.1554, reconstruction validation: 0.0100\n",
      "Iteration 0042: RG-uniform: 0.1761, RG-normal: 0.1589, reconstruction validation: 0.0098\n",
      "Iteration 0043: RG-uniform: 0.1709, RG-normal: 0.1670, reconstruction validation: 0.0091\n",
      "Iteration 0044: RG-uniform: 0.1873, RG-normal: 0.1606, reconstruction validation: 0.0094\n",
      "Iteration 0045: RG-uniform: 0.1752, RG-normal: 0.1585, reconstruction validation: 0.0089\n",
      "Iteration 0046: RG-uniform: 0.1767, RG-normal: 0.1514, reconstruction validation: 0.0101\n",
      "Iteration 0047: RG-uniform: 0.1765, RG-normal: 0.1473, reconstruction validation: 0.0104\n",
      "Iteration 0048: RG-uniform: 0.1860, RG-normal: 0.1557, reconstruction validation: 0.0098\n",
      "Iteration 0049: RG-uniform: 0.1802, RG-normal: 0.1558, reconstruction validation: 0.0108\n",
      "Iteration 0050: RG-uniform: 0.1836, RG-normal: 0.1560, reconstruction validation: 0.0107\n",
      "Iteration 0051: RG-uniform: 0.1816, RG-normal: 0.1604, reconstruction validation: 0.0113\n",
      "Iteration 0052: RG-uniform: 0.1758, RG-normal: 0.1529, reconstruction validation: 0.0122\n",
      "Iteration 0053: RG-uniform: 0.1897, RG-normal: 0.1547, reconstruction validation: 0.0123\n",
      "Iteration 0054: RG-uniform: 0.1825, RG-normal: 0.1614, reconstruction validation: 0.0122\n",
      "Iteration 0055: RG-uniform: 0.1767, RG-normal: 0.1561, reconstruction validation: 0.0114\n",
      "Iteration 0056: RG-uniform: 0.1752, RG-normal: 0.1606, reconstruction validation: 0.0126\n",
      "Iteration 0057: RG-uniform: 0.1732, RG-normal: 0.1572, reconstruction validation: 0.0137\n",
      "Iteration 0058: RG-uniform: 0.1790, RG-normal: 0.1595, reconstruction validation: 0.0110\n",
      "Iteration 0059: RG-uniform: 0.1749, RG-normal: 0.1690, reconstruction validation: 0.0120\n",
      "Iteration 0060: RG-uniform: 0.1816, RG-normal: 0.1633, reconstruction validation: 0.0128\n",
      "Iteration 0061: RG-uniform: 0.1737, RG-normal: 0.1645, reconstruction validation: 0.0141\n",
      "Iteration 0062: RG-uniform: 0.1756, RG-normal: 0.1521, reconstruction validation: 0.0124\n",
      "Iteration 0063: RG-uniform: 0.1782, RG-normal: 0.1636, reconstruction validation: 0.0146\n",
      "Iteration 0064: RG-uniform: 0.1847, RG-normal: 0.1551, reconstruction validation: 0.0133\n",
      "Iteration 0065: RG-uniform: 0.1867, RG-normal: 0.1585, reconstruction validation: 0.0129\n",
      "Iteration 0066: RG-uniform: 0.1760, RG-normal: 0.1577, reconstruction validation: 0.0129\n",
      "Iteration 0067: RG-uniform: 0.1785, RG-normal: 0.1519, reconstruction validation: 0.0141\n",
      "Iteration 0068: RG-uniform: 0.1726, RG-normal: 0.1490, reconstruction validation: 0.0127\n",
      "Iteration 0069: RG-uniform: 0.1799, RG-normal: 0.1547, reconstruction validation: 0.0151\n",
      "Iteration 0070: RG-uniform: 0.1723, RG-normal: 0.1626, reconstruction validation: 0.0169\n",
      "Iteration 0071: RG-uniform: 0.1774, RG-normal: 0.1560, reconstruction validation: 0.0177\n",
      "Iteration 0072: RG-uniform: 0.1845, RG-normal: 0.1614, reconstruction validation: 0.0196\n",
      "Iteration 0073: RG-uniform: 0.1802, RG-normal: 0.1506, reconstruction validation: 0.0195\n",
      "Iteration 0074: RG-uniform: 0.1759, RG-normal: 0.1530, reconstruction validation: 0.0218\n",
      "Iteration 0075: RG-uniform: 0.1852, RG-normal: 0.1574, reconstruction validation: 0.0184\n",
      "Iteration 0076: RG-uniform: 0.1787, RG-normal: 0.1627, reconstruction validation: 0.0184\n",
      "Iteration 0077: RG-uniform: 0.1792, RG-normal: 0.1703, reconstruction validation: 0.0202\n",
      "Iteration 0078: RG-uniform: 0.1867, RG-normal: 0.1658, reconstruction validation: 0.0181\n",
      "Iteration 0079: RG-uniform: 0.1742, RG-normal: 0.1615, reconstruction validation: 0.0210\n",
      "Iteration 0080: RG-uniform: 0.1765, RG-normal: 0.1545, reconstruction validation: 0.0259\n",
      "Iteration 0081: RG-uniform: 0.1719, RG-normal: 0.1542, reconstruction validation: 0.0255\n",
      "Iteration 0082: RG-uniform: 0.1812, RG-normal: 0.1693, reconstruction validation: 0.0302\n",
      "Iteration 0083: RG-uniform: 0.1704, RG-normal: 0.1603, reconstruction validation: 0.0293\n",
      "Iteration 0084: RG-uniform: 0.1740, RG-normal: 0.1595, reconstruction validation: 0.0236\n",
      "Iteration 0085: RG-uniform: 0.1791, RG-normal: 0.1640, reconstruction validation: 0.0241\n",
      "Iteration 0086: RG-uniform: 0.1866, RG-normal: 0.1593, reconstruction validation: 0.0244\n",
      "Iteration 0087: RG-uniform: 0.1812, RG-normal: 0.1556, reconstruction validation: 0.0288\n",
      "Iteration 0088: RG-uniform: 0.1893, RG-normal: 0.1600, reconstruction validation: 0.0305\n",
      "Iteration 0089: RG-uniform: 0.1763, RG-normal: 0.1555, reconstruction validation: 0.0270\n",
      "Iteration 0090: RG-uniform: 0.1769, RG-normal: 0.1512, reconstruction validation: 0.0222\n",
      "Iteration 0091: RG-uniform: 0.1749, RG-normal: 0.1596, reconstruction validation: 0.0225\n",
      "Iteration 0092: RG-uniform: 0.1792, RG-normal: 0.1530, reconstruction validation: 0.0249\n",
      "Iteration 0093: RG-uniform: 0.1732, RG-normal: 0.1573, reconstruction validation: 0.0268\n",
      "Iteration 0094: RG-uniform: 0.1752, RG-normal: 0.1561, reconstruction validation: 0.0242\n",
      "Iteration 0095: RG-uniform: 0.1728, RG-normal: 0.1619, reconstruction validation: 0.0258\n",
      "Iteration 0096: RG-uniform: 0.1781, RG-normal: 0.1601, reconstruction validation: 0.0240\n",
      "Iteration 0097: RG-uniform: 0.1844, RG-normal: 0.1650, reconstruction validation: 0.0252\n",
      "Iteration 0098: RG-uniform: 0.1818, RG-normal: 0.1618, reconstruction validation: 0.0231\n",
      "Iteration 0099: RG-uniform: 0.1722, RG-normal: 0.1532, reconstruction validation: 0.0216\n",
      "Iteration 0100: RG-uniform: 0.1824, RG-normal: 0.1626, reconstruction validation: 0.0226\n"
     ]
    }
   ],
   "source": [
    "log_attack = mra.attack(\n",
    "    attack_iter=100,\n",
    "    make_generator=make_generator,\n",
    "    input_noise=\"normal\",\n",
    "    input_z=True,\n",
    "    model_leak=True,\n",
    "    lr_x=0.001,\n",
    "    lr_f=0.0001,\n",
    "    epoch=200,\n",
    "    iter_x=50,\n",
    "    iter_f=1,\n",
    "    verbose=True, log_every=1)"
   ]
  },
  {
   "cell_type": "code",
   "execution_count": 8,
   "metadata": {},
   "outputs": [],
   "source": [
    "np.savetxt(\"./log/drive-2.csv\", log_attack, delimiter=\",\")"
   ]
  },
  {
   "cell_type": "code",
   "execution_count": 11,
   "metadata": {},
   "outputs": [
    {
     "data": {
      "image/png": "[encoded data removed]",
      "text/plain": [
       "<Figure size 432x288 with 1 Axes>"
      ]
     },
     "metadata": {
      "needs_background": "light"
     },
     "output_type": "display_data"
    }
   ],
   "source": [
    "import numpy as np\n",
    "import matplotlib.pyplot as plt\n",
    "\n",
    "log_attack = np.loadtxt(\"./log/drive-2.csv\", delimiter=\",\")\n",
    "layer3 = np.loadtxt(\"./log/drive-3.csv\", delimiter=\",\")[:,2]\n",
    "layer4 = np.loadtxt(\"./log/drive-4.csv\", delimiter=\",\")[:,2]\n",
    "\n",
    "plt.xlim([0,100])\n",
    "plt.ylim([0,0.25])\n",
    "plt.grid()\n",
    "plt.ylabel('MSE per feature')\n",
    "plt.xlabel('Batch distance from the obtained model snapshot')\n",
    "ran = [i+1 for i in range(100)]\n",
    "plt.plot(\n",
    "    ran, log_attack[:,0], 'co-',\n",
    "    ran, log_attack[:,1], 'mv-',\n",
    "    ran, log_attack[:,2], 'gD-',\n",
    "    ran, layer3, 'r^-',\n",
    "    ran, layer4, 'bs-',\n",
    "    markevery=np.arange(0, 101, 9))\n",
    "plt.legend(['RG-uniform', 'RG-normal', 'MRA ($h_c=2$)', 'MRA ($h_c=3$)', 'MRA ($h_C=4$)'], loc='upper center', ncol=3)\n",
    "plt.savefig(\"fig/drive-234.pdf\", bbox_inches='tight')"
   ]
  }
 ],
 "metadata": {
  "interpreter": {
   "hash": "d9ff725623c15d695aa319bbc94ea42e245a1edcf20c6f47c05aed8c0d68e7f4"
  },
  "kernelspec": {
   "display_name": "Python 3.9.7 64-bit",
   "language": "python",
   "name": "python3"
  },
  "language_info": {
   "codemirror_mode": {
    "name": "ipython",
    "version": 3
   },
   "file_extension": ".py",
   "mimetype": "text/x-python",
   "name": "python",
   "nbconvert_exporter": "python",
   "pygments_lexer": "ipython3",
   "version": "3.8.10"
  },
  "orig_nbformat": 4
 },
 "nbformat": 4,
 "nbformat_minor": 2
}
