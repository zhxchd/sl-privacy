{
 "cells": [
  {
   "cell_type": "markdown",
   "metadata": {},
   "source": [
    "# Model recovery attack: `German-credit`"
   ]
  },
  {
   "cell_type": "code",
   "execution_count": 1,
   "metadata": {},
   "outputs": [],
   "source": [
    "import tensorflow as tf\n",
    "import numpy as np\n",
    "import matplotlib.pyplot as plt\n",
    "import pandas as pd"
   ]
  },
  {
   "cell_type": "code",
   "execution_count": 2,
   "metadata": {},
   "outputs": [
    {
     "name": "stderr",
     "output_type": "stream",
     "text": [
      "2022-02-10 15:25:41.269786: I tensorflow/core/platform/cpu_feature_guard.cc:151] This TensorFlow binary is optimized with oneAPI Deep Neural Network Library (oneDNN) to use the following CPU instructions in performance-critical operations:  AVX2 AVX512F FMA\n",
      "To enable them in other operations, rebuild TensorFlow with the appropriate compiler flags.\n",
      "2022-02-10 15:26:05.436880: I tensorflow/core/common_runtime/gpu/gpu_device.cc:1525] Created device /job:localhost/replica:0/task:0/device:GPU:0 with 22336 MB memory:  -> device: 0, name: NVIDIA RTX A5000, pci bus id: 0000:3b:00.0, compute capability: 8.6\n",
      "2022-02-10 15:26:05.661410: I tensorflow/core/common_runtime/gpu/gpu_device.cc:1525] Created device /job:localhost/replica:0/task:0/device:GPU:1 with 3168 MB memory:  -> device: 1, name: NVIDIA RTX A5000, pci bus id: 0000:5e:00.0, compute capability: 8.6\n",
      "2022-02-10 15:26:05.662329: I tensorflow/core/common_runtime/gpu/gpu_device.cc:1525] Created device /job:localhost/replica:0/task:0/device:GPU:2 with 1717 MB memory:  -> device: 2, name: NVIDIA RTX A5000, pci bus id: 0000:af:00.0, compute capability: 8.6\n",
      "2022-02-10 15:26:05.663119: I tensorflow/core/common_runtime/gpu/gpu_device.cc:1525] Created device /job:localhost/replica:0/task:0/device:GPU:3 with 3306 MB memory:  -> device: 3, name: NVIDIA RTX A5000, pci bus id: 0000:d8:00.0, compute capability: 8.6\n"
     ]
    }
   ],
   "source": [
    "def make_dataset(X, Y, f):\n",
    "    x = tf.data.Dataset.from_tensor_slices(X)\n",
    "    y = tf.data.Dataset.from_tensor_slices(Y)\n",
    "    x = x.map(f)\n",
    "    xy = tf.data.Dataset.zip((x, y))\n",
    "    xy = xy.shuffle(10000)\n",
    "    return xy\n",
    "\n",
    "df = pd.read_csv('../datasets/german-credit.csv', index_col=0).sample(frac=1)\n",
    "min_values = df.drop(columns=[\"kredit\"]).describe().transpose()['min'].to_numpy()\n",
    "max_values = df.drop(columns=[\"kredit\"]).describe().transpose()['max'].to_numpy()\n",
    "x = df.drop(columns=[\"kredit\"]).to_numpy()\n",
    "x = (x-min_values)/(max_values-min_values)\n",
    "y = df[\"kredit\"].to_numpy().reshape((len(x), 1)).astype(\"float32\")\n",
    "train_ds = make_dataset(x, y, lambda t: t)\n",
    "\n",
    "num_classes = 2\n",
    "train_size = len(x)"
   ]
  },
  {
   "cell_type": "code",
   "execution_count": 3,
   "metadata": {},
   "outputs": [],
   "source": [
    "def make_f(input_shape):\n",
    "    xin = tf.keras.layers.Input(input_shape)\n",
    "    x = tf.keras.layers.BatchNormalization()(xin)\n",
    "    x = tf.keras.layers.Dense(32, activation=\"relu\")(x)\n",
    "    x = tf.keras.layers.Dense(64, activation=\"relu\")(x)\n",
    "    output = tf.keras.layers.Dense(128, activation=\"relu\")(x)\n",
    "    return tf.keras.Model(xin, output)\n",
    "\n",
    "def make_g(input_shape):\n",
    "    xin = tf.keras.layers.Input(input_shape)\n",
    "    x = tf.keras.layers.Dense(512, activation=\"relu\")(xin)\n",
    "    output = tf.keras.layers.Dense(1, activation=\"sigmoid\")(x)\n",
    "    return tf.keras.Model(xin, output)\n",
    "\n",
    "input_shape = train_ds.element_spec[0].shape\n",
    "f = make_f(input_shape)\n",
    "intermediate_shape = f.layers[-1].output_shape[1:]\n",
    "g = make_g(intermediate_shape)"
   ]
  },
  {
   "cell_type": "code",
   "execution_count": 4,
   "metadata": {},
   "outputs": [],
   "source": [
    "batch_size = 32\n",
    "epoches = 5\n",
    "# note that iterations is the number of batches we iterate\n",
    "iterations = epoches * train_size // batch_size\n",
    "# iterations = 100\n",
    "learning_rate = 0.001"
   ]
  },
  {
   "cell_type": "code",
   "execution_count": 5,
   "metadata": {},
   "outputs": [
    {
     "name": "stderr",
     "output_type": "stream",
     "text": [
      "2022-02-10 15:26:43.308042: I tensorflow/stream_executor/cuda/cuda_blas.cc:1786] TensorFloat-32 will be used for the matrix multiplication. This will only be logged once.\n"
     ]
    },
    {
     "name": "stdout",
     "output_type": "stream",
     "text": [
      "Iteration 0001: Training loss: 0.7177 training accuracy: 0.4688\n",
      "Iteration 0101: Training loss: 0.5309 training accuracy: 0.7188\n"
     ]
    }
   ],
   "source": [
    "optimizer = tf.keras.optimizers.Adam(learning_rate=learning_rate)\n",
    "train_batches = train_ds.batch(batch_size=batch_size, drop_remainder=True).repeat(-1).take(iterations)\n",
    "train_ref = []\n",
    "z_ref = []\n",
    "\n",
    "log = []\n",
    "iter_count = 0\n",
    "log_frequency = 100\n",
    "\n",
    "for (x_batch, y_batch) in train_batches:\n",
    "    \n",
    "    with tf.GradientTape(persistent=True) as tape:\n",
    "        z = f(x_batch, training=True)\n",
    "        y_pred = g(z, training = True)\n",
    "        if num_classes == 2:\n",
    "            loss = tf.keras.losses.binary_crossentropy(y_true=y_batch, y_pred=y_pred)\n",
    "            acc = tf.keras.metrics.binary_accuracy(y_batch, y_pred)\n",
    "        else:\n",
    "            loss = tf.keras.losses.sparse_categorical_crossentropy(y_true=y_batch, y_pred=y_pred)\n",
    "            acc = tf.metrics.sparse_categorical_accuracy(y_batch, y_pred)\n",
    "    var = f.trainable_variables + g.trainable_variables\n",
    "    grad = tape.gradient(loss, var)\n",
    "    optimizer.apply_gradients(zip(grad, var))\n",
    "\n",
    "    iter_loss = sum(loss) / len(loss)\n",
    "    iter_acc = sum(acc) / len(acc)\n",
    "    log.append([iter_loss, iter_acc])\n",
    "    iter_count += 1\n",
    "\n",
    "    train_ref.append(x_batch)\n",
    "    z_ref.append(z)\n",
    "\n",
    "    if (iter_count - 1) % log_frequency == 0:\n",
    "        print(\"Iteration %04d: Training loss: %0.4f training accuracy: %0.4f\" % (iter_count, iter_loss, iter_acc))"
   ]
  },
  {
   "cell_type": "code",
   "execution_count": 30,
   "metadata": {},
   "outputs": [],
   "source": [
    "def make_generator(input_shape):\n",
    "    xin = tf.keras.layers.Input(input_shape)\n",
    "    act = \"relu\"\n",
    "    x = tf.keras.layers.Dense(512, activation=act)(xin)\n",
    "    x = tf.keras.layers.Dense(256, activation=act)(x)\n",
    "    x = tf.keras.layers.Dense(128, activation=act)(x)\n",
    "    x = tf.keras.layers.Dense(64, activation=act)(x)\n",
    "    x = tf.keras.layers.Dense(32, activation=act)(x)\n",
    "    x = tf.keras.layers.Dense(19, activation=\"sigmoid\")(x)\n",
    "    return tf.keras.Model(xin, x)\n",
    "\n",
    "def make_random_generator(input_shape):\n",
    "    xin = tf.keras.layers.Input(input_shape)\n",
    "    act = \"relu\"\n",
    "    # x = tf.keras.layers.Dense(1024, activation=act)(xin)\n",
    "    # x = tf.keras.layers.BatchNormalization()(xin)\n",
    "    x = tf.keras.layers.Dense(512, activation=act)(xin)\n",
    "    x = tf.keras.layers.Dense(256, activation=act)(x)\n",
    "    x = tf.keras.layers.Dense(128, activation=act)(x)\n",
    "    x = tf.keras.layers.Dense(64, activation=act)(x)\n",
    "    x = tf.keras.layers.Dense(32, activation=act)(x)\n",
    "    x = tf.keras.layers.Dense(19, activation=\"sigmoid\")(x)\n",
    "    return tf.keras.Model(xin, x)"
   ]
  },
  {
   "cell_type": "code",
   "execution_count": 38,
   "metadata": {},
   "outputs": [
    {
     "name": "stdout",
     "output_type": "stream",
     "text": [
      "Iteration 0000: RG: 0.2315 reconstruction validation: 0.0900\n"
     ]
    }
   ],
   "source": [
    "f_temp = tf.keras.models.clone_model(f)\n",
    "f_temp.set_weights(f.get_weights())\n",
    "\n",
    "# generator = make_generator(intermediate_shape)\n",
    "generator = make_random_generator((256,))\n",
    "\n",
    "# inference_batches = attack_ds.batch(batch_size=32, drop_remainder=True).repeat(-1).take(attack_iterations)\n",
    "\n",
    "attack_iter_count = 0\n",
    "log = []\n",
    "\n",
    "# for (x_batch, y_batch) in inference_batches:\n",
    "for i in range(1):\n",
    "\n",
    "    x_opt = tf.keras.optimizers.Adam(learning_rate=0.001)\n",
    "    f_opt = tf.keras.optimizers.Adam(learning_rate=0.00001)\n",
    "\n",
    "    z = z_ref[iterations - i - 1]\n",
    "    x = train_ref[iterations - i - 1]\n",
    "\n",
    "    # x_temp = tf.Variable(2 * np.random.rand(*(x.numpy().shape)) - 1)\n",
    "\n",
    "    # x_temp = np.zeros_like(x.numpy())\n",
    "    # x_temp.fill(0.5)\n",
    "    # x_temp = tf.Variable(x_temp)\n",
    "\n",
    "    for _ in range(200):\n",
    "\n",
    "        for _ in range(50):\n",
    "            with tf.GradientTape() as tape:\n",
    "                # x_temp = generator(z, training=True)\n",
    "                r = tf.random.normal(shape=z.shape, mean=0.5, stddev=0.25)\n",
    "                # r = tf.constant(np.random.rand(*(z.numpy().shape)).astype(\"float32\"))\n",
    "                x_temp = generator(tf.concat([z, r], 1), training=True)\n",
    "                loss_x = tf.keras.losses.MeanSquaredError()(f_temp(x_temp, training=False), z)\n",
    "            vars = generator.trainable_variables\n",
    "            grad = tape.gradient(loss_x, vars)\n",
    "            x_opt.apply_gradients(zip(grad, vars))\n",
    "            # loss = lambda: tf.keras.losses.MeanSquaredError()(f_temp(x_temp, training=False), z)\n",
    "            # x_opt.minimize(loss, var_list=[x_temp])\n",
    "\n",
    "        for _ in range(1):\n",
    "            with tf.GradientTape() as tape:\n",
    "                loss_f = tf.keras.losses.MeanSquaredError()(f_temp(x_temp, training=True), z)\n",
    "            vars = f_temp.trainable_variables\n",
    "            grad = tape.gradient(loss_f, vars)\n",
    "            f_opt.apply_gradients(zip(grad, vars))\n",
    "\n",
    "    attack_mse = tf.losses.MeanSquaredError()(x_temp, x)\n",
    "    rg_uniform = tf.losses.MeanSquaredError()(x, np.random.rand(*(x.numpy().shape)))\n",
    "    rg_normal = tf.losses.MeanSquaredError()(x, np.random.normal(0.5, 0.25, size=(x.numpy().shape)))\n",
    "    log.append([rg_uniform, rg_normal, attack_mse])\n",
    "    if (attack_iter_count % 10 == 0):\n",
    "        print(\"Iteration %04d: RG: %0.4f reconstruction validation: %0.4f\" % (attack_iter_count, rg_uniform, attack_mse))\n",
    "    attack_iter_count += 1"
   ]
  },
  {
   "cell_type": "code",
   "execution_count": 8,
   "metadata": {},
   "outputs": [],
   "source": [
    "np.savetxt(\"./log/german.csv\", np.array(log), delimiter=\",\")"
   ]
  },
  {
   "cell_type": "code",
   "execution_count": 3,
   "metadata": {},
   "outputs": [
    {
     "data": {
      "image/png": "[encoded data removed]",
      "text/plain": [
       "<Figure size 432x288 with 1 Axes>"
      ]
     },
     "metadata": {
      "needs_background": "light"
     },
     "output_type": "display_data"
    }
   ],
   "source": [
    "log = np.array(log)\n",
    "plt.ylabel('Attack MSE')\n",
    "plt.xlabel('batch distance from the obtained model snapshot')\n",
    "ran = [i+1 for i in range(100)]\n",
    "plt.plot(ran, log[:,0], 'ro-', ran, log[:,1], 'b^-', ran, log[:,2], 'gs-', markevery=6)\n",
    "plt.legend(['UG-uniform', 'UG-normal', 'MRA (ours)'], loc='center right')\n",
    "plt.savefig(\"fig/german.pdf\")"
   ]
  }
 ],
 "metadata": {
  "interpreter": {
   "hash": "d9ff725623c15d695aa319bbc94ea42e245a1edcf20c6f47c05aed8c0d68e7f4"
  },
  "kernelspec": {
   "display_name": "Python 3.9.7 64-bit",
   "language": "python",
   "name": "python3"
  },
  "language_info": {
   "codemirror_mode": {
    "name": "ipython",
    "version": 3
   },
   "file_extension": ".py",
   "mimetype": "text/x-python",
   "name": "python",
   "nbconvert_exporter": "python",
   "pygments_lexer": "ipython3",
   "version": "3.8.10"
  },
  "orig_nbformat": 4
 },
 "nbformat": 4,
 "nbformat_minor": 2
}
