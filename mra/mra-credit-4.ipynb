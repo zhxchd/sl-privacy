{
 "cells": [
  {
   "cell_type": "markdown",
   "metadata": {},
   "source": [
    "# Model recovery attack: `credit-card`"
   ]
  },
  {
   "cell_type": "code",
   "execution_count": 1,
   "metadata": {},
   "outputs": [],
   "source": [
    "%load_ext autoreload\n",
    "%autoreload 2\n",
    "\n",
    "import tensorflow as tf\n",
    "import numpy as np\n",
    "import pandas as pd\n",
    "import matplotlib.pyplot as plt\n",
    "\n",
    "import mra\n",
    "from mra import *\n",
    "\n",
    "os.environ['CUDA_VISIBLE_DEVICES'] = '-1'"
   ]
  },
  {
   "cell_type": "code",
   "execution_count": 2,
   "metadata": {},
   "outputs": [
    {
     "name": "stderr",
     "output_type": "stream",
     "text": [
      "2022-02-17 01:13:00.483858: E tensorflow/stream_executor/cuda/cuda_driver.cc:271] failed call to cuInit: CUDA_ERROR_NO_DEVICE: no CUDA-capable device is detected\n",
      "2022-02-17 01:13:00.483911: I tensorflow/stream_executor/cuda/cuda_diagnostics.cc:169] retrieving CUDA diagnostic information for host: xgpg2\n",
      "2022-02-17 01:13:00.483921: I tensorflow/stream_executor/cuda/cuda_diagnostics.cc:176] hostname: xgpg2\n",
      "2022-02-17 01:13:00.484033: I tensorflow/stream_executor/cuda/cuda_diagnostics.cc:200] libcuda reported version is: 470.103.1\n",
      "2022-02-17 01:13:00.484060: I tensorflow/stream_executor/cuda/cuda_diagnostics.cc:204] kernel reported version is: 470.103.1\n",
      "2022-02-17 01:13:00.484067: I tensorflow/stream_executor/cuda/cuda_diagnostics.cc:310] kernel version seems to match DSO: 470.103.1\n",
      "2022-02-17 01:13:00.484533: I tensorflow/core/platform/cpu_feature_guard.cc:151] This TensorFlow binary is optimized with oneAPI Deep Neural Network Library (oneDNN) to use the following CPU instructions in performance-critical operations:  AVX2 FMA\n",
      "To enable them in other operations, rebuild TensorFlow with the appropriate compiler flags.\n"
     ]
    }
   ],
   "source": [
    "def make_dataset(X, Y, f):\n",
    "    x = tf.data.Dataset.from_tensor_slices(X)\n",
    "    y = tf.data.Dataset.from_tensor_slices(Y)\n",
    "    x = x.map(f)\n",
    "    xy = tf.data.Dataset.zip((x, y))\n",
    "    xy = xy.shuffle(10000)\n",
    "    return xy\n",
    "\n",
    "df = pd.read_excel('../datasets/credit-card.xls', header=1, index_col=0).sample(frac=1)\n",
    "min_values = df.drop(columns=[\"default payment next month\"]).describe().transpose()['min'].to_numpy()\n",
    "max_values = df.drop(columns=[\"default payment next month\"]).describe().transpose()['max'].to_numpy()\n",
    "x = df.drop(columns=[\"default payment next month\"]).to_numpy()\n",
    "x = (x-min_values)/(max_values-min_values)\n",
    "y = df[\"default payment next month\"].to_numpy().reshape((len(x), 1)).astype(\"float32\")\n",
    "train_ds = make_dataset(x, y, lambda t: t)\n",
    "\n",
    "mra = mra(train_ds)"
   ]
  },
  {
   "cell_type": "code",
   "execution_count": 3,
   "metadata": {},
   "outputs": [],
   "source": [
    "def make_f(input_shape):\n",
    "    xin = tf.keras.layers.Input(input_shape)\n",
    "    x = tf.keras.layers.Dense(64, activation=\"relu\")(xin)\n",
    "    x = tf.keras.layers.Dense(64, activation=\"relu\")(x)\n",
    "    x = tf.keras.layers.Dense(64, activation=\"relu\")(x)\n",
    "    output = tf.keras.layers.Dense(64, activation=\"relu\")(x)\n",
    "    return tf.keras.Model(xin, output)\n",
    "\n",
    "def make_g(input_shape):\n",
    "    xin = tf.keras.layers.Input(input_shape)\n",
    "    # x = tf.keras.layers.Dense(64, activation=\"relu\")(xin)\n",
    "    # x = tf.keras.layers.Dropout(0.5)(x)\n",
    "    output = tf.keras.layers.Dense(1, activation=\"sigmoid\")(xin)\n",
    "    return tf.keras.Model(xin, output)"
   ]
  },
  {
   "cell_type": "code",
   "execution_count": 4,
   "metadata": {},
   "outputs": [
    {
     "name": "stdout",
     "output_type": "stream",
     "text": [
      "Iteration 0001: Training loss: 0.7072\n",
      "Iteration 1001: Training loss: 0.3672\n",
      "Iteration 2001: Training loss: 0.4957\n",
      "Iteration 3001: Training loss: 0.3395\n",
      "Iteration 4001: Training loss: 0.3932\n"
     ]
    }
   ],
   "source": [
    "log_train = mra.train(\n",
    "    make_f,\n",
    "    make_g,\n",
    "    loss_fn=tf.keras.losses.binary_crossentropy,\n",
    "    batch_size=32,\n",
    "    epoch=5,\n",
    "    lr=0.001,\n",
    "    verbose=True, log_every=1000\n",
    "    )"
   ]
  },
  {
   "cell_type": "code",
   "execution_count": 5,
   "metadata": {},
   "outputs": [],
   "source": [
    "def make_generator(input_shape):\n",
    "    xin = tf.keras.layers.Input(input_shape)\n",
    "    act = \"relu\"\n",
    "    x = tf.keras.layers.Dense(512, activation=act)(xin)\n",
    "    x = tf.keras.layers.Dense(256, activation=act)(x)\n",
    "    x = tf.keras.layers.Dense(128, activation=act)(x)\n",
    "    x = tf.keras.layers.Dense(64, activation=act)(x)\n",
    "    # x = tf.keras.layers.Dense(32, activation=act)(x)\n",
    "    x = tf.keras.layers.Dense(23, activation=\"sigmoid\")(x)\n",
    "    return tf.keras.Model(xin, x)"
   ]
  },
  {
   "cell_type": "code",
   "execution_count": 6,
   "metadata": {},
   "outputs": [
    {
     "name": "stdout",
     "output_type": "stream",
     "text": [
      "Iteration 0001: RG-uniform: 0.2307, RG-normal: 0.2125, reconstruction validation: 0.0715\n",
      "Iteration 0002: RG-uniform: 0.2501, RG-normal: 0.2270, reconstruction validation: 0.0670\n",
      "Iteration 0003: RG-uniform: 0.2398, RG-normal: 0.2085, reconstruction validation: 0.0613\n",
      "Iteration 0004: RG-uniform: 0.2297, RG-normal: 0.1926, reconstruction validation: 0.0559\n",
      "Iteration 0005: RG-uniform: 0.2444, RG-normal: 0.2097, reconstruction validation: 0.0446\n",
      "Iteration 0006: RG-uniform: 0.2352, RG-normal: 0.2169, reconstruction validation: 0.0553\n",
      "Iteration 0007: RG-uniform: 0.2189, RG-normal: 0.2071, reconstruction validation: 0.0471\n",
      "Iteration 0008: RG-uniform: 0.2409, RG-normal: 0.2207, reconstruction validation: 0.0593\n",
      "Iteration 0009: RG-uniform: 0.2306, RG-normal: 0.2069, reconstruction validation: 0.0553\n",
      "Iteration 0010: RG-uniform: 0.2343, RG-normal: 0.2153, reconstruction validation: 0.0593\n",
      "Iteration 0011: RG-uniform: 0.2439, RG-normal: 0.2138, reconstruction validation: 0.0465\n",
      "Iteration 0012: RG-uniform: 0.2196, RG-normal: 0.2151, reconstruction validation: 0.0556\n",
      "Iteration 0013: RG-uniform: 0.2372, RG-normal: 0.2067, reconstruction validation: 0.0562\n",
      "Iteration 0014: RG-uniform: 0.2302, RG-normal: 0.2142, reconstruction validation: 0.0466\n",
      "Iteration 0015: RG-uniform: 0.2199, RG-normal: 0.2104, reconstruction validation: 0.0394\n",
      "Iteration 0016: RG-uniform: 0.2289, RG-normal: 0.2250, reconstruction validation: 0.0504\n",
      "Iteration 0017: RG-uniform: 0.2400, RG-normal: 0.2026, reconstruction validation: 0.0399\n",
      "Iteration 0018: RG-uniform: 0.2309, RG-normal: 0.2026, reconstruction validation: 0.0420\n",
      "Iteration 0019: RG-uniform: 0.2289, RG-normal: 0.2101, reconstruction validation: 0.0599\n",
      "Iteration 0020: RG-uniform: 0.2313, RG-normal: 0.2104, reconstruction validation: 0.0627\n",
      "Iteration 0021: RG-uniform: 0.2266, RG-normal: 0.2068, reconstruction validation: 0.0495\n",
      "Iteration 0022: RG-uniform: 0.2392, RG-normal: 0.1940, reconstruction validation: 0.0365\n",
      "Iteration 0023: RG-uniform: 0.2321, RG-normal: 0.2058, reconstruction validation: 0.0331\n",
      "Iteration 0024: RG-uniform: 0.2167, RG-normal: 0.1964, reconstruction validation: 0.0507\n",
      "Iteration 0025: RG-uniform: 0.2250, RG-normal: 0.2153, reconstruction validation: 0.0451\n",
      "Iteration 0026: RG-uniform: 0.2278, RG-normal: 0.2155, reconstruction validation: 0.0522\n",
      "Iteration 0027: RG-uniform: 0.2185, RG-normal: 0.2114, reconstruction validation: 0.0387\n",
      "Iteration 0028: RG-uniform: 0.2345, RG-normal: 0.2037, reconstruction validation: 0.0448\n",
      "Iteration 0029: RG-uniform: 0.2252, RG-normal: 0.2124, reconstruction validation: 0.0505\n",
      "Iteration 0030: RG-uniform: 0.2230, RG-normal: 0.2226, reconstruction validation: 0.0525\n",
      "Iteration 0031: RG-uniform: 0.2245, RG-normal: 0.2075, reconstruction validation: 0.0406\n",
      "Iteration 0032: RG-uniform: 0.2334, RG-normal: 0.2105, reconstruction validation: 0.0476\n",
      "Iteration 0033: RG-uniform: 0.2253, RG-normal: 0.2144, reconstruction validation: 0.0408\n",
      "Iteration 0034: RG-uniform: 0.2222, RG-normal: 0.2080, reconstruction validation: 0.0352\n",
      "Iteration 0035: RG-uniform: 0.2435, RG-normal: 0.2148, reconstruction validation: 0.0304\n",
      "Iteration 0036: RG-uniform: 0.2106, RG-normal: 0.1924, reconstruction validation: 0.0344\n",
      "Iteration 0037: RG-uniform: 0.2469, RG-normal: 0.2152, reconstruction validation: 0.0354\n",
      "Iteration 0038: RG-uniform: 0.2224, RG-normal: 0.2184, reconstruction validation: 0.0338\n",
      "Iteration 0039: RG-uniform: 0.2313, RG-normal: 0.2034, reconstruction validation: 0.0381\n",
      "Iteration 0040: RG-uniform: 0.2220, RG-normal: 0.2038, reconstruction validation: 0.0280\n",
      "Iteration 0041: RG-uniform: 0.2354, RG-normal: 0.2031, reconstruction validation: 0.0274\n",
      "Iteration 0042: RG-uniform: 0.2340, RG-normal: 0.2021, reconstruction validation: 0.0280\n",
      "Iteration 0043: RG-uniform: 0.2343, RG-normal: 0.2057, reconstruction validation: 0.0456\n",
      "Iteration 0044: RG-uniform: 0.2438, RG-normal: 0.2047, reconstruction validation: 0.0413\n",
      "Iteration 0045: RG-uniform: 0.2200, RG-normal: 0.2048, reconstruction validation: 0.0409\n",
      "Iteration 0046: RG-uniform: 0.2296, RG-normal: 0.2135, reconstruction validation: 0.0379\n",
      "Iteration 0047: RG-uniform: 0.2252, RG-normal: 0.2083, reconstruction validation: 0.0420\n",
      "Iteration 0048: RG-uniform: 0.2355, RG-normal: 0.2252, reconstruction validation: 0.0508\n",
      "Iteration 0049: RG-uniform: 0.2373, RG-normal: 0.2027, reconstruction validation: 0.0457\n",
      "Iteration 0050: RG-uniform: 0.2138, RG-normal: 0.2006, reconstruction validation: 0.0453\n",
      "Iteration 0051: RG-uniform: 0.2318, RG-normal: 0.2194, reconstruction validation: 0.0460\n",
      "Iteration 0052: RG-uniform: 0.2395, RG-normal: 0.2197, reconstruction validation: 0.0456\n",
      "Iteration 0053: RG-uniform: 0.2383, RG-normal: 0.2118, reconstruction validation: 0.0351\n",
      "Iteration 0054: RG-uniform: 0.2404, RG-normal: 0.2080, reconstruction validation: 0.0366\n",
      "Iteration 0055: RG-uniform: 0.2252, RG-normal: 0.2146, reconstruction validation: 0.0345\n",
      "Iteration 0056: RG-uniform: 0.2202, RG-normal: 0.2260, reconstruction validation: 0.0333\n",
      "Iteration 0057: RG-uniform: 0.2434, RG-normal: 0.2117, reconstruction validation: 0.0390\n",
      "Iteration 0058: RG-uniform: 0.2239, RG-normal: 0.2090, reconstruction validation: 0.0315\n",
      "Iteration 0059: RG-uniform: 0.2452, RG-normal: 0.2155, reconstruction validation: 0.0360\n",
      "Iteration 0060: RG-uniform: 0.2251, RG-normal: 0.1995, reconstruction validation: 0.0335\n",
      "Iteration 0061: RG-uniform: 0.2447, RG-normal: 0.2078, reconstruction validation: 0.0325\n",
      "Iteration 0062: RG-uniform: 0.2445, RG-normal: 0.2073, reconstruction validation: 0.0421\n",
      "Iteration 0063: RG-uniform: 0.2388, RG-normal: 0.2073, reconstruction validation: 0.0314\n",
      "Iteration 0064: RG-uniform: 0.2149, RG-normal: 0.2058, reconstruction validation: 0.0393\n",
      "Iteration 0065: RG-uniform: 0.2376, RG-normal: 0.2142, reconstruction validation: 0.0330\n",
      "Iteration 0066: RG-uniform: 0.2401, RG-normal: 0.2128, reconstruction validation: 0.0281\n",
      "Iteration 0067: RG-uniform: 0.2316, RG-normal: 0.1954, reconstruction validation: 0.0366\n",
      "Iteration 0068: RG-uniform: 0.2284, RG-normal: 0.2141, reconstruction validation: 0.0403\n",
      "Iteration 0069: RG-uniform: 0.2263, RG-normal: 0.2221, reconstruction validation: 0.0353\n",
      "Iteration 0070: RG-uniform: 0.2390, RG-normal: 0.2230, reconstruction validation: 0.0283\n",
      "Iteration 0071: RG-uniform: 0.2397, RG-normal: 0.2021, reconstruction validation: 0.0281\n",
      "Iteration 0072: RG-uniform: 0.2454, RG-normal: 0.2194, reconstruction validation: 0.0305\n",
      "Iteration 0073: RG-uniform: 0.2273, RG-normal: 0.2045, reconstruction validation: 0.0394\n",
      "Iteration 0074: RG-uniform: 0.2386, RG-normal: 0.2158, reconstruction validation: 0.0345\n",
      "Iteration 0075: RG-uniform: 0.2122, RG-normal: 0.2145, reconstruction validation: 0.0384\n",
      "Iteration 0076: RG-uniform: 0.2168, RG-normal: 0.2016, reconstruction validation: 0.0324\n",
      "Iteration 0077: RG-uniform: 0.2252, RG-normal: 0.2060, reconstruction validation: 0.0291\n",
      "Iteration 0078: RG-uniform: 0.2410, RG-normal: 0.2239, reconstruction validation: 0.0271\n",
      "Iteration 0079: RG-uniform: 0.2400, RG-normal: 0.2211, reconstruction validation: 0.0338\n",
      "Iteration 0080: RG-uniform: 0.2324, RG-normal: 0.1996, reconstruction validation: 0.0367\n",
      "Iteration 0081: RG-uniform: 0.2157, RG-normal: 0.2122, reconstruction validation: 0.0295\n",
      "Iteration 0082: RG-uniform: 0.2213, RG-normal: 0.2068, reconstruction validation: 0.0418\n",
      "Iteration 0083: RG-uniform: 0.2184, RG-normal: 0.2259, reconstruction validation: 0.0402\n",
      "Iteration 0084: RG-uniform: 0.2325, RG-normal: 0.2059, reconstruction validation: 0.0370\n",
      "Iteration 0085: RG-uniform: 0.2486, RG-normal: 0.2044, reconstruction validation: 0.0399\n",
      "Iteration 0086: RG-uniform: 0.2392, RG-normal: 0.2028, reconstruction validation: 0.0400\n",
      "Iteration 0087: RG-uniform: 0.2293, RG-normal: 0.2110, reconstruction validation: 0.0385\n",
      "Iteration 0088: RG-uniform: 0.2436, RG-normal: 0.2168, reconstruction validation: 0.0323\n",
      "Iteration 0089: RG-uniform: 0.2416, RG-normal: 0.2079, reconstruction validation: 0.0336\n",
      "Iteration 0090: RG-uniform: 0.2276, RG-normal: 0.2152, reconstruction validation: 0.0319\n",
      "Iteration 0091: RG-uniform: 0.2270, RG-normal: 0.2097, reconstruction validation: 0.0294\n",
      "Iteration 0092: RG-uniform: 0.2386, RG-normal: 0.1976, reconstruction validation: 0.0327\n",
      "Iteration 0093: RG-uniform: 0.2280, RG-normal: 0.2016, reconstruction validation: 0.0468\n",
      "Iteration 0094: RG-uniform: 0.2131, RG-normal: 0.2095, reconstruction validation: 0.0289\n",
      "Iteration 0095: RG-uniform: 0.2308, RG-normal: 0.2163, reconstruction validation: 0.0352\n",
      "Iteration 0096: RG-uniform: 0.2414, RG-normal: 0.2118, reconstruction validation: 0.0352\n",
      "Iteration 0097: RG-uniform: 0.2283, RG-normal: 0.2128, reconstruction validation: 0.0354\n",
      "Iteration 0098: RG-uniform: 0.2098, RG-normal: 0.2061, reconstruction validation: 0.0443\n",
      "Iteration 0099: RG-uniform: 0.2243, RG-normal: 0.2056, reconstruction validation: 0.0352\n",
      "Iteration 0100: RG-uniform: 0.2343, RG-normal: 0.2112, reconstruction validation: 0.0509\n"
     ]
    }
   ],
   "source": [
    "log_attack = mra.attack(\n",
    "    attack_iter=100,\n",
    "    make_generator=make_generator,\n",
    "    input_noise=\"normal\",\n",
    "    input_z=True,\n",
    "    model_leak=True,\n",
    "    lr_x=0.001,\n",
    "    lr_f=0.0001,\n",
    "    epoch=200,\n",
    "    iter_x=50,\n",
    "    iter_f=1,\n",
    "    verbose=True, log_every=1)"
   ]
  },
  {
   "cell_type": "code",
   "execution_count": 18,
   "metadata": {},
   "outputs": [],
   "source": [
    "np.savetxt(\"./log/credit-4.csv\", log_attack, delimiter=\",\")"
   ]
  }
 ],
 "metadata": {
  "interpreter": {
   "hash": "d9ff725623c15d695aa319bbc94ea42e245a1edcf20c6f47c05aed8c0d68e7f4"
  },
  "kernelspec": {
   "display_name": "Python 3.9.7 64-bit",
   "language": "python",
   "name": "python3"
  },
  "language_info": {
   "codemirror_mode": {
    "name": "ipython",
    "version": 3
   },
   "file_extension": ".py",
   "mimetype": "text/x-python",
   "name": "python",
   "nbconvert_exporter": "python",
   "pygments_lexer": "ipython3",
   "version": "3.8.10"
  },
  "orig_nbformat": 4
 },
 "nbformat": 4,
 "nbformat_minor": 2
}
