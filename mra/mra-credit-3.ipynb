{
 "cells": [
  {
   "cell_type": "markdown",
   "metadata": {},
   "source": [
    "# Model recovery attack: `credit-card`"
   ]
  },
  {
   "cell_type": "code",
   "execution_count": 1,
   "metadata": {},
   "outputs": [],
   "source": [
    "%load_ext autoreload\n",
    "%autoreload 2\n",
    "\n",
    "import tensorflow as tf\n",
    "import numpy as np\n",
    "import pandas as pd\n",
    "import matplotlib.pyplot as plt\n",
    "\n",
    "import mra\n",
    "from mra import *\n",
    "\n",
    "os.environ['CUDA_VISIBLE_DEVICES'] = '-1'"
   ]
  },
  {
   "cell_type": "code",
   "execution_count": 2,
   "metadata": {},
   "outputs": [
    {
     "name": "stderr",
     "output_type": "stream",
     "text": [
      "2022-02-16 01:17:42.984123: E tensorflow/stream_executor/cuda/cuda_driver.cc:271] failed call to cuInit: CUDA_ERROR_NO_DEVICE: no CUDA-capable device is detected\n",
      "2022-02-16 01:17:42.984185: I tensorflow/stream_executor/cuda/cuda_diagnostics.cc:169] retrieving CUDA diagnostic information for host: xgpg2\n",
      "2022-02-16 01:17:42.984196: I tensorflow/stream_executor/cuda/cuda_diagnostics.cc:176] hostname: xgpg2\n",
      "2022-02-16 01:17:42.984331: I tensorflow/stream_executor/cuda/cuda_diagnostics.cc:200] libcuda reported version is: 470.103.1\n",
      "2022-02-16 01:17:42.984366: I tensorflow/stream_executor/cuda/cuda_diagnostics.cc:204] kernel reported version is: 470.103.1\n",
      "2022-02-16 01:17:42.984375: I tensorflow/stream_executor/cuda/cuda_diagnostics.cc:310] kernel version seems to match DSO: 470.103.1\n",
      "2022-02-16 01:17:42.984912: I tensorflow/core/platform/cpu_feature_guard.cc:151] This TensorFlow binary is optimized with oneAPI Deep Neural Network Library (oneDNN) to use the following CPU instructions in performance-critical operations:  AVX2 FMA\n",
      "To enable them in other operations, rebuild TensorFlow with the appropriate compiler flags.\n"
     ]
    }
   ],
   "source": [
    "def make_dataset(X, Y, f):\n",
    "    x = tf.data.Dataset.from_tensor_slices(X)\n",
    "    y = tf.data.Dataset.from_tensor_slices(Y)\n",
    "    x = x.map(f)\n",
    "    xy = tf.data.Dataset.zip((x, y))\n",
    "    xy = xy.shuffle(10000)\n",
    "    return xy\n",
    "\n",
    "df = pd.read_excel('../datasets/credit-card.xls', header=1, index_col=0).sample(frac=1)\n",
    "min_values = df.drop(columns=[\"default payment next month\"]).describe().transpose()['min'].to_numpy()\n",
    "max_values = df.drop(columns=[\"default payment next month\"]).describe().transpose()['max'].to_numpy()\n",
    "x = df.drop(columns=[\"default payment next month\"]).to_numpy()\n",
    "x = (x-min_values)/(max_values-min_values)\n",
    "y = df[\"default payment next month\"].to_numpy().reshape((len(x), 1)).astype(\"float32\")\n",
    "train_ds = make_dataset(x, y, lambda t: t)\n",
    "\n",
    "mra = mra(train_ds)"
   ]
  },
  {
   "cell_type": "code",
   "execution_count": 3,
   "metadata": {},
   "outputs": [],
   "source": [
    "def make_f(input_shape):\n",
    "    xin = tf.keras.layers.Input(input_shape)\n",
    "    x = tf.keras.layers.Dense(64, activation=\"relu\")(xin)\n",
    "    x = tf.keras.layers.Dense(64, activation=\"relu\")(x)\n",
    "    output = tf.keras.layers.Dense(64, activation=\"relu\")(x)\n",
    "    return tf.keras.Model(xin, output)\n",
    "\n",
    "def make_g(input_shape):\n",
    "    xin = tf.keras.layers.Input(input_shape)\n",
    "    x = tf.keras.layers.Dense(64, activation=\"relu\")(xin)\n",
    "    # x = tf.keras.layers.Dropout(0.5)(x)\n",
    "    output = tf.keras.layers.Dense(1, activation=\"sigmoid\")(x)\n",
    "    return tf.keras.Model(xin, output)"
   ]
  },
  {
   "cell_type": "code",
   "execution_count": 4,
   "metadata": {},
   "outputs": [
    {
     "name": "stdout",
     "output_type": "stream",
     "text": [
      "Iteration 0001: Training loss: 0.6923\n",
      "Iteration 0501: Training loss: 0.5262\n",
      "Iteration 1001: Training loss: 0.4391\n",
      "Iteration 1501: Training loss: 0.3969\n",
      "Iteration 2001: Training loss: 0.4505\n",
      "Iteration 2501: Training loss: 0.4537\n",
      "Iteration 3001: Training loss: 0.3641\n",
      "Iteration 3501: Training loss: 0.4473\n",
      "Iteration 4001: Training loss: 0.4087\n",
      "Iteration 4501: Training loss: 0.3599\n"
     ]
    }
   ],
   "source": [
    "log_train = mra.train(\n",
    "    make_f,\n",
    "    make_g,\n",
    "    loss_fn=tf.keras.losses.binary_crossentropy,\n",
    "    batch_size=32,\n",
    "    epoch=5,\n",
    "    lr=0.001,\n",
    "    verbose=True, log_every=500\n",
    "    )"
   ]
  },
  {
   "cell_type": "code",
   "execution_count": 5,
   "metadata": {},
   "outputs": [],
   "source": [
    "def make_generator(input_shape):\n",
    "    xin = tf.keras.layers.Input(input_shape)\n",
    "    act = \"relu\"\n",
    "    x = tf.keras.layers.Dense(512, activation=act)(xin)\n",
    "    x = tf.keras.layers.Dense(256, activation=act)(x)\n",
    "    x = tf.keras.layers.Dense(128, activation=act)(x)\n",
    "    x = tf.keras.layers.Dense(64, activation=act)(x)\n",
    "    x = tf.keras.layers.Dense(32, activation=act)(x)\n",
    "    x = tf.keras.layers.Dense(23, activation=\"sigmoid\")(x)\n",
    "    return tf.keras.Model(xin, x)"
   ]
  },
  {
   "cell_type": "code",
   "execution_count": 6,
   "metadata": {},
   "outputs": [
    {
     "name": "stdout",
     "output_type": "stream",
     "text": [
      "Iteration 0001: RG-uniform: 0.2216, RG-normal: 0.2047, reconstruction validation: 0.0622\n",
      "Iteration 0002: RG-uniform: 0.2134, RG-normal: 0.2178, reconstruction validation: 0.0383\n",
      "Iteration 0003: RG-uniform: 0.2210, RG-normal: 0.1950, reconstruction validation: 0.0320\n",
      "Iteration 0004: RG-uniform: 0.2451, RG-normal: 0.2114, reconstruction validation: 0.0356\n",
      "Iteration 0005: RG-uniform: 0.2496, RG-normal: 0.2222, reconstruction validation: 0.0203\n",
      "Iteration 0006: RG-uniform: 0.2175, RG-normal: 0.2010, reconstruction validation: 0.0309\n",
      "Iteration 0007: RG-uniform: 0.2335, RG-normal: 0.2166, reconstruction validation: 0.0181\n",
      "Iteration 0008: RG-uniform: 0.2375, RG-normal: 0.2001, reconstruction validation: 0.0164\n",
      "Iteration 0009: RG-uniform: 0.2258, RG-normal: 0.1972, reconstruction validation: 0.0083\n",
      "Iteration 0010: RG-uniform: 0.2453, RG-normal: 0.2118, reconstruction validation: 0.0171\n",
      "Iteration 0011: RG-uniform: 0.2294, RG-normal: 0.2145, reconstruction validation: 0.0119\n",
      "Iteration 0012: RG-uniform: 0.2436, RG-normal: 0.2124, reconstruction validation: 0.0099\n",
      "Iteration 0013: RG-uniform: 0.2296, RG-normal: 0.1932, reconstruction validation: 0.0110\n",
      "Iteration 0014: RG-uniform: 0.2116, RG-normal: 0.1861, reconstruction validation: 0.0106\n",
      "Iteration 0015: RG-uniform: 0.2344, RG-normal: 0.2114, reconstruction validation: 0.0129\n",
      "Iteration 0016: RG-uniform: 0.2288, RG-normal: 0.2087, reconstruction validation: 0.0102\n",
      "Iteration 0017: RG-uniform: 0.2237, RG-normal: 0.2086, reconstruction validation: 0.0080\n",
      "Iteration 0018: RG-uniform: 0.2328, RG-normal: 0.2113, reconstruction validation: 0.0086\n",
      "Iteration 0019: RG-uniform: 0.2210, RG-normal: 0.2099, reconstruction validation: 0.0080\n",
      "Iteration 0020: RG-uniform: 0.2195, RG-normal: 0.2075, reconstruction validation: 0.0081\n",
      "Iteration 0021: RG-uniform: 0.2367, RG-normal: 0.2164, reconstruction validation: 0.0055\n",
      "Iteration 0022: RG-uniform: 0.2316, RG-normal: 0.2088, reconstruction validation: 0.0104\n",
      "Iteration 0023: RG-uniform: 0.2223, RG-normal: 0.2085, reconstruction validation: 0.0064\n",
      "Iteration 0024: RG-uniform: 0.2363, RG-normal: 0.2084, reconstruction validation: 0.0110\n",
      "Iteration 0025: RG-uniform: 0.2180, RG-normal: 0.1875, reconstruction validation: 0.0124\n",
      "Iteration 0026: RG-uniform: 0.2289, RG-normal: 0.2196, reconstruction validation: 0.0095\n",
      "Iteration 0027: RG-uniform: 0.2376, RG-normal: 0.2069, reconstruction validation: 0.0038\n",
      "Iteration 0028: RG-uniform: 0.2142, RG-normal: 0.2105, reconstruction validation: 0.0035\n",
      "Iteration 0029: RG-uniform: 0.2387, RG-normal: 0.2120, reconstruction validation: 0.0036\n",
      "Iteration 0030: RG-uniform: 0.2462, RG-normal: 0.2041, reconstruction validation: 0.0032\n",
      "Iteration 0031: RG-uniform: 0.2347, RG-normal: 0.2189, reconstruction validation: 0.0038\n",
      "Iteration 0032: RG-uniform: 0.2294, RG-normal: 0.2207, reconstruction validation: 0.0061\n",
      "Iteration 0033: RG-uniform: 0.2349, RG-normal: 0.2027, reconstruction validation: 0.0036\n",
      "Iteration 0034: RG-uniform: 0.2273, RG-normal: 0.2036, reconstruction validation: 0.0038\n",
      "Iteration 0035: RG-uniform: 0.2232, RG-normal: 0.2138, reconstruction validation: 0.0041\n",
      "Iteration 0036: RG-uniform: 0.2250, RG-normal: 0.2196, reconstruction validation: 0.0043\n",
      "Iteration 0037: RG-uniform: 0.2402, RG-normal: 0.2125, reconstruction validation: 0.0050\n",
      "Iteration 0038: RG-uniform: 0.2309, RG-normal: 0.2052, reconstruction validation: 0.0072\n",
      "Iteration 0039: RG-uniform: 0.2267, RG-normal: 0.2034, reconstruction validation: 0.0065\n",
      "Iteration 0040: RG-uniform: 0.2356, RG-normal: 0.2102, reconstruction validation: 0.0058\n",
      "Iteration 0041: RG-uniform: 0.2271, RG-normal: 0.2056, reconstruction validation: 0.0092\n",
      "Iteration 0042: RG-uniform: 0.2280, RG-normal: 0.2124, reconstruction validation: 0.0046\n",
      "Iteration 0043: RG-uniform: 0.2445, RG-normal: 0.2179, reconstruction validation: 0.0072\n",
      "Iteration 0044: RG-uniform: 0.2306, RG-normal: 0.2145, reconstruction validation: 0.0055\n",
      "Iteration 0045: RG-uniform: 0.2450, RG-normal: 0.2177, reconstruction validation: 0.0037\n",
      "Iteration 0046: RG-uniform: 0.2447, RG-normal: 0.1982, reconstruction validation: 0.0035\n",
      "Iteration 0047: RG-uniform: 0.2297, RG-normal: 0.2247, reconstruction validation: 0.0044\n",
      "Iteration 0048: RG-uniform: 0.2350, RG-normal: 0.2238, reconstruction validation: 0.0062\n",
      "Iteration 0049: RG-uniform: 0.2371, RG-normal: 0.2120, reconstruction validation: 0.0072\n",
      "Iteration 0050: RG-uniform: 0.2217, RG-normal: 0.1945, reconstruction validation: 0.0067\n",
      "Iteration 0051: RG-uniform: 0.2258, RG-normal: 0.2210, reconstruction validation: 0.0082\n",
      "Iteration 0052: RG-uniform: 0.2384, RG-normal: 0.2056, reconstruction validation: 0.0082\n",
      "Iteration 0053: RG-uniform: 0.2378, RG-normal: 0.2038, reconstruction validation: 0.0050\n",
      "Iteration 0054: RG-uniform: 0.2211, RG-normal: 0.2217, reconstruction validation: 0.0054\n",
      "Iteration 0055: RG-uniform: 0.2247, RG-normal: 0.1959, reconstruction validation: 0.0099\n",
      "Iteration 0056: RG-uniform: 0.2292, RG-normal: 0.2094, reconstruction validation: 0.0042\n",
      "Iteration 0057: RG-uniform: 0.2300, RG-normal: 0.2033, reconstruction validation: 0.0055\n",
      "Iteration 0058: RG-uniform: 0.2440, RG-normal: 0.2012, reconstruction validation: 0.0059\n",
      "Iteration 0059: RG-uniform: 0.2372, RG-normal: 0.2146, reconstruction validation: 0.0085\n",
      "Iteration 0060: RG-uniform: 0.2411, RG-normal: 0.2297, reconstruction validation: 0.0058\n",
      "Iteration 0061: RG-uniform: 0.2373, RG-normal: 0.2027, reconstruction validation: 0.0082\n",
      "Iteration 0062: RG-uniform: 0.2529, RG-normal: 0.2195, reconstruction validation: 0.0066\n",
      "Iteration 0063: RG-uniform: 0.2515, RG-normal: 0.2065, reconstruction validation: 0.0053\n",
      "Iteration 0064: RG-uniform: 0.2242, RG-normal: 0.2183, reconstruction validation: 0.0068\n",
      "Iteration 0065: RG-uniform: 0.2351, RG-normal: 0.2238, reconstruction validation: 0.0083\n",
      "Iteration 0066: RG-uniform: 0.2528, RG-normal: 0.2288, reconstruction validation: 0.0059\n",
      "Iteration 0067: RG-uniform: 0.2270, RG-normal: 0.2170, reconstruction validation: 0.0123\n",
      "Iteration 0068: RG-uniform: 0.2235, RG-normal: 0.2095, reconstruction validation: 0.0087\n",
      "Iteration 0069: RG-uniform: 0.2266, RG-normal: 0.2211, reconstruction validation: 0.0131\n",
      "Iteration 0070: RG-uniform: 0.2284, RG-normal: 0.2053, reconstruction validation: 0.0086\n",
      "Iteration 0071: RG-uniform: 0.2341, RG-normal: 0.1909, reconstruction validation: 0.0107\n",
      "Iteration 0072: RG-uniform: 0.2344, RG-normal: 0.2126, reconstruction validation: 0.0091\n",
      "Iteration 0073: RG-uniform: 0.2328, RG-normal: 0.2050, reconstruction validation: 0.0079\n",
      "Iteration 0074: RG-uniform: 0.2312, RG-normal: 0.2068, reconstruction validation: 0.0071\n",
      "Iteration 0075: RG-uniform: 0.2313, RG-normal: 0.2156, reconstruction validation: 0.0056\n",
      "Iteration 0076: RG-uniform: 0.2262, RG-normal: 0.2277, reconstruction validation: 0.0057\n",
      "Iteration 0077: RG-uniform: 0.2173, RG-normal: 0.2231, reconstruction validation: 0.0080\n",
      "Iteration 0078: RG-uniform: 0.2429, RG-normal: 0.2297, reconstruction validation: 0.0049\n",
      "Iteration 0079: RG-uniform: 0.2297, RG-normal: 0.2014, reconstruction validation: 0.0073\n",
      "Iteration 0080: RG-uniform: 0.2355, RG-normal: 0.2229, reconstruction validation: 0.0064\n",
      "Iteration 0081: RG-uniform: 0.2483, RG-normal: 0.2043, reconstruction validation: 0.0059\n",
      "Iteration 0082: RG-uniform: 0.2217, RG-normal: 0.2016, reconstruction validation: 0.0071\n",
      "Iteration 0083: RG-uniform: 0.2390, RG-normal: 0.2096, reconstruction validation: 0.0053\n",
      "Iteration 0084: RG-uniform: 0.2346, RG-normal: 0.2193, reconstruction validation: 0.0033\n",
      "Iteration 0085: RG-uniform: 0.2301, RG-normal: 0.2043, reconstruction validation: 0.0043\n",
      "Iteration 0086: RG-uniform: 0.2203, RG-normal: 0.2030, reconstruction validation: 0.0049\n",
      "Iteration 0087: RG-uniform: 0.2439, RG-normal: 0.2135, reconstruction validation: 0.0031\n",
      "Iteration 0088: RG-uniform: 0.2337, RG-normal: 0.2064, reconstruction validation: 0.0042\n",
      "Iteration 0089: RG-uniform: 0.2319, RG-normal: 0.1984, reconstruction validation: 0.0046\n",
      "Iteration 0090: RG-uniform: 0.2278, RG-normal: 0.2104, reconstruction validation: 0.0040\n",
      "Iteration 0091: RG-uniform: 0.2348, RG-normal: 0.2009, reconstruction validation: 0.0038\n",
      "Iteration 0092: RG-uniform: 0.2251, RG-normal: 0.2113, reconstruction validation: 0.0061\n",
      "Iteration 0093: RG-uniform: 0.2374, RG-normal: 0.2156, reconstruction validation: 0.0040\n",
      "Iteration 0094: RG-uniform: 0.2309, RG-normal: 0.2034, reconstruction validation: 0.0033\n",
      "Iteration 0095: RG-uniform: 0.2386, RG-normal: 0.2106, reconstruction validation: 0.0041\n",
      "Iteration 0096: RG-uniform: 0.2310, RG-normal: 0.2045, reconstruction validation: 0.0046\n",
      "Iteration 0097: RG-uniform: 0.2209, RG-normal: 0.1992, reconstruction validation: 0.0083\n",
      "Iteration 0098: RG-uniform: 0.2299, RG-normal: 0.2068, reconstruction validation: 0.0059\n",
      "Iteration 0099: RG-uniform: 0.2363, RG-normal: 0.2104, reconstruction validation: 0.0052\n",
      "Iteration 0100: RG-uniform: 0.2214, RG-normal: 0.2181, reconstruction validation: 0.0074\n"
     ]
    }
   ],
   "source": [
    "log_attack = mra.attack(\n",
    "    attack_iter=100,\n",
    "    make_generator=make_generator,\n",
    "    input_noise=\"normal\",\n",
    "    input_z=True,\n",
    "    model_leak=True,\n",
    "    lr_x=0.001,\n",
    "    lr_f=0.0001,\n",
    "    epoch=200,\n",
    "    iter_x=50,\n",
    "    iter_f=1,\n",
    "    verbose=True, log_every=1)"
   ]
  },
  {
   "cell_type": "code",
   "execution_count": 7,
   "metadata": {},
   "outputs": [],
   "source": [
    "np.savetxt(\"./log/credit-3.csv\", log_attack, delimiter=\",\")"
   ]
  }
 ],
 "metadata": {
  "interpreter": {
   "hash": "d9ff725623c15d695aa319bbc94ea42e245a1edcf20c6f47c05aed8c0d68e7f4"
  },
  "kernelspec": {
   "display_name": "Python 3.9.7 64-bit",
   "language": "python",
   "name": "python3"
  },
  "language_info": {
   "codemirror_mode": {
    "name": "ipython",
    "version": 3
   },
   "file_extension": ".py",
   "mimetype": "text/x-python",
   "name": "python",
   "nbconvert_exporter": "python",
   "pygments_lexer": "ipython3",
   "version": "3.8.10"
  },
  "orig_nbformat": 4
 },
 "nbformat": 4,
 "nbformat_minor": 2
}
