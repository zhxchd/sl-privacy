{
 "cells": [
  {
   "cell_type": "markdown",
   "metadata": {},
   "source": [
    "# Model recovery attack: `wine`"
   ]
  },
  {
   "cell_type": "code",
   "execution_count": 1,
   "metadata": {},
   "outputs": [],
   "source": [
    "%load_ext autoreload\n",
    "%autoreload 2\n",
    "\n",
    "import tensorflow as tf\n",
    "import numpy as np\n",
    "import matplotlib.pyplot as plt\n",
    "\n",
    "import mra\n",
    "from mra import *\n",
    "\n",
    "# os.environ['CUDA_VISIBLE_DEVICES'] = '-1'"
   ]
  },
  {
   "cell_type": "code",
   "execution_count": 2,
   "metadata": {},
   "outputs": [
    {
     "name": "stderr",
     "output_type": "stream",
     "text": [
      "2022-02-17 15:25:02.909705: I tensorflow/core/platform/cpu_feature_guard.cc:151] This TensorFlow binary is optimized with oneAPI Deep Neural Network Library (oneDNN) to use the following CPU instructions in performance-critical operations:  AVX2 FMA\n",
      "To enable them in other operations, rebuild TensorFlow with the appropriate compiler flags.\n",
      "2022-02-17 15:25:13.287140: I tensorflow/core/common_runtime/gpu/gpu_device.cc:1525] Created device /job:localhost/replica:0/task:0/device:GPU:0 with 26777 MB memory:  -> device: 0, name: NVIDIA A100-PCIE-40GB, pci bus id: 0000:01:00.0, compute capability: 8.0\n"
     ]
    }
   ],
   "source": [
    "def make_dataset(X, Y, f):\n",
    "    x = tf.data.Dataset.from_tensor_slices(X)\n",
    "    y = tf.data.Dataset.from_tensor_slices(Y)\n",
    "    x = x.map(f)\n",
    "    xy = tf.data.Dataset.zip((x, y))\n",
    "    xy = xy.shuffle(10000)\n",
    "    return xy\n",
    "\n",
    "xy = np.loadtxt(\"../datasets/wine-white.csv\", delimiter=\";\")\n",
    "np.random.shuffle(xy)\n",
    "x = xy[:,0:-1]\n",
    "y = xy[:,-1]-3\n",
    "\n",
    "min_values = np.array([min(x[:,i]) for i in range(x.shape[1])])\n",
    "max_values = np.array([max(x[:,i]) for i in range(x.shape[1])])\n",
    "x = (x-min_values)/(max_values - min_values)\n",
    "y = y.reshape((len(x), 1)).astype(\"float32\")\n",
    "train_ds = make_dataset(x, y, lambda t: t)"
   ]
  },
  {
   "cell_type": "code",
   "execution_count": 3,
   "metadata": {},
   "outputs": [],
   "source": [
    "mra_wine_2 = mra(train_ds)"
   ]
  },
  {
   "cell_type": "code",
   "execution_count": 4,
   "metadata": {},
   "outputs": [],
   "source": [
    "def make_f(input_shape):\n",
    "    xin = tf.keras.layers.Input(input_shape)\n",
    "    x = tf.keras.layers.Dense(64, activation=\"relu\")(xin)\n",
    "    output = tf.keras.layers.Dense(64, activation=\"relu\")(x)\n",
    "    return tf.keras.Model(xin, output)\n",
    "\n",
    "def make_g(input_shape):\n",
    "    xin = tf.keras.layers.Input(input_shape)\n",
    "    x = tf.keras.layers.Dense(64, activation=\"relu\")(xin)\n",
    "    x = tf.keras.layers.Dense(64, activation=\"relu\")(x)\n",
    "    # x = tf.keras.layers.Dropout(0.5)(x)\n",
    "    output = tf.keras.layers.Dense(7, activation=\"softmax\")(x)\n",
    "    return tf.keras.Model(xin, output)"
   ]
  },
  {
   "cell_type": "code",
   "execution_count": 6,
   "metadata": {},
   "outputs": [
    {
     "name": "stderr",
     "output_type": "stream",
     "text": [
      "2022-02-17 15:25:53.630728: I tensorflow/stream_executor/cuda/cuda_blas.cc:1786] TensorFloat-32 will be used for the matrix multiplication. This will only be logged once.\n"
     ]
    },
    {
     "name": "stdout",
     "output_type": "stream",
     "text": [
      "Iteration 0001: Training loss: 1.9354\n",
      "Iteration 0051: Training loss: 1.2498\n",
      "Iteration 0101: Training loss: 1.2552\n",
      "Iteration 0151: Training loss: 1.2496\n",
      "Iteration 0201: Training loss: 1.1069\n",
      "Iteration 0251: Training loss: 1.0270\n",
      "Iteration 0301: Training loss: 1.0604\n",
      "Iteration 0351: Training loss: 1.3651\n",
      "Iteration 0401: Training loss: 1.2156\n",
      "Iteration 0451: Training loss: 1.3016\n",
      "Iteration 0501: Training loss: 1.3643\n",
      "Iteration 0551: Training loss: 1.2016\n",
      "Iteration 0601: Training loss: 0.9885\n",
      "Iteration 0651: Training loss: 1.2025\n",
      "Iteration 0701: Training loss: 1.0678\n",
      "Iteration 0751: Training loss: 1.3713\n"
     ]
    }
   ],
   "source": [
    "log_train = mra_wine_2.train(\n",
    "    make_f,\n",
    "    make_g,\n",
    "    loss_fn=tf.keras.losses.sparse_categorical_crossentropy,\n",
    "    batch_size=32,\n",
    "    epoch=5,\n",
    "    lr=0.001,\n",
    "    verbose=True, log_every=50\n",
    "    )"
   ]
  },
  {
   "cell_type": "code",
   "execution_count": 7,
   "metadata": {},
   "outputs": [],
   "source": [
    "def make_generator(input_shape):\n",
    "    xin = tf.keras.layers.Input(input_shape)\n",
    "    act = \"relu\"\n",
    "    x = tf.keras.layers.Dense(512, activation=act)(xin)\n",
    "    x = tf.keras.layers.Dense(256, activation=act)(x)\n",
    "    x = tf.keras.layers.Dense(128, activation=act)(x)\n",
    "    x = tf.keras.layers.Dense(64, activation=act)(x)\n",
    "    x = tf.keras.layers.Dense(32, activation=act)(x)\n",
    "    x = tf.keras.layers.Dense(11, activation=\"sigmoid\")(x)\n",
    "    return tf.keras.Model(xin, x)"
   ]
  },
  {
   "cell_type": "code",
   "execution_count": 8,
   "metadata": {},
   "outputs": [
    {
     "name": "stdout",
     "output_type": "stream",
     "text": [
      "Iteration 0001: RG-uniform: 0.1884, RG-normal: 0.1682, reconstruction validation: 0.0003\n",
      "Iteration 0002: RG-uniform: 0.1632, RG-normal: 0.1538, reconstruction validation: 0.0001\n",
      "Iteration 0003: RG-uniform: 0.1600, RG-normal: 0.1612, reconstruction validation: 0.0003\n",
      "Iteration 0004: RG-uniform: 0.1710, RG-normal: 0.1588, reconstruction validation: 0.0006\n",
      "Iteration 0005: RG-uniform: 0.1807, RG-normal: 0.1669, reconstruction validation: 0.0008\n",
      "Iteration 0006: RG-uniform: 0.1682, RG-normal: 0.1641, reconstruction validation: 0.0012\n",
      "Iteration 0007: RG-uniform: 0.1974, RG-normal: 0.1614, reconstruction validation: 0.0015\n",
      "Iteration 0008: RG-uniform: 0.1816, RG-normal: 0.1698, reconstruction validation: 0.0013\n",
      "Iteration 0009: RG-uniform: 0.1722, RG-normal: 0.1614, reconstruction validation: 0.0025\n",
      "Iteration 0010: RG-uniform: 0.1880, RG-normal: 0.1600, reconstruction validation: 0.0045\n",
      "Iteration 0011: RG-uniform: 0.1592, RG-normal: 0.1619, reconstruction validation: 0.0030\n",
      "Iteration 0012: RG-uniform: 0.1652, RG-normal: 0.1506, reconstruction validation: 0.0038\n",
      "Iteration 0013: RG-uniform: 0.1687, RG-normal: 0.1672, reconstruction validation: 0.0041\n",
      "Iteration 0014: RG-uniform: 0.1806, RG-normal: 0.1483, reconstruction validation: 0.0024\n",
      "Iteration 0015: RG-uniform: 0.1580, RG-normal: 0.1674, reconstruction validation: 0.0038\n",
      "Iteration 0016: RG-uniform: 0.1903, RG-normal: 0.1657, reconstruction validation: 0.0023\n",
      "Iteration 0017: RG-uniform: 0.1570, RG-normal: 0.1682, reconstruction validation: 0.0018\n",
      "Iteration 0018: RG-uniform: 0.1697, RG-normal: 0.1522, reconstruction validation: 0.0025\n",
      "Iteration 0019: RG-uniform: 0.1895, RG-normal: 0.1577, reconstruction validation: 0.0018\n",
      "Iteration 0020: RG-uniform: 0.1908, RG-normal: 0.1545, reconstruction validation: 0.0024\n",
      "Iteration 0021: RG-uniform: 0.1884, RG-normal: 0.1835, reconstruction validation: 0.0027\n",
      "Iteration 0022: RG-uniform: 0.1607, RG-normal: 0.1760, reconstruction validation: 0.0035\n",
      "Iteration 0023: RG-uniform: 0.1786, RG-normal: 0.1377, reconstruction validation: 0.0040\n",
      "Iteration 0024: RG-uniform: 0.1747, RG-normal: 0.1405, reconstruction validation: 0.0025\n",
      "Iteration 0025: RG-uniform: 0.1881, RG-normal: 0.1675, reconstruction validation: 0.0020\n",
      "Iteration 0026: RG-uniform: 0.1686, RG-normal: 0.1474, reconstruction validation: 0.0039\n",
      "Iteration 0027: RG-uniform: 0.1979, RG-normal: 0.1486, reconstruction validation: 0.0051\n",
      "Iteration 0028: RG-uniform: 0.1857, RG-normal: 0.1509, reconstruction validation: 0.0065\n",
      "Iteration 0029: RG-uniform: 0.1923, RG-normal: 0.1528, reconstruction validation: 0.0080\n",
      "Iteration 0030: RG-uniform: 0.1841, RG-normal: 0.1827, reconstruction validation: 0.0083\n",
      "Iteration 0031: RG-uniform: 0.1790, RG-normal: 0.1657, reconstruction validation: 0.0080\n",
      "Iteration 0032: RG-uniform: 0.1717, RG-normal: 0.1593, reconstruction validation: 0.0100\n",
      "Iteration 0033: RG-uniform: 0.1910, RG-normal: 0.1600, reconstruction validation: 0.0095\n",
      "Iteration 0034: RG-uniform: 0.1664, RG-normal: 0.1469, reconstruction validation: 0.0136\n",
      "Iteration 0035: RG-uniform: 0.1828, RG-normal: 0.1284, reconstruction validation: 0.0113\n",
      "Iteration 0036: RG-uniform: 0.1660, RG-normal: 0.1394, reconstruction validation: 0.0108\n",
      "Iteration 0037: RG-uniform: 0.1831, RG-normal: 0.1728, reconstruction validation: 0.0111\n",
      "Iteration 0038: RG-uniform: 0.1874, RG-normal: 0.1653, reconstruction validation: 0.0104\n",
      "Iteration 0039: RG-uniform: 0.1846, RG-normal: 0.1534, reconstruction validation: 0.0108\n",
      "Iteration 0040: RG-uniform: 0.1528, RG-normal: 0.1513, reconstruction validation: 0.0130\n",
      "Iteration 0041: RG-uniform: 0.1709, RG-normal: 0.1546, reconstruction validation: 0.0142\n",
      "Iteration 0042: RG-uniform: 0.1852, RG-normal: 0.1372, reconstruction validation: 0.0100\n",
      "Iteration 0043: RG-uniform: 0.1622, RG-normal: 0.1459, reconstruction validation: 0.0112\n",
      "Iteration 0044: RG-uniform: 0.1739, RG-normal: 0.1656, reconstruction validation: 0.0102\n",
      "Iteration 0045: RG-uniform: 0.1781, RG-normal: 0.1587, reconstruction validation: 0.0116\n",
      "Iteration 0046: RG-uniform: 0.1752, RG-normal: 0.1482, reconstruction validation: 0.0189\n",
      "Iteration 0047: RG-uniform: 0.1821, RG-normal: 0.1587, reconstruction validation: 0.0200\n",
      "Iteration 0048: RG-uniform: 0.1679, RG-normal: 0.1574, reconstruction validation: 0.0174\n",
      "Iteration 0049: RG-uniform: 0.1793, RG-normal: 0.1690, reconstruction validation: 0.0128\n",
      "Iteration 0050: RG-uniform: 0.1777, RG-normal: 0.1437, reconstruction validation: 0.0098\n",
      "Iteration 0051: RG-uniform: 0.1822, RG-normal: 0.1683, reconstruction validation: 0.0123\n",
      "Iteration 0052: RG-uniform: 0.1792, RG-normal: 0.1634, reconstruction validation: 0.0132\n",
      "Iteration 0053: RG-uniform: 0.1857, RG-normal: 0.1729, reconstruction validation: 0.0139\n",
      "Iteration 0054: RG-uniform: 0.1742, RG-normal: 0.1687, reconstruction validation: 0.0171\n",
      "Iteration 0055: RG-uniform: 0.1857, RG-normal: 0.1505, reconstruction validation: 0.0157\n",
      "Iteration 0056: RG-uniform: 0.1834, RG-normal: 0.1525, reconstruction validation: 0.0145\n",
      "Iteration 0057: RG-uniform: 0.1770, RG-normal: 0.1581, reconstruction validation: 0.0195\n",
      "Iteration 0058: RG-uniform: 0.1717, RG-normal: 0.1693, reconstruction validation: 0.0129\n",
      "Iteration 0059: RG-uniform: 0.1906, RG-normal: 0.1597, reconstruction validation: 0.0096\n",
      "Iteration 0060: RG-uniform: 0.1804, RG-normal: 0.1491, reconstruction validation: 0.0069\n",
      "Iteration 0061: RG-uniform: 0.1799, RG-normal: 0.1404, reconstruction validation: 0.0082\n",
      "Iteration 0062: RG-uniform: 0.1818, RG-normal: 0.1700, reconstruction validation: 0.0091\n",
      "Iteration 0063: RG-uniform: 0.1978, RG-normal: 0.1431, reconstruction validation: 0.0092\n",
      "Iteration 0064: RG-uniform: 0.1824, RG-normal: 0.1680, reconstruction validation: 0.0090\n",
      "Iteration 0065: RG-uniform: 0.1648, RG-normal: 0.1472, reconstruction validation: 0.0089\n",
      "Iteration 0066: RG-uniform: 0.1824, RG-normal: 0.1579, reconstruction validation: 0.0085\n",
      "Iteration 0067: RG-uniform: 0.1912, RG-normal: 0.1742, reconstruction validation: 0.0097\n",
      "Iteration 0068: RG-uniform: 0.1851, RG-normal: 0.1517, reconstruction validation: 0.0104\n",
      "Iteration 0069: RG-uniform: 0.1611, RG-normal: 0.1498, reconstruction validation: 0.0087\n",
      "Iteration 0070: RG-uniform: 0.1529, RG-normal: 0.1472, reconstruction validation: 0.0125\n",
      "Iteration 0071: RG-uniform: 0.1715, RG-normal: 0.1641, reconstruction validation: 0.0180\n",
      "Iteration 0072: RG-uniform: 0.1724, RG-normal: 0.1460, reconstruction validation: 0.0200\n",
      "Iteration 0073: RG-uniform: 0.1582, RG-normal: 0.1436, reconstruction validation: 0.0244\n",
      "Iteration 0074: RG-uniform: 0.1625, RG-normal: 0.1577, reconstruction validation: 0.0182\n",
      "Iteration 0075: RG-uniform: 0.1581, RG-normal: 0.1469, reconstruction validation: 0.0191\n",
      "Iteration 0076: RG-uniform: 0.1901, RG-normal: 0.1673, reconstruction validation: 0.0210\n",
      "Iteration 0077: RG-uniform: 0.1844, RG-normal: 0.1565, reconstruction validation: 0.0182\n",
      "Iteration 0078: RG-uniform: 0.1786, RG-normal: 0.1725, reconstruction validation: 0.0187\n",
      "Iteration 0079: RG-uniform: 0.1793, RG-normal: 0.1620, reconstruction validation: 0.0191\n",
      "Iteration 0080: RG-uniform: 0.1868, RG-normal: 0.1658, reconstruction validation: 0.0208\n",
      "Iteration 0081: RG-uniform: 0.2016, RG-normal: 0.1519, reconstruction validation: 0.0236\n",
      "Iteration 0082: RG-uniform: 0.1877, RG-normal: 0.1624, reconstruction validation: 0.0251\n",
      "Iteration 0083: RG-uniform: 0.1773, RG-normal: 0.1465, reconstruction validation: 0.0291\n",
      "Iteration 0084: RG-uniform: 0.1659, RG-normal: 0.1701, reconstruction validation: 0.0235\n",
      "Iteration 0085: RG-uniform: 0.1561, RG-normal: 0.1502, reconstruction validation: 0.0240\n",
      "Iteration 0086: RG-uniform: 0.1785, RG-normal: 0.1526, reconstruction validation: 0.0230\n",
      "Iteration 0087: RG-uniform: 0.1832, RG-normal: 0.1696, reconstruction validation: 0.0301\n",
      "Iteration 0088: RG-uniform: 0.1783, RG-normal: 0.1551, reconstruction validation: 0.0308\n",
      "Iteration 0089: RG-uniform: 0.1688, RG-normal: 0.1776, reconstruction validation: 0.0279\n",
      "Iteration 0090: RG-uniform: 0.1773, RG-normal: 0.1610, reconstruction validation: 0.0365\n",
      "Iteration 0091: RG-uniform: 0.1689, RG-normal: 0.1516, reconstruction validation: 0.0344\n",
      "Iteration 0092: RG-uniform: 0.1873, RG-normal: 0.1584, reconstruction validation: 0.0425\n",
      "Iteration 0093: RG-uniform: 0.1601, RG-normal: 0.1556, reconstruction validation: 0.0378\n",
      "Iteration 0094: RG-uniform: 0.1699, RG-normal: 0.1519, reconstruction validation: 0.0302\n",
      "Iteration 0095: RG-uniform: 0.1781, RG-normal: 0.1709, reconstruction validation: 0.0279\n",
      "Iteration 0096: RG-uniform: 0.1566, RG-normal: 0.1638, reconstruction validation: 0.0274\n",
      "Iteration 0097: RG-uniform: 0.1804, RG-normal: 0.1722, reconstruction validation: 0.0245\n",
      "Iteration 0098: RG-uniform: 0.1895, RG-normal: 0.1388, reconstruction validation: 0.0212\n",
      "Iteration 0099: RG-uniform: 0.1781, RG-normal: 0.1513, reconstruction validation: 0.0244\n",
      "Iteration 0100: RG-uniform: 0.1608, RG-normal: 0.1568, reconstruction validation: 0.0181\n"
     ]
    }
   ],
   "source": [
    "log_attack = mra_wine_2.attack(\n",
    "    attack_iter=100,\n",
    "    make_generator=make_generator,\n",
    "    input_noise=\"normal\",\n",
    "    input_z=True,\n",
    "    model_leak=True,\n",
    "    lr_x=0.001,\n",
    "    lr_f=0.0001,\n",
    "    epoch=200,\n",
    "    iter_x=50,\n",
    "    iter_f=1,\n",
    "    verbose=True, log_every=1)"
   ]
  },
  {
   "cell_type": "code",
   "execution_count": 9,
   "metadata": {},
   "outputs": [],
   "source": [
    "np.savetxt(\"./log/wine-white-2.csv\", log_attack, delimiter=\",\")"
   ]
  },
  {
   "cell_type": "code",
   "execution_count": 12,
   "metadata": {},
   "outputs": [
    {
     "data": {
      "image/png": "[encoded data removed]",
      "text/plain": [
       "<Figure size 432x288 with 1 Axes>"
      ]
     },
     "metadata": {
      "needs_background": "light"
     },
     "output_type": "display_data"
    }
   ],
   "source": [
    "import numpy as np\n",
    "import matplotlib.pyplot as plt\n",
    "\n",
    "log_attack = np.loadtxt(\"./log/wine-white-2.csv\", delimiter=\",\")\n",
    "layer3 = np.loadtxt(\"./log/wine-white-3.csv\", delimiter=\",\")[:,2]\n",
    "layer4 = np.loadtxt(\"./log/wine-white-4.csv\", delimiter=\",\")[:,2]\n",
    "\n",
    "plt.xlim([0,100])\n",
    "plt.ylim([0,0.25])\n",
    "plt.grid()\n",
    "plt.ylabel('MSE per feature')\n",
    "plt.xlabel('Batch distance from the obtained model snapshot')\n",
    "ran = [i+1 for i in range(100)]\n",
    "plt.plot(\n",
    "    ran, log_attack[:,0], 'co-',\n",
    "    ran, log_attack[:,1], 'mv-',\n",
    "    ran, log_attack[:,2], 'gD-',\n",
    "    ran, layer3, 'r^-',\n",
    "    ran, layer4, 'bs-',\n",
    "    markevery=np.arange(0, 101, 9))\n",
    "plt.legend(['RG-uniform', 'RG-normal', 'MRA ($h_c=2$)', 'MRA ($h_c=3$)', 'MRA ($h_C=4$)'], loc='upper center', ncol=3)\n",
    "plt.savefig(\"fig/wine-white-234.pdf\", bbox_inches='tight')"
   ]
  }
 ],
 "metadata": {
  "interpreter": {
   "hash": "d9ff725623c15d695aa319bbc94ea42e245a1edcf20c6f47c05aed8c0d68e7f4"
  },
  "kernelspec": {
   "display_name": "Python 3.9.7 64-bit",
   "language": "python",
   "name": "python3"
  },
  "language_info": {
   "codemirror_mode": {
    "name": "ipython",
    "version": 3
   },
   "file_extension": ".py",
   "mimetype": "text/x-python",
   "name": "python",
   "nbconvert_exporter": "python",
   "pygments_lexer": "ipython3",
   "version": "3.8.10"
  },
  "orig_nbformat": 4
 },
 "nbformat": 4,
 "nbformat_minor": 2
}
