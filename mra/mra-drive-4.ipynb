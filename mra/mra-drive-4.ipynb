{
 "cells": [
  {
   "cell_type": "markdown",
   "metadata": {},
   "source": [
    "# Model recovery attack: `drive-diagnosis`"
   ]
  },
  {
   "cell_type": "code",
   "execution_count": 1,
   "metadata": {},
   "outputs": [],
   "source": [
    "%load_ext autoreload\n",
    "%autoreload 2\n",
    "\n",
    "import tensorflow as tf\n",
    "import numpy as np\n",
    "import matplotlib.pyplot as plt\n",
    "import pandas as pd\n",
    "\n",
    "import mra\n",
    "from mra import *\n",
    "\n",
    "os.environ['CUDA_VISIBLE_DEVICES'] = '-1'"
   ]
  },
  {
   "cell_type": "code",
   "execution_count": 2,
   "metadata": {},
   "outputs": [
    {
     "name": "stderr",
     "output_type": "stream",
     "text": [
      "2022-03-01 10:25:37.211450: E tensorflow/stream_executor/cuda/cuda_driver.cc:271] failed call to cuInit: CUDA_ERROR_NO_DEVICE: no CUDA-capable device is detected\n",
      "2022-03-01 10:25:37.211609: I tensorflow/stream_executor/cuda/cuda_diagnostics.cc:169] retrieving CUDA diagnostic information for host: xgpd1\n",
      "2022-03-01 10:25:37.211632: I tensorflow/stream_executor/cuda/cuda_diagnostics.cc:176] hostname: xgpd1\n",
      "2022-03-01 10:25:37.211923: I tensorflow/stream_executor/cuda/cuda_diagnostics.cc:200] libcuda reported version is: 460.91.3\n",
      "2022-03-01 10:25:37.212011: I tensorflow/stream_executor/cuda/cuda_diagnostics.cc:204] kernel reported version is: 460.91.3\n",
      "2022-03-01 10:25:37.212030: I tensorflow/stream_executor/cuda/cuda_diagnostics.cc:310] kernel version seems to match DSO: 460.91.3\n",
      "2022-03-01 10:25:37.275124: I tensorflow/core/platform/cpu_feature_guard.cc:151] This TensorFlow binary is optimized with oneAPI Deep Neural Network Library (oneDNN) to use the following CPU instructions in performance-critical operations:  AVX2 AVX512F FMA\n",
      "To enable them in other operations, rebuild TensorFlow with the appropriate compiler flags.\n"
     ]
    }
   ],
   "source": [
    "def make_dataset(X, Y, f):\n",
    "    x = tf.data.Dataset.from_tensor_slices(X)\n",
    "    y = tf.data.Dataset.from_tensor_slices(Y)\n",
    "    x = x.map(f)\n",
    "    xy = tf.data.Dataset.zip((x, y))\n",
    "    xy = xy.shuffle(10000)\n",
    "    return xy\n",
    "\n",
    "xy = np.loadtxt(\"../datasets/drive-diagnosis.txt\")\n",
    "np.random.shuffle(xy)\n",
    "x = xy[:,0:-1]\n",
    "y = xy[:,-1]\n",
    "\n",
    "min_values = np.array([min(x[:,i]) for i in range(x.shape[1])])\n",
    "max_values = np.array([max(x[:,i]) for i in range(x.shape[1])])\n",
    "x = (x-min_values)/(max_values - min_values)\n",
    "y = y.reshape((len(x), 1)).astype(\"float32\")-1\n",
    "train_ds = make_dataset(x, y, lambda t: t)\n",
    "\n",
    "mra = mra(train_ds)"
   ]
  },
  {
   "cell_type": "code",
   "execution_count": 3,
   "metadata": {},
   "outputs": [],
   "source": [
    "def make_f(input_shape):\n",
    "    xin = tf.keras.layers.Input(input_shape)\n",
    "    x = tf.keras.layers.Dense(256, activation=\"sigmoid\")(xin)\n",
    "    x = tf.keras.layers.Dense(256, activation=\"sigmoid\")(x)\n",
    "    x = tf.keras.layers.Dense(256, activation=\"sigmoid\")(x)\n",
    "    output = tf.keras.layers.Dense(256, activation=\"sigmoid\")(x)\n",
    "    return tf.keras.Model(xin, output)\n",
    "\n",
    "def make_g(input_shape):\n",
    "    xin = tf.keras.layers.Input(input_shape)\n",
    "    # x = tf.keras.layers.Dense(256, activation=\"relu\")(xin)\n",
    "    # x = tf.keras.layers.Dense(256, activation=\"relu\")(x)\n",
    "    output = tf.keras.layers.Dense(11, activation=\"softmax\")(xin)\n",
    "    return tf.keras.Model(xin, output)"
   ]
  },
  {
   "cell_type": "code",
   "execution_count": 4,
   "metadata": {},
   "outputs": [
    {
     "name": "stdout",
     "output_type": "stream",
     "text": [
      "Iteration 0001: Training loss: 2.5111\n",
      "Iteration 1001: Training loss: 0.9156\n",
      "Iteration 2001: Training loss: 0.8125\n",
      "Iteration 3001: Training loss: 0.9116\n",
      "Iteration 4001: Training loss: 0.8288\n",
      "Iteration 5001: Training loss: 0.6053\n",
      "Iteration 6001: Training loss: 0.8118\n",
      "Iteration 7001: Training loss: 0.8654\n",
      "Iteration 8001: Training loss: 0.6315\n",
      "Iteration 9001: Training loss: 0.8227\n"
     ]
    }
   ],
   "source": [
    "log_train = mra.train(\n",
    "    make_f,\n",
    "    make_g,\n",
    "    loss_fn=tf.keras.losses.sparse_categorical_crossentropy,\n",
    "    batch_size=32,\n",
    "    epoch=5,\n",
    "    lr=0.001,\n",
    "    verbose=True, log_every=1000\n",
    "    )"
   ]
  },
  {
   "cell_type": "code",
   "execution_count": 8,
   "metadata": {},
   "outputs": [],
   "source": [
    "def make_generator(input_shape):\n",
    "    xin = tf.keras.layers.Input(input_shape)\n",
    "    act = \"relu\"\n",
    "    x = tf.keras.layers.Dense(1024, activation=act)(xin)\n",
    "    x = tf.keras.layers.Dense(512, activation=act)(x)\n",
    "    # x = tf.keras.layers.Dense(256, activation=act)(x)\n",
    "    # x = tf.keras.layers.Dense(128, activation=act)(x)\n",
    "    # x = tf.keras.layers.Dense(64, activation=act)(x)\n",
    "    x = tf.keras.layers.Dense(48, activation=\"sigmoid\")(x)\n",
    "    return tf.keras.Model(xin, x)"
   ]
  },
  {
   "cell_type": "code",
   "execution_count": 7,
   "metadata": {},
   "outputs": [
    {
     "name": "stdout",
     "output_type": "stream",
     "text": [
      "tf.Tensor(2.9479583e-07, shape=(), dtype=float32)\n",
      "Iteration 0001: RG-uniform: 0.1831, RG-normal: 0.1615, reconstruction validation: 0.1402\n"
     ]
    },
    {
     "ename": "KeyboardInterrupt",
     "evalue": "",
     "output_type": "error",
     "traceback": [
      "\u001b[0;31m---------------------------------------------------------------------------\u001b[0m",
      "\u001b[0;31mKeyboardInterrupt\u001b[0m                         Traceback (most recent call last)",
      "\u001b[1;32m/home/z/zhux105/sl-privacy/mra/mra-drive-4.ipynb Cell 7'\u001b[0m in \u001b[0;36m<module>\u001b[0;34m\u001b[0m\n\u001b[0;32m----> <a href='vscode-notebook-cell://ssh-remote%2Bxgpd1/home/z/zhux105/sl-privacy/mra/mra-drive-4.ipynb#ch0000006vscode-remote?line=0'>1</a>\u001b[0m log_attack \u001b[39m=\u001b[39m mra\u001b[39m.\u001b[39;49mattack(\n\u001b[1;32m      <a href='vscode-notebook-cell://ssh-remote%2Bxgpd1/home/z/zhux105/sl-privacy/mra/mra-drive-4.ipynb#ch0000006vscode-remote?line=1'>2</a>\u001b[0m     attack_iter\u001b[39m=\u001b[39;49m\u001b[39m5\u001b[39;49m,\n\u001b[1;32m      <a href='vscode-notebook-cell://ssh-remote%2Bxgpd1/home/z/zhux105/sl-privacy/mra/mra-drive-4.ipynb#ch0000006vscode-remote?line=2'>3</a>\u001b[0m     make_generator\u001b[39m=\u001b[39;49mmake_generator,\n\u001b[1;32m      <a href='vscode-notebook-cell://ssh-remote%2Bxgpd1/home/z/zhux105/sl-privacy/mra/mra-drive-4.ipynb#ch0000006vscode-remote?line=3'>4</a>\u001b[0m     input_noise\u001b[39m=\u001b[39;49m\u001b[39mFalse\u001b[39;49;00m,\n\u001b[1;32m      <a href='vscode-notebook-cell://ssh-remote%2Bxgpd1/home/z/zhux105/sl-privacy/mra/mra-drive-4.ipynb#ch0000006vscode-remote?line=4'>5</a>\u001b[0m     input_z\u001b[39m=\u001b[39;49m\u001b[39mTrue\u001b[39;49;00m,\n\u001b[1;32m      <a href='vscode-notebook-cell://ssh-remote%2Bxgpd1/home/z/zhux105/sl-privacy/mra/mra-drive-4.ipynb#ch0000006vscode-remote?line=5'>6</a>\u001b[0m     model_leak\u001b[39m=\u001b[39;49m\u001b[39mTrue\u001b[39;49;00m,\n\u001b[1;32m      <a href='vscode-notebook-cell://ssh-remote%2Bxgpd1/home/z/zhux105/sl-privacy/mra/mra-drive-4.ipynb#ch0000006vscode-remote?line=6'>7</a>\u001b[0m     lr_x\u001b[39m=\u001b[39;49m\u001b[39m0.001\u001b[39;49m,\n\u001b[1;32m      <a href='vscode-notebook-cell://ssh-remote%2Bxgpd1/home/z/zhux105/sl-privacy/mra/mra-drive-4.ipynb#ch0000006vscode-remote?line=7'>8</a>\u001b[0m     lr_f\u001b[39m=\u001b[39;49m\u001b[39m0.0001\u001b[39;49m,\n\u001b[1;32m      <a href='vscode-notebook-cell://ssh-remote%2Bxgpd1/home/z/zhux105/sl-privacy/mra/mra-drive-4.ipynb#ch0000006vscode-remote?line=8'>9</a>\u001b[0m     epoch\u001b[39m=\u001b[39;49m\u001b[39m200\u001b[39;49m,\n\u001b[1;32m     <a href='vscode-notebook-cell://ssh-remote%2Bxgpd1/home/z/zhux105/sl-privacy/mra/mra-drive-4.ipynb#ch0000006vscode-remote?line=9'>10</a>\u001b[0m     iter_x\u001b[39m=\u001b[39;49m\u001b[39m50\u001b[39;49m,\n\u001b[1;32m     <a href='vscode-notebook-cell://ssh-remote%2Bxgpd1/home/z/zhux105/sl-privacy/mra/mra-drive-4.ipynb#ch0000006vscode-remote?line=10'>11</a>\u001b[0m     iter_f\u001b[39m=\u001b[39;49m\u001b[39m1\u001b[39;49m,\n\u001b[1;32m     <a href='vscode-notebook-cell://ssh-remote%2Bxgpd1/home/z/zhux105/sl-privacy/mra/mra-drive-4.ipynb#ch0000006vscode-remote?line=11'>12</a>\u001b[0m     verbose\u001b[39m=\u001b[39;49m\u001b[39mTrue\u001b[39;49;00m, log_every\u001b[39m=\u001b[39;49m\u001b[39m1\u001b[39;49m)\n",
      "File \u001b[0;32m~/sl-privacy/mra/mra.py:137\u001b[0m, in \u001b[0;36mmra.attack\u001b[0;34m(self, attack_iter, make_generator, input_noise, input_z, model_leak, lr_x, lr_f, epoch, iter_x, iter_f, verbose, log_every)\u001b[0m\n\u001b[1;32m    <a href='file:///~/sl-privacy/mra/mra.py?line=133'>134</a>\u001b[0m     \u001b[39melse\u001b[39;00m:\n\u001b[1;32m    <a href='file:///~/sl-privacy/mra/mra.py?line=134'>135</a>\u001b[0m         \u001b[39mraise\u001b[39;00m \u001b[39mValueError\u001b[39;00m(\u001b[39m\"\u001b[39m\u001b[39mMust define the input when generator is present.\u001b[39m\u001b[39m\"\u001b[39m)\n\u001b[0;32m--> <a href='file:///~/sl-privacy/mra/mra.py?line=136'>137</a>\u001b[0m     x_temp \u001b[39m=\u001b[39m \u001b[39mself\u001b[39;49m\u001b[39m.\u001b[39;49mgenerator(\u001b[39minput\u001b[39;49m, training\u001b[39m=\u001b[39;49m\u001b[39mTrue\u001b[39;49;00m)\n\u001b[1;32m    <a href='file:///~/sl-privacy/mra/mra.py?line=137'>138</a>\u001b[0m     loss_x \u001b[39m=\u001b[39m tf\u001b[39m.\u001b[39mkeras\u001b[39m.\u001b[39mlosses\u001b[39m.\u001b[39mMeanSquaredError()(f_temp(x_temp, training\u001b[39m=\u001b[39m\u001b[39mFalse\u001b[39;00m), z)\n\u001b[1;32m    <a href='file:///~/sl-privacy/mra/mra.py?line=139'>140</a>\u001b[0m \u001b[39mvars\u001b[39m \u001b[39m=\u001b[39m \u001b[39mself\u001b[39m\u001b[39m.\u001b[39mgenerator\u001b[39m.\u001b[39mtrainable_variables\n",
      "File \u001b[0;32m~/.local/lib/python3.8/site-packages/keras/utils/traceback_utils.py:64\u001b[0m, in \u001b[0;36mfilter_traceback.<locals>.error_handler\u001b[0;34m(*args, **kwargs)\u001b[0m\n\u001b[1;32m     <a href='file:///~/.local/lib/python3.8/site-packages/keras/utils/traceback_utils.py?line=61'>62</a>\u001b[0m filtered_tb \u001b[39m=\u001b[39m \u001b[39mNone\u001b[39;00m\n\u001b[1;32m     <a href='file:///~/.local/lib/python3.8/site-packages/keras/utils/traceback_utils.py?line=62'>63</a>\u001b[0m \u001b[39mtry\u001b[39;00m:\n\u001b[0;32m---> <a href='file:///~/.local/lib/python3.8/site-packages/keras/utils/traceback_utils.py?line=63'>64</a>\u001b[0m   \u001b[39mreturn\u001b[39;00m fn(\u001b[39m*\u001b[39;49margs, \u001b[39m*\u001b[39;49m\u001b[39m*\u001b[39;49mkwargs)\n\u001b[1;32m     <a href='file:///~/.local/lib/python3.8/site-packages/keras/utils/traceback_utils.py?line=64'>65</a>\u001b[0m \u001b[39mexcept\u001b[39;00m \u001b[39mException\u001b[39;00m \u001b[39mas\u001b[39;00m e:  \u001b[39m# pylint: disable=broad-except\u001b[39;00m\n\u001b[1;32m     <a href='file:///~/.local/lib/python3.8/site-packages/keras/utils/traceback_utils.py?line=65'>66</a>\u001b[0m   filtered_tb \u001b[39m=\u001b[39m _process_traceback_frames(e\u001b[39m.\u001b[39m__traceback__)\n",
      "File \u001b[0;32m~/.local/lib/python3.8/site-packages/keras/engine/base_layer.py:1096\u001b[0m, in \u001b[0;36mLayer.__call__\u001b[0;34m(self, *args, **kwargs)\u001b[0m\n\u001b[1;32m   <a href='file:///~/.local/lib/python3.8/site-packages/keras/engine/base_layer.py?line=1091'>1092</a>\u001b[0m   inputs \u001b[39m=\u001b[39m \u001b[39mself\u001b[39m\u001b[39m.\u001b[39m_maybe_cast_inputs(inputs, input_list)\n\u001b[1;32m   <a href='file:///~/.local/lib/python3.8/site-packages/keras/engine/base_layer.py?line=1093'>1094</a>\u001b[0m \u001b[39mwith\u001b[39;00m autocast_variable\u001b[39m.\u001b[39menable_auto_cast_variables(\n\u001b[1;32m   <a href='file:///~/.local/lib/python3.8/site-packages/keras/engine/base_layer.py?line=1094'>1095</a>\u001b[0m     \u001b[39mself\u001b[39m\u001b[39m.\u001b[39m_compute_dtype_object):\n\u001b[0;32m-> <a href='file:///~/.local/lib/python3.8/site-packages/keras/engine/base_layer.py?line=1095'>1096</a>\u001b[0m   outputs \u001b[39m=\u001b[39m call_fn(inputs, \u001b[39m*\u001b[39;49margs, \u001b[39m*\u001b[39;49m\u001b[39m*\u001b[39;49mkwargs)\n\u001b[1;32m   <a href='file:///~/.local/lib/python3.8/site-packages/keras/engine/base_layer.py?line=1097'>1098</a>\u001b[0m \u001b[39mif\u001b[39;00m \u001b[39mself\u001b[39m\u001b[39m.\u001b[39m_activity_regularizer:\n\u001b[1;32m   <a href='file:///~/.local/lib/python3.8/site-packages/keras/engine/base_layer.py?line=1098'>1099</a>\u001b[0m   \u001b[39mself\u001b[39m\u001b[39m.\u001b[39m_handle_activity_regularization(inputs, outputs)\n",
      "File \u001b[0;32m~/.local/lib/python3.8/site-packages/keras/utils/traceback_utils.py:92\u001b[0m, in \u001b[0;36minject_argument_info_in_traceback.<locals>.error_handler\u001b[0;34m(*args, **kwargs)\u001b[0m\n\u001b[1;32m     <a href='file:///~/.local/lib/python3.8/site-packages/keras/utils/traceback_utils.py?line=89'>90</a>\u001b[0m bound_signature \u001b[39m=\u001b[39m \u001b[39mNone\u001b[39;00m\n\u001b[1;32m     <a href='file:///~/.local/lib/python3.8/site-packages/keras/utils/traceback_utils.py?line=90'>91</a>\u001b[0m \u001b[39mtry\u001b[39;00m:\n\u001b[0;32m---> <a href='file:///~/.local/lib/python3.8/site-packages/keras/utils/traceback_utils.py?line=91'>92</a>\u001b[0m   \u001b[39mreturn\u001b[39;00m fn(\u001b[39m*\u001b[39;49margs, \u001b[39m*\u001b[39;49m\u001b[39m*\u001b[39;49mkwargs)\n\u001b[1;32m     <a href='file:///~/.local/lib/python3.8/site-packages/keras/utils/traceback_utils.py?line=92'>93</a>\u001b[0m \u001b[39mexcept\u001b[39;00m \u001b[39mException\u001b[39;00m \u001b[39mas\u001b[39;00m e:  \u001b[39m# pylint: disable=broad-except\u001b[39;00m\n\u001b[1;32m     <a href='file:///~/.local/lib/python3.8/site-packages/keras/utils/traceback_utils.py?line=93'>94</a>\u001b[0m   \u001b[39mif\u001b[39;00m \u001b[39mhasattr\u001b[39m(e, \u001b[39m'\u001b[39m\u001b[39m_keras_call_info_injected\u001b[39m\u001b[39m'\u001b[39m):\n\u001b[1;32m     <a href='file:///~/.local/lib/python3.8/site-packages/keras/utils/traceback_utils.py?line=94'>95</a>\u001b[0m     \u001b[39m# Only inject info for the innermost failing call\u001b[39;00m\n",
      "File \u001b[0;32m~/.local/lib/python3.8/site-packages/keras/engine/functional.py:451\u001b[0m, in \u001b[0;36mFunctional.call\u001b[0;34m(self, inputs, training, mask)\u001b[0m\n\u001b[1;32m    <a href='file:///~/.local/lib/python3.8/site-packages/keras/engine/functional.py?line=431'>432</a>\u001b[0m \u001b[39m@doc_controls\u001b[39m\u001b[39m.\u001b[39mdo_not_doc_inheritable\n\u001b[1;32m    <a href='file:///~/.local/lib/python3.8/site-packages/keras/engine/functional.py?line=432'>433</a>\u001b[0m \u001b[39mdef\u001b[39;00m \u001b[39mcall\u001b[39m(\u001b[39mself\u001b[39m, inputs, training\u001b[39m=\u001b[39m\u001b[39mNone\u001b[39;00m, mask\u001b[39m=\u001b[39m\u001b[39mNone\u001b[39;00m):\n\u001b[1;32m    <a href='file:///~/.local/lib/python3.8/site-packages/keras/engine/functional.py?line=433'>434</a>\u001b[0m   \u001b[39m\"\"\"Calls the model on new inputs.\u001b[39;00m\n\u001b[1;32m    <a href='file:///~/.local/lib/python3.8/site-packages/keras/engine/functional.py?line=434'>435</a>\u001b[0m \n\u001b[1;32m    <a href='file:///~/.local/lib/python3.8/site-packages/keras/engine/functional.py?line=435'>436</a>\u001b[0m \u001b[39m  In this case `call` just reapplies\u001b[39;00m\n\u001b[0;32m   (...)\u001b[0m\n\u001b[1;32m    <a href='file:///~/.local/lib/python3.8/site-packages/keras/engine/functional.py?line=448'>449</a>\u001b[0m \u001b[39m      a list of tensors if there are more than one outputs.\u001b[39;00m\n\u001b[1;32m    <a href='file:///~/.local/lib/python3.8/site-packages/keras/engine/functional.py?line=449'>450</a>\u001b[0m \u001b[39m  \"\"\"\u001b[39;00m\n\u001b[0;32m--> <a href='file:///~/.local/lib/python3.8/site-packages/keras/engine/functional.py?line=450'>451</a>\u001b[0m   \u001b[39mreturn\u001b[39;00m \u001b[39mself\u001b[39;49m\u001b[39m.\u001b[39;49m_run_internal_graph(\n\u001b[1;32m    <a href='file:///~/.local/lib/python3.8/site-packages/keras/engine/functional.py?line=451'>452</a>\u001b[0m       inputs, training\u001b[39m=\u001b[39;49mtraining, mask\u001b[39m=\u001b[39;49mmask)\n",
      "File \u001b[0;32m~/.local/lib/python3.8/site-packages/keras/engine/functional.py:589\u001b[0m, in \u001b[0;36mFunctional._run_internal_graph\u001b[0;34m(self, inputs, training, mask)\u001b[0m\n\u001b[1;32m    <a href='file:///~/.local/lib/python3.8/site-packages/keras/engine/functional.py?line=585'>586</a>\u001b[0m   \u001b[39mcontinue\u001b[39;00m  \u001b[39m# Node is not computable, try skipping.\u001b[39;00m\n\u001b[1;32m    <a href='file:///~/.local/lib/python3.8/site-packages/keras/engine/functional.py?line=587'>588</a>\u001b[0m args, kwargs \u001b[39m=\u001b[39m node\u001b[39m.\u001b[39mmap_arguments(tensor_dict)\n\u001b[0;32m--> <a href='file:///~/.local/lib/python3.8/site-packages/keras/engine/functional.py?line=588'>589</a>\u001b[0m outputs \u001b[39m=\u001b[39m node\u001b[39m.\u001b[39;49mlayer(\u001b[39m*\u001b[39;49margs, \u001b[39m*\u001b[39;49m\u001b[39m*\u001b[39;49mkwargs)\n\u001b[1;32m    <a href='file:///~/.local/lib/python3.8/site-packages/keras/engine/functional.py?line=590'>591</a>\u001b[0m \u001b[39m# Update tensor_dict.\u001b[39;00m\n\u001b[1;32m    <a href='file:///~/.local/lib/python3.8/site-packages/keras/engine/functional.py?line=591'>592</a>\u001b[0m \u001b[39mfor\u001b[39;00m x_id, y \u001b[39min\u001b[39;00m \u001b[39mzip\u001b[39m(node\u001b[39m.\u001b[39mflat_output_ids, tf\u001b[39m.\u001b[39mnest\u001b[39m.\u001b[39mflatten(outputs)):\n",
      "File \u001b[0;32m~/.local/lib/python3.8/site-packages/keras/utils/traceback_utils.py:64\u001b[0m, in \u001b[0;36mfilter_traceback.<locals>.error_handler\u001b[0;34m(*args, **kwargs)\u001b[0m\n\u001b[1;32m     <a href='file:///~/.local/lib/python3.8/site-packages/keras/utils/traceback_utils.py?line=61'>62</a>\u001b[0m filtered_tb \u001b[39m=\u001b[39m \u001b[39mNone\u001b[39;00m\n\u001b[1;32m     <a href='file:///~/.local/lib/python3.8/site-packages/keras/utils/traceback_utils.py?line=62'>63</a>\u001b[0m \u001b[39mtry\u001b[39;00m:\n\u001b[0;32m---> <a href='file:///~/.local/lib/python3.8/site-packages/keras/utils/traceback_utils.py?line=63'>64</a>\u001b[0m   \u001b[39mreturn\u001b[39;00m fn(\u001b[39m*\u001b[39;49margs, \u001b[39m*\u001b[39;49m\u001b[39m*\u001b[39;49mkwargs)\n\u001b[1;32m     <a href='file:///~/.local/lib/python3.8/site-packages/keras/utils/traceback_utils.py?line=64'>65</a>\u001b[0m \u001b[39mexcept\u001b[39;00m \u001b[39mException\u001b[39;00m \u001b[39mas\u001b[39;00m e:  \u001b[39m# pylint: disable=broad-except\u001b[39;00m\n\u001b[1;32m     <a href='file:///~/.local/lib/python3.8/site-packages/keras/utils/traceback_utils.py?line=65'>66</a>\u001b[0m   filtered_tb \u001b[39m=\u001b[39m _process_traceback_frames(e\u001b[39m.\u001b[39m__traceback__)\n",
      "File \u001b[0;32m~/.local/lib/python3.8/site-packages/keras/engine/base_layer.py:1096\u001b[0m, in \u001b[0;36mLayer.__call__\u001b[0;34m(self, *args, **kwargs)\u001b[0m\n\u001b[1;32m   <a href='file:///~/.local/lib/python3.8/site-packages/keras/engine/base_layer.py?line=1091'>1092</a>\u001b[0m   inputs \u001b[39m=\u001b[39m \u001b[39mself\u001b[39m\u001b[39m.\u001b[39m_maybe_cast_inputs(inputs, input_list)\n\u001b[1;32m   <a href='file:///~/.local/lib/python3.8/site-packages/keras/engine/base_layer.py?line=1093'>1094</a>\u001b[0m \u001b[39mwith\u001b[39;00m autocast_variable\u001b[39m.\u001b[39menable_auto_cast_variables(\n\u001b[1;32m   <a href='file:///~/.local/lib/python3.8/site-packages/keras/engine/base_layer.py?line=1094'>1095</a>\u001b[0m     \u001b[39mself\u001b[39m\u001b[39m.\u001b[39m_compute_dtype_object):\n\u001b[0;32m-> <a href='file:///~/.local/lib/python3.8/site-packages/keras/engine/base_layer.py?line=1095'>1096</a>\u001b[0m   outputs \u001b[39m=\u001b[39m call_fn(inputs, \u001b[39m*\u001b[39;49margs, \u001b[39m*\u001b[39;49m\u001b[39m*\u001b[39;49mkwargs)\n\u001b[1;32m   <a href='file:///~/.local/lib/python3.8/site-packages/keras/engine/base_layer.py?line=1097'>1098</a>\u001b[0m \u001b[39mif\u001b[39;00m \u001b[39mself\u001b[39m\u001b[39m.\u001b[39m_activity_regularizer:\n\u001b[1;32m   <a href='file:///~/.local/lib/python3.8/site-packages/keras/engine/base_layer.py?line=1098'>1099</a>\u001b[0m   \u001b[39mself\u001b[39m\u001b[39m.\u001b[39m_handle_activity_regularization(inputs, outputs)\n",
      "File \u001b[0;32m~/.local/lib/python3.8/site-packages/keras/utils/traceback_utils.py:92\u001b[0m, in \u001b[0;36minject_argument_info_in_traceback.<locals>.error_handler\u001b[0;34m(*args, **kwargs)\u001b[0m\n\u001b[1;32m     <a href='file:///~/.local/lib/python3.8/site-packages/keras/utils/traceback_utils.py?line=89'>90</a>\u001b[0m bound_signature \u001b[39m=\u001b[39m \u001b[39mNone\u001b[39;00m\n\u001b[1;32m     <a href='file:///~/.local/lib/python3.8/site-packages/keras/utils/traceback_utils.py?line=90'>91</a>\u001b[0m \u001b[39mtry\u001b[39;00m:\n\u001b[0;32m---> <a href='file:///~/.local/lib/python3.8/site-packages/keras/utils/traceback_utils.py?line=91'>92</a>\u001b[0m   \u001b[39mreturn\u001b[39;00m fn(\u001b[39m*\u001b[39;49margs, \u001b[39m*\u001b[39;49m\u001b[39m*\u001b[39;49mkwargs)\n\u001b[1;32m     <a href='file:///~/.local/lib/python3.8/site-packages/keras/utils/traceback_utils.py?line=92'>93</a>\u001b[0m \u001b[39mexcept\u001b[39;00m \u001b[39mException\u001b[39;00m \u001b[39mas\u001b[39;00m e:  \u001b[39m# pylint: disable=broad-except\u001b[39;00m\n\u001b[1;32m     <a href='file:///~/.local/lib/python3.8/site-packages/keras/utils/traceback_utils.py?line=93'>94</a>\u001b[0m   \u001b[39mif\u001b[39;00m \u001b[39mhasattr\u001b[39m(e, \u001b[39m'\u001b[39m\u001b[39m_keras_call_info_injected\u001b[39m\u001b[39m'\u001b[39m):\n\u001b[1;32m     <a href='file:///~/.local/lib/python3.8/site-packages/keras/utils/traceback_utils.py?line=94'>95</a>\u001b[0m     \u001b[39m# Only inject info for the innermost failing call\u001b[39;00m\n",
      "File \u001b[0;32m~/.local/lib/python3.8/site-packages/keras/layers/core/dense.py:233\u001b[0m, in \u001b[0;36mDense.call\u001b[0;34m(self, inputs)\u001b[0m\n\u001b[1;32m    <a href='file:///~/.local/lib/python3.8/site-packages/keras/layers/core/dense.py?line=229'>230</a>\u001b[0m   outputs \u001b[39m=\u001b[39m tf\u001b[39m.\u001b[39mnn\u001b[39m.\u001b[39mbias_add(outputs, \u001b[39mself\u001b[39m\u001b[39m.\u001b[39mbias)\n\u001b[1;32m    <a href='file:///~/.local/lib/python3.8/site-packages/keras/layers/core/dense.py?line=231'>232</a>\u001b[0m \u001b[39mif\u001b[39;00m \u001b[39mself\u001b[39m\u001b[39m.\u001b[39mactivation \u001b[39mis\u001b[39;00m \u001b[39mnot\u001b[39;00m \u001b[39mNone\u001b[39;00m:\n\u001b[0;32m--> <a href='file:///~/.local/lib/python3.8/site-packages/keras/layers/core/dense.py?line=232'>233</a>\u001b[0m   outputs \u001b[39m=\u001b[39m \u001b[39mself\u001b[39;49m\u001b[39m.\u001b[39;49mactivation(outputs)\n\u001b[1;32m    <a href='file:///~/.local/lib/python3.8/site-packages/keras/layers/core/dense.py?line=234'>235</a>\u001b[0m \u001b[39mif\u001b[39;00m is_ragged:\n\u001b[1;32m    <a href='file:///~/.local/lib/python3.8/site-packages/keras/layers/core/dense.py?line=235'>236</a>\u001b[0m   outputs \u001b[39m=\u001b[39m original_inputs\u001b[39m.\u001b[39mwith_flat_values(outputs)\n",
      "File \u001b[0;32m~/.local/lib/python3.8/site-packages/tensorflow/python/util/traceback_utils.py:150\u001b[0m, in \u001b[0;36mfilter_traceback.<locals>.error_handler\u001b[0;34m(*args, **kwargs)\u001b[0m\n\u001b[1;32m    <a href='file:///~/.local/lib/python3.8/site-packages/tensorflow/python/util/traceback_utils.py?line=147'>148</a>\u001b[0m filtered_tb \u001b[39m=\u001b[39m \u001b[39mNone\u001b[39;00m\n\u001b[1;32m    <a href='file:///~/.local/lib/python3.8/site-packages/tensorflow/python/util/traceback_utils.py?line=148'>149</a>\u001b[0m \u001b[39mtry\u001b[39;00m:\n\u001b[0;32m--> <a href='file:///~/.local/lib/python3.8/site-packages/tensorflow/python/util/traceback_utils.py?line=149'>150</a>\u001b[0m   \u001b[39mreturn\u001b[39;00m fn(\u001b[39m*\u001b[39;49margs, \u001b[39m*\u001b[39;49m\u001b[39m*\u001b[39;49mkwargs)\n\u001b[1;32m    <a href='file:///~/.local/lib/python3.8/site-packages/tensorflow/python/util/traceback_utils.py?line=150'>151</a>\u001b[0m \u001b[39mexcept\u001b[39;00m \u001b[39mException\u001b[39;00m \u001b[39mas\u001b[39;00m e:\n\u001b[1;32m    <a href='file:///~/.local/lib/python3.8/site-packages/tensorflow/python/util/traceback_utils.py?line=151'>152</a>\u001b[0m   filtered_tb \u001b[39m=\u001b[39m _process_traceback_frames(e\u001b[39m.\u001b[39m__traceback__)\n",
      "File \u001b[0;32m~/.local/lib/python3.8/site-packages/tensorflow/python/util/dispatch.py:1082\u001b[0m, in \u001b[0;36madd_dispatch_support.<locals>.decorator.<locals>.op_dispatch_handler\u001b[0;34m(*args, **kwargs)\u001b[0m\n\u001b[1;32m   <a href='file:///~/.local/lib/python3.8/site-packages/tensorflow/python/util/dispatch.py?line=1079'>1080</a>\u001b[0m \u001b[39m# Fallback dispatch system (dispatch v1):\u001b[39;00m\n\u001b[1;32m   <a href='file:///~/.local/lib/python3.8/site-packages/tensorflow/python/util/dispatch.py?line=1080'>1081</a>\u001b[0m \u001b[39mtry\u001b[39;00m:\n\u001b[0;32m-> <a href='file:///~/.local/lib/python3.8/site-packages/tensorflow/python/util/dispatch.py?line=1081'>1082</a>\u001b[0m   \u001b[39mreturn\u001b[39;00m dispatch_target(\u001b[39m*\u001b[39;49margs, \u001b[39m*\u001b[39;49m\u001b[39m*\u001b[39;49mkwargs)\n\u001b[1;32m   <a href='file:///~/.local/lib/python3.8/site-packages/tensorflow/python/util/dispatch.py?line=1082'>1083</a>\u001b[0m \u001b[39mexcept\u001b[39;00m (\u001b[39mTypeError\u001b[39;00m, \u001b[39mValueError\u001b[39;00m):\n\u001b[1;32m   <a href='file:///~/.local/lib/python3.8/site-packages/tensorflow/python/util/dispatch.py?line=1083'>1084</a>\u001b[0m   \u001b[39m# Note: convert_to_eager_tensor currently raises a ValueError, not a\u001b[39;00m\n\u001b[1;32m   <a href='file:///~/.local/lib/python3.8/site-packages/tensorflow/python/util/dispatch.py?line=1084'>1085</a>\u001b[0m   \u001b[39m# TypeError, when given unexpected types.  So we need to catch both.\u001b[39;00m\n\u001b[1;32m   <a href='file:///~/.local/lib/python3.8/site-packages/tensorflow/python/util/dispatch.py?line=1085'>1086</a>\u001b[0m   result \u001b[39m=\u001b[39m dispatch(op_dispatch_handler, args, kwargs)\n",
      "File \u001b[0;32m~/.local/lib/python3.8/site-packages/keras/activations.py:311\u001b[0m, in \u001b[0;36mrelu\u001b[0;34m(x, alpha, max_value, threshold)\u001b[0m\n\u001b[1;32m    <a href='file:///~/.local/lib/python3.8/site-packages/keras/activations.py?line=272'>273</a>\u001b[0m \u001b[39m@keras_export\u001b[39m(\u001b[39m'\u001b[39m\u001b[39mkeras.activations.relu\u001b[39m\u001b[39m'\u001b[39m)\n\u001b[1;32m    <a href='file:///~/.local/lib/python3.8/site-packages/keras/activations.py?line=273'>274</a>\u001b[0m \u001b[39m@tf\u001b[39m\u001b[39m.\u001b[39m__internal__\u001b[39m.\u001b[39mdispatch\u001b[39m.\u001b[39madd_dispatch_support\n\u001b[1;32m    <a href='file:///~/.local/lib/python3.8/site-packages/keras/activations.py?line=274'>275</a>\u001b[0m \u001b[39mdef\u001b[39;00m \u001b[39mrelu\u001b[39m(x, alpha\u001b[39m=\u001b[39m\u001b[39m0.\u001b[39m, max_value\u001b[39m=\u001b[39m\u001b[39mNone\u001b[39;00m, threshold\u001b[39m=\u001b[39m\u001b[39m0.\u001b[39m):\n\u001b[1;32m    <a href='file:///~/.local/lib/python3.8/site-packages/keras/activations.py?line=275'>276</a>\u001b[0m   \u001b[39m\"\"\"Applies the rectified linear unit activation function.\u001b[39;00m\n\u001b[1;32m    <a href='file:///~/.local/lib/python3.8/site-packages/keras/activations.py?line=276'>277</a>\u001b[0m \n\u001b[1;32m    <a href='file:///~/.local/lib/python3.8/site-packages/keras/activations.py?line=277'>278</a>\u001b[0m \u001b[39m  With default values, this returns the standard ReLU activation:\u001b[39;00m\n\u001b[0;32m   (...)\u001b[0m\n\u001b[1;32m    <a href='file:///~/.local/lib/python3.8/site-packages/keras/activations.py?line=308'>309</a>\u001b[0m \u001b[39m      Tensor will be of the same shape and dtype of input `x`.\u001b[39;00m\n\u001b[1;32m    <a href='file:///~/.local/lib/python3.8/site-packages/keras/activations.py?line=309'>310</a>\u001b[0m \u001b[39m  \"\"\"\u001b[39;00m\n\u001b[0;32m--> <a href='file:///~/.local/lib/python3.8/site-packages/keras/activations.py?line=310'>311</a>\u001b[0m   \u001b[39mreturn\u001b[39;00m backend\u001b[39m.\u001b[39;49mrelu(x, alpha\u001b[39m=\u001b[39;49malpha, max_value\u001b[39m=\u001b[39;49mmax_value, threshold\u001b[39m=\u001b[39;49mthreshold)\n",
      "File \u001b[0;32m~/.local/lib/python3.8/site-packages/tensorflow/python/util/traceback_utils.py:150\u001b[0m, in \u001b[0;36mfilter_traceback.<locals>.error_handler\u001b[0;34m(*args, **kwargs)\u001b[0m\n\u001b[1;32m    <a href='file:///~/.local/lib/python3.8/site-packages/tensorflow/python/util/traceback_utils.py?line=147'>148</a>\u001b[0m filtered_tb \u001b[39m=\u001b[39m \u001b[39mNone\u001b[39;00m\n\u001b[1;32m    <a href='file:///~/.local/lib/python3.8/site-packages/tensorflow/python/util/traceback_utils.py?line=148'>149</a>\u001b[0m \u001b[39mtry\u001b[39;00m:\n\u001b[0;32m--> <a href='file:///~/.local/lib/python3.8/site-packages/tensorflow/python/util/traceback_utils.py?line=149'>150</a>\u001b[0m   \u001b[39mreturn\u001b[39;00m fn(\u001b[39m*\u001b[39;49margs, \u001b[39m*\u001b[39;49m\u001b[39m*\u001b[39;49mkwargs)\n\u001b[1;32m    <a href='file:///~/.local/lib/python3.8/site-packages/tensorflow/python/util/traceback_utils.py?line=150'>151</a>\u001b[0m \u001b[39mexcept\u001b[39;00m \u001b[39mException\u001b[39;00m \u001b[39mas\u001b[39;00m e:\n\u001b[1;32m    <a href='file:///~/.local/lib/python3.8/site-packages/tensorflow/python/util/traceback_utils.py?line=151'>152</a>\u001b[0m   filtered_tb \u001b[39m=\u001b[39m _process_traceback_frames(e\u001b[39m.\u001b[39m__traceback__)\n",
      "File \u001b[0;32m~/.local/lib/python3.8/site-packages/tensorflow/python/util/dispatch.py:1082\u001b[0m, in \u001b[0;36madd_dispatch_support.<locals>.decorator.<locals>.op_dispatch_handler\u001b[0;34m(*args, **kwargs)\u001b[0m\n\u001b[1;32m   <a href='file:///~/.local/lib/python3.8/site-packages/tensorflow/python/util/dispatch.py?line=1079'>1080</a>\u001b[0m \u001b[39m# Fallback dispatch system (dispatch v1):\u001b[39;00m\n\u001b[1;32m   <a href='file:///~/.local/lib/python3.8/site-packages/tensorflow/python/util/dispatch.py?line=1080'>1081</a>\u001b[0m \u001b[39mtry\u001b[39;00m:\n\u001b[0;32m-> <a href='file:///~/.local/lib/python3.8/site-packages/tensorflow/python/util/dispatch.py?line=1081'>1082</a>\u001b[0m   \u001b[39mreturn\u001b[39;00m dispatch_target(\u001b[39m*\u001b[39;49margs, \u001b[39m*\u001b[39;49m\u001b[39m*\u001b[39;49mkwargs)\n\u001b[1;32m   <a href='file:///~/.local/lib/python3.8/site-packages/tensorflow/python/util/dispatch.py?line=1082'>1083</a>\u001b[0m \u001b[39mexcept\u001b[39;00m (\u001b[39mTypeError\u001b[39;00m, \u001b[39mValueError\u001b[39;00m):\n\u001b[1;32m   <a href='file:///~/.local/lib/python3.8/site-packages/tensorflow/python/util/dispatch.py?line=1083'>1084</a>\u001b[0m   \u001b[39m# Note: convert_to_eager_tensor currently raises a ValueError, not a\u001b[39;00m\n\u001b[1;32m   <a href='file:///~/.local/lib/python3.8/site-packages/tensorflow/python/util/dispatch.py?line=1084'>1085</a>\u001b[0m   \u001b[39m# TypeError, when given unexpected types.  So we need to catch both.\u001b[39;00m\n\u001b[1;32m   <a href='file:///~/.local/lib/python3.8/site-packages/tensorflow/python/util/dispatch.py?line=1085'>1086</a>\u001b[0m   result \u001b[39m=\u001b[39m dispatch(op_dispatch_handler, args, kwargs)\n",
      "File \u001b[0;32m~/.local/lib/python3.8/site-packages/keras/backend.py:4956\u001b[0m, in \u001b[0;36mrelu\u001b[0;34m(x, alpha, max_value, threshold)\u001b[0m\n\u001b[1;32m   <a href='file:///~/.local/lib/python3.8/site-packages/keras/backend.py?line=4953'>4954</a>\u001b[0m   clip_max \u001b[39m=\u001b[39m \u001b[39mFalse\u001b[39;00m\n\u001b[1;32m   <a href='file:///~/.local/lib/python3.8/site-packages/keras/backend.py?line=4954'>4955</a>\u001b[0m \u001b[39melse\u001b[39;00m:\n\u001b[0;32m-> <a href='file:///~/.local/lib/python3.8/site-packages/keras/backend.py?line=4955'>4956</a>\u001b[0m   x \u001b[39m=\u001b[39m tf\u001b[39m.\u001b[39;49mnn\u001b[39m.\u001b[39;49mrelu(x)\n\u001b[1;32m   <a href='file:///~/.local/lib/python3.8/site-packages/keras/backend.py?line=4957'>4958</a>\u001b[0m \u001b[39mif\u001b[39;00m clip_max:\n\u001b[1;32m   <a href='file:///~/.local/lib/python3.8/site-packages/keras/backend.py?line=4958'>4959</a>\u001b[0m   max_value \u001b[39m=\u001b[39m _constant_to_tensor(max_value, x\u001b[39m.\u001b[39mdtype\u001b[39m.\u001b[39mbase_dtype)\n",
      "File \u001b[0;32m~/.local/lib/python3.8/site-packages/tensorflow/python/ops/gen_nn_ops.py:10524\u001b[0m, in \u001b[0;36mrelu\u001b[0;34m(features, name)\u001b[0m\n\u001b[1;32m  <a href='file:///~/.local/lib/python3.8/site-packages/tensorflow/python/ops/gen_nn_ops.py?line=10521'>10522</a>\u001b[0m \u001b[39mif\u001b[39;00m tld\u001b[39m.\u001b[39mis_eager:\n\u001b[1;32m  <a href='file:///~/.local/lib/python3.8/site-packages/tensorflow/python/ops/gen_nn_ops.py?line=10522'>10523</a>\u001b[0m   \u001b[39mtry\u001b[39;00m:\n\u001b[0;32m> <a href='file:///~/.local/lib/python3.8/site-packages/tensorflow/python/ops/gen_nn_ops.py?line=10523'>10524</a>\u001b[0m     _result \u001b[39m=\u001b[39m pywrap_tfe\u001b[39m.\u001b[39;49mTFE_Py_FastPathExecute(\n\u001b[1;32m  <a href='file:///~/.local/lib/python3.8/site-packages/tensorflow/python/ops/gen_nn_ops.py?line=10524'>10525</a>\u001b[0m       _ctx, \u001b[39m\"\u001b[39;49m\u001b[39mRelu\u001b[39;49m\u001b[39m\"\u001b[39;49m, name, features)\n\u001b[1;32m  <a href='file:///~/.local/lib/python3.8/site-packages/tensorflow/python/ops/gen_nn_ops.py?line=10525'>10526</a>\u001b[0m     \u001b[39mreturn\u001b[39;00m _result\n\u001b[1;32m  <a href='file:///~/.local/lib/python3.8/site-packages/tensorflow/python/ops/gen_nn_ops.py?line=10526'>10527</a>\u001b[0m   \u001b[39mexcept\u001b[39;00m _core\u001b[39m.\u001b[39m_NotOkStatusException \u001b[39mas\u001b[39;00m e:\n",
      "\u001b[0;31mKeyboardInterrupt\u001b[0m: "
     ]
    }
   ],
   "source": [
    "log_attack = mra.attack(\n",
    "    attack_iter=5,\n",
    "    make_generator=make_generator,\n",
    "    input_noise=False,\n",
    "    input_z=True,\n",
    "    model_leak=True,\n",
    "    lr_x=0.001,\n",
    "    lr_f=0.0001,\n",
    "    epoch=200,\n",
    "    iter_x=50,\n",
    "    iter_f=1,\n",
    "    verbose=True, log_every=1)"
   ]
  },
  {
   "cell_type": "code",
   "execution_count": 8,
   "metadata": {},
   "outputs": [],
   "source": [
    "np.savetxt(\"./log/drive-4.csv\", log_attack, delimiter=\",\")"
   ]
  }
 ],
 "metadata": {
  "interpreter": {
   "hash": "d9ff725623c15d695aa319bbc94ea42e245a1edcf20c6f47c05aed8c0d68e7f4"
  },
  "kernelspec": {
   "display_name": "Python 3.9.7 64-bit",
   "language": "python",
   "name": "python3"
  },
  "language_info": {
   "codemirror_mode": {
    "name": "ipython",
    "version": 3
   },
   "file_extension": ".py",
   "mimetype": "text/x-python",
   "name": "python",
   "nbconvert_exporter": "python",
   "pygments_lexer": "ipython3",
   "version": "3.8.10"
  },
  "orig_nbformat": 4
 },
 "nbformat": 4,
 "nbformat_minor": 2
}
