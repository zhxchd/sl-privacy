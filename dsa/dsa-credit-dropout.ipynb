{
 "cells": [
  {
   "cell_type": "code",
   "execution_count": 1,
   "metadata": {},
   "outputs": [],
   "source": [
    "%load_ext autoreload\n",
    "%autoreload 2\n",
    "\n",
    "import tensorflow as tf\n",
    "import numpy as np\n",
    "import matplotlib.pyplot as plt\n",
    "import os\n",
    "import pandas as pd\n",
    "    \n",
    "import dsa\n",
    "from dsa import *\n",
    "from models import mlp\n",
    "import pickle\n",
    "from sklearn.model_selection import train_test_split\n",
    "\n",
    "# os.environ['CUDA_VISIBLE_DEVICES'] = '-1'"
   ]
  },
  {
   "cell_type": "code",
   "execution_count": 2,
   "metadata": {},
   "outputs": [
    {
     "name": "stderr",
     "output_type": "stream",
     "text": [
      "2022-04-05 05:25:33.397537: I tensorflow/core/platform/cpu_feature_guard.cc:151] This TensorFlow binary is optimized with oneAPI Deep Neural Network Library (oneDNN) to use the following CPU instructions in performance-critical operations:  AVX2 AVX512F FMA\n",
      "To enable them in other operations, rebuild TensorFlow with the appropriate compiler flags.\n",
      "2022-04-05 05:25:34.650621: I tensorflow/core/common_runtime/gpu/gpu_device.cc:1525] Created device /job:localhost/replica:0/task:0/device:GPU:0 with 10545 MB memory:  -> device: 0, name: NVIDIA TITAN V, pci bus id: 0000:3b:00.0, compute capability: 7.0\n",
      "2022-04-05 05:25:34.651884: I tensorflow/core/common_runtime/gpu/gpu_device.cc:1525] Created device /job:localhost/replica:0/task:0/device:GPU:1 with 10545 MB memory:  -> device: 1, name: NVIDIA TITAN V, pci bus id: 0000:5e:00.0, compute capability: 7.0\n"
     ]
    }
   ],
   "source": [
    "def make_dataset(X, Y, f):\n",
    "    x = tf.data.Dataset.from_tensor_slices(X)\n",
    "    y = tf.data.Dataset.from_tensor_slices(Y)\n",
    "    x = x.map(f)\n",
    "    xy = tf.data.Dataset.zip((x, y))\n",
    "    xy = xy.shuffle(10000)\n",
    "    return xy\n",
    "\n",
    "df = pd.read_excel('../datasets/credit-card.xls', header=1, index_col=0).sample(frac=1)\n",
    "x = df.drop(columns=[\"default payment next month\"]).to_numpy()\n",
    "x = (x - np.min(x, axis=0))/(np.max(x, axis=0) - np.min(x, axis=0))\n",
    "y = df[\"default payment next month\"].to_numpy().reshape((len(x), 1)).astype(\"float32\")\n",
    "\n",
    "aux_target_ratio = 0.2\n",
    "\n",
    "x_train, x_test, y_train, y_test = train_test_split(x, y, test_size=aux_target_ratio/(aux_target_ratio+1), random_state=42)\n",
    "\n",
    "target_ds = make_dataset(x_train, y_train, lambda t: t)\n",
    "aux_ds = make_dataset(x_test, y_test, lambda t: t)"
   ]
  },
  {
   "cell_type": "code",
   "execution_count": 4,
   "metadata": {},
   "outputs": [
    {
     "name": "stdout",
     "output_type": "stream",
     "text": [
      "============================\n",
      "======Drop out is 0.8======\n",
      "============================\n",
      "Iteration 500, train accuracy: 0.7752064348459243, average attack MSE: 0.14693602314591409\n",
      "Iteration 1000, train accuracy: 0.7921072899103164, average attack MSE: 0.13403937710821628\n",
      "Iteration 1500, train accuracy: 0.7976067731380463, average attack MSE: 0.12233814944326878\n",
      "Iteration 2000, train accuracy: 0.8010512907505035, average attack MSE: 0.10411789274215698\n",
      "Iteration 2500, train accuracy: 0.8031949524879456, average attack MSE: 0.08426258869469166\n",
      "Iteration 3000, train accuracy: 0.8050067224502564, average attack MSE: 0.06613170708715915\n",
      "Iteration 3500, train accuracy: 0.8062579189538955, average attack MSE: 0.05115793631225824\n",
      "Iteration 4000, train accuracy: 0.8071322836875916, average attack MSE: 0.039498206440359354\n",
      "Iteration 4500, train accuracy: 0.8081291036605835, average attack MSE: 0.033107049118727444\n",
      "Iteration 5000, train accuracy: 0.8087744110822678, average attack MSE: 0.029704770810902118\n",
      "Iteration 5500, train accuracy: 0.8094312529563904, average attack MSE: 0.02816985419392586\n",
      "Iteration 6000, train accuracy: 0.8099705015420914, average attack MSE: 0.029273750357329844\n",
      "Iteration 6500, train accuracy: 0.8105669668912887, average attack MSE: 0.02872164276242256\n",
      "Iteration 7000, train accuracy: 0.8110658872127533, average attack MSE: 0.029529175195842982\n",
      "Iteration 7500, train accuracy: 0.8116568319797516, average attack MSE: 0.030356558948755264\n",
      "Iteration 8000, train accuracy: 0.8120480425357819, average attack MSE: 0.030296068582683803\n",
      "Iteration 8500, train accuracy: 0.8125170814990997, average attack MSE: 0.029867147967219353\n",
      "Iteration 9000, train accuracy: 0.8129218703508377, average attack MSE: 0.029068212587386368\n",
      "Iteration 9500, train accuracy: 0.8132236346006393, average attack MSE: 0.028284144181758165\n",
      "Iteration 10000, train accuracy: 0.8134938853979111, average attack MSE: 0.02782049822062254\n",
      "============================\n",
      "======Drop out is 0.6======\n",
      "============================\n",
      "Iteration 500, train accuracy: 0.7758421025276184, average attack MSE: 0.14077565491199492\n",
      "Iteration 1000, train accuracy: 0.7993442205190658, average attack MSE: 0.1274045141786337\n",
      "Iteration 1500, train accuracy: 0.8044435654878617, average attack MSE: 0.11233098442852497\n",
      "Iteration 2000, train accuracy: 0.8082167894840241, average attack MSE: 0.0991187956482172\n",
      "Iteration 2500, train accuracy: 0.8092528151273728, average attack MSE: 0.08560135747492313\n",
      "Iteration 3000, train accuracy: 0.8107395099401474, average attack MSE: 0.06714437610656022\n",
      "Iteration 3500, train accuracy: 0.8116006535291672, average attack MSE: 0.05154492956399918\n",
      "Iteration 4000, train accuracy: 0.8123766914606094, average attack MSE: 0.04141454815492034\n",
      "Iteration 4500, train accuracy: 0.8130845232009888, average attack MSE: 0.035566344171762465\n",
      "Iteration 5000, train accuracy: 0.813734320640564, average attack MSE: 0.03201941607147455\n",
      "Iteration 5500, train accuracy: 0.8142698675394058, average attack MSE: 0.03057205970212817\n",
      "Iteration 6000, train accuracy: 0.8144685717821121, average attack MSE: 0.030542581524699925\n",
      "Iteration 6500, train accuracy: 0.8149105724096298, average attack MSE: 0.030641351718455553\n",
      "Iteration 7000, train accuracy: 0.8151214323043823, average attack MSE: 0.02996938532218337\n",
      "Iteration 7500, train accuracy: 0.8152764358520508, average attack MSE: 0.029761089384555815\n",
      "Iteration 8000, train accuracy: 0.8155215910673141, average attack MSE: 0.028462071970105172\n",
      "Iteration 8500, train accuracy: 0.8157178447246551, average attack MSE: 0.028022600904107093\n",
      "Iteration 9000, train accuracy: 0.8160111278295517, average attack MSE: 0.027131617326289416\n",
      "Iteration 9500, train accuracy: 0.816203036904335, average attack MSE: 0.027680179353803396\n",
      "Iteration 10000, train accuracy: 0.8164590847492218, average attack MSE: 0.027056202515959738\n",
      "============================\n",
      "======Drop out is 0.4======\n",
      "============================\n",
      "Iteration 500, train accuracy: 0.7884399778842927, average attack MSE: 0.13985896573960782\n",
      "Iteration 1000, train accuracy: 0.802038854598999, average attack MSE: 0.12291538558900356\n",
      "Iteration 1500, train accuracy: 0.8075847707986832, average attack MSE: 0.10314389967918396\n",
      "Iteration 2000, train accuracy: 0.8093027983903884, average attack MSE: 0.08803568367660046\n",
      "Iteration 2500, train accuracy: 0.8108676145076752, average attack MSE: 0.07381018473207951\n",
      "Iteration 3000, train accuracy: 0.8122307118177414, average attack MSE: 0.058586399115622044\n",
      "Iteration 3500, train accuracy: 0.8135184531211853, average attack MSE: 0.0470087900981307\n",
      "Iteration 4000, train accuracy: 0.8140408133268356, average attack MSE: 0.039133431326597926\n",
      "Iteration 4500, train accuracy: 0.8148302364349366, average attack MSE: 0.03351777878776192\n",
      "Iteration 5000, train accuracy: 0.8150496131181717, average attack MSE: 0.029840489756315945\n",
      "Iteration 5500, train accuracy: 0.8154977347850799, average attack MSE: 0.027766527391970157\n",
      "Iteration 6000, train accuracy: 0.8161203228235244, average attack MSE: 0.026641964506357908\n",
      "Iteration 6500, train accuracy: 0.8163448913097382, average attack MSE: 0.026259098451584577\n",
      "Iteration 7000, train accuracy: 0.8165894786119461, average attack MSE: 0.02589105048775673\n",
      "Iteration 7500, train accuracy: 0.8166177982091903, average attack MSE: 0.026029188498854636\n",
      "Iteration 8000, train accuracy: 0.8168457945585251, average attack MSE: 0.025743882581591607\n",
      "Iteration 8500, train accuracy: 0.8170638531446457, average attack MSE: 0.026105021871626378\n",
      "Iteration 9000, train accuracy: 0.8173087521791458, average attack MSE: 0.02569130077213049\n",
      "Iteration 9500, train accuracy: 0.8175175873041153, average attack MSE: 0.025196074172854424\n",
      "Iteration 10000, train accuracy: 0.8176599912643433, average attack MSE: 0.024885906044393776\n",
      "============================\n",
      "======Drop out is 0.2======\n",
      "============================\n",
      "Iteration 500, train accuracy: 0.7889394686222077, average attack MSE: 0.13735087503492832\n",
      "Iteration 1000, train accuracy: 0.801838759303093, average attack MSE: 0.12074506877362728\n",
      "Iteration 1500, train accuracy: 0.8078023290634155, average attack MSE: 0.10140401259064674\n",
      "Iteration 2000, train accuracy: 0.8102219904661179, average attack MSE: 0.08041667805612088\n",
      "Iteration 2500, train accuracy: 0.8118899188041687, average attack MSE: 0.06573034523427486\n",
      "Iteration 3000, train accuracy: 0.812801560997963, average attack MSE: 0.05202285645157099\n",
      "Iteration 3500, train accuracy: 0.8136420248746872, average attack MSE: 0.04206635060161352\n",
      "Iteration 4000, train accuracy: 0.8142686287164688, average attack MSE: 0.03476619533449411\n",
      "Iteration 4500, train accuracy: 0.815012116074562, average attack MSE: 0.030667598370462654\n",
      "Iteration 5000, train accuracy: 0.8153920712471008, average attack MSE: 0.028890135049819948\n",
      "Iteration 5500, train accuracy: 0.8157308926582336, average attack MSE: 0.02826842596754432\n",
      "Iteration 6000, train accuracy: 0.816132854104042, average attack MSE: 0.0282594021782279\n",
      "Iteration 6500, train accuracy: 0.8166000655889512, average attack MSE: 0.02837266183644533\n",
      "Iteration 7000, train accuracy: 0.8170202490091324, average attack MSE: 0.028319704577326774\n",
      "Iteration 7500, train accuracy: 0.8171261699199677, average attack MSE: 0.028294648341834545\n",
      "Iteration 8000, train accuracy: 0.8174464899301529, average attack MSE: 0.028393510330468417\n",
      "Iteration 8500, train accuracy: 0.8177380571365357, average attack MSE: 0.027854221571236848\n",
      "Iteration 9000, train accuracy: 0.8179731612205505, average attack MSE: 0.02796830066666007\n",
      "Iteration 9500, train accuracy: 0.8181027241945267, average attack MSE: 0.026221924688667058\n",
      "Iteration 10000, train accuracy: 0.8182702087163926, average attack MSE: 0.025108051151037217\n"
     ]
    }
   ],
   "source": [
    "credit_dsa_dropout = {}\n",
    "log_credit_dsa_dropout = {}\n",
    "\n",
    "for dropout in [0.8,0.6,0.4,0.2]:\n",
    "    make_f, make_g, make_e, make_d, make_c = mlp.make_mlp(attr_num=23, class_num=2, split=3, units=64, ed_act=\"relu\", dropout=dropout)\n",
    "    credit_dsa_dropout[dropout] = dsa(target_ds=target_ds, aux_ds=aux_ds)\n",
    "    print(\"============================\")\n",
    "    print(\"======Drop out is {}======\".format(dropout))\n",
    "    print(\"============================\")\n",
    "    log_credit_dsa_dropout[dropout] = credit_dsa_dropout[dropout].dsa_attack(\n",
    "        make_f=make_f,\n",
    "        make_g=make_g,\n",
    "        lr=0.001,\n",
    "        loss_fn=tf.keras.losses.BinaryCrossentropy(),\n",
    "        acc_fn=tf.keras.metrics.BinaryAccuracy(),\n",
    "        batch_size=32,\n",
    "        iterations=10000,\n",
    "        make_e=make_e,\n",
    "        make_d=make_d,\n",
    "        make_c=make_c,\n",
    "        lr_e=0.00001, # learning rate of the encoder/decoder/critic is set to be smaller\n",
    "        lr_d=0.00001,\n",
    "        lr_c=0.0001,\n",
    "        verbose=True,\n",
    "        log_freq=500)"
   ]
  },
  {
   "cell_type": "code",
   "execution_count": 8,
   "metadata": {},
   "outputs": [],
   "source": [
    "with open('log/credit-dsa-dropout.pkl', 'wb') as f:\n",
    "    pickle.dump(log_credit_dsa_dropout, f)"
   ]
  },
  {
   "cell_type": "code",
   "execution_count": 27,
   "metadata": {},
   "outputs": [],
   "source": [
    "with open('log/credit-dsa.pkl', 'rb') as f:\n",
    "    log0 = pickle.load(f)[3]"
   ]
  },
  {
   "cell_type": "code",
   "execution_count": 57,
   "metadata": {},
   "outputs": [
    {
     "data": {
      "image/png": "[encoded data removed]",
      "text/plain": [
       "<Figure size 432x288 with 1 Axes>"
      ]
     },
     "metadata": {
      "needs_background": "light"
     },
     "output_type": "display_data"
    }
   ],
   "source": [
    "import matplotlib.pyplot as plt\n",
    "\n",
    "sampled_loss = {}\n",
    "\n",
    "log_freq = 200\n",
    "for dropout in [0.8,0.6,0.4,0.2]:\n",
    "    sampled_loss[dropout] = [sum(log_credit_dsa_dropout[dropout][:,2][i*log_freq:(i+1)*log_freq])/log_freq for i in range(int(len(log_credit_dsa_dropout[dropout][:,0])/log_freq))]\n",
    "sampled_loss[0] = [sum(log0[:,2][i*log_freq:(i+1)*log_freq])/log_freq for i in range(int(len(log0[:,0])/log_freq))]\n",
    "\n",
    "x = [\"0.0\", '0.2', '0.4', '0.6', '0.8']\n",
    "y = [sampled_loss[i][-1] for i in [0,0.2,0.4,0.6,0.8]]\n",
    "plt.xlabel(\"Dropout rate\")\n",
    "plt.ylabel(\"MSE per feature\")\n",
    "plt.bar(x, y, color='b', width=0.5)\n",
    "plt.plot(x,y,'gs-')\n",
    "plt.savefig(\"fig/dsa-dropout.pdf\", bbox_inches='tight')"
   ]
  }
 ],
 "metadata": {
  "kernelspec": {
   "display_name": "Python 3 (ipykernel)",
   "language": "python",
   "name": "python3"
  },
  "language_info": {
   "codemirror_mode": {
    "name": "ipython",
    "version": 3
   },
   "file_extension": ".py",
   "mimetype": "text/x-python",
   "name": "python",
   "nbconvert_exporter": "python",
   "pygments_lexer": "ipython3",
   "version": "3.8.10"
  }
 },
 "nbformat": 4,
 "nbformat_minor": 4
}
