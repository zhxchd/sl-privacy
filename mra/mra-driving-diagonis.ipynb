{
 "cells": [
  {
   "cell_type": "markdown",
   "metadata": {},
   "source": [
    "# Model recovery attack: `drive-diagnosis`"
   ]
  },
  {
   "cell_type": "code",
   "execution_count": 1,
   "metadata": {},
   "outputs": [],
   "source": [
    "%load_ext autoreload\n",
    "%autoreload 2\n",
    "\n",
    "import tensorflow as tf\n",
    "import numpy as np\n",
    "import matplotlib.pyplot as plt\n",
    "import pandas as pd\n",
    "\n",
    "import mra\n",
    "from mra import *"
   ]
  },
  {
   "cell_type": "code",
   "execution_count": 2,
   "metadata": {},
   "outputs": [
    {
     "name": "stderr",
     "output_type": "stream",
     "text": [
      "2022-02-13 18:02:57.306169: W tensorflow/stream_executor/platform/default/dso_loader.cc:64] Could not load dynamic library 'libcudnn.so.8'; dlerror: libcudnn.so.8: cannot open shared object file: No such file or directory\n",
      "2022-02-13 18:02:57.306203: W tensorflow/core/common_runtime/gpu/gpu_device.cc:1850] Cannot dlopen some GPU libraries. Please make sure the missing libraries mentioned above are installed properly if you would like to use GPU. Follow the guide at https://www.tensorflow.org/install/gpu for how to download and setup the required libraries for your platform.\n",
      "Skipping registering GPU devices...\n",
      "2022-02-13 18:02:57.306570: I tensorflow/core/platform/cpu_feature_guard.cc:151] This TensorFlow binary is optimized with oneAPI Deep Neural Network Library (oneDNN) to use the following CPU instructions in performance-critical operations:  AVX2 FMA\n",
      "To enable them in other operations, rebuild TensorFlow with the appropriate compiler flags.\n"
     ]
    }
   ],
   "source": [
    "def make_dataset(X, Y, f):\n",
    "    x = tf.data.Dataset.from_tensor_slices(X)\n",
    "    y = tf.data.Dataset.from_tensor_slices(Y)\n",
    "    x = x.map(f)\n",
    "    xy = tf.data.Dataset.zip((x, y))\n",
    "    xy = xy.shuffle(10000)\n",
    "    return xy\n",
    "\n",
    "xy = np.loadtxt(\"../datasets/drive-diagnosis.txt\")\n",
    "np.random.shuffle(xy)\n",
    "x = xy[:,0:-1]\n",
    "y = xy[:,-1]\n",
    "\n",
    "min_values = np.array([min(x[:,i]) for i in range(x.shape[1])])\n",
    "max_values = np.array([max(x[:,i]) for i in range(x.shape[1])])\n",
    "x = (x-min_values)/(max_values - min_values)\n",
    "y = y.reshape((len(x), 1)).astype(\"float32\")-1\n",
    "train_ds = make_dataset(x, y, lambda t: t)\n",
    "\n",
    "mra = mra(train_ds)"
   ]
  },
  {
   "cell_type": "code",
   "execution_count": 3,
   "metadata": {},
   "outputs": [],
   "source": [
    "def make_f(input_shape):\n",
    "    xin = tf.keras.layers.Input(input_shape)\n",
    "    x = tf.keras.layers.BatchNormalization()(xin)\n",
    "    x = tf.keras.layers.Dense(256, activation=\"relu\")(x)\n",
    "    output = tf.keras.layers.Dense(256, activation=\"relu\")(x)\n",
    "    return tf.keras.Model(xin, output)\n",
    "\n",
    "def make_g(input_shape):\n",
    "    xin = tf.keras.layers.Input(input_shape)\n",
    "    x = tf.keras.layers.Dense(256, activation=\"relu\")(xin)\n",
    "    x = tf.keras.layers.Dense(256, activation=\"relu\")(x)\n",
    "    # x = tf.keras.layers.Dropout(0.5)(x)\n",
    "    output = tf.keras.layers.Dense(11, activation=\"softmax\")(x)\n",
    "    return tf.keras.Model(xin, output)"
   ]
  },
  {
   "cell_type": "code",
   "execution_count": 4,
   "metadata": {},
   "outputs": [
    {
     "name": "stdout",
     "output_type": "stream",
     "text": [
      "Iteration 0001: Training loss: 2.3745\n",
      "Iteration 1001: Training loss: 0.5666\n",
      "Iteration 2001: Training loss: 0.1778\n",
      "Iteration 3001: Training loss: 0.4151\n",
      "Iteration 4001: Training loss: 0.3699\n",
      "Iteration 5001: Training loss: 1.2730\n",
      "Iteration 6001: Training loss: 0.1569\n",
      "Iteration 7001: Training loss: 0.1423\n",
      "Iteration 8001: Training loss: 0.2431\n",
      "Iteration 9001: Training loss: 0.4517\n"
     ]
    }
   ],
   "source": [
    "log_train = mra.train(\n",
    "    make_f,\n",
    "    make_g,\n",
    "    loss_fn=tf.keras.losses.sparse_categorical_crossentropy,\n",
    "    batch_size=32,\n",
    "    epoch=5,\n",
    "    lr=0.001,\n",
    "    verbose=True, log_every=1000\n",
    "    )"
   ]
  },
  {
   "cell_type": "code",
   "execution_count": 5,
   "metadata": {},
   "outputs": [],
   "source": [
    "def make_generator(input_shape):\n",
    "    xin = tf.keras.layers.Input(input_shape)\n",
    "    act = \"relu\"\n",
    "    x = tf.keras.layers.Dense(1024, activation=act)(xin)\n",
    "    x = tf.keras.layers.Dense(512, activation=act)(x)\n",
    "    x = tf.keras.layers.Dense(256, activation=act)(x)\n",
    "    x = tf.keras.layers.Dense(128, activation=act)(x)\n",
    "    x = tf.keras.layers.Dense(64, activation=act)(x)\n",
    "    x = tf.keras.layers.Dense(48, activation=\"sigmoid\")(x)\n",
    "    return tf.keras.Model(xin, x)"
   ]
  },
  {
   "cell_type": "code",
   "execution_count": 6,
   "metadata": {},
   "outputs": [
    {
     "name": "stdout",
     "output_type": "stream",
     "text": [
      "Iteration 0001: RG-uniform: 0.1816, RG-normal: 0.1563, reconstruction validation: 0.0529\n",
      "Iteration 0002: RG-uniform: 0.1783, RG-normal: 0.1568, reconstruction validation: 0.0505\n",
      "Iteration 0003: RG-uniform: 0.1767, RG-normal: 0.1633, reconstruction validation: 0.0537\n",
      "Iteration 0004: RG-uniform: 0.1812, RG-normal: 0.1577, reconstruction validation: 0.0487\n",
      "Iteration 0005: RG-uniform: 0.1806, RG-normal: 0.1622, reconstruction validation: 0.0510\n",
      "Iteration 0006: RG-uniform: 0.1683, RG-normal: 0.1521, reconstruction validation: 0.0489\n",
      "Iteration 0007: RG-uniform: 0.1787, RG-normal: 0.1584, reconstruction validation: 0.0531\n",
      "Iteration 0008: RG-uniform: 0.1834, RG-normal: 0.1633, reconstruction validation: 0.0494\n",
      "Iteration 0009: RG-uniform: 0.1765, RG-normal: 0.1560, reconstruction validation: 0.0473\n",
      "Iteration 0010: RG-uniform: 0.1843, RG-normal: 0.1582, reconstruction validation: 0.0459\n",
      "Iteration 0011: RG-uniform: 0.1706, RG-normal: 0.1549, reconstruction validation: 0.0506\n",
      "Iteration 0012: RG-uniform: 0.1774, RG-normal: 0.1587, reconstruction validation: 0.0467\n",
      "Iteration 0013: RG-uniform: 0.1827, RG-normal: 0.1537, reconstruction validation: 0.0488\n",
      "Iteration 0014: RG-uniform: 0.1707, RG-normal: 0.1579, reconstruction validation: 0.0484\n",
      "Iteration 0015: RG-uniform: 0.1747, RG-normal: 0.1567, reconstruction validation: 0.0467\n",
      "Iteration 0016: RG-uniform: 0.1828, RG-normal: 0.1596, reconstruction validation: 0.0455\n",
      "Iteration 0017: RG-uniform: 0.1784, RG-normal: 0.1524, reconstruction validation: 0.0544\n",
      "Iteration 0018: RG-uniform: 0.1812, RG-normal: 0.1555, reconstruction validation: 0.0522\n",
      "Iteration 0019: RG-uniform: 0.1808, RG-normal: 0.1570, reconstruction validation: 0.0466\n",
      "Iteration 0020: RG-uniform: 0.1816, RG-normal: 0.1593, reconstruction validation: 0.0477\n",
      "Iteration 0021: RG-uniform: 0.1828, RG-normal: 0.1615, reconstruction validation: 0.0459\n",
      "Iteration 0022: RG-uniform: 0.1793, RG-normal: 0.1624, reconstruction validation: 0.0460\n",
      "Iteration 0023: RG-uniform: 0.1893, RG-normal: 0.1653, reconstruction validation: 0.0467\n",
      "Iteration 0024: RG-uniform: 0.1850, RG-normal: 0.1501, reconstruction validation: 0.0465\n",
      "Iteration 0025: RG-uniform: 0.1854, RG-normal: 0.1551, reconstruction validation: 0.0443\n",
      "Iteration 0026: RG-uniform: 0.1777, RG-normal: 0.1602, reconstruction validation: 0.0490\n",
      "Iteration 0027: RG-uniform: 0.1836, RG-normal: 0.1574, reconstruction validation: 0.0454\n",
      "Iteration 0028: RG-uniform: 0.1841, RG-normal: 0.1681, reconstruction validation: 0.0475\n",
      "Iteration 0029: RG-uniform: 0.1668, RG-normal: 0.1521, reconstruction validation: 0.0468\n",
      "Iteration 0030: RG-uniform: 0.1838, RG-normal: 0.1529, reconstruction validation: 0.0457\n",
      "Iteration 0031: RG-uniform: 0.1797, RG-normal: 0.1631, reconstruction validation: 0.0459\n",
      "Iteration 0032: RG-uniform: 0.1729, RG-normal: 0.1522, reconstruction validation: 0.0463\n",
      "Iteration 0033: RG-uniform: 0.1847, RG-normal: 0.1654, reconstruction validation: 0.0448\n",
      "Iteration 0034: RG-uniform: 0.1898, RG-normal: 0.1622, reconstruction validation: 0.0461\n",
      "Iteration 0035: RG-uniform: 0.1769, RG-normal: 0.1605, reconstruction validation: 0.0473\n",
      "Iteration 0036: RG-uniform: 0.1889, RG-normal: 0.1625, reconstruction validation: 0.0488\n",
      "Iteration 0037: RG-uniform: 0.1842, RG-normal: 0.1564, reconstruction validation: 0.0448\n",
      "Iteration 0038: RG-uniform: 0.1820, RG-normal: 0.1568, reconstruction validation: 0.0487\n",
      "Iteration 0039: RG-uniform: 0.1859, RG-normal: 0.1499, reconstruction validation: 0.0492\n",
      "Iteration 0040: RG-uniform: 0.1766, RG-normal: 0.1599, reconstruction validation: 0.0453\n",
      "Iteration 0041: RG-uniform: 0.1736, RG-normal: 0.1471, reconstruction validation: 0.0458\n",
      "Iteration 0042: RG-uniform: 0.1855, RG-normal: 0.1559, reconstruction validation: 0.0472\n",
      "Iteration 0043: RG-uniform: 0.1756, RG-normal: 0.1599, reconstruction validation: 0.0511\n",
      "Iteration 0044: RG-uniform: 0.1826, RG-normal: 0.1537, reconstruction validation: 0.0511\n",
      "Iteration 0045: RG-uniform: 0.1786, RG-normal: 0.1572, reconstruction validation: 0.0474\n",
      "Iteration 0046: RG-uniform: 0.1838, RG-normal: 0.1537, reconstruction validation: 0.0469\n",
      "Iteration 0047: RG-uniform: 0.1781, RG-normal: 0.1585, reconstruction validation: 0.0459\n",
      "Iteration 0048: RG-uniform: 0.1748, RG-normal: 0.1606, reconstruction validation: 0.0467\n",
      "Iteration 0049: RG-uniform: 0.1794, RG-normal: 0.1683, reconstruction validation: 0.0480\n",
      "Iteration 0050: RG-uniform: 0.1816, RG-normal: 0.1562, reconstruction validation: 0.0456\n",
      "Iteration 0051: RG-uniform: 0.1850, RG-normal: 0.1597, reconstruction validation: 0.0461\n",
      "Iteration 0052: RG-uniform: 0.1886, RG-normal: 0.1544, reconstruction validation: 0.0489\n",
      "Iteration 0053: RG-uniform: 0.1738, RG-normal: 0.1585, reconstruction validation: 0.0489\n",
      "Iteration 0054: RG-uniform: 0.1728, RG-normal: 0.1615, reconstruction validation: 0.0456\n",
      "Iteration 0055: RG-uniform: 0.1741, RG-normal: 0.1541, reconstruction validation: 0.0497\n",
      "Iteration 0056: RG-uniform: 0.1789, RG-normal: 0.1624, reconstruction validation: 0.0493\n",
      "Iteration 0057: RG-uniform: 0.1832, RG-normal: 0.1563, reconstruction validation: 0.0485\n",
      "Iteration 0058: RG-uniform: 0.1737, RG-normal: 0.1607, reconstruction validation: 0.0479\n",
      "Iteration 0059: RG-uniform: 0.1795, RG-normal: 0.1556, reconstruction validation: 0.0483\n",
      "Iteration 0060: RG-uniform: 0.1750, RG-normal: 0.1595, reconstruction validation: 0.0475\n",
      "Iteration 0061: RG-uniform: 0.1771, RG-normal: 0.1526, reconstruction validation: 0.0478\n",
      "Iteration 0062: RG-uniform: 0.1889, RG-normal: 0.1647, reconstruction validation: 0.0483\n",
      "Iteration 0063: RG-uniform: 0.1760, RG-normal: 0.1514, reconstruction validation: 0.0523\n",
      "Iteration 0064: RG-uniform: 0.1722, RG-normal: 0.1539, reconstruction validation: 0.0463\n",
      "Iteration 0065: RG-uniform: 0.1695, RG-normal: 0.1614, reconstruction validation: 0.0484\n",
      "Iteration 0066: RG-uniform: 0.1693, RG-normal: 0.1531, reconstruction validation: 0.0476\n",
      "Iteration 0067: RG-uniform: 0.1782, RG-normal: 0.1607, reconstruction validation: 0.0458\n",
      "Iteration 0068: RG-uniform: 0.1912, RG-normal: 0.1664, reconstruction validation: 0.0519\n",
      "Iteration 0069: RG-uniform: 0.1809, RG-normal: 0.1555, reconstruction validation: 0.0472\n",
      "Iteration 0070: RG-uniform: 0.1772, RG-normal: 0.1545, reconstruction validation: 0.0506\n",
      "Iteration 0071: RG-uniform: 0.1691, RG-normal: 0.1514, reconstruction validation: 0.0481\n",
      "Iteration 0072: RG-uniform: 0.1822, RG-normal: 0.1570, reconstruction validation: 0.0521\n",
      "Iteration 0073: RG-uniform: 0.1741, RG-normal: 0.1601, reconstruction validation: 0.0476\n",
      "Iteration 0074: RG-uniform: 0.1842, RG-normal: 0.1573, reconstruction validation: 0.0507\n",
      "Iteration 0075: RG-uniform: 0.1844, RG-normal: 0.1593, reconstruction validation: 0.0470\n",
      "Iteration 0076: RG-uniform: 0.1899, RG-normal: 0.1542, reconstruction validation: 0.0492\n",
      "Iteration 0077: RG-uniform: 0.1835, RG-normal: 0.1529, reconstruction validation: 0.0494\n",
      "Iteration 0078: RG-uniform: 0.1829, RG-normal: 0.1611, reconstruction validation: 0.0481\n",
      "Iteration 0079: RG-uniform: 0.1795, RG-normal: 0.1742, reconstruction validation: 0.0469\n",
      "Iteration 0080: RG-uniform: 0.1762, RG-normal: 0.1552, reconstruction validation: 0.0505\n",
      "Iteration 0081: RG-uniform: 0.1754, RG-normal: 0.1609, reconstruction validation: 0.0508\n",
      "Iteration 0082: RG-uniform: 0.1786, RG-normal: 0.1535, reconstruction validation: 0.0504\n",
      "Iteration 0083: RG-uniform: 0.1766, RG-normal: 0.1647, reconstruction validation: 0.0507\n",
      "Iteration 0084: RG-uniform: 0.1784, RG-normal: 0.1549, reconstruction validation: 0.0500\n",
      "Iteration 0085: RG-uniform: 0.1883, RG-normal: 0.1610, reconstruction validation: 0.0517\n",
      "Iteration 0086: RG-uniform: 0.1775, RG-normal: 0.1674, reconstruction validation: 0.0504\n",
      "Iteration 0087: RG-uniform: 0.1746, RG-normal: 0.1552, reconstruction validation: 0.0494\n",
      "Iteration 0088: RG-uniform: 0.1866, RG-normal: 0.1566, reconstruction validation: 0.0502\n",
      "Iteration 0089: RG-uniform: 0.1695, RG-normal: 0.1557, reconstruction validation: 0.0535\n",
      "Iteration 0090: RG-uniform: 0.1821, RG-normal: 0.1588, reconstruction validation: 0.0523\n",
      "Iteration 0091: RG-uniform: 0.1785, RG-normal: 0.1557, reconstruction validation: 0.0490\n",
      "Iteration 0092: RG-uniform: 0.1784, RG-normal: 0.1594, reconstruction validation: 0.0493\n",
      "Iteration 0093: RG-uniform: 0.1759, RG-normal: 0.1558, reconstruction validation: 0.0513\n",
      "Iteration 0094: RG-uniform: 0.1841, RG-normal: 0.1625, reconstruction validation: 0.0490\n",
      "Iteration 0095: RG-uniform: 0.1813, RG-normal: 0.1619, reconstruction validation: 0.0499\n",
      "Iteration 0096: RG-uniform: 0.1745, RG-normal: 0.1560, reconstruction validation: 0.0503\n",
      "Iteration 0097: RG-uniform: 0.1704, RG-normal: 0.1627, reconstruction validation: 0.0528\n",
      "Iteration 0098: RG-uniform: 0.1761, RG-normal: 0.1581, reconstruction validation: 0.0512\n",
      "Iteration 0099: RG-uniform: 0.1771, RG-normal: 0.1479, reconstruction validation: 0.0498\n",
      "Iteration 0100: RG-uniform: 0.1821, RG-normal: 0.1545, reconstruction validation: 0.0469\n"
     ]
    }
   ],
   "source": [
    "log_attack = mra.attack(\n",
    "    attack_iter=100,\n",
    "    make_generator=make_generator,\n",
    "    input_noise=\"normal\",\n",
    "    input_z=True,\n",
    "    model_leak=True,\n",
    "    lr_x=0.001,\n",
    "    lr_f=0.0001,\n",
    "    epoch=200,\n",
    "    iter_x=50,\n",
    "    iter_f=1,\n",
    "    verbose=True, log_every=1)"
   ]
  },
  {
   "cell_type": "code",
   "execution_count": 7,
   "metadata": {},
   "outputs": [],
   "source": [
    "np.savetxt(\"./log/drive.csv\", log_attack, delimiter=\",\")"
   ]
  },
  {
   "cell_type": "code",
   "execution_count": 16,
   "metadata": {},
   "outputs": [
    {
     "data": {
      "image/png": "[encoded data removed]",
      "text/plain": [
       "<Figure size 432x288 with 1 Axes>"
      ]
     },
     "metadata": {
      "needs_background": "light"
     },
     "output_type": "display_data"
    }
   ],
   "source": [
    "plt.xlim([0,100])\n",
    "plt.ylim([0,0.2])\n",
    "plt.grid()\n",
    "plt.ylabel('MSE per feature')\n",
    "plt.xlabel('Batch distance from the obtained model snapshot')\n",
    "ran = [i+1 for i in range(100)]\n",
    "plt.plot(ran, log_attack[:,0], 'ro-', ran, log_attack[:,1], 'b^-', ran, log_attack[:,2], 'gs-', markevery=np.arange(0, 101, 9))\n",
    "plt.legend(['RG-uniform', 'RG-normal', 'MRA (ours)'], loc='center right')\n",
    "plt.savefig(\"fig/drive.pdf\", bbox_inches='tight')"
   ]
  }
 ],
 "metadata": {
  "interpreter": {
   "hash": "d9ff725623c15d695aa319bbc94ea42e245a1edcf20c6f47c05aed8c0d68e7f4"
  },
  "kernelspec": {
   "display_name": "Python 3.9.7 64-bit",
   "language": "python",
   "name": "python3"
  },
  "language_info": {
   "codemirror_mode": {
    "name": "ipython",
    "version": 3
   },
   "file_extension": ".py",
   "mimetype": "text/x-python",
   "name": "python",
   "nbconvert_exporter": "python",
   "pygments_lexer": "ipython3",
   "version": "3.8.10"
  },
  "orig_nbformat": 4
 },
 "nbformat": 4,
 "nbformat_minor": 2
}
