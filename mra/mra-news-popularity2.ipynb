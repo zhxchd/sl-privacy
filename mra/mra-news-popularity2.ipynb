{
 "cells": [
  {
   "cell_type": "markdown",
   "metadata": {},
   "source": [
    "# Model recovery attack: `news-popularity`"
   ]
  },
  {
   "cell_type": "code",
   "execution_count": 1,
   "metadata": {},
   "outputs": [],
   "source": [
    "%load_ext autoreload\n",
    "%autoreload 2\n",
    "\n",
    "import tensorflow as tf\n",
    "import numpy as np\n",
    "import matplotlib.pyplot as plt\n",
    "import pandas as pd\n",
    "\n",
    "import mra\n",
    "from mra import *"
   ]
  },
  {
   "cell_type": "code",
   "execution_count": 2,
   "metadata": {},
   "outputs": [
    {
     "name": "stderr",
     "output_type": "stream",
     "text": [
      "2022-02-10 11:05:34.672930: I tensorflow/core/platform/cpu_feature_guard.cc:151] This TensorFlow binary is optimized with oneAPI Deep Neural Network Library (oneDNN) to use the following CPU instructions in performance-critical operations:  AVX2 AVX512F FMA\n",
      "To enable them in other operations, rebuild TensorFlow with the appropriate compiler flags.\n",
      "2022-02-10 11:05:38.745035: I tensorflow/core/common_runtime/gpu/gpu_device.cc:1525] Created device /job:localhost/replica:0/task:0/device:GPU:0 with 22336 MB memory:  -> device: 0, name: NVIDIA RTX A5000, pci bus id: 0000:3b:00.0, compute capability: 8.6\n",
      "2022-02-10 11:05:38.745799: I tensorflow/core/common_runtime/gpu/gpu_device.cc:1525] Created device /job:localhost/replica:0/task:0/device:GPU:1 with 3178 MB memory:  -> device: 1, name: NVIDIA RTX A5000, pci bus id: 0000:5e:00.0, compute capability: 8.6\n",
      "2022-02-10 11:05:38.746362: I tensorflow/core/common_runtime/gpu/gpu_device.cc:1525] Created device /job:localhost/replica:0/task:0/device:GPU:2 with 11703 MB memory:  -> device: 2, name: NVIDIA RTX A5000, pci bus id: 0000:af:00.0, compute capability: 8.6\n",
      "2022-02-10 11:05:38.746871: I tensorflow/core/common_runtime/gpu/gpu_device.cc:1525] Created device /job:localhost/replica:0/task:0/device:GPU:3 with 12117 MB memory:  -> device: 3, name: NVIDIA RTX A5000, pci bus id: 0000:d8:00.0, compute capability: 8.6\n"
     ]
    }
   ],
   "source": [
    "def make_dataset(X, Y, f):\n",
    "    x = tf.data.Dataset.from_tensor_slices(X)\n",
    "    y = tf.data.Dataset.from_tensor_slices(Y)\n",
    "    x = x.map(f)\n",
    "    xy = tf.data.Dataset.zip((x, y))\n",
    "    xy = xy.shuffle(10000)\n",
    "    return xy\n",
    "\n",
    "df = pd.read_csv('../datasets/news-popularity.csv').sample(frac=1)\n",
    "df = df.drop(columns=[\"url\"])\n",
    "xy = df.to_numpy()\n",
    "x = xy[:,0:-1]\n",
    "y = xy[:,-1].reshape((len(x), 1))\n",
    "# Normalize by feature to [0,1]\n",
    "min_values = pd.DataFrame(x).describe().transpose()['min'].to_numpy()\n",
    "max_values = pd.DataFrame(x).describe().transpose()['max'].to_numpy()\n",
    "x = (x-min_values)/(max_values-min_values)\n",
    "y = (y-min(y))/(max(y) - min(y))\n",
    "train_ds = make_dataset(x, y, lambda t: t)\n",
    "\n",
    "mra = mra(train_ds)"
   ]
  },
  {
   "cell_type": "code",
   "execution_count": 3,
   "metadata": {},
   "outputs": [],
   "source": [
    "def make_f(input_shape):\n",
    "    xin = tf.keras.layers.Input(input_shape)\n",
    "    x = tf.keras.layers.BatchNormalization()(xin)\n",
    "    x = tf.keras.layers.Dense(128, activation=\"relu\")(x)\n",
    "    x = tf.keras.layers.Dense(256, activation=\"relu\")(x)\n",
    "    output = tf.keras.layers.Dense(512, activation=\"relu\")(x)\n",
    "    return tf.keras.Model(xin, output)\n",
    "\n",
    "def make_g(input_shape):\n",
    "    xin = tf.keras.layers.Input(input_shape)\n",
    "    x = tf.keras.layers.Dense(512, activation=\"relu\")(xin)\n",
    "    x = tf.keras.layers.Dropout(0.5)(x)\n",
    "    output = tf.keras.layers.Dense(1)(x)\n",
    "    return tf.keras.Model(xin, output)"
   ]
  },
  {
   "cell_type": "code",
   "execution_count": 12,
   "metadata": {},
   "outputs": [
    {
     "name": "stdout",
     "output_type": "stream",
     "text": [
      "Iteration 0001: Training loss: 0.1296\n",
      "Iteration 0101: Training loss: 0.0009\n",
      "Iteration 0201: Training loss: 0.0004\n",
      "Iteration 0301: Training loss: 0.0001\n",
      "Iteration 0401: Training loss: 0.0001\n",
      "Iteration 0501: Training loss: 0.0000\n",
      "Iteration 0601: Training loss: 0.0000\n",
      "Iteration 0701: Training loss: 0.0000\n",
      "Iteration 0801: Training loss: 0.0001\n",
      "Iteration 0901: Training loss: 0.0000\n",
      "Iteration 1001: Training loss: 0.0000\n",
      "Iteration 1101: Training loss: 0.0000\n",
      "Iteration 1201: Training loss: 0.0001\n"
     ]
    }
   ],
   "source": [
    "log_train = mra.train(\n",
    "    make_f,\n",
    "    make_g,\n",
    "    loss_fn=tf.keras.losses.MeanSquaredError(),\n",
    "    batch_size=32,\n",
    "    epoch=1,\n",
    "    lr=0.001,\n",
    "    verbose=True, log_every=100)"
   ]
  },
  {
   "cell_type": "code",
   "execution_count": 5,
   "metadata": {},
   "outputs": [],
   "source": [
    "def make_generator(input_shape):\n",
    "    xin = tf.keras.layers.Input(input_shape)\n",
    "    act = \"relu\"\n",
    "    x = tf.keras.layers.Dense(1024, activation=act)(xin)\n",
    "    x = tf.keras.layers.Dense(512, activation=act)(x)\n",
    "    x = tf.keras.layers.Dense(256, activation=act)(xin)\n",
    "    x = tf.keras.layers.Dense(128, activation=act)(x)\n",
    "    x = tf.keras.layers.Dense(59, activation=\"sigmoid\")(x)\n",
    "    return tf.keras.Model(xin, x)"
   ]
  },
  {
   "cell_type": "code",
   "execution_count": 10,
   "metadata": {},
   "outputs": [
    {
     "name": "stdout",
     "output_type": "stream",
     "text": [
      "Iteration 0001: RG-uniform: 0.2605, RG-normal: 0.2334, reconstruction validation: 0.0499\n",
      "Iteration 0011: RG-uniform: 0.2485, RG-normal: 0.2446, reconstruction validation: 0.0314\n",
      "Iteration 0021: RG-uniform: 0.2664, RG-normal: 0.2491, reconstruction validation: 0.0331\n",
      "Iteration 0031: RG-uniform: 0.2660, RG-normal: 0.2429, reconstruction validation: 0.0377\n",
      "Iteration 0041: RG-uniform: 0.2579, RG-normal: 0.2419, reconstruction validation: 0.0389\n",
      "Iteration 0051: RG-uniform: 0.2612, RG-normal: 0.2340, reconstruction validation: 0.0434\n",
      "Iteration 0061: RG-uniform: 0.2556, RG-normal: 0.2393, reconstruction validation: 0.0438\n",
      "Iteration 0071: RG-uniform: 0.2476, RG-normal: 0.2451, reconstruction validation: 0.0472\n",
      "Iteration 0081: RG-uniform: 0.2643, RG-normal: 0.2399, reconstruction validation: 0.0515\n",
      "Iteration 0091: RG-uniform: 0.2578, RG-normal: 0.2358, reconstruction validation: 0.0491\n"
     ]
    }
   ],
   "source": [
    "log_attack = mra.attack(\n",
    "    attack_iter=1,\n",
    "    make_generator=make_generator,\n",
    "    input_noise=True,\n",
    "    input_z=True,\n",
    "    model_leak=True,\n",
    "    lr_x=0.001,\n",
    "    lr_f=0.0001,\n",
    "    epoch=200,\n",
    "    iter_x=50,\n",
    "    iter_f=1,\n",
    "    verbose=True, log_every=10)"
   ]
  },
  {
   "cell_type": "code",
   "execution_count": 15,
   "metadata": {},
   "outputs": [],
   "source": [
    "np.savetxt('./log/news.csv', log_attack, delimiter=',')"
   ]
  },
  {
   "cell_type": "code",
   "execution_count": 12,
   "metadata": {},
   "outputs": [
    {
     "data": {
      "image/png": "[encoded data removed]",
      "text/plain": [
       "<Figure size 432x288 with 1 Axes>"
      ]
     },
     "metadata": {
      "needs_background": "light"
     },
     "output_type": "display_data"
    }
   ],
   "source": [
    "plt.ylabel('attack MSE')\n",
    "plt.xlabel('batch distance from the obtained model snapshot')\n",
    "ran = [i+1 for i in range(100)]\n",
    "plt.plot(ran, log_attack[:,0], 'ro-', ran, log_attack[:,1], 'b^-', ran, log_attack[:,2], 'gs-', markevery=6)\n",
    "plt.legend(['UG-uniform', 'UG-normal', 'MRA (ours)'], loc='center right')\n",
    "plt.savefig(\"fig/news.pdf\",bbox_inches='tight')"
   ]
  }
 ],
 "metadata": {
  "interpreter": {
   "hash": "d9ff725623c15d695aa319bbc94ea42e245a1edcf20c6f47c05aed8c0d68e7f4"
  },
  "kernelspec": {
   "display_name": "Python 3.9.7 64-bit",
   "language": "python",
   "name": "python3"
  },
  "language_info": {
   "codemirror_mode": {
    "name": "ipython",
    "version": 3
   },
   "file_extension": ".py",
   "mimetype": "text/x-python",
   "name": "python",
   "nbconvert_exporter": "python",
   "pygments_lexer": "ipython3",
   "version": "3.8.10"
  },
  "orig_nbformat": 4
 },
 "nbformat": 4,
 "nbformat_minor": 2
}
