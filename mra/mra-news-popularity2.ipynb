{
 "cells": [
  {
   "cell_type": "markdown",
   "metadata": {},
   "source": [
    "# Model recovery attack: `news-popularity`"
   ]
  },
  {
   "cell_type": "code",
   "execution_count": 7,
   "metadata": {},
   "outputs": [
    {
     "name": "stdout",
     "output_type": "stream",
     "text": [
      "The autoreload extension is already loaded. To reload it, use:\n",
      "  %reload_ext autoreload\n"
     ]
    }
   ],
   "source": [
    "%load_ext autoreload\n",
    "%autoreload 2\n",
    "\n",
    "import tensorflow as tf\n",
    "import numpy as np\n",
    "import matplotlib.pyplot as plt\n",
    "import pandas as pd\n",
    "\n",
    "import mra\n",
    "from mra import *"
   ]
  },
  {
   "cell_type": "code",
   "execution_count": 8,
   "metadata": {},
   "outputs": [],
   "source": [
    "def make_dataset(X, Y, f):\n",
    "    x = tf.data.Dataset.from_tensor_slices(X)\n",
    "    y = tf.data.Dataset.from_tensor_slices(Y)\n",
    "    x = x.map(f)\n",
    "    xy = tf.data.Dataset.zip((x, y))\n",
    "    xy = xy.shuffle(10000)\n",
    "    return xy\n",
    "\n",
    "df = pd.read_csv('../datasets/news-popularity.csv').sample(frac=1)\n",
    "df = df.drop(columns=[\"url\"])\n",
    "xy = df.to_numpy()\n",
    "x = xy[:,0:-1]\n",
    "y = xy[:,-1].reshape((len(x), 1))\n",
    "# Normalize by feature to [0,1]\n",
    "min_values = pd.DataFrame(x).describe().transpose()['min'].to_numpy()\n",
    "max_values = pd.DataFrame(x).describe().transpose()['max'].to_numpy()\n",
    "x = (x-min_values)/(max_values-min_values)\n",
    "y = (y-min(y))/(max(y) - min(y))\n",
    "train_ds = make_dataset(x, y, lambda t: t)\n",
    "\n",
    "mra = mra(train_ds)"
   ]
  },
  {
   "cell_type": "code",
   "execution_count": 9,
   "metadata": {},
   "outputs": [],
   "source": [
    "def make_f(input_shape):\n",
    "    xin = tf.keras.layers.Input(input_shape)\n",
    "    x = tf.keras.layers.BatchNormalization()(xin)\n",
    "    x = tf.keras.layers.Dense(256, activation=\"relu\")(x)\n",
    "    output = tf.keras.layers.Dense(256, activation=\"relu\")(x)\n",
    "    return tf.keras.Model(xin, output)\n",
    "\n",
    "def make_g(input_shape):\n",
    "    xin = tf.keras.layers.Input(input_shape)\n",
    "    x = tf.keras.layers.Dense(256, activation=\"relu\")(xin)\n",
    "    x = tf.keras.layers.Dense(256, activation=\"relu\")(x)\n",
    "    # x = tf.keras.layers.Dropout(0.5)(x)\n",
    "    output = tf.keras.layers.Dense(1)(x)\n",
    "    return tf.keras.Model(xin, output)"
   ]
  },
  {
   "cell_type": "code",
   "execution_count": 10,
   "metadata": {},
   "outputs": [
    {
     "name": "stdout",
     "output_type": "stream",
     "text": [
      "Iteration 0001: Training loss: 0.0096\n",
      "Iteration 1001: Training loss: 0.0000\n",
      "Iteration 2001: Training loss: 0.0000\n",
      "Iteration 3001: Training loss: 0.0000\n",
      "Iteration 4001: Training loss: 0.0003\n",
      "Iteration 5001: Training loss: 0.0000\n",
      "Iteration 6001: Training loss: 0.0000\n"
     ]
    }
   ],
   "source": [
    "log_train = mra.train(\n",
    "    make_f,\n",
    "    make_g,\n",
    "    loss_fn=tf.keras.losses.MeanSquaredError(),\n",
    "    batch_size=32,\n",
    "    epoch=5,\n",
    "    lr=0.001,\n",
    "    verbose=True, log_every=1000)"
   ]
  },
  {
   "cell_type": "code",
   "execution_count": 11,
   "metadata": {},
   "outputs": [],
   "source": [
    "def make_generator(input_shape):\n",
    "    xin = tf.keras.layers.Input(input_shape)\n",
    "    act = \"relu\"\n",
    "    x = tf.keras.layers.Dense(1024, activation=act)(xin)\n",
    "    x = tf.keras.layers.Dense(512, activation=act)(x)\n",
    "    x = tf.keras.layers.Dense(256, activation=act)(x)\n",
    "    x = tf.keras.layers.Dense(128, activation=act)(x)\n",
    "    x = tf.keras.layers.Dense(59, activation=\"sigmoid\")(x)\n",
    "    return tf.keras.Model(xin, x)"
   ]
  },
  {
   "cell_type": "code",
   "execution_count": 12,
   "metadata": {},
   "outputs": [
    {
     "name": "stdout",
     "output_type": "stream",
     "text": [
      "Iteration 0001: RG-uniform: 0.2587, RG-normal: 0.2441, reconstruction validation: 0.0475\n",
      "Iteration 0002: RG-uniform: 0.2604, RG-normal: 0.2392, reconstruction validation: 0.0474\n",
      "Iteration 0003: RG-uniform: 0.2674, RG-normal: 0.2388, reconstruction validation: 0.0475\n",
      "Iteration 0004: RG-uniform: 0.2563, RG-normal: 0.2346, reconstruction validation: 0.0517\n",
      "Iteration 0005: RG-uniform: 0.2601, RG-normal: 0.2365, reconstruction validation: 0.0478\n",
      "Iteration 0006: RG-uniform: 0.2708, RG-normal: 0.2440, reconstruction validation: 0.0497\n",
      "Iteration 0007: RG-uniform: 0.2615, RG-normal: 0.2420, reconstruction validation: 0.0457\n",
      "Iteration 0008: RG-uniform: 0.2601, RG-normal: 0.2258, reconstruction validation: 0.0459\n",
      "Iteration 0009: RG-uniform: 0.2593, RG-normal: 0.2336, reconstruction validation: 0.0437\n",
      "Iteration 0010: RG-uniform: 0.2465, RG-normal: 0.2314, reconstruction validation: 0.0452\n",
      "Iteration 0011: RG-uniform: 0.2514, RG-normal: 0.2370, reconstruction validation: 0.0422\n",
      "Iteration 0012: RG-uniform: 0.2497, RG-normal: 0.2444, reconstruction validation: 0.0444\n",
      "Iteration 0013: RG-uniform: 0.2587, RG-normal: 0.2347, reconstruction validation: 0.0456\n",
      "Iteration 0014: RG-uniform: 0.2554, RG-normal: 0.2423, reconstruction validation: 0.0443\n",
      "Iteration 0015: RG-uniform: 0.2742, RG-normal: 0.2421, reconstruction validation: 0.0433\n",
      "Iteration 0016: RG-uniform: 0.2589, RG-normal: 0.2488, reconstruction validation: 0.0427\n",
      "Iteration 0017: RG-uniform: 0.2614, RG-normal: 0.2332, reconstruction validation: 0.0452\n",
      "Iteration 0018: RG-uniform: 0.2582, RG-normal: 0.2443, reconstruction validation: 0.0498\n",
      "Iteration 0019: RG-uniform: 0.2585, RG-normal: 0.2490, reconstruction validation: 0.0440\n",
      "Iteration 0020: RG-uniform: 0.2413, RG-normal: 0.2509, reconstruction validation: 0.0461\n",
      "Iteration 0021: RG-uniform: 0.2623, RG-normal: 0.2347, reconstruction validation: 0.0440\n",
      "Iteration 0022: RG-uniform: 0.2573, RG-normal: 0.2398, reconstruction validation: 0.0448\n",
      "Iteration 0023: RG-uniform: 0.2602, RG-normal: 0.2372, reconstruction validation: 0.0474\n",
      "Iteration 0024: RG-uniform: 0.2625, RG-normal: 0.2356, reconstruction validation: 0.0486\n",
      "Iteration 0025: RG-uniform: 0.2585, RG-normal: 0.2397, reconstruction validation: 0.0465\n",
      "Iteration 0026: RG-uniform: 0.2574, RG-normal: 0.2460, reconstruction validation: 0.0490\n",
      "Iteration 0027: RG-uniform: 0.2639, RG-normal: 0.2297, reconstruction validation: 0.0461\n",
      "Iteration 0028: RG-uniform: 0.2475, RG-normal: 0.2345, reconstruction validation: 0.0494\n",
      "Iteration 0029: RG-uniform: 0.2662, RG-normal: 0.2390, reconstruction validation: 0.0452\n",
      "Iteration 0030: RG-uniform: 0.2676, RG-normal: 0.2436, reconstruction validation: 0.0491\n",
      "Iteration 0031: RG-uniform: 0.2569, RG-normal: 0.2331, reconstruction validation: 0.0479\n",
      "Iteration 0032: RG-uniform: 0.2568, RG-normal: 0.2437, reconstruction validation: 0.0470\n",
      "Iteration 0033: RG-uniform: 0.2748, RG-normal: 0.2362, reconstruction validation: 0.0531\n",
      "Iteration 0034: RG-uniform: 0.2512, RG-normal: 0.2372, reconstruction validation: 0.0512\n",
      "Iteration 0035: RG-uniform: 0.2686, RG-normal: 0.2372, reconstruction validation: 0.0555\n",
      "Iteration 0036: RG-uniform: 0.2567, RG-normal: 0.2400, reconstruction validation: 0.0501\n",
      "Iteration 0037: RG-uniform: 0.2601, RG-normal: 0.2434, reconstruction validation: 0.0540\n",
      "Iteration 0038: RG-uniform: 0.2647, RG-normal: 0.2385, reconstruction validation: 0.0528\n",
      "Iteration 0039: RG-uniform: 0.2553, RG-normal: 0.2327, reconstruction validation: 0.0525\n",
      "Iteration 0040: RG-uniform: 0.2636, RG-normal: 0.2431, reconstruction validation: 0.0550\n",
      "Iteration 0041: RG-uniform: 0.2580, RG-normal: 0.2380, reconstruction validation: 0.0533\n",
      "Iteration 0042: RG-uniform: 0.2560, RG-normal: 0.2422, reconstruction validation: 0.0513\n",
      "Iteration 0043: RG-uniform: 0.2509, RG-normal: 0.2350, reconstruction validation: 0.0503\n",
      "Iteration 0044: RG-uniform: 0.2566, RG-normal: 0.2336, reconstruction validation: 0.0550\n",
      "Iteration 0045: RG-uniform: 0.2543, RG-normal: 0.2550, reconstruction validation: 0.0525\n",
      "Iteration 0046: RG-uniform: 0.2541, RG-normal: 0.2352, reconstruction validation: 0.0492\n",
      "Iteration 0047: RG-uniform: 0.2595, RG-normal: 0.2363, reconstruction validation: 0.0522\n",
      "Iteration 0048: RG-uniform: 0.2537, RG-normal: 0.2405, reconstruction validation: 0.0596\n",
      "Iteration 0049: RG-uniform: 0.2516, RG-normal: 0.2330, reconstruction validation: 0.0507\n",
      "Iteration 0050: RG-uniform: 0.2566, RG-normal: 0.2317, reconstruction validation: 0.0539\n",
      "Iteration 0051: RG-uniform: 0.2618, RG-normal: 0.2416, reconstruction validation: 0.0543\n",
      "Iteration 0052: RG-uniform: 0.2466, RG-normal: 0.2482, reconstruction validation: 0.0567\n",
      "Iteration 0053: RG-uniform: 0.2761, RG-normal: 0.2386, reconstruction validation: 0.0590\n",
      "Iteration 0054: RG-uniform: 0.2598, RG-normal: 0.2353, reconstruction validation: 0.0558\n",
      "Iteration 0055: RG-uniform: 0.2591, RG-normal: 0.2328, reconstruction validation: 0.0549\n",
      "Iteration 0056: RG-uniform: 0.2646, RG-normal: 0.2397, reconstruction validation: 0.0564\n",
      "Iteration 0057: RG-uniform: 0.2683, RG-normal: 0.2413, reconstruction validation: 0.0563\n",
      "Iteration 0058: RG-uniform: 0.2668, RG-normal: 0.2446, reconstruction validation: 0.0578\n",
      "Iteration 0059: RG-uniform: 0.2564, RG-normal: 0.2380, reconstruction validation: 0.0537\n",
      "Iteration 0060: RG-uniform: 0.2643, RG-normal: 0.2434, reconstruction validation: 0.0547\n",
      "Iteration 0061: RG-uniform: 0.2625, RG-normal: 0.2388, reconstruction validation: 0.0535\n",
      "Iteration 0062: RG-uniform: 0.2556, RG-normal: 0.2337, reconstruction validation: 0.0549\n",
      "Iteration 0063: RG-uniform: 0.2700, RG-normal: 0.2483, reconstruction validation: 0.0575\n",
      "Iteration 0064: RG-uniform: 0.2575, RG-normal: 0.2359, reconstruction validation: 0.0565\n",
      "Iteration 0065: RG-uniform: 0.2457, RG-normal: 0.2370, reconstruction validation: 0.0605\n",
      "Iteration 0066: RG-uniform: 0.2499, RG-normal: 0.2401, reconstruction validation: 0.0544\n",
      "Iteration 0067: RG-uniform: 0.2620, RG-normal: 0.2403, reconstruction validation: 0.0538\n",
      "Iteration 0068: RG-uniform: 0.2592, RG-normal: 0.2385, reconstruction validation: 0.0521\n",
      "Iteration 0069: RG-uniform: 0.2609, RG-normal: 0.2490, reconstruction validation: 0.0584\n",
      "Iteration 0070: RG-uniform: 0.2734, RG-normal: 0.2441, reconstruction validation: 0.0596\n",
      "Iteration 0071: RG-uniform: 0.2512, RG-normal: 0.2479, reconstruction validation: 0.0563\n",
      "Iteration 0072: RG-uniform: 0.2565, RG-normal: 0.2388, reconstruction validation: 0.0574\n",
      "Iteration 0073: RG-uniform: 0.2588, RG-normal: 0.2412, reconstruction validation: 0.0552\n",
      "Iteration 0074: RG-uniform: 0.2604, RG-normal: 0.2448, reconstruction validation: 0.0535\n",
      "Iteration 0075: RG-uniform: 0.2618, RG-normal: 0.2416, reconstruction validation: 0.0556\n",
      "Iteration 0076: RG-uniform: 0.2558, RG-normal: 0.2485, reconstruction validation: 0.0607\n",
      "Iteration 0077: RG-uniform: 0.2528, RG-normal: 0.2375, reconstruction validation: 0.0541\n",
      "Iteration 0078: RG-uniform: 0.2660, RG-normal: 0.2297, reconstruction validation: 0.0576\n",
      "Iteration 0079: RG-uniform: 0.2567, RG-normal: 0.2361, reconstruction validation: 0.0572\n",
      "Iteration 0080: RG-uniform: 0.2479, RG-normal: 0.2434, reconstruction validation: 0.0540\n",
      "Iteration 0081: RG-uniform: 0.2705, RG-normal: 0.2360, reconstruction validation: 0.0557\n",
      "Iteration 0082: RG-uniform: 0.2512, RG-normal: 0.2525, reconstruction validation: 0.0554\n",
      "Iteration 0083: RG-uniform: 0.2739, RG-normal: 0.2492, reconstruction validation: 0.0577\n",
      "Iteration 0084: RG-uniform: 0.2647, RG-normal: 0.2455, reconstruction validation: 0.0556\n",
      "Iteration 0085: RG-uniform: 0.2633, RG-normal: 0.2281, reconstruction validation: 0.0552\n",
      "Iteration 0086: RG-uniform: 0.2664, RG-normal: 0.2427, reconstruction validation: 0.0532\n",
      "Iteration 0087: RG-uniform: 0.2563, RG-normal: 0.2440, reconstruction validation: 0.0561\n",
      "Iteration 0088: RG-uniform: 0.2704, RG-normal: 0.2403, reconstruction validation: 0.0570\n",
      "Iteration 0089: RG-uniform: 0.2540, RG-normal: 0.2306, reconstruction validation: 0.0585\n",
      "Iteration 0090: RG-uniform: 0.2682, RG-normal: 0.2444, reconstruction validation: 0.0571\n",
      "Iteration 0091: RG-uniform: 0.2684, RG-normal: 0.2440, reconstruction validation: 0.0619\n",
      "Iteration 0092: RG-uniform: 0.2572, RG-normal: 0.2474, reconstruction validation: 0.0605\n",
      "Iteration 0093: RG-uniform: 0.2594, RG-normal: 0.2380, reconstruction validation: 0.0564\n",
      "Iteration 0094: RG-uniform: 0.2673, RG-normal: 0.2414, reconstruction validation: 0.0571\n",
      "Iteration 0095: RG-uniform: 0.2570, RG-normal: 0.2368, reconstruction validation: 0.0565\n",
      "Iteration 0096: RG-uniform: 0.2541, RG-normal: 0.2400, reconstruction validation: 0.0571\n",
      "Iteration 0097: RG-uniform: 0.2506, RG-normal: 0.2432, reconstruction validation: 0.0579\n",
      "Iteration 0098: RG-uniform: 0.2658, RG-normal: 0.2406, reconstruction validation: 0.0567\n",
      "Iteration 0099: RG-uniform: 0.2650, RG-normal: 0.2361, reconstruction validation: 0.0579\n",
      "Iteration 0100: RG-uniform: 0.2638, RG-normal: 0.2360, reconstruction validation: 0.0585\n"
     ]
    }
   ],
   "source": [
    "log_attack = mra.attack(\n",
    "    attack_iter=100,\n",
    "    make_generator=make_generator,\n",
    "    input_noise=\"normal\",\n",
    "    input_z=True,\n",
    "    model_leak=True,\n",
    "    lr_x=0.001,\n",
    "    lr_f=0.0001,\n",
    "    epoch=200,\n",
    "    iter_x=50,\n",
    "    iter_f=1,\n",
    "    verbose=True, log_every=1)"
   ]
  },
  {
   "cell_type": "code",
   "execution_count": 13,
   "metadata": {},
   "outputs": [],
   "source": [
    "np.savetxt('./log/news2.csv', log_attack, delimiter=',')"
   ]
  },
  {
   "cell_type": "code",
   "execution_count": 29,
   "metadata": {},
   "outputs": [
    {
     "data": {
      "image/png": "[encoded data removed]",
      "text/plain": [
       "<Figure size 432x288 with 1 Axes>"
      ]
     },
     "metadata": {
      "needs_background": "light"
     },
     "output_type": "display_data"
    }
   ],
   "source": [
    "plt.xlim([1,101])\n",
    "plt.ylim([0,0.3])\n",
    "plt.grid()\n",
    "plt.ylabel('MSE per feature')\n",
    "plt.xlabel('Batch distance from the obtained model snapshot')\n",
    "ran = [i+1 for i in range(100)]\n",
    "plt.plot(ran, log_attack[:,0], 'ro-', ran, log_attack[:,1], 'b^-', ran, log_attack[:,2], 'gs-', markevery=np.arange(0, 101, 9))\n",
    "plt.legend(['RG-uniform', 'RG-normal', 'MRA (ours)'], loc='center right')\n",
    "plt.savefig(\"fig/news2.pdf\", bbox_inches='tight')"
   ]
  }
 ],
 "metadata": {
  "interpreter": {
   "hash": "d9ff725623c15d695aa319bbc94ea42e245a1edcf20c6f47c05aed8c0d68e7f4"
  },
  "kernelspec": {
   "display_name": "Python 3.9.7 64-bit",
   "language": "python",
   "name": "python3"
  },
  "language_info": {
   "codemirror_mode": {
    "name": "ipython",
    "version": 3
   },
   "file_extension": ".py",
   "mimetype": "text/x-python",
   "name": "python",
   "nbconvert_exporter": "python",
   "pygments_lexer": "ipython3",
   "version": "3.8.10"
  },
  "orig_nbformat": 4
 },
 "nbformat": 4,
 "nbformat_minor": 2
}
