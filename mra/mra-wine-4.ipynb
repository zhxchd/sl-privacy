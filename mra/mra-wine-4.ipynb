{
 "cells": [
  {
   "cell_type": "markdown",
   "metadata": {},
   "source": [
    "# Model recovery attack: `wine`"
   ]
  },
  {
   "cell_type": "code",
   "execution_count": 1,
   "metadata": {},
   "outputs": [],
   "source": [
    "%load_ext autoreload\n",
    "%autoreload 2\n",
    "\n",
    "import tensorflow as tf\n",
    "import numpy as np\n",
    "import matplotlib.pyplot as plt\n",
    "\n",
    "import mra\n",
    "from mra import *\n",
    "\n",
    "os.environ['CUDA_VISIBLE_DEVICES'] = '-1'"
   ]
  },
  {
   "cell_type": "code",
   "execution_count": 2,
   "metadata": {},
   "outputs": [
    {
     "name": "stderr",
     "output_type": "stream",
     "text": [
      "2022-02-16 00:47:02.005153: E tensorflow/stream_executor/cuda/cuda_driver.cc:271] failed call to cuInit: CUDA_ERROR_NO_DEVICE: no CUDA-capable device is detected\n",
      "2022-02-16 00:47:02.005196: I tensorflow/stream_executor/cuda/cuda_diagnostics.cc:169] retrieving CUDA diagnostic information for host: xgpg2\n",
      "2022-02-16 00:47:02.005202: I tensorflow/stream_executor/cuda/cuda_diagnostics.cc:176] hostname: xgpg2\n",
      "2022-02-16 00:47:02.005286: I tensorflow/stream_executor/cuda/cuda_diagnostics.cc:200] libcuda reported version is: 470.103.1\n",
      "2022-02-16 00:47:02.005305: I tensorflow/stream_executor/cuda/cuda_diagnostics.cc:204] kernel reported version is: 470.103.1\n",
      "2022-02-16 00:47:02.005310: I tensorflow/stream_executor/cuda/cuda_diagnostics.cc:310] kernel version seems to match DSO: 470.103.1\n",
      "2022-02-16 00:47:02.005592: I tensorflow/core/platform/cpu_feature_guard.cc:151] This TensorFlow binary is optimized with oneAPI Deep Neural Network Library (oneDNN) to use the following CPU instructions in performance-critical operations:  AVX2 FMA\n",
      "To enable them in other operations, rebuild TensorFlow with the appropriate compiler flags.\n"
     ]
    }
   ],
   "source": [
    "def make_dataset(X, Y, f):\n",
    "    x = tf.data.Dataset.from_tensor_slices(X)\n",
    "    y = tf.data.Dataset.from_tensor_slices(Y)\n",
    "    x = x.map(f)\n",
    "    xy = tf.data.Dataset.zip((x, y))\n",
    "    xy = xy.shuffle(10000)\n",
    "    return xy\n",
    "\n",
    "xy = np.loadtxt(\"../datasets/wine.csv\", delimiter=\";\")\n",
    "np.random.shuffle(xy)\n",
    "x = xy[:,0:-1]\n",
    "y = xy[:,-1]\n",
    "\n",
    "min_values = np.array([min(x[:,i]) for i in range(x.shape[1])])\n",
    "max_values = np.array([max(x[:,i]) for i in range(x.shape[1])])\n",
    "x = (x-min_values)/(max_values - min_values)\n",
    "y = y.reshape((len(x), 1)).astype(\"float32\")\n",
    "train_ds = make_dataset(x, y, lambda t: t)\n",
    "\n",
    "mra = mra(train_ds)"
   ]
  },
  {
   "cell_type": "code",
   "execution_count": 3,
   "metadata": {},
   "outputs": [],
   "source": [
    "def make_f(input_shape):\n",
    "    xin = tf.keras.layers.Input(input_shape)\n",
    "    x = tf.keras.layers.Dense(64, activation=\"relu\")(xin)\n",
    "    x = tf.keras.layers.Dense(64, activation=\"relu\")(x)\n",
    "    x = tf.keras.layers.Dense(64, activation=\"relu\")(x)\n",
    "    output = tf.keras.layers.Dense(64, activation=\"relu\")(x)\n",
    "    return tf.keras.Model(xin, output)\n",
    "\n",
    "def make_g(input_shape):\n",
    "    xin = tf.keras.layers.Input(input_shape)\n",
    "    # x = tf.keras.layers.Dense(64, activation=\"relu\")(xin)\n",
    "    # x = tf.keras.layers.Dropout(0.5)(x)\n",
    "    output = tf.keras.layers.Dense(11, activation=\"softmax\")(xin)\n",
    "    return tf.keras.Model(xin, output)"
   ]
  },
  {
   "cell_type": "code",
   "execution_count": 4,
   "metadata": {},
   "outputs": [
    {
     "name": "stdout",
     "output_type": "stream",
     "text": [
      "Iteration 0001: Training loss: 2.4393\n",
      "Iteration 0051: Training loss: 1.0378\n",
      "Iteration 0101: Training loss: 1.1548\n",
      "Iteration 0151: Training loss: 0.7803\n",
      "Iteration 0201: Training loss: 0.7742\n"
     ]
    }
   ],
   "source": [
    "log_train = mra.train(\n",
    "    make_f,\n",
    "    make_g,\n",
    "    loss_fn=tf.keras.losses.sparse_categorical_crossentropy,\n",
    "    batch_size=32,\n",
    "    epoch=5,\n",
    "    lr=0.001,\n",
    "    verbose=True, log_every=50\n",
    "    )"
   ]
  },
  {
   "cell_type": "code",
   "execution_count": 5,
   "metadata": {},
   "outputs": [],
   "source": [
    "def make_generator(input_shape):\n",
    "    xin = tf.keras.layers.Input(input_shape)\n",
    "    act = \"relu\"\n",
    "    x = tf.keras.layers.Dense(512, activation=act)(xin)\n",
    "    x = tf.keras.layers.Dense(256, activation=act)(x)\n",
    "    x = tf.keras.layers.Dense(128, activation=act)(x)\n",
    "    x = tf.keras.layers.Dense(64, activation=act)(x)\n",
    "    x = tf.keras.layers.Dense(32, activation=act)(x)\n",
    "    x = tf.keras.layers.Dense(11, activation=\"sigmoid\")(x)\n",
    "    return tf.keras.Model(xin, x)"
   ]
  },
  {
   "cell_type": "code",
   "execution_count": 6,
   "metadata": {},
   "outputs": [
    {
     "name": "stdout",
     "output_type": "stream",
     "text": [
      "Iteration 0001: RG-uniform: 0.1815, RG-normal: 0.1535, reconstruction validation: 0.0311\n",
      "Iteration 0002: RG-uniform: 0.1857, RG-normal: 0.1479, reconstruction validation: 0.0217\n",
      "Iteration 0003: RG-uniform: 0.1776, RG-normal: 0.1525, reconstruction validation: 0.0158\n",
      "Iteration 0004: RG-uniform: 0.1564, RG-normal: 0.1526, reconstruction validation: 0.0098\n",
      "Iteration 0005: RG-uniform: 0.1752, RG-normal: 0.1625, reconstruction validation: 0.0081\n",
      "Iteration 0006: RG-uniform: 0.1595, RG-normal: 0.1465, reconstruction validation: 0.0073\n",
      "Iteration 0007: RG-uniform: 0.1614, RG-normal: 0.1636, reconstruction validation: 0.0029\n",
      "Iteration 0008: RG-uniform: 0.1371, RG-normal: 0.1480, reconstruction validation: 0.0096\n",
      "Iteration 0009: RG-uniform: 0.1838, RG-normal: 0.1705, reconstruction validation: 0.0032\n",
      "Iteration 0010: RG-uniform: 0.1753, RG-normal: 0.1530, reconstruction validation: 0.0057\n",
      "Iteration 0011: RG-uniform: 0.1630, RG-normal: 0.1461, reconstruction validation: 0.0060\n",
      "Iteration 0012: RG-uniform: 0.1704, RG-normal: 0.1532, reconstruction validation: 0.0042\n",
      "Iteration 0013: RG-uniform: 0.1716, RG-normal: 0.1488, reconstruction validation: 0.0074\n",
      "Iteration 0014: RG-uniform: 0.1556, RG-normal: 0.1569, reconstruction validation: 0.0070\n",
      "Iteration 0015: RG-uniform: 0.1512, RG-normal: 0.1512, reconstruction validation: 0.0061\n",
      "Iteration 0016: RG-uniform: 0.1721, RG-normal: 0.1527, reconstruction validation: 0.0037\n",
      "Iteration 0017: RG-uniform: 0.1698, RG-normal: 0.1569, reconstruction validation: 0.0071\n",
      "Iteration 0018: RG-uniform: 0.1640, RG-normal: 0.1525, reconstruction validation: 0.0098\n",
      "Iteration 0019: RG-uniform: 0.1792, RG-normal: 0.1370, reconstruction validation: 0.0255\n",
      "Iteration 0020: RG-uniform: 0.1796, RG-normal: 0.1540, reconstruction validation: 0.0280\n",
      "Iteration 0021: RG-uniform: 0.1654, RG-normal: 0.1503, reconstruction validation: 0.0326\n",
      "Iteration 0022: RG-uniform: 0.1892, RG-normal: 0.1601, reconstruction validation: 0.0361\n",
      "Iteration 0023: RG-uniform: 0.1782, RG-normal: 0.1419, reconstruction validation: 0.0236\n",
      "Iteration 0024: RG-uniform: 0.1631, RG-normal: 0.1521, reconstruction validation: 0.0646\n",
      "Iteration 0025: RG-uniform: 0.1749, RG-normal: 0.1484, reconstruction validation: 0.0557\n",
      "Iteration 0026: RG-uniform: 0.1678, RG-normal: 0.1446, reconstruction validation: 0.0375\n",
      "Iteration 0027: RG-uniform: 0.1813, RG-normal: 0.1373, reconstruction validation: 0.0400\n",
      "Iteration 0028: RG-uniform: 0.1705, RG-normal: 0.1422, reconstruction validation: 0.0446\n",
      "Iteration 0029: RG-uniform: 0.1775, RG-normal: 0.1419, reconstruction validation: 0.0540\n",
      "Iteration 0030: RG-uniform: 0.1697, RG-normal: 0.1460, reconstruction validation: 0.0406\n",
      "Iteration 0031: RG-uniform: 0.1759, RG-normal: 0.1388, reconstruction validation: 0.0340\n",
      "Iteration 0032: RG-uniform: 0.1634, RG-normal: 0.1582, reconstruction validation: 0.0309\n",
      "Iteration 0033: RG-uniform: 0.1645, RG-normal: 0.1632, reconstruction validation: 0.0304\n",
      "Iteration 0034: RG-uniform: 0.1757, RG-normal: 0.1509, reconstruction validation: 0.0471\n",
      "Iteration 0035: RG-uniform: 0.1587, RG-normal: 0.1403, reconstruction validation: 0.0337\n",
      "Iteration 0036: RG-uniform: 0.1590, RG-normal: 0.1482, reconstruction validation: 0.0149\n",
      "Iteration 0037: RG-uniform: 0.1870, RG-normal: 0.1685, reconstruction validation: 0.0183\n",
      "Iteration 0038: RG-uniform: 0.1755, RG-normal: 0.1341, reconstruction validation: 0.0166\n",
      "Iteration 0039: RG-uniform: 0.1838, RG-normal: 0.1592, reconstruction validation: 0.0135\n",
      "Iteration 0040: RG-uniform: 0.1603, RG-normal: 0.1507, reconstruction validation: 0.0122\n",
      "Iteration 0041: RG-uniform: 0.1880, RG-normal: 0.1400, reconstruction validation: 0.0132\n",
      "Iteration 0042: RG-uniform: 0.1787, RG-normal: 0.1555, reconstruction validation: 0.0158\n",
      "Iteration 0043: RG-uniform: 0.1543, RG-normal: 0.1522, reconstruction validation: 0.0209\n",
      "Iteration 0044: RG-uniform: 0.1605, RG-normal: 0.1443, reconstruction validation: 0.0169\n",
      "Iteration 0045: RG-uniform: 0.1822, RG-normal: 0.1521, reconstruction validation: 0.0137\n",
      "Iteration 0046: RG-uniform: 0.1670, RG-normal: 0.1359, reconstruction validation: 0.0134\n",
      "Iteration 0047: RG-uniform: 0.1879, RG-normal: 0.1371, reconstruction validation: 0.0130\n",
      "Iteration 0048: RG-uniform: 0.1664, RG-normal: 0.1503, reconstruction validation: 0.0195\n",
      "Iteration 0049: RG-uniform: 0.1847, RG-normal: 0.1578, reconstruction validation: 0.0123\n",
      "Iteration 0050: RG-uniform: 0.1609, RG-normal: 0.1408, reconstruction validation: 0.0159\n",
      "Iteration 0051: RG-uniform: 0.1719, RG-normal: 0.1519, reconstruction validation: 0.0149\n",
      "Iteration 0052: RG-uniform: 0.1669, RG-normal: 0.1599, reconstruction validation: 0.0095\n",
      "Iteration 0053: RG-uniform: 0.1671, RG-normal: 0.1559, reconstruction validation: 0.0140\n",
      "Iteration 0054: RG-uniform: 0.1742, RG-normal: 0.1801, reconstruction validation: 0.0194\n",
      "Iteration 0055: RG-uniform: 0.1662, RG-normal: 0.1562, reconstruction validation: 0.0197\n",
      "Iteration 0056: RG-uniform: 0.1831, RG-normal: 0.1593, reconstruction validation: 0.0137\n",
      "Iteration 0057: RG-uniform: 0.1483, RG-normal: 0.1391, reconstruction validation: 0.0177\n",
      "Iteration 0058: RG-uniform: 0.1775, RG-normal: 0.1684, reconstruction validation: 0.0129\n",
      "Iteration 0059: RG-uniform: 0.1576, RG-normal: 0.1529, reconstruction validation: 0.0159\n",
      "Iteration 0060: RG-uniform: 0.1611, RG-normal: 0.1548, reconstruction validation: 0.0117\n",
      "Iteration 0061: RG-uniform: 0.1872, RG-normal: 0.1426, reconstruction validation: 0.0180\n",
      "Iteration 0062: RG-uniform: 0.1731, RG-normal: 0.1455, reconstruction validation: 0.0169\n",
      "Iteration 0063: RG-uniform: 0.1720, RG-normal: 0.1545, reconstruction validation: 0.0271\n",
      "Iteration 0064: RG-uniform: 0.1794, RG-normal: 0.1486, reconstruction validation: 0.0336\n",
      "Iteration 0065: RG-uniform: 0.1663, RG-normal: 0.1349, reconstruction validation: 0.0244\n",
      "Iteration 0066: RG-uniform: 0.1584, RG-normal: 0.1382, reconstruction validation: 0.0230\n",
      "Iteration 0067: RG-uniform: 0.1739, RG-normal: 0.1581, reconstruction validation: 0.0269\n",
      "Iteration 0068: RG-uniform: 0.1722, RG-normal: 0.1378, reconstruction validation: 0.0285\n",
      "Iteration 0069: RG-uniform: 0.1633, RG-normal: 0.1603, reconstruction validation: 0.0215\n",
      "Iteration 0070: RG-uniform: 0.1781, RG-normal: 0.1472, reconstruction validation: 0.0213\n",
      "Iteration 0071: RG-uniform: 0.1688, RG-normal: 0.1441, reconstruction validation: 0.0227\n",
      "Iteration 0072: RG-uniform: 0.1742, RG-normal: 0.1578, reconstruction validation: 0.0314\n",
      "Iteration 0073: RG-uniform: 0.1792, RG-normal: 0.1368, reconstruction validation: 0.0223\n",
      "Iteration 0074: RG-uniform: 0.1820, RG-normal: 0.1529, reconstruction validation: 0.0277\n",
      "Iteration 0075: RG-uniform: 0.1663, RG-normal: 0.1366, reconstruction validation: 0.0358\n",
      "Iteration 0076: RG-uniform: 0.1751, RG-normal: 0.1527, reconstruction validation: 0.0268\n",
      "Iteration 0077: RG-uniform: 0.1654, RG-normal: 0.1336, reconstruction validation: 0.0376\n",
      "Iteration 0078: RG-uniform: 0.1532, RG-normal: 0.1447, reconstruction validation: 0.0312\n",
      "Iteration 0079: RG-uniform: 0.1811, RG-normal: 0.1524, reconstruction validation: 0.0297\n",
      "Iteration 0080: RG-uniform: 0.1604, RG-normal: 0.1581, reconstruction validation: 0.0225\n",
      "Iteration 0081: RG-uniform: 0.1659, RG-normal: 0.1496, reconstruction validation: 0.0273\n",
      "Iteration 0082: RG-uniform: 0.1540, RG-normal: 0.1511, reconstruction validation: 0.0258\n",
      "Iteration 0083: RG-uniform: 0.1589, RG-normal: 0.1665, reconstruction validation: 0.0158\n",
      "Iteration 0084: RG-uniform: 0.1681, RG-normal: 0.1390, reconstruction validation: 0.0174\n",
      "Iteration 0085: RG-uniform: 0.1777, RG-normal: 0.1515, reconstruction validation: 0.0147\n",
      "Iteration 0086: RG-uniform: 0.1817, RG-normal: 0.1682, reconstruction validation: 0.0149\n",
      "Iteration 0087: RG-uniform: 0.1772, RG-normal: 0.1548, reconstruction validation: 0.0127\n",
      "Iteration 0088: RG-uniform: 0.1730, RG-normal: 0.1456, reconstruction validation: 0.0128\n",
      "Iteration 0089: RG-uniform: 0.1732, RG-normal: 0.1530, reconstruction validation: 0.0128\n",
      "Iteration 0090: RG-uniform: 0.1828, RG-normal: 0.1588, reconstruction validation: 0.0143\n",
      "Iteration 0091: RG-uniform: 0.1617, RG-normal: 0.1539, reconstruction validation: 0.0256\n",
      "Iteration 0092: RG-uniform: 0.1836, RG-normal: 0.1387, reconstruction validation: 0.0401\n",
      "Iteration 0093: RG-uniform: 0.1686, RG-normal: 0.1496, reconstruction validation: 0.0333\n",
      "Iteration 0094: RG-uniform: 0.1842, RG-normal: 0.1576, reconstruction validation: 0.0295\n",
      "Iteration 0095: RG-uniform: 0.1650, RG-normal: 0.1577, reconstruction validation: 0.0313\n",
      "Iteration 0096: RG-uniform: 0.1727, RG-normal: 0.1672, reconstruction validation: 0.0287\n",
      "Iteration 0097: RG-uniform: 0.1604, RG-normal: 0.1323, reconstruction validation: 0.0351\n",
      "Iteration 0098: RG-uniform: 0.1541, RG-normal: 0.1359, reconstruction validation: 0.0244\n",
      "Iteration 0099: RG-uniform: 0.1619, RG-normal: 0.1664, reconstruction validation: 0.0217\n",
      "Iteration 0100: RG-uniform: 0.1693, RG-normal: 0.1409, reconstruction validation: 0.0214\n"
     ]
    }
   ],
   "source": [
    "log_attack = mra.attack(\n",
    "    attack_iter=100,\n",
    "    make_generator=make_generator,\n",
    "    input_noise=\"normal\",\n",
    "    input_z=True,\n",
    "    model_leak=True,\n",
    "    lr_x=0.001,\n",
    "    lr_f=0.0001,\n",
    "    epoch=200,\n",
    "    iter_x=50,\n",
    "    iter_f=1,\n",
    "    verbose=True, log_every=1)"
   ]
  },
  {
   "cell_type": "code",
   "execution_count": 7,
   "metadata": {},
   "outputs": [],
   "source": [
    "np.savetxt(\"./log/wine-4.csv\", log_attack, delimiter=\",\")"
   ]
  }
 ],
 "metadata": {
  "interpreter": {
   "hash": "d9ff725623c15d695aa319bbc94ea42e245a1edcf20c6f47c05aed8c0d68e7f4"
  },
  "kernelspec": {
   "display_name": "Python 3.9.7 64-bit",
   "language": "python",
   "name": "python3"
  },
  "language_info": {
   "codemirror_mode": {
    "name": "ipython",
    "version": 3
   },
   "file_extension": ".py",
   "mimetype": "text/x-python",
   "name": "python",
   "nbconvert_exporter": "python",
   "pygments_lexer": "ipython3",
   "version": "3.8.10"
  },
  "orig_nbformat": 4
 },
 "nbformat": 4,
 "nbformat_minor": 2
}
