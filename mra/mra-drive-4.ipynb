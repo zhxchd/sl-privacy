{
 "cells": [
  {
   "cell_type": "markdown",
   "metadata": {},
   "source": [
    "# Model recovery attack: `drive-diagnosis`"
   ]
  },
  {
   "cell_type": "code",
   "execution_count": 1,
   "metadata": {},
   "outputs": [],
   "source": [
    "%load_ext autoreload\n",
    "%autoreload 2\n",
    "\n",
    "import tensorflow as tf\n",
    "import numpy as np\n",
    "import matplotlib.pyplot as plt\n",
    "import pandas as pd\n",
    "\n",
    "import mra\n",
    "from mra import *\n",
    "\n",
    "os.environ['CUDA_VISIBLE_DEVICES'] = '-1'"
   ]
  },
  {
   "cell_type": "code",
   "execution_count": 2,
   "metadata": {},
   "outputs": [
    {
     "name": "stderr",
     "output_type": "stream",
     "text": [
      "2022-03-30 01:39:20.868573: E tensorflow/stream_executor/cuda/cuda_driver.cc:271] failed call to cuInit: CUDA_ERROR_NO_DEVICE: no CUDA-capable device is detected\n",
      "2022-03-30 01:39:20.868636: I tensorflow/stream_executor/cuda/cuda_diagnostics.cc:169] retrieving CUDA diagnostic information for host: xgpd0\n",
      "2022-03-30 01:39:20.868651: I tensorflow/stream_executor/cuda/cuda_diagnostics.cc:176] hostname: xgpd0\n",
      "2022-03-30 01:39:20.868789: I tensorflow/stream_executor/cuda/cuda_diagnostics.cc:200] libcuda reported version is: 470.103.1\n",
      "2022-03-30 01:39:20.868833: I tensorflow/stream_executor/cuda/cuda_diagnostics.cc:204] kernel reported version is: 470.103.1\n",
      "2022-03-30 01:39:20.868845: I tensorflow/stream_executor/cuda/cuda_diagnostics.cc:310] kernel version seems to match DSO: 470.103.1\n",
      "2022-03-30 01:39:20.869407: I tensorflow/core/platform/cpu_feature_guard.cc:151] This TensorFlow binary is optimized with oneAPI Deep Neural Network Library (oneDNN) to use the following CPU instructions in performance-critical operations:  AVX2 AVX512F FMA\n",
      "To enable them in other operations, rebuild TensorFlow with the appropriate compiler flags.\n"
     ]
    }
   ],
   "source": [
    "def make_dataset(X, Y, f):\n",
    "    x = tf.data.Dataset.from_tensor_slices(X)\n",
    "    y = tf.data.Dataset.from_tensor_slices(Y)\n",
    "    x = x.map(f)\n",
    "    xy = tf.data.Dataset.zip((x, y))\n",
    "    xy = xy.shuffle(10000)\n",
    "    return xy\n",
    "\n",
    "xy = np.loadtxt(\"../datasets/drive-diagnosis.txt\")\n",
    "np.random.shuffle(xy)\n",
    "x = xy[:,0:-1]\n",
    "y = xy[:,-1]\n",
    "\n",
    "# min_values = np.array([min(x[:,i]) for i in range(x.shape[1])])\n",
    "# max_values = np.array([max(x[:,i]) for i in range(x.shape[1])])\n",
    "# x = (x-min_values)/(max_values - min_values)\n",
    "x = (x - np.min(x)) / (np.max(x) - np.min(x))\n",
    "y = y.reshape((len(x), 1)).astype(\"float32\")-1\n",
    "train_ds = make_dataset(x, y, lambda t: t)\n",
    "\n",
    "mra = mra(train_ds)"
   ]
  },
  {
   "cell_type": "code",
   "execution_count": 3,
   "metadata": {},
   "outputs": [],
   "source": [
    "def make_f(input_shape):\n",
    "    xin = tf.keras.layers.Input(input_shape)\n",
    "    x = tf.keras.layers.Dense(512, activation=\"relu\")(xin)\n",
    "    x = tf.keras.layers.Dense(512, activation=\"relu\")(x)\n",
    "    x = tf.keras.layers.Dense(512, activation=\"relu\")(x)\n",
    "    output = tf.keras.layers.Dense(512, activation=\"relu\")(x)\n",
    "    return tf.keras.Model(xin, output)\n",
    "\n",
    "def make_g(input_shape):\n",
    "    xin = tf.keras.layers.Input(input_shape)\n",
    "    # x = tf.keras.layers.Dense(256, activation=\"relu\")(xin)\n",
    "    # x = tf.keras.layers.Dense(256, activation=\"relu\")(x)\n",
    "    output = tf.keras.layers.Dense(11, activation=\"softmax\")(xin)\n",
    "    return tf.keras.Model(xin, output)"
   ]
  },
  {
   "cell_type": "code",
   "execution_count": 4,
   "metadata": {},
   "outputs": [
    {
     "name": "stdout",
     "output_type": "stream",
     "text": [
      "Iteration 0001: Training loss: 2.3979\n",
      "Iteration 1001: Training loss: 2.3979\n",
      "Iteration 2001: Training loss: 2.3977\n",
      "Iteration 3001: Training loss: 2.3987\n",
      "Iteration 4001: Training loss: 2.4116\n",
      "Iteration 5001: Training loss: 2.3974\n",
      "Iteration 6001: Training loss: 2.4001\n",
      "Iteration 7001: Training loss: 2.3990\n",
      "Iteration 8001: Training loss: 2.3975\n",
      "Iteration 9001: Training loss: 2.4008\n"
     ]
    }
   ],
   "source": [
    "log_train = mra.train(\n",
    "    make_f,\n",
    "    make_g,\n",
    "    loss_fn=tf.keras.losses.SparseCategoricalCrossentropy(),\n",
    "    batch_size=32,\n",
    "    epoch=5,\n",
    "    lr=0.001,\n",
    "    verbose=True, log_every=1000\n",
    "    )"
   ]
  },
  {
   "cell_type": "code",
   "execution_count": 5,
   "metadata": {},
   "outputs": [],
   "source": [
    "def make_generator(input_shape):\n",
    "    xin = tf.keras.layers.Input(input_shape)\n",
    "    act = \"relu\"\n",
    "    x = tf.keras.layers.Dense(1000, activation=act)(xin)\n",
    "    x = tf.keras.layers.Dense(500, activation=act)(x)\n",
    "    x = tf.keras.layers.Dense(500, activation=act)(x)\n",
    "    # x = tf.keras.layers.Dense(256, activation=act)(x)\n",
    "    # x = tf.keras.layers.Dense(128, activation=act)(x)\n",
    "    # x = tf.keras.layers.Dense(64, activation=act)(x)\n",
    "    x = tf.keras.layers.Dense(48, activation=\"sigmoid\")(x)\n",
    "    return tf.keras.Model(xin, x)"
   ]
  },
  {
   "cell_type": "code",
   "execution_count": 6,
   "metadata": {},
   "outputs": [
    {
     "name": "stdout",
     "output_type": "stream",
     "text": [
      "tf.Tensor(3.8788537e-05, shape=(), dtype=float32)\n",
      "Iteration 0001: RG-uniform: 0.3292, RG-normal: 0.3124, reconstruction validation: 0.2288\n",
      "tf.Tensor(2.446334e-05, shape=(), dtype=float32)\n",
      "Iteration 0002: RG-uniform: 0.3237, RG-normal: 0.3165, reconstruction validation: 0.2133\n",
      "tf.Tensor(1.4629633e-05, shape=(), dtype=float32)\n",
      "Iteration 0003: RG-uniform: 0.3266, RG-normal: 0.3077, reconstruction validation: 0.1999\n",
      "tf.Tensor(8.419951e-06, shape=(), dtype=float32)\n",
      "Iteration 0004: RG-uniform: 0.3271, RG-normal: 0.3121, reconstruction validation: 0.1881\n",
      "tf.Tensor(4.6247933e-06, shape=(), dtype=float32)\n",
      "Iteration 0005: RG-uniform: 0.3306, RG-normal: 0.3058, reconstruction validation: 0.1775\n"
     ]
    }
   ],
   "source": [
    "log_attack = mra.attack(\n",
    "    attack_iter=5,\n",
    "    make_generator=make_generator,\n",
    "    input_noise=\"normal\",\n",
    "    input_z=True,\n",
    "    model_leak=True,\n",
    "    lr_x=0.0001,\n",
    "    lr_f=0.000001,\n",
    "    epoch=50,\n",
    "    iter_x=20,\n",
    "    iter_f=1,\n",
    "    verbose=True, log_every=1)"
   ]
  },
  {
   "cell_type": "code",
   "execution_count": 8,
   "metadata": {},
   "outputs": [],
   "source": [
    "np.savetxt(\"./log/drive-4.csv\", log_attack, delimiter=\",\")"
   ]
  }
 ],
 "metadata": {
  "interpreter": {
   "hash": "d9ff725623c15d695aa319bbc94ea42e245a1edcf20c6f47c05aed8c0d68e7f4"
  },
  "kernelspec": {
   "display_name": "Python 3.9.7 64-bit",
   "language": "python",
   "name": "python3"
  },
  "language_info": {
   "codemirror_mode": {
    "name": "ipython",
    "version": 3
   },
   "file_extension": ".py",
   "mimetype": "text/x-python",
   "name": "python",
   "nbconvert_exporter": "python",
   "pygments_lexer": "ipython3",
   "version": "3.8.10"
  },
  "orig_nbformat": 4
 },
 "nbformat": 4,
 "nbformat_minor": 2
}
