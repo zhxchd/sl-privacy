{
 "cells": [
  {
   "cell_type": "markdown",
   "metadata": {},
   "source": [
    "# Model recovery attack: `wine`"
   ]
  },
  {
   "cell_type": "code",
   "execution_count": 1,
   "metadata": {},
   "outputs": [],
   "source": [
    "%load_ext autoreload\n",
    "%autoreload 2\n",
    "\n",
    "import tensorflow as tf\n",
    "import numpy as np\n",
    "import matplotlib.pyplot as plt\n",
    "\n",
    "import mra\n",
    "from mra import *\n",
    "\n",
    "os.environ['CUDA_VISIBLE_DEVICES'] = '-1'"
   ]
  },
  {
   "cell_type": "code",
   "execution_count": 2,
   "metadata": {},
   "outputs": [
    {
     "name": "stderr",
     "output_type": "stream",
     "text": [
      "2022-02-17 15:31:45.515975: E tensorflow/stream_executor/cuda/cuda_driver.cc:271] failed call to cuInit: CUDA_ERROR_NO_DEVICE: no CUDA-capable device is detected\n",
      "2022-02-17 15:31:45.516042: I tensorflow/stream_executor/cuda/cuda_diagnostics.cc:169] retrieving CUDA diagnostic information for host: xgpg0\n",
      "2022-02-17 15:31:45.516053: I tensorflow/stream_executor/cuda/cuda_diagnostics.cc:176] hostname: xgpg0\n",
      "2022-02-17 15:31:45.516186: I tensorflow/stream_executor/cuda/cuda_diagnostics.cc:200] libcuda reported version is: 495.29.5\n",
      "2022-02-17 15:31:45.516221: I tensorflow/stream_executor/cuda/cuda_diagnostics.cc:204] kernel reported version is: 495.29.5\n",
      "2022-02-17 15:31:45.516229: I tensorflow/stream_executor/cuda/cuda_diagnostics.cc:310] kernel version seems to match DSO: 495.29.5\n",
      "2022-02-17 15:31:45.516756: I tensorflow/core/platform/cpu_feature_guard.cc:151] This TensorFlow binary is optimized with oneAPI Deep Neural Network Library (oneDNN) to use the following CPU instructions in performance-critical operations:  AVX2 FMA\n",
      "To enable them in other operations, rebuild TensorFlow with the appropriate compiler flags.\n"
     ]
    }
   ],
   "source": [
    "def make_dataset(X, Y, f):\n",
    "    x = tf.data.Dataset.from_tensor_slices(X)\n",
    "    y = tf.data.Dataset.from_tensor_slices(Y)\n",
    "    x = x.map(f)\n",
    "    xy = tf.data.Dataset.zip((x, y))\n",
    "    xy = xy.shuffle(10000)\n",
    "    return xy\n",
    "\n",
    "xy = np.loadtxt(\"../datasets/wine-white.csv\", delimiter=\";\")\n",
    "np.random.shuffle(xy)\n",
    "x = xy[:,0:-1]\n",
    "y = xy[:,-1]-3\n",
    "\n",
    "min_values = np.array([min(x[:,i]) for i in range(x.shape[1])])\n",
    "max_values = np.array([max(x[:,i]) for i in range(x.shape[1])])\n",
    "x = (x-min_values)/(max_values - min_values)\n",
    "y = y.reshape((len(x), 1)).astype(\"float32\")\n",
    "train_ds = make_dataset(x, y, lambda t: t)"
   ]
  },
  {
   "cell_type": "code",
   "execution_count": 3,
   "metadata": {},
   "outputs": [],
   "source": [
    "mra_wine_3 = mra(train_ds)"
   ]
  },
  {
   "cell_type": "code",
   "execution_count": 6,
   "metadata": {},
   "outputs": [],
   "source": [
    "def make_f(input_shape):\n",
    "    xin = tf.keras.layers.Input(input_shape)\n",
    "    x = tf.keras.layers.Dense(64, activation=\"relu\")(xin)\n",
    "    x = tf.keras.layers.Dense(64, activation=\"relu\")(x)\n",
    "    output = tf.keras.layers.Dense(64, activation=\"relu\")(x)\n",
    "    return tf.keras.Model(xin, output)\n",
    "\n",
    "def make_g(input_shape):\n",
    "    xin = tf.keras.layers.Input(input_shape)\n",
    "    x = tf.keras.layers.Dense(64, activation=\"relu\")(xin)\n",
    "    # x = tf.keras.layers.Dropout(0.5)(x)\n",
    "    output = tf.keras.layers.Dense(7, activation=\"softmax\")(x)\n",
    "    return tf.keras.Model(xin, output)"
   ]
  },
  {
   "cell_type": "code",
   "execution_count": 7,
   "metadata": {},
   "outputs": [
    {
     "name": "stdout",
     "output_type": "stream",
     "text": [
      "Iteration 0001: Training loss: 1.9176\n",
      "Iteration 0051: Training loss: 1.5013\n",
      "Iteration 0101: Training loss: 1.1087\n",
      "Iteration 0151: Training loss: 0.9151\n",
      "Iteration 0201: Training loss: 1.3616\n",
      "Iteration 0251: Training loss: 1.2380\n",
      "Iteration 0301: Training loss: 1.1850\n",
      "Iteration 0351: Training loss: 0.9829\n",
      "Iteration 0401: Training loss: 1.4192\n",
      "Iteration 0451: Training loss: 1.0262\n",
      "Iteration 0501: Training loss: 1.3588\n",
      "Iteration 0551: Training loss: 0.8540\n",
      "Iteration 0601: Training loss: 1.0160\n",
      "Iteration 0651: Training loss: 1.1018\n",
      "Iteration 0701: Training loss: 0.9675\n",
      "Iteration 0751: Training loss: 1.1136\n"
     ]
    }
   ],
   "source": [
    "log_train = mra_wine_3.train(\n",
    "    make_f,\n",
    "    make_g,\n",
    "    loss_fn=tf.keras.losses.sparse_categorical_crossentropy,\n",
    "    batch_size=32,\n",
    "    epoch=5,\n",
    "    lr=0.001,\n",
    "    verbose=True, log_every=50\n",
    "    )"
   ]
  },
  {
   "cell_type": "code",
   "execution_count": 8,
   "metadata": {},
   "outputs": [],
   "source": [
    "def make_generator(input_shape):\n",
    "    xin = tf.keras.layers.Input(input_shape)\n",
    "    act = \"relu\"\n",
    "    x = tf.keras.layers.Dense(512, activation=act)(xin)\n",
    "    x = tf.keras.layers.Dense(256, activation=act)(x)\n",
    "    x = tf.keras.layers.Dense(128, activation=act)(x)\n",
    "    x = tf.keras.layers.Dense(64, activation=act)(x)\n",
    "    x = tf.keras.layers.Dense(32, activation=act)(x)\n",
    "    x = tf.keras.layers.Dense(11, activation=\"sigmoid\")(x)\n",
    "    return tf.keras.Model(xin, x)"
   ]
  },
  {
   "cell_type": "code",
   "execution_count": 10,
   "metadata": {},
   "outputs": [
    {
     "name": "stdout",
     "output_type": "stream",
     "text": [
      "Iteration 0001: RG-uniform: 0.1735, RG-normal: 0.1621, reconstruction validation: 0.0066\n",
      "Iteration 0002: RG-uniform: 0.1685, RG-normal: 0.1605, reconstruction validation: 0.0016\n",
      "Iteration 0003: RG-uniform: 0.1807, RG-normal: 0.1516, reconstruction validation: 0.0008\n",
      "Iteration 0004: RG-uniform: 0.1795, RG-normal: 0.1577, reconstruction validation: 0.0007\n",
      "Iteration 0005: RG-uniform: 0.1568, RG-normal: 0.1473, reconstruction validation: 0.0008\n",
      "Iteration 0006: RG-uniform: 0.1762, RG-normal: 0.1592, reconstruction validation: 0.0007\n",
      "Iteration 0007: RG-uniform: 0.1738, RG-normal: 0.1501, reconstruction validation: 0.0010\n",
      "Iteration 0008: RG-uniform: 0.1670, RG-normal: 0.1736, reconstruction validation: 0.0009\n",
      "Iteration 0009: RG-uniform: 0.1712, RG-normal: 0.1500, reconstruction validation: 0.0030\n",
      "Iteration 0010: RG-uniform: 0.1707, RG-normal: 0.1376, reconstruction validation: 0.0033\n",
      "Iteration 0011: RG-uniform: 0.1832, RG-normal: 0.1495, reconstruction validation: 0.0050\n",
      "Iteration 0012: RG-uniform: 0.1736, RG-normal: 0.1547, reconstruction validation: 0.0088\n",
      "Iteration 0013: RG-uniform: 0.1953, RG-normal: 0.1585, reconstruction validation: 0.0063\n",
      "Iteration 0014: RG-uniform: 0.1572, RG-normal: 0.1526, reconstruction validation: 0.0043\n",
      "Iteration 0015: RG-uniform: 0.1761, RG-normal: 0.1479, reconstruction validation: 0.0051\n",
      "Iteration 0016: RG-uniform: 0.1794, RG-normal: 0.1756, reconstruction validation: 0.0063\n",
      "Iteration 0017: RG-uniform: 0.1716, RG-normal: 0.1666, reconstruction validation: 0.0033\n",
      "Iteration 0018: RG-uniform: 0.1800, RG-normal: 0.1539, reconstruction validation: 0.0035\n",
      "Iteration 0019: RG-uniform: 0.1847, RG-normal: 0.1449, reconstruction validation: 0.0023\n",
      "Iteration 0020: RG-uniform: 0.1805, RG-normal: 0.1553, reconstruction validation: 0.0039\n",
      "Iteration 0021: RG-uniform: 0.1757, RG-normal: 0.1665, reconstruction validation: 0.0061\n",
      "Iteration 0022: RG-uniform: 0.1665, RG-normal: 0.1584, reconstruction validation: 0.0080\n",
      "Iteration 0023: RG-uniform: 0.1645, RG-normal: 0.1641, reconstruction validation: 0.0063\n",
      "Iteration 0024: RG-uniform: 0.1833, RG-normal: 0.1681, reconstruction validation: 0.0039\n",
      "Iteration 0025: RG-uniform: 0.1764, RG-normal: 0.1514, reconstruction validation: 0.0038\n",
      "Iteration 0026: RG-uniform: 0.1840, RG-normal: 0.1731, reconstruction validation: 0.0034\n",
      "Iteration 0027: RG-uniform: 0.1570, RG-normal: 0.1754, reconstruction validation: 0.0035\n",
      "Iteration 0028: RG-uniform: 0.1830, RG-normal: 0.1622, reconstruction validation: 0.0038\n",
      "Iteration 0029: RG-uniform: 0.1770, RG-normal: 0.1491, reconstruction validation: 0.0052\n",
      "Iteration 0030: RG-uniform: 0.1764, RG-normal: 0.1591, reconstruction validation: 0.0060\n",
      "Iteration 0031: RG-uniform: 0.1735, RG-normal: 0.1538, reconstruction validation: 0.0051\n",
      "Iteration 0032: RG-uniform: 0.1760, RG-normal: 0.1513, reconstruction validation: 0.0052\n",
      "Iteration 0033: RG-uniform: 0.1858, RG-normal: 0.1675, reconstruction validation: 0.0063\n",
      "Iteration 0034: RG-uniform: 0.1721, RG-normal: 0.1357, reconstruction validation: 0.0046\n",
      "Iteration 0035: RG-uniform: 0.1908, RG-normal: 0.1422, reconstruction validation: 0.0048\n",
      "Iteration 0036: RG-uniform: 0.1784, RG-normal: 0.1648, reconstruction validation: 0.0068\n",
      "Iteration 0037: RG-uniform: 0.1996, RG-normal: 0.1581, reconstruction validation: 0.0068\n",
      "Iteration 0038: RG-uniform: 0.1792, RG-normal: 0.1674, reconstruction validation: 0.0089\n",
      "Iteration 0039: RG-uniform: 0.1748, RG-normal: 0.1766, reconstruction validation: 0.0085\n",
      "Iteration 0040: RG-uniform: 0.1787, RG-normal: 0.1467, reconstruction validation: 0.0114\n",
      "Iteration 0041: RG-uniform: 0.1876, RG-normal: 0.1533, reconstruction validation: 0.0125\n",
      "Iteration 0042: RG-uniform: 0.1891, RG-normal: 0.1540, reconstruction validation: 0.0144\n",
      "Iteration 0043: RG-uniform: 0.2065, RG-normal: 0.1485, reconstruction validation: 0.0152\n",
      "Iteration 0044: RG-uniform: 0.1696, RG-normal: 0.1684, reconstruction validation: 0.0150\n",
      "Iteration 0045: RG-uniform: 0.1896, RG-normal: 0.1651, reconstruction validation: 0.0149\n",
      "Iteration 0046: RG-uniform: 0.1657, RG-normal: 0.1783, reconstruction validation: 0.0135\n",
      "Iteration 0047: RG-uniform: 0.1738, RG-normal: 0.1303, reconstruction validation: 0.0132\n",
      "Iteration 0048: RG-uniform: 0.1739, RG-normal: 0.1471, reconstruction validation: 0.0147\n",
      "Iteration 0049: RG-uniform: 0.1812, RG-normal: 0.1577, reconstruction validation: 0.0139\n",
      "Iteration 0050: RG-uniform: 0.1960, RG-normal: 0.1577, reconstruction validation: 0.0116\n",
      "Iteration 0051: RG-uniform: 0.1574, RG-normal: 0.1566, reconstruction validation: 0.0116\n",
      "Iteration 0052: RG-uniform: 0.1583, RG-normal: 0.1496, reconstruction validation: 0.0110\n",
      "Iteration 0053: RG-uniform: 0.1687, RG-normal: 0.1504, reconstruction validation: 0.0106\n",
      "Iteration 0054: RG-uniform: 0.1815, RG-normal: 0.1720, reconstruction validation: 0.0110\n",
      "Iteration 0055: RG-uniform: 0.1883, RG-normal: 0.1665, reconstruction validation: 0.0127\n",
      "Iteration 0056: RG-uniform: 0.1839, RG-normal: 0.1360, reconstruction validation: 0.0137\n",
      "Iteration 0057: RG-uniform: 0.1601, RG-normal: 0.1534, reconstruction validation: 0.0137\n",
      "Iteration 0058: RG-uniform: 0.1733, RG-normal: 0.1523, reconstruction validation: 0.0152\n",
      "Iteration 0059: RG-uniform: 0.1903, RG-normal: 0.1497, reconstruction validation: 0.0228\n",
      "Iteration 0060: RG-uniform: 0.1691, RG-normal: 0.1598, reconstruction validation: 0.0221\n",
      "Iteration 0061: RG-uniform: 0.1909, RG-normal: 0.1523, reconstruction validation: 0.0213\n",
      "Iteration 0062: RG-uniform: 0.1757, RG-normal: 0.1452, reconstruction validation: 0.0203\n",
      "Iteration 0063: RG-uniform: 0.1803, RG-normal: 0.1570, reconstruction validation: 0.0233\n",
      "Iteration 0064: RG-uniform: 0.1810, RG-normal: 0.1562, reconstruction validation: 0.0170\n",
      "Iteration 0065: RG-uniform: 0.1807, RG-normal: 0.1577, reconstruction validation: 0.0195\n",
      "Iteration 0066: RG-uniform: 0.1673, RG-normal: 0.1574, reconstruction validation: 0.0252\n",
      "Iteration 0067: RG-uniform: 0.1858, RG-normal: 0.1655, reconstruction validation: 0.0243\n",
      "Iteration 0068: RG-uniform: 0.1586, RG-normal: 0.1635, reconstruction validation: 0.0198\n",
      "Iteration 0069: RG-uniform: 0.1772, RG-normal: 0.1396, reconstruction validation: 0.0215\n",
      "Iteration 0070: RG-uniform: 0.1806, RG-normal: 0.1612, reconstruction validation: 0.0215\n",
      "Iteration 0071: RG-uniform: 0.1805, RG-normal: 0.1565, reconstruction validation: 0.0196\n",
      "Iteration 0072: RG-uniform: 0.1676, RG-normal: 0.1501, reconstruction validation: 0.0154\n",
      "Iteration 0073: RG-uniform: 0.1584, RG-normal: 0.1654, reconstruction validation: 0.0163\n",
      "Iteration 0074: RG-uniform: 0.1920, RG-normal: 0.1655, reconstruction validation: 0.0155\n",
      "Iteration 0075: RG-uniform: 0.1736, RG-normal: 0.1454, reconstruction validation: 0.0192\n",
      "Iteration 0076: RG-uniform: 0.1681, RG-normal: 0.1444, reconstruction validation: 0.0174\n",
      "Iteration 0077: RG-uniform: 0.1784, RG-normal: 0.1622, reconstruction validation: 0.0223\n",
      "Iteration 0078: RG-uniform: 0.1885, RG-normal: 0.1796, reconstruction validation: 0.0242\n",
      "Iteration 0079: RG-uniform: 0.1598, RG-normal: 0.1467, reconstruction validation: 0.0261\n",
      "Iteration 0080: RG-uniform: 0.1836, RG-normal: 0.1668, reconstruction validation: 0.0257\n",
      "Iteration 0081: RG-uniform: 0.1605, RG-normal: 0.1456, reconstruction validation: 0.0303\n",
      "Iteration 0082: RG-uniform: 0.1680, RG-normal: 0.1589, reconstruction validation: 0.0334\n",
      "Iteration 0083: RG-uniform: 0.1879, RG-normal: 0.1536, reconstruction validation: 0.0340\n",
      "Iteration 0084: RG-uniform: 0.1847, RG-normal: 0.1381, reconstruction validation: 0.0371\n",
      "Iteration 0085: RG-uniform: 0.1559, RG-normal: 0.1544, reconstruction validation: 0.0508\n",
      "Iteration 0086: RG-uniform: 0.1822, RG-normal: 0.1638, reconstruction validation: 0.0454\n",
      "Iteration 0087: RG-uniform: 0.1686, RG-normal: 0.1540, reconstruction validation: 0.0384\n",
      "Iteration 0088: RG-uniform: 0.1626, RG-normal: 0.1547, reconstruction validation: 0.0367\n",
      "Iteration 0089: RG-uniform: 0.1658, RG-normal: 0.1594, reconstruction validation: 0.0357\n",
      "Iteration 0090: RG-uniform: 0.1816, RG-normal: 0.1594, reconstruction validation: 0.0440\n",
      "Iteration 0091: RG-uniform: 0.1797, RG-normal: 0.1594, reconstruction validation: 0.0408\n",
      "Iteration 0092: RG-uniform: 0.1768, RG-normal: 0.1452, reconstruction validation: 0.0390\n",
      "Iteration 0093: RG-uniform: 0.1590, RG-normal: 0.1460, reconstruction validation: 0.0453\n",
      "Iteration 0094: RG-uniform: 0.1626, RG-normal: 0.1478, reconstruction validation: 0.0450\n",
      "Iteration 0095: RG-uniform: 0.1960, RG-normal: 0.1915, reconstruction validation: 0.0502\n",
      "Iteration 0096: RG-uniform: 0.1825, RG-normal: 0.1532, reconstruction validation: 0.0536\n",
      "Iteration 0097: RG-uniform: 0.1611, RG-normal: 0.1604, reconstruction validation: 0.0358\n",
      "Iteration 0098: RG-uniform: 0.1674, RG-normal: 0.1582, reconstruction validation: 0.0364\n",
      "Iteration 0099: RG-uniform: 0.1675, RG-normal: 0.1460, reconstruction validation: 0.0345\n",
      "Iteration 0100: RG-uniform: 0.1667, RG-normal: 0.1606, reconstruction validation: 0.0384\n"
     ]
    }
   ],
   "source": [
    "log_attack = mra_wine_3.attack(\n",
    "    attack_iter=100,\n",
    "    make_generator=make_generator,\n",
    "    input_noise=\"normal\",\n",
    "    input_z=True,\n",
    "    model_leak=True,\n",
    "    lr_x=0.001,\n",
    "    lr_f=0.0001,\n",
    "    epoch=200,\n",
    "    iter_x=50,\n",
    "    iter_f=1,\n",
    "    verbose=True, log_every=1)"
   ]
  },
  {
   "cell_type": "code",
   "execution_count": 11,
   "metadata": {},
   "outputs": [],
   "source": [
    "np.savetxt(\"./log/wine-white-3.csv\", log_attack, delimiter=\",\")"
   ]
  }
 ],
 "metadata": {
  "interpreter": {
   "hash": "d9ff725623c15d695aa319bbc94ea42e245a1edcf20c6f47c05aed8c0d68e7f4"
  },
  "kernelspec": {
   "display_name": "Python 3.9.7 64-bit",
   "language": "python",
   "name": "python3"
  },
  "language_info": {
   "codemirror_mode": {
    "name": "ipython",
    "version": 3
   },
   "file_extension": ".py",
   "mimetype": "text/x-python",
   "name": "python",
   "nbconvert_exporter": "python",
   "pygments_lexer": "ipython3",
   "version": "3.8.10"
  },
  "orig_nbformat": 4
 },
 "nbformat": 4,
 "nbformat_minor": 2
}
