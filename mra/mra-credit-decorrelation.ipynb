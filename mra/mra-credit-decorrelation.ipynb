{
 "cells": [
  {
   "cell_type": "markdown",
   "metadata": {},
   "source": [
    "# Model recovery attack: `credit-card`"
   ]
  },
  {
   "cell_type": "code",
   "execution_count": 1,
   "metadata": {},
   "outputs": [],
   "source": [
    "%load_ext autoreload\n",
    "%autoreload 2\n",
    "\n",
    "import tensorflow as tf\n",
    "import numpy as np\n",
    "import pandas as pd\n",
    "import matplotlib.pyplot as plt\n",
    "\n",
    "import os\n",
    "import mra\n",
    "from mra import *\n",
    "import models\n",
    "from models import *"
   ]
  },
  {
   "cell_type": "code",
   "execution_count": 2,
   "metadata": {},
   "outputs": [
    {
     "name": "stdout",
     "output_type": "stream",
     "text": [
      "2 Physical GPUs, 1 Logical GPU\n"
     ]
    },
    {
     "name": "stderr",
     "output_type": "stream",
     "text": [
      "2022-04-05 16:55:10.243505: I tensorflow/core/platform/cpu_feature_guard.cc:151] This TensorFlow binary is optimized with oneAPI Deep Neural Network Library (oneDNN) to use the following CPU instructions in performance-critical operations:  AVX2 AVX512F FMA\n",
      "To enable them in other operations, rebuild TensorFlow with the appropriate compiler flags.\n",
      "2022-04-05 16:55:11.073732: I tensorflow/core/common_runtime/gpu/gpu_device.cc:1525] Created device /job:localhost/replica:0/task:0/device:GPU:0 with 10545 MB memory:  -> device: 0, name: NVIDIA TITAN V, pci bus id: 0000:3b:00.0, compute capability: 7.0\n"
     ]
    }
   ],
   "source": [
    "gpus = tf.config.list_physical_devices('GPU')\n",
    "if gpus:\n",
    "  # Restrict TensorFlow to only use the first GPU\n",
    "  try:\n",
    "    tf.config.set_visible_devices(gpus[0], 'GPU')\n",
    "    logical_gpus = tf.config.list_logical_devices('GPU')\n",
    "    print(len(gpus), \"Physical GPUs,\", len(logical_gpus), \"Logical GPU\")\n",
    "  except RuntimeError as e:\n",
    "    # Visible devices must be set before GPUs have been initialized\n",
    "    print(e)"
   ]
  },
  {
   "cell_type": "code",
   "execution_count": 3,
   "metadata": {},
   "outputs": [],
   "source": [
    "def make_dataset(X, Y, f):\n",
    "    x = tf.data.Dataset.from_tensor_slices(X)\n",
    "    y = tf.data.Dataset.from_tensor_slices(Y)\n",
    "    x = x.map(f)\n",
    "    xy = tf.data.Dataset.zip((x, y))\n",
    "    xy = xy.shuffle(10000)\n",
    "    return xy\n",
    "\n",
    "df = pd.read_excel('../datasets/credit-card.xls', header=1, index_col=0).sample(frac=1)\n",
    "x = df.drop(columns=[\"default payment next month\"]).to_numpy()\n",
    "x = (x - np.min(x, axis=0))/(np.max(x, axis=0) - np.min(x, axis=0))\n",
    "y = df[\"default payment next month\"].to_numpy().reshape((len(x), 1)).astype(\"float32\")\n",
    "train_ds = make_dataset(x, y, lambda t: t)"
   ]
  },
  {
   "cell_type": "code",
   "execution_count": 18,
   "metadata": {},
   "outputs": [
    {
     "name": "stdout",
     "output_type": "stream",
     "text": [
      "alpha1 = 100\n",
      "Iteration 1000: Training loss: 46.6122\n",
      "Iteration 2000: Training loss: 38.8201\n",
      "Iteration 3000: Training loss: 35.3742\n",
      "Iteration 4000: Training loss: 34.2157\n"
     ]
    }
   ],
   "source": [
    "main = {}\n",
    "\n",
    "for alpha1 in [100]:\n",
    "    print(\"alpha1 = {}\".format(alpha1))\n",
    "    main[alpha1] = mra(train_ds)\n",
    "    make_f, make_g, make_generator = models.make_mlp(\n",
    "        attr_num=23,\n",
    "        class_num=2,\n",
    "        split=3,\n",
    "        fg_units=64,\n",
    "        fg_act=\"relu\",\n",
    "        generator_units=[512,256,128,64]\n",
    "    )\n",
    "    main[alpha1].train(\n",
    "        make_f,\n",
    "        make_g,\n",
    "        loss_fn=tf.keras.losses.BinaryCrossentropy(),\n",
    "        batch_size=32,\n",
    "        epoch=5,\n",
    "        lr=0.001,\n",
    "        alpha1=alpha1,\n",
    "        verbose=True, log_every=1000\n",
    "    )"
   ]
  },
  {
   "cell_type": "code",
   "execution_count": 19,
   "metadata": {},
   "outputs": [
    {
     "name": "stdout",
     "output_type": "stream",
     "text": [
      "alpha1 = 100\n",
      "Iteration 0001: RG-uniform: 0.2379, RG-normal: 0.2080, reconstruction validation: 0.1761\n",
      "Iteration 0002: RG-uniform: 0.2465, RG-normal: 0.2072, reconstruction validation: 0.1562\n",
      "Iteration 0003: RG-uniform: 0.2268, RG-normal: 0.2134, reconstruction validation: 0.1408\n",
      "Iteration 0004: RG-uniform: 0.2235, RG-normal: 0.1915, reconstruction validation: 0.1500\n",
      "Iteration 0005: RG-uniform: 0.2356, RG-normal: 0.2166, reconstruction validation: 0.1267\n",
      "Iteration 0006: RG-uniform: 0.2353, RG-normal: 0.2057, reconstruction validation: 0.1415\n",
      "Iteration 0007: RG-uniform: 0.2249, RG-normal: 0.2096, reconstruction validation: 0.1392\n",
      "Iteration 0008: RG-uniform: 0.2353, RG-normal: 0.2144, reconstruction validation: 0.1360\n",
      "Iteration 0009: RG-uniform: 0.2328, RG-normal: 0.2313, reconstruction validation: 0.1287\n",
      "Iteration 0010: RG-uniform: 0.2480, RG-normal: 0.2236, reconstruction validation: 0.1349\n",
      "Iteration 0011: RG-uniform: 0.2277, RG-normal: 0.2012, reconstruction validation: 0.1262\n",
      "Iteration 0012: RG-uniform: 0.2338, RG-normal: 0.2168, reconstruction validation: 0.1340\n",
      "Iteration 0013: RG-uniform: 0.2218, RG-normal: 0.2011, reconstruction validation: 0.1311\n",
      "Iteration 0014: RG-uniform: 0.2256, RG-normal: 0.2056, reconstruction validation: 0.1324\n",
      "Iteration 0015: RG-uniform: 0.2281, RG-normal: 0.2126, reconstruction validation: 0.1324\n",
      "Iteration 0016: RG-uniform: 0.2437, RG-normal: 0.2177, reconstruction validation: 0.1410\n",
      "Iteration 0017: RG-uniform: 0.2387, RG-normal: 0.2006, reconstruction validation: 0.1365\n",
      "Iteration 0018: RG-uniform: 0.2414, RG-normal: 0.1981, reconstruction validation: 0.1369\n",
      "Iteration 0019: RG-uniform: 0.2338, RG-normal: 0.2170, reconstruction validation: 0.1339\n",
      "Iteration 0020: RG-uniform: 0.2343, RG-normal: 0.2304, reconstruction validation: 0.1313\n",
      "Iteration 0021: RG-uniform: 0.2279, RG-normal: 0.2000, reconstruction validation: 0.1290\n",
      "Iteration 0022: RG-uniform: 0.2156, RG-normal: 0.2078, reconstruction validation: 0.1228\n",
      "Iteration 0023: RG-uniform: 0.2252, RG-normal: 0.2113, reconstruction validation: 0.1270\n",
      "Iteration 0024: RG-uniform: 0.2358, RG-normal: 0.2064, reconstruction validation: 0.1272\n",
      "Iteration 0025: RG-uniform: 0.2217, RG-normal: 0.2137, reconstruction validation: 0.1228\n",
      "Iteration 0026: RG-uniform: 0.2330, RG-normal: 0.2082, reconstruction validation: 0.1218\n",
      "Iteration 0027: RG-uniform: 0.2408, RG-normal: 0.2086, reconstruction validation: 0.1244\n",
      "Iteration 0028: RG-uniform: 0.2361, RG-normal: 0.2232, reconstruction validation: 0.1310\n",
      "Iteration 0029: RG-uniform: 0.2257, RG-normal: 0.2282, reconstruction validation: 0.1289\n",
      "Iteration 0030: RG-uniform: 0.2469, RG-normal: 0.2163, reconstruction validation: 0.1353\n",
      "Iteration 0031: RG-uniform: 0.2289, RG-normal: 0.2174, reconstruction validation: 0.1252\n",
      "Iteration 0032: RG-uniform: 0.2311, RG-normal: 0.2072, reconstruction validation: 0.1271\n",
      "Iteration 0033: RG-uniform: 0.2349, RG-normal: 0.2127, reconstruction validation: 0.1239\n",
      "Iteration 0034: RG-uniform: 0.2392, RG-normal: 0.2021, reconstruction validation: 0.1203\n",
      "Iteration 0035: RG-uniform: 0.2376, RG-normal: 0.2006, reconstruction validation: 0.1203\n",
      "Iteration 0036: RG-uniform: 0.2535, RG-normal: 0.2214, reconstruction validation: 0.1359\n",
      "Iteration 0037: RG-uniform: 0.2268, RG-normal: 0.2021, reconstruction validation: 0.1267\n",
      "Iteration 0038: RG-uniform: 0.2484, RG-normal: 0.2291, reconstruction validation: 0.1223\n",
      "Iteration 0039: RG-uniform: 0.2483, RG-normal: 0.1984, reconstruction validation: 0.1181\n",
      "Iteration 0040: RG-uniform: 0.2363, RG-normal: 0.2181, reconstruction validation: 0.1183\n",
      "Iteration 0041: RG-uniform: 0.2268, RG-normal: 0.2055, reconstruction validation: 0.1247\n",
      "Iteration 0042: RG-uniform: 0.2315, RG-normal: 0.2082, reconstruction validation: 0.1258\n",
      "Iteration 0043: RG-uniform: 0.2362, RG-normal: 0.2190, reconstruction validation: 0.1291\n",
      "Iteration 0044: RG-uniform: 0.2264, RG-normal: 0.2096, reconstruction validation: 0.1195\n",
      "Iteration 0045: RG-uniform: 0.2290, RG-normal: 0.2017, reconstruction validation: 0.1249\n",
      "Iteration 0046: RG-uniform: 0.2409, RG-normal: 0.2118, reconstruction validation: 0.1115\n",
      "Iteration 0047: RG-uniform: 0.2388, RG-normal: 0.2056, reconstruction validation: 0.1173\n",
      "Iteration 0048: RG-uniform: 0.2275, RG-normal: 0.2138, reconstruction validation: 0.1118\n",
      "Iteration 0049: RG-uniform: 0.2335, RG-normal: 0.2101, reconstruction validation: 0.1132\n",
      "Iteration 0050: RG-uniform: 0.2288, RG-normal: 0.2082, reconstruction validation: 0.1251\n",
      "Iteration 0051: RG-uniform: 0.2550, RG-normal: 0.2367, reconstruction validation: 0.1267\n",
      "Iteration 0052: RG-uniform: 0.2279, RG-normal: 0.1994, reconstruction validation: 0.1125\n",
      "Iteration 0053: RG-uniform: 0.2364, RG-normal: 0.2124, reconstruction validation: 0.1224\n",
      "Iteration 0054: RG-uniform: 0.2189, RG-normal: 0.2017, reconstruction validation: 0.1101\n",
      "Iteration 0055: RG-uniform: 0.2276, RG-normal: 0.2180, reconstruction validation: 0.1188\n",
      "Iteration 0056: RG-uniform: 0.2351, RG-normal: 0.2119, reconstruction validation: 0.1147\n",
      "Iteration 0057: RG-uniform: 0.2282, RG-normal: 0.2224, reconstruction validation: 0.1178\n",
      "Iteration 0058: RG-uniform: 0.2122, RG-normal: 0.2176, reconstruction validation: 0.1182\n",
      "Iteration 0059: RG-uniform: 0.2202, RG-normal: 0.1986, reconstruction validation: 0.1198\n",
      "Iteration 0060: RG-uniform: 0.2245, RG-normal: 0.2081, reconstruction validation: 0.1250\n",
      "Iteration 0061: RG-uniform: 0.2304, RG-normal: 0.2329, reconstruction validation: 0.1135\n",
      "Iteration 0062: RG-uniform: 0.2311, RG-normal: 0.1958, reconstruction validation: 0.1212\n",
      "Iteration 0063: RG-uniform: 0.2150, RG-normal: 0.2169, reconstruction validation: 0.1188\n",
      "Iteration 0064: RG-uniform: 0.2357, RG-normal: 0.2054, reconstruction validation: 0.1210\n",
      "Iteration 0065: RG-uniform: 0.2309, RG-normal: 0.2111, reconstruction validation: 0.1140\n",
      "Iteration 0066: RG-uniform: 0.2395, RG-normal: 0.2109, reconstruction validation: 0.1213\n",
      "Iteration 0067: RG-uniform: 0.2467, RG-normal: 0.2157, reconstruction validation: 0.1143\n",
      "Iteration 0068: RG-uniform: 0.2199, RG-normal: 0.2122, reconstruction validation: 0.1092\n",
      "Iteration 0069: RG-uniform: 0.2256, RG-normal: 0.2022, reconstruction validation: 0.1125\n",
      "Iteration 0070: RG-uniform: 0.2283, RG-normal: 0.2121, reconstruction validation: 0.1188\n",
      "Iteration 0071: RG-uniform: 0.2191, RG-normal: 0.2219, reconstruction validation: 0.1263\n",
      "Iteration 0072: RG-uniform: 0.2190, RG-normal: 0.1967, reconstruction validation: 0.1135\n",
      "Iteration 0073: RG-uniform: 0.2309, RG-normal: 0.2032, reconstruction validation: 0.1204\n",
      "Iteration 0074: RG-uniform: 0.2304, RG-normal: 0.2013, reconstruction validation: 0.1202\n",
      "Iteration 0075: RG-uniform: 0.2498, RG-normal: 0.2256, reconstruction validation: 0.1245\n",
      "Iteration 0076: RG-uniform: 0.2377, RG-normal: 0.2082, reconstruction validation: 0.1249\n",
      "Iteration 0077: RG-uniform: 0.2312, RG-normal: 0.2124, reconstruction validation: 0.1202\n",
      "Iteration 0078: RG-uniform: 0.2372, RG-normal: 0.2177, reconstruction validation: 0.1246\n",
      "Iteration 0079: RG-uniform: 0.2326, RG-normal: 0.2178, reconstruction validation: 0.1182\n",
      "Iteration 0080: RG-uniform: 0.2241, RG-normal: 0.2157, reconstruction validation: 0.1165\n",
      "Iteration 0081: RG-uniform: 0.2208, RG-normal: 0.2033, reconstruction validation: 0.1133\n",
      "Iteration 0082: RG-uniform: 0.2266, RG-normal: 0.1969, reconstruction validation: 0.1234\n",
      "Iteration 0083: RG-uniform: 0.2224, RG-normal: 0.2066, reconstruction validation: 0.1219\n",
      "Iteration 0084: RG-uniform: 0.2259, RG-normal: 0.2186, reconstruction validation: 0.1238\n",
      "Iteration 0085: RG-uniform: 0.2139, RG-normal: 0.2207, reconstruction validation: 0.1196\n",
      "Iteration 0086: RG-uniform: 0.2146, RG-normal: 0.2126, reconstruction validation: 0.1237\n",
      "Iteration 0087: RG-uniform: 0.2293, RG-normal: 0.2184, reconstruction validation: 0.1195\n",
      "Iteration 0088: RG-uniform: 0.2490, RG-normal: 0.2214, reconstruction validation: 0.1224\n",
      "Iteration 0089: RG-uniform: 0.2400, RG-normal: 0.2168, reconstruction validation: 0.1154\n",
      "Iteration 0090: RG-uniform: 0.2474, RG-normal: 0.2069, reconstruction validation: 0.1077\n",
      "Iteration 0091: RG-uniform: 0.2460, RG-normal: 0.1929, reconstruction validation: 0.1133\n",
      "Iteration 0092: RG-uniform: 0.2244, RG-normal: 0.2042, reconstruction validation: 0.1156\n",
      "Iteration 0093: RG-uniform: 0.2378, RG-normal: 0.2044, reconstruction validation: 0.1260\n",
      "Iteration 0094: RG-uniform: 0.2257, RG-normal: 0.2100, reconstruction validation: 0.1300\n",
      "Iteration 0095: RG-uniform: 0.2192, RG-normal: 0.1933, reconstruction validation: 0.1241\n",
      "Iteration 0096: RG-uniform: 0.2438, RG-normal: 0.2162, reconstruction validation: 0.1236\n",
      "Iteration 0097: RG-uniform: 0.2299, RG-normal: 0.2279, reconstruction validation: 0.1297\n",
      "Iteration 0098: RG-uniform: 0.2311, RG-normal: 0.2123, reconstruction validation: 0.1164\n",
      "Iteration 0099: RG-uniform: 0.2174, RG-normal: 0.1927, reconstruction validation: 0.1177\n",
      "Iteration 0100: RG-uniform: 0.2414, RG-normal: 0.2034, reconstruction validation: 0.1159\n"
     ]
    }
   ],
   "source": [
    "log_attack = {}\n",
    "for alpha1 in [100]:\n",
    "    print(\"alpha1 = {}\".format(alpha1))\n",
    "    log_attack[alpha1] = main[alpha1].attack(\n",
    "        attack_iter=100,\n",
    "        make_generator=make_generator,\n",
    "        input_noise=\"normal\",\n",
    "        input_z=True,\n",
    "        model_leak=True,\n",
    "        lr_x=0.0001,\n",
    "        lr_f=0.00001,\n",
    "        epoch=50,\n",
    "        iter_x=40,\n",
    "        iter_f=1,\n",
    "        verbose=True, log_every=1\n",
    "    )"
   ]
  },
  {
   "cell_type": "code",
   "execution_count": 20,
   "metadata": {},
   "outputs": [],
   "source": [
    "import pickle\n",
    "with open('./log/credit-decorrelation.pkl', 'wb') as f:\n",
    "    pickle.dump(log_attack, f)"
   ]
  },
  {
   "cell_type": "code",
   "execution_count": 30,
   "metadata": {},
   "outputs": [
    {
     "data": {
      "image/png": "[encoded data removed]",
      "text/plain": [
       "<Figure size 432x288 with 1 Axes>"
      ]
     },
     "metadata": {
      "needs_background": "light"
     },
     "output_type": "display_data"
    }
   ],
   "source": [
    "import matplotlib.pyplot as plt\n",
    "\n",
    "with open('./log/credit.pkl', 'rb') as f:\n",
    "    log_attack[0] = pickle.load(f)[3]\n",
    "\n",
    "# plt.yscale('logit')\n",
    "plt.xlim([0,100])\n",
    "plt.ylim([0.0,0.35])\n",
    "plt.grid()\n",
    "plt.ylabel('MSE per feature')\n",
    "plt.xlabel('Batch distance from the obtained model snapshot')\n",
    "ran = [i+1 for i in range(100)]\n",
    "plt.plot(\n",
    "    ran, log_attack[100][:,0], 'co-',\n",
    "    ran, log_attack[100][:,1], 'mv-',\n",
    "    ran, log_attack[0][:,2], 'gD-',\n",
    "    ran, log_attack[100][:,2], 'r^-',\n",
    "    # ran, log_attack[128][:,2], 'bs-',\n",
    "    # ran, log_attack[256][:,2], 'yx-',\n",
    "    markevery=np.arange(0, 101, 9))\n",
    "plt.legend(['RGU', 'RGN', 'alpha1=0', 'alpha1=100'], loc='upper center', ncol=2)\n",
    "plt.savefig(\"fig/mra-decorrelation.pdf\", bbox_inches='tight')"
   ]
  }
 ],
 "metadata": {
  "interpreter": {
   "hash": "d9ff725623c15d695aa319bbc94ea42e245a1edcf20c6f47c05aed8c0d68e7f4"
  },
  "kernelspec": {
   "display_name": "Python 3 (ipykernel)",
   "language": "python",
   "name": "python3"
  },
  "language_info": {
   "codemirror_mode": {
    "name": "ipython",
    "version": 3
   },
   "file_extension": ".py",
   "mimetype": "text/x-python",
   "name": "python",
   "nbconvert_exporter": "python",
   "pygments_lexer": "ipython3",
   "version": "3.8.10"
  }
 },
 "nbformat": 4,
 "nbformat_minor": 2
}
