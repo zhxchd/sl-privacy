{
 "cells": [
  {
   "cell_type": "code",
   "execution_count": 1,
   "metadata": {},
   "outputs": [],
   "source": [
    "%load_ext autoreload\n",
    "%autoreload 2\n",
    "\n",
    "import tensorflow as tf\n",
    "import numpy as np\n",
    "import matplotlib.pyplot as plt\n",
    "import os\n",
    "import pandas as pd\n",
    "    \n",
    "import dsa\n",
    "from dsa import *\n",
    "from models import mlp\n",
    "import pickle\n",
    "from sklearn.model_selection import train_test_split\n",
    "\n",
    "os.environ['CUDA_VISIBLE_DEVICES'] = '-1'"
   ]
  },
  {
   "cell_type": "code",
   "execution_count": 2,
   "metadata": {},
   "outputs": [
    {
     "name": "stderr",
     "output_type": "stream",
     "text": [
      "2022-04-05 18:46:18.385428: E tensorflow/stream_executor/cuda/cuda_driver.cc:271] failed call to cuInit: CUDA_ERROR_NO_DEVICE: no CUDA-capable device is detected\n",
      "2022-04-05 18:46:18.385502: I tensorflow/stream_executor/cuda/cuda_diagnostics.cc:169] retrieving CUDA diagnostic information for host: xgpd6\n",
      "2022-04-05 18:46:18.385519: I tensorflow/stream_executor/cuda/cuda_diagnostics.cc:176] hostname: xgpd6\n",
      "2022-04-05 18:46:18.385681: I tensorflow/stream_executor/cuda/cuda_diagnostics.cc:200] libcuda reported version is: 470.103.1\n",
      "2022-04-05 18:46:18.385735: I tensorflow/stream_executor/cuda/cuda_diagnostics.cc:204] kernel reported version is: 470.103.1\n",
      "2022-04-05 18:46:18.385748: I tensorflow/stream_executor/cuda/cuda_diagnostics.cc:310] kernel version seems to match DSO: 470.103.1\n",
      "2022-04-05 18:46:18.386629: I tensorflow/core/platform/cpu_feature_guard.cc:151] This TensorFlow binary is optimized with oneAPI Deep Neural Network Library (oneDNN) to use the following CPU instructions in performance-critical operations:  AVX2 AVX512F FMA\n",
      "To enable them in other operations, rebuild TensorFlow with the appropriate compiler flags.\n"
     ]
    }
   ],
   "source": [
    "def make_dataset(X, Y, f):\n",
    "    x = tf.data.Dataset.from_tensor_slices(X)\n",
    "    y = tf.data.Dataset.from_tensor_slices(Y)\n",
    "    x = x.map(f)\n",
    "    xy = tf.data.Dataset.zip((x, y))\n",
    "    xy = xy.shuffle(10000)\n",
    "    return xy\n",
    "\n",
    "df = pd.read_excel('../datasets/credit-card.xls', header=1, index_col=0).sample(frac=1)\n",
    "x = df.drop(columns=[\"default payment next month\"]).to_numpy()\n",
    "x = (x - np.min(x, axis=0))/(np.max(x, axis=0) - np.min(x, axis=0))\n",
    "y = df[\"default payment next month\"].to_numpy().reshape((len(x), 1)).astype(\"float32\")\n",
    "\n",
    "aux_target_ratio = 0.2\n",
    "\n",
    "x_train, x_test, y_train, y_test = train_test_split(x, y, test_size=aux_target_ratio/(aux_target_ratio+1), random_state=42)\n",
    "\n",
    "target_ds = make_dataset(x_train, y_train, lambda t: t)\n",
    "aux_ds = make_dataset(x_test, y_test, lambda t: t)"
   ]
  },
  {
   "cell_type": "code",
   "execution_count": 3,
   "metadata": {},
   "outputs": [
    {
     "name": "stdout",
     "output_type": "stream",
     "text": [
      "============================\n",
      "======alpha1 is 100======\n",
      "============================\n",
      "Iteration 500, train accuracy: 0.7566062464118004, average attack MSE: 0.1465394806265831\n",
      "Iteration 1000, train accuracy: 0.7753342628479004, average attack MSE: 0.13774700662493705\n",
      "Iteration 1500, train accuracy: 0.7760345997810364, average attack MSE: 0.13097005574405193\n",
      "Iteration 2000, train accuracy: 0.7770894051790237, average attack MSE: 0.12169772988557816\n",
      "Iteration 2500, train accuracy: 0.7771293139457702, average attack MSE: 0.10676908795535564\n",
      "Iteration 3000, train accuracy: 0.7774675096273422, average attack MSE: 0.08981723767518997\n",
      "Iteration 3500, train accuracy: 0.7773659290075302, average attack MSE: 0.07299924401938915\n",
      "Iteration 4000, train accuracy: 0.7775671882629395, average attack MSE: 0.05832751407474279\n",
      "Iteration 4500, train accuracy: 0.7773726189136505, average attack MSE: 0.04676962922513485\n",
      "Iteration 5000, train accuracy: 0.7776503952741622, average attack MSE: 0.03809407889097929\n",
      "Iteration 5500, train accuracy: 0.7775730451345444, average attack MSE: 0.03180086596310139\n",
      "Iteration 6000, train accuracy: 0.7777508850097656, average attack MSE: 0.02809119847789407\n",
      "Iteration 6500, train accuracy: 0.7778078806400299, average attack MSE: 0.025381185300648212\n",
      "Iteration 7000, train accuracy: 0.7778124079704285, average attack MSE: 0.02374063513055444\n",
      "Iteration 7500, train accuracy: 0.7779484680891037, average attack MSE: 0.022469585664570333\n",
      "Iteration 8000, train accuracy: 0.7779332911968231, average attack MSE: 0.021644894648343325\n",
      "Iteration 8500, train accuracy: 0.7778637379407882, average attack MSE: 0.02093134005367756\n",
      "Iteration 9000, train accuracy: 0.7779852428436279, average attack MSE: 0.02046478770673275\n",
      "Iteration 9500, train accuracy: 0.777920927643776, average attack MSE: 0.020082914896309374\n",
      "Iteration 10000, train accuracy: 0.7777876596450806, average attack MSE: 0.0197246253490448\n"
     ]
    }
   ],
   "source": [
    "credit_dsa = {}\n",
    "log_credit_dsa = {}\n",
    "\n",
    "for alpha1 in [100]:\n",
    "    make_f, make_g, make_e, make_d, make_c = mlp.make_mlp(attr_num=23, class_num=2, split=3, units=64, ed_act=\"relu\")\n",
    "    credit_dsa[alpha1] = dsa(target_ds=target_ds, aux_ds=aux_ds)\n",
    "    print(\"============================\")\n",
    "    print(\"======alpha1 is {}======\".format(alpha1))\n",
    "    print(\"============================\")\n",
    "    log_credit_dsa[alpha1] = credit_dsa[alpha1].dsa_attack(\n",
    "        make_f=make_f,\n",
    "        make_g=make_g,\n",
    "        lr=0.001,\n",
    "        loss_fn=tf.keras.losses.BinaryCrossentropy(),\n",
    "        acc_fn=tf.keras.metrics.BinaryAccuracy(),\n",
    "        batch_size=32,\n",
    "        iterations=10000,\n",
    "        make_e=make_e,\n",
    "        make_d=make_d,\n",
    "        make_c=make_c,\n",
    "        lr_e=0.00001, # learning rate of the encoder/decoder/critic is set to be smaller\n",
    "        lr_d=0.00001,\n",
    "        lr_c=0.0001,\n",
    "        alpha1=alpha1,\n",
    "        verbose=True,\n",
    "        log_freq=500)"
   ]
  },
  {
   "cell_type": "code",
   "execution_count": 6,
   "metadata": {},
   "outputs": [
    {
     "name": "stdout",
     "output_type": "stream",
     "text": [
      "============================\n",
      "======alpha1 is 200======\n",
      "============================\n",
      "Iteration 500, train accuracy: 0.7568405917882919, average attack MSE: 0.1457123501300812\n",
      "Iteration 1000, train accuracy: 0.7766794844865799, average attack MSE: 0.13967821243405343\n",
      "Iteration 1500, train accuracy: 0.7763818240165711, average attack MSE: 0.13124394573271275\n",
      "Iteration 2000, train accuracy: 0.7776328967809677, average attack MSE: 0.11939589218795299\n",
      "Iteration 2500, train accuracy: 0.7774776171445846, average attack MSE: 0.10489792749285698\n",
      "Iteration 3000, train accuracy: 0.7775399364233017, average attack MSE: 0.08915045447647571\n",
      "Iteration 3500, train accuracy: 0.7776816012859344, average attack MSE: 0.07415494754910469\n",
      "Iteration 4000, train accuracy: 0.7776330837011337, average attack MSE: 0.06082098460942507\n",
      "Iteration 4500, train accuracy: 0.7776713509559632, average attack MSE: 0.04860358376055956\n",
      "Iteration 5000, train accuracy: 0.7777070953845978, average attack MSE: 0.03993737767636776\n",
      "Iteration 5500, train accuracy: 0.7775254564285279, average attack MSE: 0.033647424958646296\n",
      "Iteration 6000, train accuracy: 0.7778727214336395, average attack MSE: 0.028953135706484317\n",
      "Iteration 6500, train accuracy: 0.7778499197959899, average attack MSE: 0.02619382471963763\n",
      "Iteration 7000, train accuracy: 0.777591680765152, average attack MSE: 0.024396403439342976\n",
      "Iteration 7500, train accuracy: 0.7777967909574509, average attack MSE: 0.023031329836696385\n",
      "Iteration 8000, train accuracy: 0.7777935630083084, average attack MSE: 0.02222056445479393\n",
      "Iteration 8500, train accuracy: 0.7776977053880691, average attack MSE: 0.021489065255969764\n",
      "Iteration 9000, train accuracy: 0.777804767370224, average attack MSE: 0.020615452617406844\n",
      "Iteration 9500, train accuracy: 0.7777733331918717, average attack MSE: 0.020517563350498678\n",
      "Iteration 10000, train accuracy: 0.777769122004509, average attack MSE: 0.02060480734705925\n",
      "============================\n",
      "======alpha1 is 500======\n",
      "============================\n",
      "Iteration 500, train accuracy: 0.7688635498285293, average attack MSE: 0.1464149835407734\n",
      "Iteration 1000, train accuracy: 0.7781764624118805, average attack MSE: 0.14255862507224082\n",
      "Iteration 1500, train accuracy: 0.777267615199089, average attack MSE: 0.13574530337750912\n",
      "Iteration 2000, train accuracy: 0.7772780392169952, average attack MSE: 0.1253648016601801\n",
      "Iteration 2500, train accuracy: 0.7772775367498398, average attack MSE: 0.11205671338737011\n",
      "Iteration 3000, train accuracy: 0.7775792165994644, average attack MSE: 0.09683659790456295\n",
      "Iteration 3500, train accuracy: 0.7778684949874878, average attack MSE: 0.08114132007956505\n",
      "Iteration 4000, train accuracy: 0.7778655154705048, average attack MSE: 0.06659876874834299\n",
      "Iteration 4500, train accuracy: 0.7777369952201844, average attack MSE: 0.05415133361518383\n",
      "Iteration 5000, train accuracy: 0.7779326325654984, average attack MSE: 0.043929728232324126\n",
      "Iteration 5500, train accuracy: 0.7778984092473984, average attack MSE: 0.03635920374840498\n",
      "Iteration 6000, train accuracy: 0.778028932929039, average attack MSE: 0.030914275862276554\n",
      "Iteration 6500, train accuracy: 0.7778612798452378, average attack MSE: 0.0272672520019114\n",
      "Iteration 7000, train accuracy: 0.7779213979244232, average attack MSE: 0.024529449112713337\n",
      "Iteration 7500, train accuracy: 0.7780098234415054, average attack MSE: 0.022940826397389175\n",
      "Iteration 8000, train accuracy: 0.7780597919225692, average attack MSE: 0.02184764403104782\n",
      "Iteration 8500, train accuracy: 0.7780468301773071, average attack MSE: 0.021041297994554044\n",
      "Iteration 9000, train accuracy: 0.7780680046081543, average attack MSE: 0.020525869462639092\n",
      "Iteration 9500, train accuracy: 0.7780843549966812, average attack MSE: 0.02011167208105326\n",
      "Iteration 10000, train accuracy: 0.7779912678003311, average attack MSE: 0.01992148193717003\n",
      "============================\n",
      "======alpha1 is 1000======\n",
      "============================\n",
      "Iteration 500, train accuracy: 0.7839325095415115, average attack MSE: 0.1432713033258915\n",
      "Iteration 1000, train accuracy: 0.7873525305986404, average attack MSE: 0.13542515364289284\n",
      "Iteration 1500, train accuracy: 0.7881072461605072, average attack MSE: 0.1262642483562231\n",
      "Iteration 2000, train accuracy: 0.7877317061424255, average attack MSE: 0.11447175347805023\n",
      "Iteration 2500, train accuracy: 0.7859560239315033, average attack MSE: 0.09862954966723919\n",
      "Iteration 3000, train accuracy: 0.7846056562662125, average attack MSE: 0.08249133414030076\n",
      "Iteration 3500, train accuracy: 0.7833686656951905, average attack MSE: 0.06906512778252363\n",
      "Iteration 4000, train accuracy: 0.7826214281320572, average attack MSE: 0.05595892471820116\n",
      "Iteration 4500, train accuracy: 0.7819012491703033, average attack MSE: 0.044392093926668166\n",
      "Iteration 5000, train accuracy: 0.7818108863830566, average attack MSE: 0.03794023663550615\n",
      "Iteration 5500, train accuracy: 0.7814100157022477, average attack MSE: 0.03270386082679033\n",
      "Iteration 6000, train accuracy: 0.7809417334794998, average attack MSE: 0.02808923739939928\n",
      "Iteration 6500, train accuracy: 0.7808269078731537, average attack MSE: 0.025824746299535035\n",
      "Iteration 7000, train accuracy: 0.780546242237091, average attack MSE: 0.024724001862108706\n",
      "Iteration 7500, train accuracy: 0.7804507243633271, average attack MSE: 0.022921159379184246\n",
      "Iteration 8000, train accuracy: 0.7803099628686905, average attack MSE: 0.021778051219880582\n",
      "Iteration 8500, train accuracy: 0.7799883359670639, average attack MSE: 0.020989138294011354\n",
      "Iteration 9000, train accuracy: 0.7799588302373887, average attack MSE: 0.02062471626326442\n",
      "Iteration 9500, train accuracy: 0.779775044798851, average attack MSE: 0.02065222292020917\n",
      "Iteration 10000, train accuracy: 0.7796609510183334, average attack MSE: 0.020033735835924743\n"
     ]
    }
   ],
   "source": [
    "for alpha1 in [200,500,1000]:\n",
    "    make_f, make_g, make_e, make_d, make_c = mlp.make_mlp(attr_num=23, class_num=2, split=3, units=64, ed_act=\"relu\")\n",
    "    credit_dsa[alpha1] = dsa(target_ds=target_ds, aux_ds=aux_ds)\n",
    "    print(\"============================\")\n",
    "    print(\"======alpha1 is {}======\".format(alpha1))\n",
    "    print(\"============================\")\n",
    "    log_credit_dsa[alpha1] = credit_dsa[alpha1].dsa_attack(\n",
    "        make_f=make_f,\n",
    "        make_g=make_g,\n",
    "        lr=0.001,\n",
    "        loss_fn=tf.keras.losses.BinaryCrossentropy(),\n",
    "        acc_fn=tf.keras.metrics.BinaryAccuracy(),\n",
    "        batch_size=32,\n",
    "        iterations=10000,\n",
    "        make_e=make_e,\n",
    "        make_d=make_d,\n",
    "        make_c=make_c,\n",
    "        lr_e=0.00001, # learning rate of the encoder/decoder/critic is set to be smaller\n",
    "        lr_d=0.00001,\n",
    "        lr_c=0.0001,\n",
    "        alpha1=alpha1,\n",
    "        verbose=True,\n",
    "        log_freq=500)"
   ]
  },
  {
   "cell_type": "code",
   "execution_count": 7,
   "metadata": {},
   "outputs": [],
   "source": [
    "with open('log/credit-dsa-decor.pkl', 'wb') as f:\n",
    "    pickle.dump(log_credit_dsa, f)"
   ]
  },
  {
   "cell_type": "code",
   "execution_count": 8,
   "metadata": {},
   "outputs": [],
   "source": [
    "with open('log/credit-dsa.pkl', 'rb') as f:\n",
    "    log_credit_dsa[0] = pickle.load(f)[3]"
   ]
  },
  {
   "cell_type": "code",
   "execution_count": 23,
   "metadata": {},
   "outputs": [
    {
     "data": {
      "image/png": "[encoded data removed]",
      "text/plain": [
       "<Figure size 432x288 with 1 Axes>"
      ]
     },
     "metadata": {
      "needs_background": "light"
     },
     "output_type": "display_data"
    }
   ],
   "source": [
    "from matplotlib.pyplot import figure\n",
    "# figure(figsize=(6.4,4.8))\n",
    "log_freq = 200\n",
    "# plt.yscale('logit')\n",
    "plt.xlim([0,10000])\n",
    "plt.ylim([0,0.2])\n",
    "plt.grid()\n",
    "\n",
    "sampled_loss = {}\n",
    "sampled_fsha_loss = {}\n",
    "\n",
    "for alpha1 in [0,100,200,500,1000]:\n",
    "    sampled_loss[alpha1] = [sum(log_credit_dsa[alpha1][:,2][i*log_freq:(i+1)*log_freq])/log_freq for i in range(int(len(log_credit_dsa[alpha1][:,0])/log_freq))]\n",
    "ran = [i * log_freq + log_freq/2 for i in range(int(10000/log_freq))]\n",
    "plt.ylabel('MSE per feature')\n",
    "plt.xlabel('Iteration')\n",
    "plt.plot(ran, sampled_loss[0], 'ro-', ran, sampled_loss[100], 'b^-', ran, sampled_loss[200], 'gs-', ran, sampled_loss[500], 'cx-', ran, sampled_loss[1000], 'mD-', markevery=7)\n",
    "# ax2=plt.gca().twinx()\n",
    "# ax2.plot(ran, sampled_acc[2], 'ro-', ran, sampled_acc[3], 'b^-', ran, sampled_acc[4], 'gs-', markevery=7)\n",
    "plt.legend([\"alpha1=0\", \"alpha1=100\", \"alpha1=200\", \"alpha1=500\", \"alpha1=1000\"], loc='upper center', ncol=3)\n",
    "plt.savefig(\"fig/credit-decor.pdf\", bbox_inches='tight')"
   ]
  }
 ],
 "metadata": {
  "kernelspec": {
   "display_name": "Python 3 (ipykernel)",
   "language": "python",
   "name": "python3"
  },
  "language_info": {
   "codemirror_mode": {
    "name": "ipython",
    "version": 3
   },
   "file_extension": ".py",
   "mimetype": "text/x-python",
   "name": "python",
   "nbconvert_exporter": "python",
   "pygments_lexer": "ipython3",
   "version": "3.8.10"
  }
 },
 "nbformat": 4,
 "nbformat_minor": 4
}
